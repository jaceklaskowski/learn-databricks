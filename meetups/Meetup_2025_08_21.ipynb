{
 "cells": [
  {
   "cell_type": "markdown",
   "metadata": {
    "application/vnd.databricks.v1+cell": {
     "cellMetadata": {},
     "inputWidgets": {},
     "nuid": "6a46b538-5343-4bc0-b5fc-97449b4aa283",
     "showTitle": false,
     "tableResultSettingsMap": {},
     "title": ""
    }
   },
   "source": [
    "# Learn Python through functools module (and OpenAI's Python API)\n",
    "\n",
    "Thursday, August 21, 2025\n",
    "\n",
    "[LinkedIn](https://www.linkedin.com/feed/update/urn:li:activity:7363690300554330113), [Meetup](https://www.meetup.com/warsaw-data-engineering/events/310590567/)"
   ]
  },
  {
   "cell_type": "markdown",
   "metadata": {
    "application/vnd.databricks.v1+cell": {
     "cellMetadata": {},
     "inputWidgets": {},
     "nuid": "dd081a26-c5e2-444a-875d-64c485221a95",
     "showTitle": false,
     "tableResultSettingsMap": {},
     "title": ""
    }
   },
   "source": [
    "\n",
    "# 📚 Agenda\n",
    "\n",
    "1. Demo 1️⃣: OpenAI's Python API\n",
    "\n",
    "⏰ Całkowity czas trwania spotkania: **1h 15min**"
   ]
  },
  {
   "cell_type": "markdown",
   "metadata": {
    "application/vnd.databricks.v1+cell": {
     "cellMetadata": {},
     "inputWidgets": {},
     "nuid": "0099d7a7-078c-4a57-8671-dcd404040811",
     "showTitle": false,
     "tableResultSettingsMap": {},
     "title": ""
    }
   },
   "source": [
    "\n",
    "# 🙋‍♀️ Event Question\n",
    "\n",
    "[O czym chciał(a)byś usłyszeć podczas meetupu? Rzuć ciekawym pomysłem na kolejne edycje](https://www.meetup.com/warsaw-data-engineering/events/310590567/attendees/) 🙏\n",
    "\n",
    "1. **Chciałbym** (???) się dowiedzieć więcej o functools\n",
    "1. Na te chwile nie mam doprecyzowanych potrzeb, chciałabym usłyszeć jak najwiecej\n",
    "1. Korzystanie przez API\n",
    "1. Różne (i praktyczne) sposoby na adaptację LLMów do rozwiązania codziennych problemów"
   ]
  },
  {
   "cell_type": "markdown",
   "metadata": {
    "application/vnd.databricks.v1+cell": {
     "cellMetadata": {},
     "inputWidgets": {},
     "nuid": "972b2dd6-8ef3-4722-b3e2-76afccdd64b7",
     "showTitle": false,
     "tableResultSettingsMap": {},
     "title": ""
    }
   },
   "source": [
    "\n",
    "# 🧑‍💻 Demo 1️⃣: OpenAI's Python API\n",
    "\n",
    "Follow up on the [description of the meetup](https://www.meetup.com/warsaw-data-engineering/events/310590567/):\n",
    "\n",
    "> Zainspirowany przez \"boilerplate code\" client.responses.create in OpenAI's Python API, dowiedziałem się, że responses i wiele innych \"openai.OpenAI object properties\" są @cached_property.\n",
    ">\n",
    "> W ten sposób trafiłem na artykuł o tym pythonowym dekoratorze, aby później trafić na functools module w Pythonie. A w nim wiele ciekawostek, bo functools to \"Higher-order functions and operations on callable objects\".\n",
    ">\n",
    "> Prze(j)rzyjmy to jeszcze raz wspólnie 😎 Poznamy OpenAI's Python API od środka i zrobimy przegląd functools. Wszystko przy akompaniamencie (już dojrzałego i wciąż dobrego) uv. Zapraszam!"
   ]
  },
  {
   "cell_type": "markdown",
   "metadata": {
    "application/vnd.databricks.v1+cell": {
     "cellMetadata": {},
     "inputWidgets": {},
     "nuid": "cfcae9d8-7742-4867-8360-a2b298a922f8",
     "showTitle": false,
     "tableResultSettingsMap": {},
     "title": ""
    }
   },
   "source": [
    "\n",
    "1. Open up PyCharm with [openapi-python](https://github.com/openai/openai-python) project\n",
    "1. [Review the code (in Usage section)](https://github.com/openai/openai-python?tab=readme-ov-file#usage)\n",
    "1. Review `client.responses.create` in OpenAI's Python API\n",
    "1. [@cached_property and functools](https://docs.python.org/3/library/functools.html)"
   ]
  },
  {
   "cell_type": "markdown",
   "metadata": {
    "application/vnd.databricks.v1+cell": {
     "cellMetadata": {},
     "inputWidgets": {},
     "nuid": "97fc92db-a7cf-4a69-8956-c12f0ca31719",
     "showTitle": false,
     "tableResultSettingsMap": {},
     "title": ""
    }
   },
   "source": [
    "# That's all Folks! 👋\n",
    "\n",
    "![Warner Bros., Public domain, via Wikimedia Commons](https://upload.wikimedia.org/wikipedia/commons/e/ea/Thats_all_folks.svg)"
   ]
  },
  {
   "cell_type": "markdown",
   "metadata": {
    "application/vnd.databricks.v1+cell": {
     "cellMetadata": {},
     "inputWidgets": {},
     "nuid": "f51c1479-b26a-4f74-b5de-ad9e2a6efbe8",
     "showTitle": false,
     "tableResultSettingsMap": {},
     "title": ""
    }
   },
   "source": [
    "\n",
    "# 🙋 Questions and Answers"
   ]
  },
  {
   "cell_type": "markdown",
   "metadata": {
    "application/vnd.databricks.v1+cell": {
     "cellMetadata": {},
     "inputWidgets": {},
     "nuid": "a2d18bd4-1785-4bdb-9331-20895382b515",
     "showTitle": false,
     "tableResultSettingsMap": {},
     "title": ""
    }
   },
   "source": [
    "\n",
    "# 💡 Ideas for Future Events\n",
    "\n",
    "➡️ [Ideas for Future Events]($./Ideas for Future Events)"
   ]
  }
 ],
 "metadata": {
  "application/vnd.databricks.v1+notebook": {
   "computePreferences": null,
   "dashboards": [],
   "environmentMetadata": null,
   "inputWidgetPreferences": null,
   "language": "python",
   "notebookMetadata": {
    "pythonIndentUnit": 4
   },
   "notebookName": "Meetup_2025_08_21",
   "widgets": {}
  },
  "language_info": {
   "name": "python"
  }
 },
 "nbformat": 4,
 "nbformat_minor": 0
}
