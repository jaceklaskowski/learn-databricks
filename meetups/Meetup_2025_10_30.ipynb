{
 "cells": [
  {
   "cell_type": "markdown",
   "metadata": {
    "application/vnd.databricks.v1+cell": {
     "cellMetadata": {},
     "inputWidgets": {},
     "nuid": "6a46b538-5343-4bc0-b5fc-97449b4aa283",
     "showTitle": false,
     "tableResultSettingsMap": {},
     "title": ""
    }
   },
   "source": [
    "# Developing AI Programs with DSPy\n",
    "\n",
    "Thursday, Oct 30, 2025\n",
    "\n",
    "[Meetup](https://www.meetup.com/warsaw-data-engineering/events/311753222/) • [LinkedIn](https://www.linkedin.com/feed/update/urn:li:activity:7389051927675715585)"
   ]
  },
  {
   "cell_type": "markdown",
   "metadata": {
    "application/vnd.databricks.v1+cell": {
     "cellMetadata": {},
     "inputWidgets": {},
     "nuid": "dd081a26-c5e2-444a-875d-64c485221a95",
     "showTitle": false,
     "tableResultSettingsMap": {},
     "title": ""
    }
   },
   "source": [
    "\n",
    "# 📚 Agenda\n",
    "\n",
    "1. Stworzysz projekt DSPy (z pomocą starego dobrego uv)\n",
    "1. Poznasz `dspy.Signature` do deklaratywnego i ustrukturyzowanego opisu LLM prompts (z Pydantic pod spodem).\n",
    "1. Poznasz `dspy.Predict` do klasyfikacji.\n",
    "1. Poznasz `dspy.Module` do składania złożonych aplikacji AI (myśl, o dużym i bardzo obszernym prompcie, który składa się z wielu paragrafów tekstu).\n",
    "\n",
    "⏰ Całkowity czas trwania spotkania: **1h 15min**"
   ]
  },
  {
   "cell_type": "markdown",
   "metadata": {
    "application/vnd.databricks.v1+cell": {
     "cellMetadata": {},
     "inputWidgets": {},
     "nuid": "0099d7a7-078c-4a57-8671-dcd404040811",
     "showTitle": false,
     "tableResultSettingsMap": {},
     "title": ""
    }
   },
   "source": [
    "\n",
    "# 🙋‍♀️ Event Question\n",
    "\n",
    "[O czym chciał(a)byś usłyszeć o MCP podczas tego meetupu?](https://www.meetup.com/warsaw-data-engineering/events/311753222/attendees/) 🙏\n",
    "\n",
    "(tak, tak, zapytałem o MCP zamiast o DSPy! 🤦‍♂️)\n",
    "\n",
    "1. ciekaw jestem użycia MCP DSPy w data engineering\n",
    "1. How to make your own (MCP server), act as a database, as tool, as connector and more other things!\n",
    "1. Czym jest DSPy\n",
    "1. o DSPy ogólnie\n",
    "1. Jak działa DSPy?\n",
    "1. Integracja MCP z ((browser-based online IDE (client + serwer + IaC + cloud + git + CI/CD + agentic AI + RAG + knowledge base)) × (open source + on-prem)"
   ]
  },
  {
   "cell_type": "markdown",
   "metadata": {
    "application/vnd.databricks.v1+cell": {
     "cellMetadata": {},
     "inputWidgets": {},
     "nuid": "811aaee2-66d6-4833-84d3-c5971e3359ad",
     "showTitle": false,
     "tableResultSettingsMap": {},
     "title": ""
    }
   },
   "source": [
    "# 📢 News\n",
    "\n",
    "Things worth watching out for..."
   ]
  },
  {
   "cell_type": "markdown",
   "metadata": {
    "application/vnd.databricks.v1+cell": {
     "cellMetadata": {},
     "inputWidgets": {},
     "nuid": "f0e2d493-eba8-48ef-b8b8-3681b4e87d69",
     "showTitle": false,
     "tableResultSettingsMap": {},
     "title": ""
    }
   },
   "source": [
    "\n",
    "## New members in Warsaw Data Engineering!\n",
    "\n",
    "[You now have 630 members!](https://www.meetup.com/warsaw-data-engineering/)\n",
    "\n",
    "Co zainteresowało Cię w Warsaw Data Engineering Meetup, że zdecydowałaś/-eś się przyłączyć?\n",
    "\n",
    "1. ..."
   ]
  },
  {
   "cell_type": "markdown",
   "metadata": {
    "application/vnd.databricks.v1+cell": {
     "cellMetadata": {},
     "inputWidgets": {},
     "nuid": "911c3ac7-09bf-45dd-9a57-2d8de1c5aa67",
     "showTitle": false,
     "tableResultSettingsMap": {},
     "title": ""
    }
   },
   "source": [
    "\n",
    "## New Versions\n",
    "\n",
    "What has changed in the tooling space since we last met? I.e. hunting down the features to learn more about.\n",
    "\n",
    "* [MLflow 3.5.1](https://github.com/mlflow/mlflow/releases/tag/v3.5.1)\n",
    "* [uv 0.9.6](https://github.com/astral-sh/uv/releases/tag/0.9.6)"
   ]
  },
  {
   "cell_type": "markdown",
   "metadata": {
    "application/vnd.databricks.v1+cell": {
     "cellMetadata": {},
     "inputWidgets": {},
     "nuid": "00a55b51-9ba1-42a6-a0a1-8952fc125623",
     "showTitle": false,
     "tableResultSettingsMap": {},
     "title": ""
    }
   },
   "source": [
    "\n",
    "# 🧑‍💻 Demo: Live Coding Session"
   ]
  },
  {
   "cell_type": "markdown",
   "metadata": {
    "application/vnd.databricks.v1+cell": {
     "cellMetadata": {},
     "inputWidgets": {},
     "nuid": "fa3f5c15-d415-44e2-805f-ec11fd8b0145",
     "showTitle": false,
     "tableResultSettingsMap": {},
     "title": ""
    }
   },
   "source": [
    "\n",
    "1. Stworzysz projekt DSPy (z pomocą starego dobrego uv)\n",
    "1. Poznasz [dspy.Signature](https://dspy.ai/learn/programming/signatures/) do deklaratywnego i ustrukturyzowanego opisu LLM prompts (z Pydantic pod spodem).\n",
    "1. Poznasz [dspy.Predict](https://dspy.ai/api/modules/Predict/) do klasyfikacji.\n",
    "1. Poznasz [dspy.Module](https://dspy.ai/learn/programming/modules/) do składania złożonych aplikacji AI (myśl, o dużym i bardzo obszernym prompcie, który składa się z wielu paragrafów tekstu)."
   ]
  },
  {
   "cell_type": "markdown",
   "metadata": {
    "application/vnd.databricks.v1+cell": {
     "cellMetadata": {},
     "inputWidgets": {},
     "nuid": "16957512-98fd-4514-9154-9a186db10986",
     "showTitle": false,
     "tableResultSettingsMap": {},
     "title": ""
    }
   },
   "source": [
    "\n",
    "## Create DSPy Project\n",
    "\n",
    "1. `uv init dspy-meetup-demo`\n",
    "1. [OpenAI Python API library](https://github.com/openai/openai-python?tab=readme-ov-file)\n",
    "    1. `uv run --with openai python`\n",
    "    1. `uv python upgrade 3.14`\n",
    "    1. `uv python pin 3.14`\n",
    "1. `uv add dspy`\n",
    "1. https://dspy.ai/"
   ]
  },
  {
   "cell_type": "markdown",
   "metadata": {
    "application/vnd.databricks.v1+cell": {
     "cellMetadata": {},
     "inputWidgets": {},
     "nuid": "97fc92db-a7cf-4a69-8956-c12f0ca31719",
     "showTitle": false,
     "tableResultSettingsMap": {},
     "title": ""
    }
   },
   "source": [
    "# That's all Folks! 👋\n",
    "\n",
    "![Warner Bros., Public domain, via Wikimedia Commons](https://upload.wikimedia.org/wikipedia/commons/e/ea/Thats_all_folks.svg)"
   ]
  },
  {
   "cell_type": "markdown",
   "metadata": {
    "application/vnd.databricks.v1+cell": {
     "cellMetadata": {},
     "inputWidgets": {},
     "nuid": "f51c1479-b26a-4f74-b5de-ad9e2a6efbe8",
     "showTitle": false,
     "tableResultSettingsMap": {},
     "title": ""
    }
   },
   "source": [
    "\n",
    "# 🙋 Questions and Answers"
   ]
  },
  {
   "cell_type": "markdown",
   "metadata": {
    "application/vnd.databricks.v1+cell": {
     "cellMetadata": {},
     "inputWidgets": {},
     "nuid": "a2d18bd4-1785-4bdb-9331-20895382b515",
     "showTitle": false,
     "tableResultSettingsMap": {},
     "title": ""
    }
   },
   "source": [
    "\n",
    "# 💡 Ideas for Future Events\n",
    "\n",
    "➡️ [Ideas for Future Events]($./Ideas for Future Events)"
   ]
  }
 ],
 "metadata": {
  "application/vnd.databricks.v1+notebook": {
   "computePreferences": null,
   "dashboards": [],
   "environmentMetadata": null,
   "inputWidgetPreferences": null,
   "language": "python",
   "notebookMetadata": {
    "pythonIndentUnit": 4
   },
   "notebookName": "Meetup_2025_10_30",
   "widgets": {}
  },
  "language_info": {
   "name": "python"
  }
 },
 "nbformat": 4,
 "nbformat_minor": 0
}
