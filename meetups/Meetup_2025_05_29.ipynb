{
 "cells": [
  {
   "cell_type": "markdown",
   "metadata": {
    "application/vnd.databricks.v1+cell": {
     "cellMetadata": {},
     "inputWidgets": {},
     "nuid": "a68f0afc-f0c6-420b-912e-e88c0e45be7f",
     "showTitle": false,
     "tableResultSettingsMap": {},
     "title": ""
    }
   },
   "source": [
    "\n",
    "# Meetup Next\n",
    "\n",
    "This notebook should help you set up your next great meetup ❤️\n",
    "\n",
    "1. Fill in the fields with **FIXME** marker\n",
    "1. Announce the meetup\n",
    "    * [lu.ma](https://lu.ma/warsaw-data-engineering)\n",
    "    * [LinkedIn](https://www.linkedin.com/groups/9307761/)\n",
    "    * (Optionally) [meetup](https://www.meetup.com/warsaw-data-engineering/) for a greater visibility\n",
    "1. Remove this cell once all the action items are done"
   ]
  },
  {
   "cell_type": "markdown",
   "metadata": {
    "application/vnd.databricks.v1+cell": {
     "cellMetadata": {},
     "inputWidgets": {},
     "nuid": "6a46b538-5343-4bc0-b5fc-97449b4aa283",
     "showTitle": false,
     "tableResultSettingsMap": {},
     "title": ""
    }
   },
   "source": [
    "# Model Lifecycle in Databricks Machine Learning\n",
    "\n",
    "Thursday, May 29, 2025\n",
    "\n",
    "[Invitation on Luma](https://lu.ma/2c4p2267), [LinkedIn](https://www.linkedin.com/feed/update/urn:li:activity:7332401688881815553/), [Meetup](https://www.meetup.com/warsaw-data-engineering/events/308041585/)"
   ]
  },
  {
   "cell_type": "markdown",
   "metadata": {
    "application/vnd.databricks.v1+cell": {
     "cellMetadata": {},
     "inputWidgets": {},
     "nuid": "dd081a26-c5e2-444a-875d-64c485221a95",
     "showTitle": false,
     "tableResultSettingsMap": {},
     "title": ""
    }
   },
   "source": [
    "\n",
    "# 📚 Agenda\n",
    "\n",
    "1. Demo: Model Lifecycle (From Training to Serving)\n",
    "1. Demo: Running MLflow's examples/databricks (and Editable Install in Python)\n",
    "1. Demo: MLflow's dev/pyproject.py and uv\n",
    "1. Bonus Demo 😉\n",
    "\n",
    "⏰ Całkowity czas trwania spotkania: **1h 15min**"
   ]
  },
  {
   "cell_type": "markdown",
   "metadata": {
    "application/vnd.databricks.v1+cell": {
     "cellMetadata": {},
     "inputWidgets": {},
     "nuid": "82738e1a-8612-4d5c-883c-4aa3006308c2",
     "showTitle": false,
     "tableResultSettingsMap": {},
     "title": ""
    }
   },
   "source": [
    "\n",
    "# 📈 LinkedIn Poll\n",
    "\n",
    "[Czy weźmiesz udział w spotkaniu stacjonarnym?](https://www.linkedin.com/feed/update/urn:li:groupPost:9307761-7327398491633156096/)\n",
    "\n",
    "![Poll Results](./poll-meetup-stationary.png)"
   ]
  },
  {
   "cell_type": "markdown",
   "metadata": {
    "application/vnd.databricks.v1+cell": {
     "cellMetadata": {},
     "inputWidgets": {},
     "nuid": "0099d7a7-078c-4a57-8671-dcd404040811",
     "showTitle": false,
     "tableResultSettingsMap": {},
     "title": ""
    }
   },
   "source": [
    "\n",
    "# FIXME 🙋‍♀️ Event Question\n",
    "\n",
    "[O czym chciał(a)byś usłyszeć podczas meetupu? Rzuć ciekawym pomysłem na kolejne edycje](https://www.meetup.com/warsaw-data-engineering/events/308041585//attendees/) 🙏\n",
    "\n",
    "1. FIXME"
   ]
  },
  {
   "cell_type": "markdown",
   "metadata": {
    "application/vnd.databricks.v1+cell": {
     "cellMetadata": {},
     "inputWidgets": {},
     "nuid": "811aaee2-66d6-4833-84d3-c5971e3359ad",
     "showTitle": false,
     "tableResultSettingsMap": {},
     "title": ""
    }
   },
   "source": [
    "# 📢 News\n",
    "\n",
    "Things worth watching out for..."
   ]
  },
  {
   "cell_type": "markdown",
   "metadata": {
    "application/vnd.databricks.v1+cell": {
     "cellMetadata": {},
     "inputWidgets": {},
     "nuid": "f0e2d493-eba8-48ef-b8b8-3681b4e87d69",
     "showTitle": false,
     "tableResultSettingsMap": {},
     "title": ""
    }
   },
   "source": [
    "\n",
    "## FIXME New members in Warsaw Data Engineering!\n",
    "\n",
    "[You now have 595 members!](https://www.meetup.com/warsaw-data-engineering/)\n",
    "\n",
    "Co zainteresowało Cię w Warsaw Data Engineering Meetup, że zdecydowałaś/-eś się przyłączyć?\n",
    "\n",
    "1. FIXME"
   ]
  },
  {
   "cell_type": "markdown",
   "metadata": {
    "application/vnd.databricks.v1+cell": {
     "cellMetadata": {},
     "inputWidgets": {},
     "nuid": "b03f1a00-af8f-48d5-b866-4c6f7c38994d",
     "showTitle": false,
     "tableResultSettingsMap": {},
     "title": ""
    }
   },
   "source": [
    "\n",
    "## FIXME 🚀 New Versions\n",
    "\n",
    "What has changed in the tooling space since we last met? I.e. hunting down the features to learn more about.\n",
    "\n",
    "* [MLflow 3.0.0rc2](https://github.com/mlflow/mlflow/releases/tag/v3.0.0rc2)\n",
    "    * [MLflow 3.0 (Preview)](https://mlflow.org/docs/3.0.0rc2/mlflow-3/) will be the topic of the next meetup! 🤞\n",
    "* [OpenAI Agents SDK 0.0.16](https://github.com/openai/openai-agents-python/releases/tag/v0.0.16)\n",
    "    * [feat: pass extra_body through to LiteLLM acompletion #638](https://github.com/openai/openai-agents-python/pull/638)\n",
    "    * [feat: Streamable HTTP support #643](https://github.com/openai/openai-agents-python/pull/643)\n",
    "    * Uses [Makefile and uv](https://github.com/openai/openai-agents-python/pull/707/files) 🔥\n",
    "        * Executed `make format` and got \"interesting\" result! 😜\n",
    "* [DSPy 2.6.24](https://github.com/stanfordnlp/dspy/releases/tag/2.6.24)\n",
    "    * Programming—not prompting—Foundation Models\n",
    "    * [Make it easier to do sync streaming #8183](https://github.com/stanfordnlp/dspy/pull/8183)\n",
    "* [fast-agent 0.2.25](https://github.com/evalstate/fast-agent/releases/tag/v0.2.25)\n",
    "    * [feat: Add Azure OpenAI Service Support to FastAgent #160](https://github.com/evalstate/fast-agent/pull/160)\n",
    "* [Dagster 1.10.15](https://github.com/dagster-io/dagster/releases/tag/1.10.15)\n",
    "* [PydanticAI 0.2.6](https://github.com/pydantic/pydantic-ai/releases/tag/v0.2.6)"
   ]
  },
  {
   "cell_type": "markdown",
   "metadata": {
    "application/vnd.databricks.v1+cell": {
     "cellMetadata": {},
     "inputWidgets": {},
     "nuid": "00a55b51-9ba1-42a6-a0a1-8952fc125623",
     "showTitle": false,
     "tableResultSettingsMap": {},
     "title": ""
    }
   },
   "source": [
    "\n",
    "# 🧑‍💻 Demo: Model Lifecycle (From Training to Serving)"
   ]
  },
  {
   "cell_type": "markdown",
   "metadata": {
    "application/vnd.databricks.v1+cell": {
     "cellMetadata": {},
     "inputWidgets": {},
     "nuid": "b2399683-f0a1-42c7-883a-6f97e09b56f8",
     "showTitle": false,
     "tableResultSettingsMap": {},
     "title": ""
    }
   },
   "source": [
    "## Create Schema\n",
    "\n",
    "⚠️ This is Unity Catalog at play here. No MLflow yet.\n",
    "\n",
    "A model is a directory that...FIXME"
   ]
  },
  {
   "cell_type": "code",
   "execution_count": 0,
   "metadata": {
    "application/vnd.databricks.v1+cell": {
     "cellMetadata": {},
     "inputWidgets": {},
     "nuid": "bd63e47a-9133-44aa-b43f-e47260e06138",
     "showTitle": false,
     "tableResultSettingsMap": {},
     "title": ""
    }
   },
   "outputs": [],
   "source": [
    "%sql\n",
    "\n",
    "CREATE SCHEMA IF NOT EXISTS jacek_laskowski.mlflow"
   ]
  },
  {
   "cell_type": "markdown",
   "metadata": {
    "application/vnd.databricks.v1+cell": {
     "cellMetadata": {},
     "inputWidgets": {},
     "nuid": "0a7122cc-971f-40ab-8568-459b51d53579",
     "showTitle": false,
     "tableResultSettingsMap": {},
     "title": ""
    }
   },
   "source": [
    "\n",
    "👉 [jacek_laskowski.mlflow](https://curriculum-dev.cloud.databricks.com/explore/data/jacek_laskowski/mlflow)"
   ]
  },
  {
   "cell_type": "markdown",
   "metadata": {
    "application/vnd.databricks.v1+cell": {
     "cellMetadata": {},
     "inputWidgets": {},
     "nuid": "9180da78-7f80-46be-b864-cdd0bdc51c7d",
     "showTitle": false,
     "tableResultSettingsMap": {},
     "title": ""
    }
   },
   "source": [
    "## Train Model\n",
    "\n",
    "⚠️ This is a pure scikit-learn. No MLflow. No Databricks."
   ]
  },
  {
   "cell_type": "code",
   "execution_count": 0,
   "metadata": {
    "application/vnd.databricks.v1+cell": {
     "cellMetadata": {},
     "inputWidgets": {},
     "nuid": "88c4afc1-1066-42af-8353-901aa44143aa",
     "showTitle": false,
     "tableResultSettingsMap": {},
     "title": ""
    }
   },
   "outputs": [],
   "source": [
    "from sklearn.datasets import make_regression\n",
    "help(make_regression)"
   ]
  },
  {
   "cell_type": "code",
   "execution_count": 0,
   "metadata": {
    "application/vnd.databricks.v1+cell": {
     "cellMetadata": {},
     "inputWidgets": {},
     "nuid": "03f37690-5fc3-4218-bdda-f054c72efd97",
     "showTitle": false,
     "tableResultSettingsMap": {},
     "title": ""
    }
   },
   "outputs": [],
   "source": [
    "# Generate a random regression problem.\n",
    "from sklearn.datasets import make_regression\n",
    "\n",
    "X, y = make_regression(n_features=4, n_informative=2, random_state=0, shuffle=False)"
   ]
  },
  {
   "cell_type": "code",
   "execution_count": 0,
   "metadata": {
    "application/vnd.databricks.v1+cell": {
     "cellMetadata": {},
     "inputWidgets": {},
     "nuid": "37c0fb49-e8b7-48d1-bba0-1d245c788016",
     "showTitle": false,
     "tableResultSettingsMap": {},
     "title": ""
    }
   },
   "outputs": [],
   "source": [
    "from sklearn.ensemble import RandomForestRegressor\n",
    "\n",
    "params = {\"n_estimators\": 3, \"random_state\": 42}\n",
    "rfr = RandomForestRegressor(**params).fit(X, y)\n",
    "rfr"
   ]
  },
  {
   "cell_type": "code",
   "execution_count": 0,
   "metadata": {
    "application/vnd.databricks.v1+cell": {
     "cellMetadata": {},
     "inputWidgets": {},
     "nuid": "a30046d7-7848-4990-b3ef-7ab37ed92320",
     "showTitle": false,
     "tableResultSettingsMap": {},
     "title": ""
    }
   },
   "outputs": [],
   "source": [
    "rfr.predict(X)"
   ]
  },
  {
   "cell_type": "markdown",
   "metadata": {
    "application/vnd.databricks.v1+cell": {
     "cellMetadata": {},
     "inputWidgets": {},
     "nuid": "c8691c18-77d0-4a40-b8cc-531263dd7f70",
     "showTitle": false,
     "tableResultSettingsMap": {},
     "title": ""
    }
   },
   "source": [
    "## Register Model\n",
    "\n",
    "This is what `mlflow.log_model` is all about.\n",
    "\n",
    "This is MLflow! ❤️"
   ]
  },
  {
   "cell_type": "code",
   "execution_count": 0,
   "metadata": {
    "application/vnd.databricks.v1+cell": {
     "cellMetadata": {},
     "inputWidgets": {},
     "nuid": "a77bb358-ad1d-4279-badd-9083f7ae99b0",
     "showTitle": false,
     "tableResultSettingsMap": {},
     "title": ""
    }
   },
   "outputs": [],
   "source": [
    "%pip install mlflow-skinny[databricks]"
   ]
  },
  {
   "cell_type": "code",
   "execution_count": 0,
   "metadata": {
    "application/vnd.databricks.v1+cell": {
     "cellMetadata": {},
     "inputWidgets": {},
     "nuid": "4a7e5d71-55cc-4bf6-aa93-24d4de45d1b8",
     "showTitle": false,
     "tableResultSettingsMap": {},
     "title": ""
    }
   },
   "outputs": [],
   "source": [
    "%restart_python"
   ]
  },
  {
   "cell_type": "code",
   "execution_count": 0,
   "metadata": {
    "application/vnd.databricks.v1+cell": {
     "cellMetadata": {},
     "inputWidgets": {},
     "nuid": "7cd4f1b4-a7d8-4c0e-bc10-daf4f73b14f2",
     "showTitle": false,
     "tableResultSettingsMap": {},
     "title": ""
    }
   },
   "outputs": [],
   "source": [
    "import mlflow\n",
    "\n",
    "help(mlflow.sklearn.log_model)\n",
    "\n",
    "# Log a scikit-learn model as an MLflow artifact for the current run.\n",
    "# Produces an MLflow Model containing the following two flavors:\n",
    "# 1. mlflow.sklearn\n",
    "# 2. mlflow.pyfunc (only for scikit-learn models that define `predict()` that is required for pyfunc model inference)"
   ]
  },
  {
   "cell_type": "code",
   "execution_count": 0,
   "metadata": {
    "application/vnd.databricks.v1+cell": {
     "cellMetadata": {},
     "inputWidgets": {},
     "nuid": "c454e69f-8ad6-4409-9004-37bf8d2bb637",
     "showTitle": false,
     "tableResultSettingsMap": {},
     "title": ""
    }
   },
   "outputs": [],
   "source": [
    "from mlflow.models import infer_signature\n",
    "\n",
    "with mlflow.start_run() as run:\n",
    "    rfr = RandomForestRegressor(**params).fit(X, y)\n",
    "    signature = infer_signature(X, rfr.predict(X))\n",
    "    mlflow.log_params(params)\n",
    "    mlflow.sklearn.log_model(\n",
    "        sk_model=rfr,\n",
    "        artifact_path=\"sklearn-model\",\n",
    "        signature=signature,\n",
    "        registered_model_name=\"jacek_laskowski.mlflow.sklearn_model\",\n",
    "    )"
   ]
  },
  {
   "cell_type": "markdown",
   "metadata": {
    "application/vnd.databricks.v1+cell": {
     "cellMetadata": {},
     "inputWidgets": {},
     "nuid": "21a62432-cf0a-41e0-9848-a8336fbada36",
     "showTitle": false,
     "tableResultSettingsMap": {},
     "title": ""
    }
   },
   "source": [
    "\n",
    "## Registered Models"
   ]
  },
  {
   "cell_type": "markdown",
   "metadata": {
    "application/vnd.databricks.v1+cell": {
     "cellMetadata": {},
     "inputWidgets": {},
     "nuid": "4ed2ea07-e043-4ddd-9c3f-ac14daa6b9d2",
     "showTitle": false,
     "tableResultSettingsMap": {},
     "title": ""
    }
   },
   "source": [
    "### Databricks UI"
   ]
  },
  {
   "cell_type": "markdown",
   "metadata": {
    "application/vnd.databricks.v1+cell": {
     "cellMetadata": {},
     "inputWidgets": {},
     "nuid": "dca0ab52-11ac-4805-b137-7687a43f1752",
     "showTitle": false,
     "tableResultSettingsMap": {},
     "title": ""
    }
   },
   "source": [
    "\n",
    "Review [Registered Models](https://curriculum-dev.cloud.databricks.com/ml/models?o=3551974319838082) (Owned by me)\n",
    "\n",
    "There could be one from my previous experiments."
   ]
  },
  {
   "cell_type": "markdown",
   "metadata": {
    "application/vnd.databricks.v1+cell": {
     "cellMetadata": {},
     "inputWidgets": {},
     "nuid": "42296b09-79a0-4e55-8541-02d5b33d4028",
     "showTitle": false,
     "tableResultSettingsMap": {},
     "title": ""
    }
   },
   "source": [
    "\n",
    "![Registered Models](./databricks_ml_registered_models.png)"
   ]
  },
  {
   "cell_type": "markdown",
   "metadata": {
    "application/vnd.databricks.v1+cell": {
     "cellMetadata": {},
     "inputWidgets": {},
     "nuid": "ad8ebdc4-e858-4062-9e45-f01e9131cd16",
     "showTitle": false,
     "tableResultSettingsMap": {},
     "title": ""
    }
   },
   "source": [
    "### Databricks CLI"
   ]
  },
  {
   "cell_type": "markdown",
   "metadata": {
    "application/vnd.databricks.v1+cell": {
     "cellMetadata": {},
     "inputWidgets": {},
     "nuid": "74efafa3-538d-4d2c-8205-0706fabd4ba4",
     "showTitle": false,
     "tableResultSettingsMap": {},
     "title": ""
    }
   },
   "source": [
    "\n",
    "#### No models command 😢\n",
    "\n",
    "<br>\n",
    "\n",
    "```\n",
    "❯ databricks models\n",
    "Error: unknown command \"models\" for \"databricks\"\n",
    "```"
   ]
  },
  {
   "cell_type": "markdown",
   "metadata": {
    "application/vnd.databricks.v1+cell": {
     "cellMetadata": {},
     "inputWidgets": {},
     "nuid": "8aec9289-2e91-48ba-ae36-0dba8fd35ec8",
     "showTitle": false,
     "tableResultSettingsMap": {},
     "title": ""
    }
   },
   "source": [
    "#### databricks registered-models\n",
    "\n",
    "* Databricks provides a hosted version of MLflow Model Registry in Unity Catalog\n",
    "* Models in Unity Catalog provide centralized access control, auditing, lineage, and discovery of ML models across Databricks workspaces.\n",
    "* An **MLflow registered model** resides in the third layer of Unity Catalog’s three-level namespace.\n",
    "* Registered models contain model versions, which correspond to actual ML models (MLflow models).\n",
    "\n",
    "⚠️ Creating new model versions currently requires use of the MLflow Python client.\n",
    "\n",
    "⚠️ The securable type for models is **FUNCTION**. When using REST APIs (e.g. tagging, grants) that specify a securable type, use \"FUNCTION\" as the securable type.\n",
    "\n",
    "Once model versions are created:\n",
    "\n",
    "* For **batch inference**, load them using MLflow Python Client API.\n",
    "* For **real-time serving**, deploy them using Databricks Model Serving."
   ]
  },
  {
   "cell_type": "markdown",
   "metadata": {
    "application/vnd.databricks.v1+cell": {
     "cellMetadata": {},
     "inputWidgets": {},
     "nuid": "14d028be-e6af-4de4-9a75-7786b65e25fd",
     "showTitle": false,
     "tableResultSettingsMap": {},
     "title": ""
    }
   },
   "source": [
    "```\n",
    "❯ databricks registered-models list --catalog-name jacek_laskowski --schema-name mlflow\n",
    "[\n",
    "  {\n",
    "    \"catalog_name\": \"jacek_laskowski\",\n",
    "    \"created_at\": 1746973647937,\n",
    "    \"created_by\": \"jacek@japila.pl\",\n",
    "    \"full_name\": \"jacek_laskowski.mlflow.sklearn_model\",\n",
    "    \"metastore_id\": \"6820268e-1541-4b52-b49e-e7135e528491\",\n",
    "    \"name\": \"sklearn_model\",\n",
    "    \"owner\": \"jacek@japila.pl\",\n",
    "    \"schema_name\": \"mlflow\",\n",
    "    \"storage_location\": \"s3://curriculum-storage/6820268e-1541-4b52-b49e-e7135e528491/models/debf1786-b6b4-4119-8f31-940dac8036de\",\n",
    "    \"updated_at\": 1747324659304,\n",
    "    \"updated_by\": \"jacek@japila.pl\"\n",
    "  }\n",
    "]\n",
    "```"
   ]
  },
  {
   "cell_type": "markdown",
   "metadata": {
    "application/vnd.databricks.v1+cell": {
     "cellMetadata": {},
     "inputWidgets": {},
     "nuid": "398ca0ee-4334-4226-8442-931c819250a2",
     "showTitle": false,
     "tableResultSettingsMap": {},
     "title": ""
    }
   },
   "source": [
    "## Model Versions"
   ]
  },
  {
   "cell_type": "markdown",
   "metadata": {
    "application/vnd.databricks.v1+cell": {
     "cellMetadata": {},
     "inputWidgets": {},
     "nuid": "3471af12-4df1-4116-b42d-bf3afec72114",
     "showTitle": false,
     "tableResultSettingsMap": {},
     "title": ""
    }
   },
   "source": [
    "### Databricks UI"
   ]
  },
  {
   "cell_type": "markdown",
   "metadata": {
    "application/vnd.databricks.v1+cell": {
     "cellMetadata": {},
     "inputWidgets": {},
     "nuid": "9e5b9562-0ef9-4ee9-b618-605b26a5ae84",
     "showTitle": false,
     "tableResultSettingsMap": {},
     "title": ""
    }
   },
   "source": [
    "\n",
    "Review [Model Versions](https://curriculum-dev.cloud.databricks.com/explore/data/models/jacek_laskowski/mlflow/sklearn_model)\n",
    "\n",
    "There could be many from my previous experiments."
   ]
  },
  {
   "cell_type": "markdown",
   "metadata": {
    "application/vnd.databricks.v1+cell": {
     "cellMetadata": {},
     "inputWidgets": {},
     "nuid": "309fd11e-0654-4ff5-a675-0bc97c57bafd",
     "showTitle": false,
     "tableResultSettingsMap": {},
     "title": ""
    }
   },
   "source": [
    "\n",
    "![Model Versions](./databricks_ml_model_versions.png)"
   ]
  },
  {
   "cell_type": "markdown",
   "metadata": {
    "application/vnd.databricks.v1+cell": {
     "cellMetadata": {},
     "inputWidgets": {},
     "nuid": "cd29f5e6-0c2a-4ff1-9ae5-5862ddf39f0e",
     "showTitle": false,
     "tableResultSettingsMap": {},
     "title": ""
    }
   },
   "source": [
    "### Databricks CLI"
   ]
  },
  {
   "cell_type": "markdown",
   "metadata": {
    "application/vnd.databricks.v1+cell": {
     "cellMetadata": {},
     "inputWidgets": {},
     "nuid": "6cf748d2-cb0b-46c7-8b50-6b829589e63a",
     "showTitle": false,
     "tableResultSettingsMap": {},
     "title": ""
    }
   },
   "source": [
    "\n",
    "|Databricks Command|Description|\n",
    "|-|-|\n",
    "|`databricks model-registry`|⛔️ This API reference documents APIs for the Workspace Model Registry.|\n",
    "|`databricks model-versions`|👍 Databricks provides a hosted version of MLflow Model Registry in Unity Catalog.|"
   ]
  },
  {
   "cell_type": "markdown",
   "metadata": {
    "application/vnd.databricks.v1+cell": {
     "cellMetadata": {},
     "inputWidgets": {},
     "nuid": "096944b5-c035-4a80-b710-f3df8b750b5a",
     "showTitle": false,
     "tableResultSettingsMap": {},
     "title": ""
    }
   },
   "source": [
    "\n",
    "```\n",
    "❯ databricks model-versions list jacek_laskowski.mlflow.sklearn_model | jq 'sort_by(.version)| .[] | [.version, .storage_location]'\n",
    "[\n",
    "  1,\n",
    "  \"s3://curriculum-storage/6820268e-1541-4b52-b49e-e7135e528491/models/debf1786-b6b4-4119-8f31-940dac8036de/versions/51854a98-c4ff-460c-9b60-4883ef748022\"\n",
    "]\n",
    "[\n",
    "  2,\n",
    "  \"s3://curriculum-storage/6820268e-1541-4b52-b49e-e7135e528491/models/debf1786-b6b4-4119-8f31-940dac8036de/versions/1b810a18-852e-4016-a706-595a32385ec7\"\n",
    "]\n",
    "[\n",
    "  3,\n",
    "  \"s3://curriculum-storage/6820268e-1541-4b52-b49e-e7135e528491/models/debf1786-b6b4-4119-8f31-940dac8036de/versions/92489608-a3ab-4994-8b39-b9ab4a227a1a\"\n",
    "]\n",
    "```"
   ]
  },
  {
   "cell_type": "markdown",
   "metadata": {
    "application/vnd.databricks.v1+cell": {
     "cellMetadata": {},
     "inputWidgets": {},
     "nuid": "38f540ac-b630-4d2b-83eb-acfa02ce992e",
     "showTitle": false,
     "tableResultSettingsMap": {},
     "title": ""
    }
   },
   "source": [
    "## Experiments"
   ]
  },
  {
   "cell_type": "markdown",
   "metadata": {
    "application/vnd.databricks.v1+cell": {
     "cellMetadata": {},
     "inputWidgets": {},
     "nuid": "4e2b02a9-e822-4212-b2b3-c1b8ccad25fb",
     "showTitle": false,
     "tableResultSettingsMap": {},
     "title": ""
    }
   },
   "source": [
    "\n",
    "An **experiment** is an top-level organizational unit in MLflow.\n",
    "\n",
    "An experiment is a collection of one or many **Runs**.\n",
    "\n",
    "A **Run** (_training_) is an execution of a ML code that is a part of a single experiment. A run is a collection of model training metadata and artifacts.\n",
    "\n",
    "An experiment run in MLflow has always the default [PyFunc](https://mlflow.org/docs/latest/api_reference/python_api/mlflow.pyfunc.html) flavor, a MLflow wrapper (code) around a native model.\n",
    "\n",
    "Experiments are divided into:\n",
    "\n",
    "* Notebook experiments that are code in a notebook\n",
    "* Workspace experiments that you specify the path manually (it could be a notebook, too).\n"
   ]
  },
  {
   "cell_type": "markdown",
   "metadata": {
    "application/vnd.databricks.v1+cell": {
     "cellMetadata": {},
     "inputWidgets": {},
     "nuid": "329bc90e-d7e4-4134-a640-62d4a048aa1d",
     "showTitle": false,
     "tableResultSettingsMap": {},
     "title": ""
    }
   },
   "source": [
    "### Experiment Tracking\n",
    "\n",
    "[Databricks UI](https://curriculum-dev.cloud.databricks.com/ml/experiments?o=3551974319838082) and [MLflowClient.search_runs](https://mlflow.org/docs/latest/getting-started/logging-first-model/step2-mlflow-client)"
   ]
  },
  {
   "cell_type": "markdown",
   "metadata": {
    "application/vnd.databricks.v1+cell": {
     "cellMetadata": {},
     "inputWidgets": {},
     "nuid": "9dc3b74f-ea60-492a-9598-1b5f861179a3",
     "showTitle": false,
     "tableResultSettingsMap": {},
     "title": ""
    }
   },
   "source": [
    "## Create Serving Endpoint\n",
    "\n",
    "[Create custom model serving endpoints](https://docs.databricks.com/aws/en/machine-learning/model-serving/create-manage-serving-endpoints)"
   ]
  },
  {
   "cell_type": "markdown",
   "metadata": {
    "application/vnd.databricks.v1+cell": {
     "cellMetadata": {},
     "inputWidgets": {},
     "nuid": "89b0e3e4-42e5-4826-8466-930c8657bb1e",
     "showTitle": false,
     "tableResultSettingsMap": {},
     "title": ""
    }
   },
   "source": [
    "\n",
    "https://curriculum-dev.cloud.databricks.com/ml/endpoints/jacek_laskowski_demo?o=3551974319838082"
   ]
  },
  {
   "cell_type": "markdown",
   "metadata": {
    "application/vnd.databricks.v1+cell": {
     "cellMetadata": {},
     "inputWidgets": {},
     "nuid": "99122016-eb9e-43ea-b24a-2ecc468cccc2",
     "showTitle": false,
     "tableResultSettingsMap": {},
     "title": ""
    }
   },
   "source": [
    "\n",
    "```\n",
    "databricks serving-endpoints list | grep jacek_laskowski\n",
    "```"
   ]
  },
  {
   "cell_type": "markdown",
   "metadata": {
    "application/vnd.databricks.v1+cell": {
     "cellMetadata": {},
     "inputWidgets": {},
     "nuid": "fcd8f8f4-d242-4df3-abfe-fd2d7bf5a28e",
     "showTitle": false,
     "tableResultSettingsMap": {},
     "title": ""
    }
   },
   "source": [
    "\n",
    "Once up and running, get the query schema of the serving endpoint in OpenAPI format.\n",
    "\n",
    "<br>\n",
    "\n",
    "```\n",
    "databricks serving-endpoints get-open-api jacek_laskowski_demo\n",
    "```"
   ]
  },
  {
   "cell_type": "markdown",
   "metadata": {
    "application/vnd.databricks.v1+cell": {
     "cellMetadata": {},
     "inputWidgets": {},
     "nuid": "5dfb6475-1b06-4c78-8478-2305734afa89",
     "showTitle": false,
     "tableResultSettingsMap": {},
     "title": ""
    }
   },
   "source": [
    "## ☠️ Delete Model"
   ]
  },
  {
   "cell_type": "markdown",
   "metadata": {
    "application/vnd.databricks.v1+cell": {
     "cellMetadata": {},
     "inputWidgets": {},
     "nuid": "a4bf2d8c-dfcc-4a45-b6e5-27e4ae5c66c4",
     "showTitle": false,
     "tableResultSettingsMap": {},
     "title": ""
    }
   },
   "source": [
    "\n",
    "```\n",
    "> databricks registered-models delete --help\n",
    "Delete a Registered Model.\n",
    "\n",
    "  Deletes a registered model and all its model versions from the specified\n",
    "  parent catalog and schema.\n",
    "\n",
    "  Arguments:\n",
    "    FULL_NAME: The three-level (fully qualified) name of the registered model\n",
    "```"
   ]
  },
  {
   "cell_type": "markdown",
   "metadata": {
    "application/vnd.databricks.v1+cell": {
     "cellMetadata": {},
     "inputWidgets": {},
     "nuid": "80488be6-ca3e-478f-a3d5-e66edb4cb2aa",
     "showTitle": false,
     "tableResultSettingsMap": {},
     "title": ""
    }
   },
   "source": [
    "\n",
    "```\n",
    "❯ databricks registered-models delete jacek_laskowski.mlflow.sklearn_model\n",
    "Error: Function 'jacek_laskowski.mlflow.sklearn_model' is not empty. The function has 3 model versions(s)\n",
    "```\n",
    "\n",
    "⚠️ Note **Function** in the error message!"
   ]
  },
  {
   "cell_type": "markdown",
   "metadata": {
    "application/vnd.databricks.v1+cell": {
     "cellMetadata": {},
     "inputWidgets": {},
     "nuid": "334aca43-f6de-477f-b1f5-229808dd5ffd",
     "showTitle": false,
     "tableResultSettingsMap": {},
     "title": ""
    }
   },
   "source": [
    "\n",
    "What a trick! 💡\n",
    "\n",
    "<br>\n",
    "\n",
    "```\n",
    "databricks functions delete jacek_laskowski.mlflow.sklearn_model --force\n",
    "```"
   ]
  },
  {
   "cell_type": "markdown",
   "metadata": {
    "application/vnd.databricks.v1+cell": {
     "cellMetadata": {},
     "inputWidgets": {},
     "nuid": "04dd40c7-b986-46b1-af62-8ee627916610",
     "showTitle": false,
     "tableResultSettingsMap": {},
     "title": ""
    }
   },
   "source": [
    "\n",
    "⚠️ Beside **Model** and **Function**, there's also **Routine** 😬\n",
    "\n",
    "<br>\n",
    "\n",
    "```\n",
    "❯ databricks model-versions list jacek_laskowski.mlflow.sklearn_model\n",
    "Error: Routine or Model 'jacek_laskowski.mlflow.sklearn_model' does not exist.\n",
    "```"
   ]
  },
  {
   "cell_type": "markdown",
   "metadata": {
    "application/vnd.databricks.v1+cell": {
     "cellMetadata": {},
     "inputWidgets": {},
     "nuid": "ac91fa3b-c045-4ed2-8503-89b3801de7f9",
     "showTitle": false,
     "tableResultSettingsMap": {},
     "title": ""
    }
   },
   "source": [
    "\n",
    "# 🧑‍💻 Demo: Running MLflow's examples/databricks (and Editable Install in Python)\n",
    "\n",
    "[examples/databricks](https://github.com/mlflow/mlflow/tree/master/examples/databricks)"
   ]
  },
  {
   "cell_type": "markdown",
   "metadata": {
    "application/vnd.databricks.v1+cell": {
     "cellMetadata": {},
     "inputWidgets": {},
     "nuid": "c2eb1743-e728-49e9-ae34-170d4f1e578f",
     "showTitle": false,
     "tableResultSettingsMap": {},
     "title": ""
    }
   },
   "source": [
    "\n",
    "## Step 0. Clone MLflow Repo\n",
    "\n",
    "`git clone` https://github.com/mlflow/mlflow"
   ]
  },
  {
   "cell_type": "markdown",
   "metadata": {
    "application/vnd.databricks.v1+cell": {
     "cellMetadata": {},
     "inputWidgets": {},
     "nuid": "956f4d68-a569-4ed2-86e2-9d8e1f2fdbbf",
     "showTitle": false,
     "tableResultSettingsMap": {},
     "title": ""
    }
   },
   "source": [
    "\n",
    "## Step 1. Install Dependencies"
   ]
  },
  {
   "cell_type": "markdown",
   "metadata": {
    "application/vnd.databricks.v1+cell": {
     "cellMetadata": {},
     "inputWidgets": {},
     "nuid": "98926702-397e-4174-bb77-42f9e274e4f2",
     "showTitle": false,
     "tableResultSettingsMap": {},
     "title": ""
    }
   },
   "source": [
    "\n",
    "```\n",
    "uv pip install databricks-connect\n",
    "uv pip install scikit-learn\n",
    "```"
   ]
  },
  {
   "cell_type": "markdown",
   "metadata": {
    "application/vnd.databricks.v1+cell": {
     "cellMetadata": {},
     "inputWidgets": {},
     "nuid": "970ca884-9ac8-4532-9990-fa4885e878b4",
     "showTitle": false,
     "tableResultSettingsMap": {},
     "title": ""
    }
   },
   "source": [
    "\n",
    "## Step 2. Run Experiment"
   ]
  },
  {
   "cell_type": "markdown",
   "metadata": {
    "application/vnd.databricks.v1+cell": {
     "cellMetadata": {},
     "inputWidgets": {},
     "nuid": "7f8a06f8-5b0e-4251-973b-9e3bb5f34a69",
     "showTitle": false,
     "tableResultSettingsMap": {},
     "title": ""
    }
   },
   "source": [
    "\n",
    "```\n",
    "❯ python examples/databricks/dbconnect.py --cluster-id xxx\n",
    "2025/05/08 17:51:04 INFO mlflow.tracking.fluent: Experiment with name '/Users/jacek@japila.pl/dbconnect' does not exist. Creating a new experiment.\n",
    "🏃 View run smiling-ox-667 at: https://curriculum-dev.cloud.databricks.com/ml/experiments/1275781889574864/runs/b88fd8406e7d410bac8992258093ef5d\n",
    "🧪 View experiment at: https://curriculum-dev.cloud.databricks.com/ml/experiments/1275781889574864\n",
    "Traceback (most recent call last):\n",
    "  File \"/Users/jacek/oss/mlflow/examples/databricks/dbconnect.py\", line 56, in <module>\n",
    "    main()\n",
    "    ~~~~^^\n",
    "  File \"/Users/jacek/oss/mlflow/examples/databricks/dbconnect.py\", line 37, in main\n",
    "    model_info = mlflow.sklearn.log_model(model, name=\"model\", signature=signature)\n",
    "TypeError: log_model() got an unexpected keyword argument 'name'\n",
    "```"
   ]
  },
  {
   "cell_type": "markdown",
   "metadata": {
    "application/vnd.databricks.v1+cell": {
     "cellMetadata": {},
     "inputWidgets": {},
     "nuid": "0236050b-a30b-4fa3-9cbc-366fd9acb2f4",
     "showTitle": false,
     "tableResultSettingsMap": {},
     "title": ""
    }
   },
   "source": [
    "\n",
    "## Step 3. Editable Install\n",
    "\n",
    "[Development Mode (a.k.a. “Editable Installs”)](https://setuptools.pypa.io/en/latest/userguide/development_mode.html)"
   ]
  },
  {
   "cell_type": "markdown",
   "metadata": {
    "application/vnd.databricks.v1+cell": {
     "cellMetadata": {},
     "inputWidgets": {},
     "nuid": "7db008c0-b12e-4eba-b79c-0bfcbd617843",
     "showTitle": false,
     "tableResultSettingsMap": {},
     "title": ""
    }
   },
   "source": [
    "\n",
    "```\n",
    "uv pip install -e .\n",
    "```"
   ]
  },
  {
   "cell_type": "markdown",
   "metadata": {
    "application/vnd.databricks.v1+cell": {
     "cellMetadata": {},
     "inputWidgets": {},
     "nuid": "6835dd8f-df1b-42ca-a614-d3288c7913c9",
     "showTitle": false,
     "tableResultSettingsMap": {},
     "title": ""
    }
   },
   "source": [
    "\n",
    "```\n",
    "❯ python examples/databricks/dbconnect.py --cluster-id xxx\n",
    "🏃 View run carefree-duck-680 at: https://curriculum-dev.cloud.databricks.com/ml/experiments/1275781889574864/runs/89a774fb54da4a5c844764d3e40ad638\n",
    "🧪 View experiment at: https://curriculum-dev.cloud.databricks.com/ml/experiments/1275781889574864\n",
    "Traceback (most recent call last):\n",
    "  File \"/Users/jacek/oss/mlflow/examples/databricks/dbconnect.py\", line 56, in <module>\n",
    "    main()\n",
    "    ~~~~^^\n",
    "  File \"/Users/jacek/oss/mlflow/examples/databricks/dbconnect.py\", line 37, in main\n",
    "    model_info = mlflow.sklearn.log_model(model, name=\"model\", signature=signature)\n",
    "  File \"/Users/jacek/oss/mlflow/mlflow/sklearn/__init__.py\", line 426, in log_model\n",
    "    return Model.log(\n",
    "           ~~~~~~~~~^\n",
    "        artifact_path=artifact_path,\n",
    "        ^^^^^^^^^^^^^^^^^^^^^^^^^^^^\n",
    "    ...<18 lines>...\n",
    "        model_id=model_id,\n",
    "        ^^^^^^^^^^^^^^^^^^\n",
    "    )\n",
    "    ^\n",
    "  File \"/Users/jacek/oss/mlflow/mlflow/models/model.py\", line 928, in log\n",
    "    model = mlflow.initialize_logged_model(\n",
    "        # TODO: Update model name\n",
    "    ...<6 lines>...\n",
    "        else None,\n",
    "    )\n",
    "  File \"/Users/jacek/oss/mlflow/mlflow/tracking/fluent.py\", line 2122, in initialize_logged_model\n",
    "    model = _create_logged_model(\n",
    "        name=name,\n",
    "    ...<4 lines>...\n",
    "        experiment_id=experiment_id,\n",
    "    )\n",
    "  File \"/Users/jacek/oss/mlflow/mlflow/tracking/fluent.py\", line 2232, in _create_logged_model\n",
    "    return MlflowClient().create_logged_model(\n",
    "           ~~~~~~~~~~~~~~~~~~~~~~~~~~~~~~~~~~^\n",
    "        experiment_id=experiment_id,\n",
    "        ^^^^^^^^^^^^^^^^^^^^^^^^^^^^\n",
    "    ...<4 lines>...\n",
    "        model_type=model_type,\n",
    "        ^^^^^^^^^^^^^^^^^^^^^^\n",
    "    )\n",
    "    ^\n",
    "  File \"/Users/jacek/oss/mlflow/mlflow/tracking/client.py\", line 5218, in create_logged_model\n",
    "    return self._tracking_client.create_logged_model(\n",
    "           ~~~~~~~~~~~~~~~~~~~~~~~~~~~~~~~~~~~~~~~~~^\n",
    "        experiment_id, name, source_run_id, tags, params, model_type\n",
    "        ^^^^^^^^^^^^^^^^^^^^^^^^^^^^^^^^^^^^^^^^^^^^^^^^^^^^^^^^^^^^\n",
    "    )\n",
    "    ^\n",
    "  File \"/Users/jacek/oss/mlflow/mlflow/tracking/_tracking_service/client.py\", line 815, in create_logged_model\n",
    "    return self.store.create_logged_model(\n",
    "           ~~~~~~~~~~~~~~~~~~~~~~~~~~~~~~^\n",
    "        experiment_id=experiment_id,\n",
    "        ^^^^^^^^^^^^^^^^^^^^^^^^^^^^\n",
    "    ...<8 lines>...\n",
    "        model_type=model_type,\n",
    "        ^^^^^^^^^^^^^^^^^^^^^^\n",
    "    )\n",
    "    ^\n",
    "  File \"/Users/jacek/oss/mlflow/mlflow/store/tracking/rest_store.py\", line 904, in create_logged_model\n",
    "    response_proto = self._call_endpoint(CreateLoggedModel, req_body)\n",
    "  File \"/Users/jacek/oss/mlflow/mlflow/store/tracking/rest_store.py\", line 129, in _call_endpoint\n",
    "    return call_endpoint(\n",
    "        self.get_host_creds(),\n",
    "    ...<4 lines>...\n",
    "        retry_timeout_seconds=retry_timeout_seconds,\n",
    "    )\n",
    "  File \"/Users/jacek/oss/mlflow/mlflow/utils/rest_utils.py\", line 474, in call_endpoint\n",
    "    response = verify_rest_response(response, endpoint)\n",
    "  File \"/Users/jacek/oss/mlflow/mlflow/utils/rest_utils.py\", line 261, in verify_rest_response\n",
    "    raise RestException(json.loads(response.text))\n",
    "mlflow.exceptions.RestException: BAD_REQUEST: This API is not enabled.\n",
    "```"
   ]
  },
  {
   "cell_type": "markdown",
   "metadata": {
    "application/vnd.databricks.v1+cell": {
     "cellMetadata": {},
     "inputWidgets": {},
     "nuid": "1a9a770e-242d-4166-94d2-9aaf3faae1f0",
     "showTitle": false,
     "tableResultSettingsMap": {},
     "title": ""
    }
   },
   "source": [
    "## Step 4. BAD_REQUEST: This API is not enabled.\n",
    "\n",
    "Hunting down the root cause of the exception."
   ]
  },
  {
   "cell_type": "markdown",
   "metadata": {
    "application/vnd.databricks.v1+cell": {
     "cellMetadata": {},
     "inputWidgets": {},
     "nuid": "90888f24-d445-4383-9d9b-c511293d1c38",
     "showTitle": false,
     "tableResultSettingsMap": {},
     "title": ""
    }
   },
   "source": [
    "\n",
    "Modify `mlflow/utils/rest_utils.py:261`"
   ]
  },
  {
   "cell_type": "markdown",
   "metadata": {
    "application/vnd.databricks.v1+cell": {
     "cellMetadata": {},
     "inputWidgets": {},
     "nuid": "af1b552c-ac6e-487b-a544-43cef7b77d52",
     "showTitle": false,
     "tableResultSettingsMap": {},
     "title": ""
    }
   },
   "source": [
    "\n",
    "```\n",
    "❯ python examples/databricks/dbconnect.py --cluster-id xxx\n",
    ">>> endpoint /api/2.0/mlflow/experiments/get-by-name\n",
    ">>> endpoint /api/2.0/mlflow/runs/create\n",
    ">>> endpoint /api/2.0/mlflow/runs/get\n",
    ">>> endpoint /api/2.0/mlflow/logged-models\n",
    ">>> endpoint /api/2.0/mlflow/runs/get\n",
    "🏃 View run zealous-worm-360 at: https://curriculum-dev.cloud.databricks.com/ml/experiments/1275781889574864/runs/8cad690b9bdd45ab96658987f4039180\n",
    "🧪 View experiment at: https://curriculum-dev.cloud.databricks.com/ml/experiments/1275781889574864\n",
    ">>> endpoint /api/2.0/mlflow/runs/update\n",
    "Traceback (most recent call last):\n",
    "  File \"/Users/jacek/oss/mlflow/examples/databricks/dbconnect.py\", line 56, in <module>\n",
    "    main()\n",
    "    ~~~~^^\n",
    "...\n",
    "  File \"/Users/jacek/oss/mlflow/mlflow/utils/rest_utils.py\", line 262, in verify_rest_response\n",
    "    raise RestException(json.loads(response.text))\n",
    "mlflow.exceptions.RestException: BAD_REQUEST: This API is not enabled.\n",
    "```"
   ]
  },
  {
   "cell_type": "markdown",
   "metadata": {
    "application/vnd.databricks.v1+cell": {
     "cellMetadata": {},
     "inputWidgets": {},
     "nuid": "c5c52ab3-5f91-4ba2-a53d-547530b98412",
     "showTitle": false,
     "tableResultSettingsMap": {},
     "title": ""
    }
   },
   "source": [
    "\n",
    "## Step 5. MLflow API reference\n",
    "\n",
    "[MLflow API reference](https://docs.databricks.com/aws/en/reference/mlflow-api)"
   ]
  },
  {
   "cell_type": "markdown",
   "metadata": {
    "application/vnd.databricks.v1+cell": {
     "cellMetadata": {},
     "inputWidgets": {},
     "nuid": "4808469f-133d-4862-8147-45456e7a67f6",
     "showTitle": false,
     "tableResultSettingsMap": {},
     "title": ""
    }
   },
   "source": [
    "\n",
    "### Experiments\n",
    "\n",
    "[Experiments](https://docs.databricks.com/api/workspace/experiments)\n",
    "\n",
    "1. **Experiments** are the primary unit of organization in MLflow.\n",
    "1. All **MLflow runs** belong to an experiment.\n",
    "1. Each experiment lets you visualize, search, and compare runs, as well as download run artifacts or metadata for analysis in other tools.\n",
    "1. Experiments are maintained in a Databricks-hosted MLflow tracking server.\n",
    "1. Experiments are located in the workspace file tree.\n",
    "1. You manage experiments using the same tools you use to manage other workspace objects such as folders, notebooks, and libraries."
   ]
  },
  {
   "cell_type": "markdown",
   "metadata": {
    "application/vnd.databricks.v1+cell": {
     "cellMetadata": {},
     "inputWidgets": {},
     "nuid": "73da36c4-ba45-43ca-b511-55d8f1a6eda1",
     "showTitle": false,
     "tableResultSettingsMap": {},
     "title": ""
    }
   },
   "source": [
    "### Databricks CLI\n",
    "\n",
    "<br>\n",
    "\n",
    "```\n",
    "❯ databricks | more\n",
    "...\n",
    "Machine Learning\n",
    "  experiments                            Experiments are the primary unit of organization in MLflow; all MLflow runs belong to an experiment.\n",
    "  model-registry                         Note: This API reference documents APIs for the Workspace Model Registry.\n",
    "Real-time Serving\n",
    "  serving-endpoints                      The Serving Endpoints API allows you to create, update, and delete model serving endpoints.\n",
    "Unity Catalog\n",
    "  model-versions                         Databricks provides a hosted version of MLflow Model Registry in Unity Catalog.\n",
    "  registered-models                      Databricks provides a hosted version of MLflow Model Registry in Unity Catalog.\n",
    "...\n",
    "```"
   ]
  },
  {
   "cell_type": "markdown",
   "metadata": {
    "application/vnd.databricks.v1+cell": {
     "cellMetadata": {},
     "inputWidgets": {},
     "nuid": "eb379053-2409-4d32-a942-e1d36b70f2d3",
     "showTitle": false,
     "tableResultSettingsMap": {},
     "title": ""
    }
   },
   "source": [
    "\n",
    "```\n",
    "❯ databricks experiments list-experiments | jq '.[].name' | grep 'jacek@japila.pl'\n",
    "\"/Users/jacek@japila.pl/dbconnect\"\n",
    "\"/Users/jacek@japila.pl/demo-experiment\"\n",
    "```"
   ]
  },
  {
   "cell_type": "markdown",
   "metadata": {
    "application/vnd.databricks.v1+cell": {
     "cellMetadata": {},
     "inputWidgets": {},
     "nuid": "9652b59c-3753-4333-b4d7-1e012b242bd3",
     "showTitle": false,
     "tableResultSettingsMap": {},
     "title": ""
    }
   },
   "source": [
    "\n",
    "```\n",
    "databricks registered-models list | jq '.[].full_name'\n",
    "```"
   ]
  },
  {
   "cell_type": "markdown",
   "metadata": {
    "application/vnd.databricks.v1+cell": {
     "cellMetadata": {},
     "inputWidgets": {},
     "nuid": "841c22d0-46ab-435a-8644-408de8ce81f5",
     "showTitle": false,
     "tableResultSettingsMap": {},
     "title": ""
    }
   },
   "source": [
    "# 🧑‍💻 Demo: MLflow's dev/pyproject.py and uv\n",
    "\n",
    "1. What I learnt while reviewing the source code of MLflow and having found [dev/pyproject.py](https://github.com/mlflow/mlflow/blob/master/dev/pyproject.py) to execute locally.\n",
    "1. And how uv helped.\n",
    "\n",
    "Why it even matters?! 🤨"
   ]
  },
  {
   "cell_type": "markdown",
   "metadata": {
    "application/vnd.databricks.v1+cell": {
     "cellMetadata": {},
     "inputWidgets": {},
     "nuid": "620395ad-cd26-476e-9624-7852602ff3c2",
     "showTitle": false,
     "tableResultSettingsMap": {},
     "title": ""
    }
   },
   "source": [
    "\n",
    "## Step 0. Clone MLflow Repo\n",
    "\n",
    "`git clone` https://github.com/mlflow/mlflow"
   ]
  },
  {
   "cell_type": "markdown",
   "metadata": {
    "application/vnd.databricks.v1+cell": {
     "cellMetadata": {},
     "inputWidgets": {},
     "nuid": "81a26d7a-5141-44b2-ae17-bde4ca451220",
     "showTitle": false,
     "tableResultSettingsMap": {},
     "title": ""
    }
   },
   "source": [
    "\n",
    "## Step 1. uvx python dev/pyproject.py\n",
    "\n",
    "<br>\n",
    "\n",
    "```\n",
    "❯ uvx python dev/pyproject.py\n",
    "Traceback (most recent call last):\n",
    "  File \"/Users/jacek/oss/mlflow/./dev/pyproject.py\", line 10, in <module>\n",
    "    import toml\n",
    "ModuleNotFoundError: No module named 'toml'\n",
    "```"
   ]
  },
  {
   "cell_type": "markdown",
   "metadata": {
    "application/vnd.databricks.v1+cell": {
     "cellMetadata": {},
     "inputWidgets": {},
     "nuid": "2d1a19da-7349-483c-bf20-e8ce71fb4ea2",
     "showTitle": false,
     "tableResultSettingsMap": {},
     "title": ""
    }
   },
   "source": [
    "\n",
    "## Step 2. Set Up Dev Env"
   ]
  },
  {
   "cell_type": "markdown",
   "metadata": {
    "application/vnd.databricks.v1+cell": {
     "cellMetadata": {},
     "inputWidgets": {},
     "nuid": "4cb74c3f-308d-4f79-bb8f-f7aa6dc4956c",
     "showTitle": false,
     "tableResultSettingsMap": {},
     "title": ""
    }
   },
   "source": [
    "\n",
    "`uv venv .dev_pyproject_py_deep_dive`\n",
    "\n",
    "`source .dev_pyproject_py_deep_dive/bin/activate`"
   ]
  },
  {
   "cell_type": "markdown",
   "metadata": {
    "application/vnd.databricks.v1+cell": {
     "cellMetadata": {},
     "inputWidgets": {},
     "nuid": "badac1e7-c283-421d-b81c-8a0412c50c51",
     "showTitle": false,
     "tableResultSettingsMap": {},
     "title": ""
    }
   },
   "source": [
    "\n",
    "## Step 3. Virtual Envs in Python\n",
    "\n",
    "Please note that I'm a JVM dev (and only very recently switched to Python)."
   ]
  },
  {
   "cell_type": "markdown",
   "metadata": {
    "application/vnd.databricks.v1+cell": {
     "cellMetadata": {},
     "inputWidgets": {},
     "nuid": "bda1c5a2-2377-4f08-9444-730759e6fb08",
     "showTitle": false,
     "tableResultSettingsMap": {},
     "title": ""
    }
   },
   "source": [
    "\n",
    "`uv pip install toml`\n",
    "\n",
    "`python ./dev/pyproject.py`\n",
    "\n",
    "`type python` and it finally clicked how virtual envs work 🔥\n",
    "\n",
    "[venv — Creation of virtual environments](https://docs.python.org/3/library/venv.html)"
   ]
  },
  {
   "cell_type": "markdown",
   "metadata": {
    "application/vnd.databricks.v1+cell": {
     "cellMetadata": {},
     "inputWidgets": {},
     "nuid": "1dd13382-aeb9-420a-a887-7b34d04a6c06",
     "showTitle": false,
     "tableResultSettingsMap": {},
     "title": ""
    }
   },
   "source": [
    "## Step 4. It Works 🥳"
   ]
  },
  {
   "cell_type": "markdown",
   "metadata": {
    "application/vnd.databricks.v1+cell": {
     "cellMetadata": {},
     "inputWidgets": {},
     "nuid": "62f56061-22b9-4fd8-bd72-769069d6f8cc",
     "showTitle": false,
     "tableResultSettingsMap": {},
     "title": ""
    }
   },
   "source": [
    "\n",
    "`uv pip install pyyaml`\n",
    "\n",
    "> ⚠️ NOTE\n",
    ">\n",
    "> All the dev deps are in [dev/requirements.txt](https://github.com/mlflow/mlflow/blob/master/dev/requirements.txt)\n",
    "\n",
    "`uv pip install packaging`\n",
    "\n",
    "`brew install taplo`\n",
    "\n",
    "`python ./dev/pyproject.py` seems to change nothing, huh?! 🤨\n",
    "\n",
    "💎 Think what the script does and you will know why nothing seems changed 😉"
   ]
  },
  {
   "cell_type": "markdown",
   "metadata": {
    "application/vnd.databricks.v1+cell": {
     "cellMetadata": {},
     "inputWidgets": {},
     "nuid": "c2384861-cf1e-41e1-9dfd-b803b0905019",
     "showTitle": false,
     "tableResultSettingsMap": {},
     "title": ""
    }
   },
   "source": [
    "# ✨ Bonus Demo ✨\n",
    "\n",
    "[RestException: INVALID_PARAMETER_VALUE while searching for registered models from model registry](https://stackoverflow.com/q/79630371/1305344)"
   ]
  },
  {
   "cell_type": "markdown",
   "metadata": {
    "application/vnd.databricks.v1+cell": {
     "cellMetadata": {},
     "inputWidgets": {},
     "nuid": "bde48ccb-ad3e-44bf-9376-1ba264b50839",
     "showTitle": false,
     "tableResultSettingsMap": {},
     "title": ""
    }
   },
   "source": [
    "# That's all Folks! 👋\n",
    "\n",
    "![Warner Bros., Public domain, via Wikimedia Commons](https://upload.wikimedia.org/wikipedia/commons/e/ea/Thats_all_folks.svg)"
   ]
  },
  {
   "cell_type": "markdown",
   "metadata": {
    "application/vnd.databricks.v1+cell": {
     "cellMetadata": {},
     "inputWidgets": {},
     "nuid": "8f9b96ee-3a41-4131-b854-366fec7f65ee",
     "showTitle": false,
     "tableResultSettingsMap": {},
     "title": ""
    }
   },
   "source": [
    "\n",
    "# 🙋 Questions and Answers"
   ]
  },
  {
   "cell_type": "markdown",
   "metadata": {
    "application/vnd.databricks.v1+cell": {
     "cellMetadata": {},
     "inputWidgets": {},
     "nuid": "2aff47b7-b635-4e8a-bd21-1496e41332cc",
     "showTitle": false,
     "tableResultSettingsMap": {},
     "title": ""
    }
   },
   "source": [
    "\n",
    "# 💡 Ideas for Future Events\n",
    "\n",
    "➡️ [Ideas for Future Events]($./Ideas for Future Events)"
   ]
  }
 ],
 "metadata": {
  "application/vnd.databricks.v1+notebook": {
   "computePreferences": null,
   "dashboards": [],
   "environmentMetadata": null,
   "inputWidgetPreferences": null,
   "language": "python",
   "notebookMetadata": {
    "pythonIndentUnit": 4
   },
   "notebookName": "Meetup_2025_05_29",
   "widgets": {}
  },
  "language_info": {
   "name": "python"
  }
 },
 "nbformat": 4,
 "nbformat_minor": 0
}
