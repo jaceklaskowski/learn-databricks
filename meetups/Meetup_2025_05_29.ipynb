{
 "cells": [
  {
   "cell_type": "markdown",
   "metadata": {
    "application/vnd.databricks.v1+cell": {
     "cellMetadata": {},
     "inputWidgets": {},
     "nuid": "6a46b538-5343-4bc0-b5fc-97449b4aa283",
     "showTitle": false,
     "tableResultSettingsMap": {},
     "title": ""
    }
   },
   "source": [
    "# Model Lifecycle in Databricks Machine Learning\n",
    "\n",
    "Thursday, May 29, 2025\n",
    "\n",
    "[Invitation on Luma](https://lu.ma/2c4p2267), [LinkedIn](https://www.linkedin.com/feed/update/urn:li:activity:7332401688881815553/), [Meetup](https://www.meetup.com/warsaw-data-engineering/events/308041585/)"
   ]
  },
  {
   "cell_type": "markdown",
   "metadata": {
    "application/vnd.databricks.v1+cell": {
     "cellMetadata": {},
     "inputWidgets": {},
     "nuid": "dd081a26-c5e2-444a-875d-64c485221a95",
     "showTitle": false,
     "tableResultSettingsMap": {},
     "title": ""
    }
   },
   "source": [
    "\n",
    "# 📚 Agenda\n",
    "\n",
    "1. Demo: Model Lifecycle (From Training to Serving)\n",
    "\n",
    "⏰ Całkowity czas trwania spotkania: **1h 15min**"
   ]
  },
  {
   "cell_type": "markdown",
   "metadata": {
    "application/vnd.databricks.v1+cell": {
     "cellMetadata": {},
     "inputWidgets": {},
     "nuid": "82738e1a-8612-4d5c-883c-4aa3006308c2",
     "showTitle": false,
     "tableResultSettingsMap": {},
     "title": ""
    }
   },
   "source": [
    "\n",
    "# 📈 LinkedIn Poll\n",
    "\n",
    "[Czy weźmiesz udział w spotkaniu stacjonarnym?](https://www.linkedin.com/feed/update/urn:li:groupPost:9307761-7327398491633156096/)\n",
    "\n",
    "![Poll Results](./poll-meetup-stationary.png)"
   ]
  },
  {
   "cell_type": "markdown",
   "metadata": {
    "application/vnd.databricks.v1+cell": {
     "cellMetadata": {},
     "inputWidgets": {},
     "nuid": "0099d7a7-078c-4a57-8671-dcd404040811",
     "showTitle": false,
     "tableResultSettingsMap": {},
     "title": ""
    }
   },
   "source": [
    "\n",
    "# 🙋‍♀️ Event Question\n",
    "\n",
    "[O czym chciał(a)byś usłyszeć podczas meetupu? Rzuć ciekawym pomysłem na kolejne edycje](https://www.meetup.com/warsaw-data-engineering/events/308041585//attendees/) 🙏\n",
    "\n",
    "1. dużo przykładów użycia"
   ]
  },
  {
   "cell_type": "markdown",
   "metadata": {
    "application/vnd.databricks.v1+cell": {
     "cellMetadata": {},
     "inputWidgets": {},
     "nuid": "811aaee2-66d6-4833-84d3-c5971e3359ad",
     "showTitle": false,
     "tableResultSettingsMap": {},
     "title": ""
    }
   },
   "source": [
    "# 📢 News\n",
    "\n",
    "Things worth watching out for..."
   ]
  },
  {
   "cell_type": "markdown",
   "metadata": {
    "application/vnd.databricks.v1+cell": {
     "cellMetadata": {},
     "inputWidgets": {},
     "nuid": "f0e2d493-eba8-48ef-b8b8-3681b4e87d69",
     "showTitle": false,
     "tableResultSettingsMap": {},
     "title": ""
    }
   },
   "source": [
    "\n",
    "## New members in Warsaw Data Engineering!\n",
    "\n",
    "[You now have 597 members!](https://www.meetup.com/warsaw-data-engineering/)\n",
    "\n",
    "Co zainteresowało Cię w Warsaw Data Engineering Meetup, że zdecydowałaś/-eś się przyłączyć?\n",
    "\n",
    "1. Tematyka, która mnie interesuje\n",
    "1. Tematyka ML"
   ]
  },
  {
   "cell_type": "markdown",
   "metadata": {
    "application/vnd.databricks.v1+cell": {
     "cellMetadata": {},
     "inputWidgets": {},
     "nuid": "b03f1a00-af8f-48d5-b866-4c6f7c38994d",
     "showTitle": false,
     "tableResultSettingsMap": {},
     "title": ""
    }
   },
   "source": [
    "\n",
    "## 🚀 New Versions\n",
    "\n",
    "What has changed in the tooling space since we last met? I.e. hunting down the features to learn more about.\n",
    "\n",
    "* ✨✨ [Apache Spark 4.0.0](https://spark.apache.org/releases/spark-release-4-0-0.html) ✨✨\n",
    "* [PydanticAI 0.2.12](https://github.com/pydantic/pydantic-ai/releases/tag/v0.2.12)\n",
    "* [Dagster 1.10.17](https://github.com/dagster-io/dagster/releases/tag/1.10.17)"
   ]
  },
  {
   "cell_type": "markdown",
   "metadata": {
    "application/vnd.databricks.v1+cell": {
     "cellMetadata": {},
     "inputWidgets": {},
     "nuid": "00a55b51-9ba1-42a6-a0a1-8952fc125623",
     "showTitle": false,
     "tableResultSettingsMap": {},
     "title": ""
    }
   },
   "source": [
    "\n",
    "# 🧑‍💻 Demo: Model Lifecycle (From Training to Serving)"
   ]
  },
  {
   "cell_type": "markdown",
   "metadata": {
    "application/vnd.databricks.v1+cell": {
     "cellMetadata": {},
     "inputWidgets": {},
     "nuid": "b2399683-f0a1-42c7-883a-6f97e09b56f8",
     "showTitle": false,
     "tableResultSettingsMap": {},
     "title": ""
    }
   },
   "source": [
    "## Create Schema\n",
    "\n",
    "⚠️ This is Unity Catalog at play here. No MLflow yet.\n",
    "\n",
    "A model is a directory that...FIXME"
   ]
  },
  {
   "cell_type": "code",
   "execution_count": 0,
   "metadata": {
    "application/vnd.databricks.v1+cell": {
     "cellMetadata": {
      "byteLimit": 2048000,
      "implicitDf": true,
      "rowLimit": 10000
     },
     "inputWidgets": {},
     "nuid": "bd63e47a-9133-44aa-b43f-e47260e06138",
     "showTitle": false,
     "tableResultSettingsMap": {},
     "title": ""
    }
   },
   "outputs": [],
   "source": [
    "%sql\n",
    "\n",
    "CREATE SCHEMA IF NOT EXISTS jacek_laskowski.mlflow"
   ]
  },
  {
   "cell_type": "markdown",
   "metadata": {
    "application/vnd.databricks.v1+cell": {
     "cellMetadata": {},
     "inputWidgets": {},
     "nuid": "0a7122cc-971f-40ab-8568-459b51d53579",
     "showTitle": false,
     "tableResultSettingsMap": {},
     "title": ""
    }
   },
   "source": [
    "\n",
    "👉 [jacek_laskowski.mlflow](https://curriculum-dev.cloud.databricks.com/explore/data/jacek_laskowski/mlflow)"
   ]
  },
  {
   "cell_type": "markdown",
   "metadata": {
    "application/vnd.databricks.v1+cell": {
     "cellMetadata": {},
     "inputWidgets": {},
     "nuid": "9180da78-7f80-46be-b864-cdd0bdc51c7d",
     "showTitle": false,
     "tableResultSettingsMap": {},
     "title": ""
    }
   },
   "source": [
    "## Train Model\n",
    "\n",
    "⚠️ This is a pure scikit-learn. No MLflow. No Databricks."
   ]
  },
  {
   "cell_type": "code",
   "execution_count": 0,
   "metadata": {
    "application/vnd.databricks.v1+cell": {
     "cellMetadata": {
      "byteLimit": 2048000,
      "rowLimit": 10000
     },
     "inputWidgets": {},
     "nuid": "88c4afc1-1066-42af-8353-901aa44143aa",
     "showTitle": false,
     "tableResultSettingsMap": {},
     "title": ""
    }
   },
   "outputs": [],
   "source": [
    "from sklearn.datasets import make_regression\n",
    "help(make_regression)"
   ]
  },
  {
   "cell_type": "code",
   "execution_count": 0,
   "metadata": {
    "application/vnd.databricks.v1+cell": {
     "cellMetadata": {
      "byteLimit": 2048000,
      "rowLimit": 10000
     },
     "inputWidgets": {},
     "nuid": "03f37690-5fc3-4218-bdda-f054c72efd97",
     "showTitle": false,
     "tableResultSettingsMap": {},
     "title": ""
    }
   },
   "outputs": [],
   "source": [
    "# Generate a random regression problem.\n",
    "from sklearn.datasets import make_regression\n",
    "\n",
    "X, y = make_regression(n_features=4, n_informative=2, random_state=0, shuffle=False)"
   ]
  },
  {
   "cell_type": "code",
   "execution_count": 0,
   "metadata": {
    "application/vnd.databricks.v1+cell": {
     "cellMetadata": {
      "byteLimit": 2048000,
      "rowLimit": 10000
     },
     "inputWidgets": {},
     "nuid": "37c0fb49-e8b7-48d1-bba0-1d245c788016",
     "showTitle": false,
     "tableResultSettingsMap": {},
     "title": ""
    }
   },
   "outputs": [],
   "source": [
    "from sklearn.ensemble import RandomForestRegressor\n",
    "\n",
    "params = {\"n_estimators\": 3, \"random_state\": 42}\n",
    "rfr = RandomForestRegressor(**params).fit(X, y)\n",
    "rfr"
   ]
  },
  {
   "cell_type": "code",
   "execution_count": 0,
   "metadata": {
    "application/vnd.databricks.v1+cell": {
     "cellMetadata": {
      "byteLimit": 2048000,
      "rowLimit": 10000
     },
     "inputWidgets": {},
     "nuid": "a30046d7-7848-4990-b3ef-7ab37ed92320",
     "showTitle": false,
     "tableResultSettingsMap": {},
     "title": ""
    }
   },
   "outputs": [],
   "source": [
    "rfr.predict(X)"
   ]
  },
  {
   "cell_type": "markdown",
   "metadata": {
    "application/vnd.databricks.v1+cell": {
     "cellMetadata": {},
     "inputWidgets": {},
     "nuid": "c8691c18-77d0-4a40-b8cc-531263dd7f70",
     "showTitle": false,
     "tableResultSettingsMap": {},
     "title": ""
    }
   },
   "source": [
    "## Register Model\n",
    "\n",
    "This is what `mlflow.log_model` is all about.\n",
    "\n",
    "This is MLflow! ❤️"
   ]
  },
  {
   "cell_type": "code",
   "execution_count": 0,
   "metadata": {
    "application/vnd.databricks.v1+cell": {
     "cellMetadata": {
      "byteLimit": 2048000,
      "rowLimit": 10000
     },
     "inputWidgets": {},
     "nuid": "a77bb358-ad1d-4279-badd-9083f7ae99b0",
     "showTitle": false,
     "tableResultSettingsMap": {},
     "title": ""
    }
   },
   "outputs": [],
   "source": [
    "%pip install --upgrade mlflow-skinny[databricks]\n",
    "dbutils.library.restartPython()"
   ]
  },
  {
   "cell_type": "code",
   "execution_count": 0,
   "metadata": {
    "application/vnd.databricks.v1+cell": {
     "cellMetadata": {
      "byteLimit": 2048000,
      "rowLimit": 10000
     },
     "inputWidgets": {},
     "nuid": "7cd4f1b4-a7d8-4c0e-bc10-daf4f73b14f2",
     "showTitle": false,
     "tableResultSettingsMap": {},
     "title": ""
    }
   },
   "outputs": [],
   "source": [
    "import mlflow\n",
    "\n",
    "help(mlflow.sklearn.log_model)\n",
    "\n",
    "# Log a scikit-learn model as an MLflow artifact for the current run.\n",
    "# Produces an MLflow Model containing the following two flavors:\n",
    "# 1. mlflow.sklearn\n",
    "# 2. mlflow.pyfunc (only for scikit-learn models that define `predict()` that is required for pyfunc model inference)"
   ]
  },
  {
   "cell_type": "code",
   "execution_count": 0,
   "metadata": {
    "application/vnd.databricks.v1+cell": {
     "cellMetadata": {
      "byteLimit": 2048000,
      "rowLimit": 10000
     },
     "inputWidgets": {},
     "nuid": "c454e69f-8ad6-4409-9004-37bf8d2bb637",
     "showTitle": false,
     "tableResultSettingsMap": {},
     "title": ""
    }
   },
   "outputs": [],
   "source": [
    "from mlflow.models import infer_signature\n",
    "from sklearn.ensemble import RandomForestRegressor\n",
    "\n",
    "from sklearn.datasets import make_regression\n",
    "X, y = make_regression(n_features=4, n_informative=2, random_state=0, shuffle=False)\n",
    "\n",
    "params = {\"n_estimators\": 3, \"random_state\": 42}\n",
    "\n",
    "with mlflow.start_run() as run:\n",
    "    rfr = RandomForestRegressor(**params).fit(X, y)\n",
    "    signature = infer_signature(X, rfr.predict(X))\n",
    "    mlflow.log_params(params)\n",
    "    mlflow.log_param(\"chyba_nazwa_tutaj\", False)\n",
    "    mlflow.log_param(\"chyba_nazwa_tutaj_v2\", True)\n",
    "    mlflow.sklearn.log_model(\n",
    "        sk_model=rfr,\n",
    "        artifact_path=\"sklearn-model\",\n",
    "        signature=signature,\n",
    "        registered_model_name=\"jacek_laskowski.mlflow.sklearn_model\",\n",
    "    )"
   ]
  },
  {
   "cell_type": "markdown",
   "metadata": {
    "application/vnd.databricks.v1+cell": {
     "cellMetadata": {},
     "inputWidgets": {},
     "nuid": "21a62432-cf0a-41e0-9848-a8336fbada36",
     "showTitle": false,
     "tableResultSettingsMap": {},
     "title": ""
    }
   },
   "source": [
    "\n",
    "## Registered Models"
   ]
  },
  {
   "cell_type": "markdown",
   "metadata": {
    "application/vnd.databricks.v1+cell": {
     "cellMetadata": {},
     "inputWidgets": {},
     "nuid": "4ed2ea07-e043-4ddd-9c3f-ac14daa6b9d2",
     "showTitle": false,
     "tableResultSettingsMap": {},
     "title": ""
    }
   },
   "source": [
    "### Databricks UI"
   ]
  },
  {
   "cell_type": "markdown",
   "metadata": {
    "application/vnd.databricks.v1+cell": {
     "cellMetadata": {},
     "inputWidgets": {},
     "nuid": "dca0ab52-11ac-4805-b137-7687a43f1752",
     "showTitle": false,
     "tableResultSettingsMap": {},
     "title": ""
    }
   },
   "source": [
    "\n",
    "Review [Registered Models](https://curriculum-dev.cloud.databricks.com/ml/models?o=3551974319838082) (Owned by me)\n",
    "\n",
    "There could be one from my previous experiments."
   ]
  },
  {
   "cell_type": "markdown",
   "metadata": {
    "application/vnd.databricks.v1+cell": {
     "cellMetadata": {},
     "inputWidgets": {},
     "nuid": "42296b09-79a0-4e55-8541-02d5b33d4028",
     "showTitle": false,
     "tableResultSettingsMap": {},
     "title": ""
    }
   },
   "source": [
    "\n",
    "![Registered Models](./databricks_ml_registered_models.png)"
   ]
  },
  {
   "cell_type": "markdown",
   "metadata": {
    "application/vnd.databricks.v1+cell": {
     "cellMetadata": {},
     "inputWidgets": {},
     "nuid": "ad8ebdc4-e858-4062-9e45-f01e9131cd16",
     "showTitle": false,
     "tableResultSettingsMap": {},
     "title": ""
    }
   },
   "source": [
    "### Databricks CLI"
   ]
  },
  {
   "cell_type": "markdown",
   "metadata": {
    "application/vnd.databricks.v1+cell": {
     "cellMetadata": {},
     "inputWidgets": {},
     "nuid": "74efafa3-538d-4d2c-8205-0706fabd4ba4",
     "showTitle": false,
     "tableResultSettingsMap": {},
     "title": ""
    }
   },
   "source": [
    "\n",
    "#### No models command 😢\n",
    "\n",
    "<br>\n",
    "\n",
    "```\n",
    "❯ databricks models\n",
    "Error: unknown command \"models\" for \"databricks\"\n",
    "```"
   ]
  },
  {
   "cell_type": "markdown",
   "metadata": {
    "application/vnd.databricks.v1+cell": {
     "cellMetadata": {},
     "inputWidgets": {},
     "nuid": "8aec9289-2e91-48ba-ae36-0dba8fd35ec8",
     "showTitle": false,
     "tableResultSettingsMap": {},
     "title": ""
    }
   },
   "source": [
    "#### databricks registered-models\n",
    "\n",
    "* Databricks provides a hosted version of MLflow Model Registry in Unity Catalog\n",
    "* Models in Unity Catalog provide centralized access control, auditing, lineage, and discovery of ML models across Databricks workspaces.\n",
    "* An **MLflow registered model** resides in the third layer of Unity Catalog’s three-level namespace.\n",
    "* Registered models contain model versions, which correspond to actual ML models (MLflow models).\n",
    "\n",
    "⚠️ Creating new model versions currently requires use of the MLflow Python client.\n",
    "\n",
    "⚠️ The securable type for models is **FUNCTION**. When using REST APIs (e.g. tagging, grants) that specify a securable type, use \"FUNCTION\" as the securable type.\n",
    "\n",
    "Once model versions are created:\n",
    "\n",
    "* For **batch inference**, load them using MLflow Python Client API.\n",
    "* For **real-time serving**, deploy them using Databricks Model Serving."
   ]
  },
  {
   "cell_type": "markdown",
   "metadata": {
    "application/vnd.databricks.v1+cell": {
     "cellMetadata": {},
     "inputWidgets": {},
     "nuid": "14d028be-e6af-4de4-9a75-7786b65e25fd",
     "showTitle": false,
     "tableResultSettingsMap": {},
     "title": ""
    }
   },
   "source": [
    "```\n",
    "❯ databricks registered-models list --catalog-name jacek_laskowski --schema-name mlflow\n",
    "[\n",
    "  {\n",
    "    \"catalog_name\": \"jacek_laskowski\",\n",
    "    \"created_at\": 1746973647937,\n",
    "    \"created_by\": \"jacek@japila.pl\",\n",
    "    \"full_name\": \"jacek_laskowski.mlflow.sklearn_model\",\n",
    "    \"metastore_id\": \"6820268e-1541-4b52-b49e-e7135e528491\",\n",
    "    \"name\": \"sklearn_model\",\n",
    "    \"owner\": \"jacek@japila.pl\",\n",
    "    \"schema_name\": \"mlflow\",\n",
    "    \"storage_location\": \"s3://curriculum-storage/6820268e-1541-4b52-b49e-e7135e528491/models/debf1786-b6b4-4119-8f31-940dac8036de\",\n",
    "    \"updated_at\": 1747324659304,\n",
    "    \"updated_by\": \"jacek@japila.pl\"\n",
    "  }\n",
    "]\n",
    "```"
   ]
  },
  {
   "cell_type": "markdown",
   "metadata": {
    "application/vnd.databricks.v1+cell": {
     "cellMetadata": {},
     "inputWidgets": {},
     "nuid": "398ca0ee-4334-4226-8442-931c819250a2",
     "showTitle": false,
     "tableResultSettingsMap": {},
     "title": ""
    }
   },
   "source": [
    "## Model Versions"
   ]
  },
  {
   "cell_type": "markdown",
   "metadata": {
    "application/vnd.databricks.v1+cell": {
     "cellMetadata": {},
     "inputWidgets": {},
     "nuid": "3471af12-4df1-4116-b42d-bf3afec72114",
     "showTitle": false,
     "tableResultSettingsMap": {},
     "title": ""
    }
   },
   "source": [
    "### Databricks UI"
   ]
  },
  {
   "cell_type": "markdown",
   "metadata": {
    "application/vnd.databricks.v1+cell": {
     "cellMetadata": {},
     "inputWidgets": {},
     "nuid": "9e5b9562-0ef9-4ee9-b618-605b26a5ae84",
     "showTitle": false,
     "tableResultSettingsMap": {},
     "title": ""
    }
   },
   "source": [
    "\n",
    "Review [Model Versions](https://curriculum-dev.cloud.databricks.com/explore/data/models/jacek_laskowski/mlflow/sklearn_model)\n",
    "\n",
    "There could be many from my previous experiments."
   ]
  },
  {
   "cell_type": "markdown",
   "metadata": {
    "application/vnd.databricks.v1+cell": {
     "cellMetadata": {},
     "inputWidgets": {},
     "nuid": "309fd11e-0654-4ff5-a675-0bc97c57bafd",
     "showTitle": false,
     "tableResultSettingsMap": {},
     "title": ""
    }
   },
   "source": [
    "\n",
    "![Model Versions](./databricks_ml_model_versions.png)"
   ]
  },
  {
   "cell_type": "markdown",
   "metadata": {
    "application/vnd.databricks.v1+cell": {
     "cellMetadata": {},
     "inputWidgets": {},
     "nuid": "cd29f5e6-0c2a-4ff1-9ae5-5862ddf39f0e",
     "showTitle": false,
     "tableResultSettingsMap": {},
     "title": ""
    }
   },
   "source": [
    "### Databricks CLI"
   ]
  },
  {
   "cell_type": "markdown",
   "metadata": {
    "application/vnd.databricks.v1+cell": {
     "cellMetadata": {},
     "inputWidgets": {},
     "nuid": "6cf748d2-cb0b-46c7-8b50-6b829589e63a",
     "showTitle": false,
     "tableResultSettingsMap": {},
     "title": ""
    }
   },
   "source": [
    "\n",
    "|Databricks Command|Description|\n",
    "|-|-|\n",
    "|`databricks model-registry`|⛔️ This API reference documents APIs for the Workspace Model Registry.|\n",
    "|`databricks model-versions`|👍 Databricks provides a hosted version of MLflow Model Registry in Unity Catalog.|"
   ]
  },
  {
   "cell_type": "markdown",
   "metadata": {
    "application/vnd.databricks.v1+cell": {
     "cellMetadata": {},
     "inputWidgets": {},
     "nuid": "096944b5-c035-4a80-b710-f3df8b750b5a",
     "showTitle": false,
     "tableResultSettingsMap": {},
     "title": ""
    }
   },
   "source": [
    "\n",
    "```\n",
    "❯ databricks model-versions list jacek_laskowski.mlflow.sklearn_model | jq 'sort_by(.version)| .[] | [.version, .storage_location]'\n",
    "[\n",
    "  1,\n",
    "  \"s3://curriculum-storage/6820268e-1541-4b52-b49e-e7135e528491/models/debf1786-b6b4-4119-8f31-940dac8036de/versions/51854a98-c4ff-460c-9b60-4883ef748022\"\n",
    "]\n",
    "[\n",
    "  2,\n",
    "  \"s3://curriculum-storage/6820268e-1541-4b52-b49e-e7135e528491/models/debf1786-b6b4-4119-8f31-940dac8036de/versions/1b810a18-852e-4016-a706-595a32385ec7\"\n",
    "]\n",
    "[\n",
    "  3,\n",
    "  \"s3://curriculum-storage/6820268e-1541-4b52-b49e-e7135e528491/models/debf1786-b6b4-4119-8f31-940dac8036de/versions/92489608-a3ab-4994-8b39-b9ab4a227a1a\"\n",
    "]\n",
    "```"
   ]
  },
  {
   "cell_type": "markdown",
   "metadata": {
    "application/vnd.databricks.v1+cell": {
     "cellMetadata": {},
     "inputWidgets": {},
     "nuid": "38f540ac-b630-4d2b-83eb-acfa02ce992e",
     "showTitle": false,
     "tableResultSettingsMap": {},
     "title": ""
    }
   },
   "source": [
    "## Experiments"
   ]
  },
  {
   "cell_type": "markdown",
   "metadata": {
    "application/vnd.databricks.v1+cell": {
     "cellMetadata": {},
     "inputWidgets": {},
     "nuid": "4e2b02a9-e822-4212-b2b3-c1b8ccad25fb",
     "showTitle": false,
     "tableResultSettingsMap": {},
     "title": ""
    }
   },
   "source": [
    "\n",
    "An **experiment** is an top-level organizational unit in MLflow.\n",
    "\n",
    "An experiment is a collection of one or many **Runs**.\n",
    "\n",
    "A **Run** (_training_) is an execution of a ML code that is a part of a single experiment. A run is a collection of model training metadata and artifacts.\n",
    "\n",
    "An experiment run in MLflow has always the default [PyFunc](https://mlflow.org/docs/latest/api_reference/python_api/mlflow.pyfunc.html) flavor, a MLflow wrapper (code) around a native model.\n",
    "\n",
    "Experiments are divided into:\n",
    "\n",
    "* Notebook experiments that are code in a notebook\n",
    "* Workspace experiments that you specify the path manually (it could be a notebook, too).\n"
   ]
  },
  {
   "cell_type": "markdown",
   "metadata": {
    "application/vnd.databricks.v1+cell": {
     "cellMetadata": {},
     "inputWidgets": {},
     "nuid": "329bc90e-d7e4-4134-a640-62d4a048aa1d",
     "showTitle": false,
     "tableResultSettingsMap": {},
     "title": ""
    }
   },
   "source": [
    "### Experiment Tracking\n",
    "\n",
    "[Databricks UI](https://curriculum-dev.cloud.databricks.com/ml/experiments?o=3551974319838082) and [MLflowClient.search_runs](https://mlflow.org/docs/latest/getting-started/logging-first-model/step2-mlflow-client)"
   ]
  },
  {
   "cell_type": "code",
   "execution_count": 0,
   "metadata": {
    "application/vnd.databricks.v1+cell": {
     "cellMetadata": {
      "byteLimit": 2048000,
      "rowLimit": 10000
     },
     "inputWidgets": {},
     "nuid": "61be68ed-b593-4d89-a1e8-62c38fa1cffd",
     "showTitle": false,
     "tableResultSettingsMap": {},
     "title": ""
    }
   },
   "outputs": [],
   "source": [
    "help(mlflow.search_runs)"
   ]
  },
  {
   "cell_type": "code",
   "execution_count": 0,
   "metadata": {
    "application/vnd.databricks.v1+cell": {
     "cellMetadata": {
      "byteLimit": 2048000,
      "rowLimit": 10000
     },
     "inputWidgets": {},
     "nuid": "cf495fb7-92db-4d68-8409-0a26faf32945",
     "showTitle": false,
     "tableResultSettingsMap": {},
     "title": ""
    }
   },
   "outputs": [],
   "source": [
    "mlflow.search_runs(filter_string=\"tags.`mlflow.source.name` = 'Databricks'\")"
   ]
  },
  {
   "cell_type": "markdown",
   "metadata": {
    "application/vnd.databricks.v1+cell": {
     "cellMetadata": {},
     "inputWidgets": {},
     "nuid": "9dc3b74f-ea60-492a-9598-1b5f861179a3",
     "showTitle": false,
     "tableResultSettingsMap": {},
     "title": ""
    }
   },
   "source": [
    "## Create Serving Endpoint\n",
    "\n",
    "[Create custom model serving endpoints](https://docs.databricks.com/aws/en/machine-learning/model-serving/create-manage-serving-endpoints)"
   ]
  },
  {
   "cell_type": "markdown",
   "metadata": {
    "application/vnd.databricks.v1+cell": {
     "cellMetadata": {},
     "inputWidgets": {},
     "nuid": "89b0e3e4-42e5-4826-8466-930c8657bb1e",
     "showTitle": false,
     "tableResultSettingsMap": {},
     "title": ""
    }
   },
   "source": [
    "\n",
    "https://curriculum-dev.cloud.databricks.com/ml/endpoints/jacek_laskowski_demo?o=3551974319838082"
   ]
  },
  {
   "cell_type": "markdown",
   "metadata": {
    "application/vnd.databricks.v1+cell": {
     "cellMetadata": {},
     "inputWidgets": {},
     "nuid": "a57c845d-e1bf-4aa9-9eb9-a4da759a8074",
     "showTitle": false,
     "tableResultSettingsMap": {},
     "title": ""
    }
   },
   "source": [
    "\n",
    "`databricks serving-endpoints list | jq '.[].name'`"
   ]
  },
  {
   "cell_type": "markdown",
   "metadata": {
    "application/vnd.databricks.v1+cell": {
     "cellMetadata": {},
     "inputWidgets": {},
     "nuid": "fcd8f8f4-d242-4df3-abfe-fd2d7bf5a28e",
     "showTitle": false,
     "tableResultSettingsMap": {},
     "title": ""
    }
   },
   "source": [
    "\n",
    "Once up and running, get the query schema of the serving endpoint in OpenAPI format.\n",
    "\n",
    "<br>\n",
    "\n",
    "```\n",
    "databricks serving-endpoints get-open-api jacek_laskowski_demo\n",
    "```"
   ]
  },
  {
   "cell_type": "markdown",
   "metadata": {
    "application/vnd.databricks.v1+cell": {
     "cellMetadata": {},
     "inputWidgets": {},
     "nuid": "5dfb6475-1b06-4c78-8478-2305734afa89",
     "showTitle": false,
     "tableResultSettingsMap": {},
     "title": ""
    }
   },
   "source": [
    "## ☠️ Delete Model"
   ]
  },
  {
   "cell_type": "markdown",
   "metadata": {
    "application/vnd.databricks.v1+cell": {
     "cellMetadata": {},
     "inputWidgets": {},
     "nuid": "a4bf2d8c-dfcc-4a45-b6e5-27e4ae5c66c4",
     "showTitle": false,
     "tableResultSettingsMap": {},
     "title": ""
    }
   },
   "source": [
    "\n",
    "```\n",
    "> databricks registered-models delete --help\n",
    "Delete a Registered Model.\n",
    "\n",
    "  Deletes a registered model and all its model versions from the specified\n",
    "  parent catalog and schema.\n",
    "\n",
    "  Arguments:\n",
    "    FULL_NAME: The three-level (fully qualified) name of the registered model\n",
    "```"
   ]
  },
  {
   "cell_type": "markdown",
   "metadata": {
    "application/vnd.databricks.v1+cell": {
     "cellMetadata": {},
     "inputWidgets": {},
     "nuid": "80488be6-ca3e-478f-a3d5-e66edb4cb2aa",
     "showTitle": false,
     "tableResultSettingsMap": {},
     "title": ""
    }
   },
   "source": [
    "\n",
    "```\n",
    "❯ databricks registered-models delete jacek_laskowski.mlflow.sklearn_model\n",
    "Error: Function 'jacek_laskowski.mlflow.sklearn_model' is not empty. The function has 3 model versions(s)\n",
    "```\n",
    "\n",
    "⚠️ Note **Function** in the error message!"
   ]
  },
  {
   "cell_type": "markdown",
   "metadata": {
    "application/vnd.databricks.v1+cell": {
     "cellMetadata": {},
     "inputWidgets": {},
     "nuid": "334aca43-f6de-477f-b1f5-229808dd5ffd",
     "showTitle": false,
     "tableResultSettingsMap": {},
     "title": ""
    }
   },
   "source": [
    "\n",
    "What a trick! 💡\n",
    "\n",
    "<br>\n",
    "\n",
    "```\n",
    "databricks functions delete jacek_laskowski.mlflow.sklearn_model --force\n",
    "```"
   ]
  },
  {
   "cell_type": "markdown",
   "metadata": {
    "application/vnd.databricks.v1+cell": {
     "cellMetadata": {},
     "inputWidgets": {},
     "nuid": "04dd40c7-b986-46b1-af62-8ee627916610",
     "showTitle": false,
     "tableResultSettingsMap": {},
     "title": ""
    }
   },
   "source": [
    "\n",
    "⚠️ Beside **Model** and **Function**, there's also **Routine** 😬\n",
    "\n",
    "<br>\n",
    "\n",
    "```\n",
    "❯ databricks model-versions list jacek_laskowski.mlflow.sklearn_model\n",
    "Error: Routine or Model 'jacek_laskowski.mlflow.sklearn_model' does not exist.\n",
    "```"
   ]
  },
  {
   "cell_type": "markdown",
   "metadata": {
    "application/vnd.databricks.v1+cell": {
     "cellMetadata": {},
     "inputWidgets": {},
     "nuid": "bde48ccb-ad3e-44bf-9376-1ba264b50839",
     "showTitle": false,
     "tableResultSettingsMap": {},
     "title": ""
    }
   },
   "source": [
    "# That's all Folks! 👋\n",
    "\n",
    "![Warner Bros., Public domain, via Wikimedia Commons](https://upload.wikimedia.org/wikipedia/commons/e/ea/Thats_all_folks.svg)"
   ]
  },
  {
   "cell_type": "markdown",
   "metadata": {
    "application/vnd.databricks.v1+cell": {
     "cellMetadata": {},
     "inputWidgets": {},
     "nuid": "8f9b96ee-3a41-4131-b854-366fec7f65ee",
     "showTitle": false,
     "tableResultSettingsMap": {},
     "title": ""
    }
   },
   "source": [
    "\n",
    "# 🙋 Questions and Answers"
   ]
  },
  {
   "cell_type": "markdown",
   "metadata": {
    "application/vnd.databricks.v1+cell": {
     "cellMetadata": {},
     "inputWidgets": {},
     "nuid": "2aff47b7-b635-4e8a-bd21-1496e41332cc",
     "showTitle": false,
     "tableResultSettingsMap": {},
     "title": ""
    }
   },
   "source": [
    "\n",
    "# 💡 Ideas for Future Events\n",
    "\n",
    "➡️ [Ideas for Future Events]($./Ideas for Future Events)"
   ]
  }
 ],
 "metadata": {
  "application/vnd.databricks.v1+notebook": {
   "computePreferences": null,
   "dashboards": [],
   "environmentMetadata": null,
   "inputWidgetPreferences": null,
   "language": "python",
   "notebookMetadata": {
    "mostRecentlyExecutedCommandWithImplicitDF": {
     "commandId": 7235682345754161,
     "dataframes": [
      "_sqldf"
     ]
    },
    "pythonIndentUnit": 4
   },
   "notebookName": "Meetup_2025_05_29",
   "widgets": {}
  },
  "language_info": {
   "name": "python"
  }
 },
 "nbformat": 4,
 "nbformat_minor": 0
}
