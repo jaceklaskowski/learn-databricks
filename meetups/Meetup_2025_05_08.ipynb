{
 "cells": [
  {
   "cell_type": "markdown",
   "metadata": {
    "application/vnd.databricks.v1+cell": {
     "cellMetadata": {},
     "inputWidgets": {},
     "nuid": "6a46b538-5343-4bc0-b5fc-97449b4aa283",
     "showTitle": false,
     "tableResultSettingsMap": {},
     "title": ""
    }
   },
   "source": [
    "# MLflow on Databricks\n",
    "\n",
    "Thursday, 8 May, 2025\n",
    "\n",
    "[Invitation on Luma](https://lu.ma/hictrxvv), [LinkedIn](https://www.linkedin.com/groups/9307761/), [Meetup](https://www.meetup.com/warsaw-data-engineering/events/307662118/)"
   ]
  },
  {
   "cell_type": "markdown",
   "metadata": {
    "application/vnd.databricks.v1+cell": {
     "cellMetadata": {},
     "inputWidgets": {},
     "nuid": "dd081a26-c5e2-444a-875d-64c485221a95",
     "showTitle": false,
     "tableResultSettingsMap": {},
     "title": ""
    }
   },
   "source": [
    "\n",
    "# Agenda\n",
    "\n",
    "1. Oficjalna strona produktu [Managed MLflow](https://www.databricks.com/product/managed-mlflow)\n",
    "1. Intro to MLflow and Databricks Machine Learning\n",
    "1. MLflow's [examples/databricks](https://github.com/mlflow/mlflow/tree/master/examples/databricks)\n",
    "1. What Takes to Execute MLflow's `dev/pyproject.py` locally\n",
    "\n",
    "Całkowity czas trwania spotkania: **1h 15min**"
   ]
  },
  {
   "cell_type": "markdown",
   "metadata": {
    "application/vnd.databricks.v1+cell": {
     "cellMetadata": {},
     "inputWidgets": {},
     "nuid": "0099d7a7-078c-4a57-8671-dcd404040811",
     "showTitle": false,
     "tableResultSettingsMap": {},
     "title": ""
    }
   },
   "source": [
    "\n",
    "# Event Question\n",
    "\n",
    "[O czym chciał(a)byś usłyszeć podczas meetupu? Rzuć ciekawym pomysłem na kolejne edycje](https://www.meetup.com/warsaw-data-engineering/events/307662118/attendees/) 🙏\n",
    "\n",
    "1. o ciekawych problemach spotkanych na produkcji przy big data pipeline'ach\n",
    "1. CICD z DAB\n",
    "1. Co nowego w Databricks\n",
    "1. how to use vector search and own models\n",
    "1. Dowiedzieć się więcej o MLflow"
   ]
  },
  {
   "cell_type": "markdown",
   "metadata": {
    "application/vnd.databricks.v1+cell": {
     "cellMetadata": {},
     "inputWidgets": {},
     "nuid": "811aaee2-66d6-4833-84d3-c5971e3359ad",
     "showTitle": false,
     "tableResultSettingsMap": {},
     "title": ""
    }
   },
   "source": [
    "# 📢 News\n",
    "\n",
    "Things worth watching out for..."
   ]
  },
  {
   "cell_type": "markdown",
   "metadata": {
    "application/vnd.databricks.v1+cell": {
     "cellMetadata": {},
     "inputWidgets": {},
     "nuid": "f0e2d493-eba8-48ef-b8b8-3681b4e87d69",
     "showTitle": false,
     "tableResultSettingsMap": {},
     "title": ""
    }
   },
   "source": [
    "\n",
    "## New members in Warsaw Data Engineering!\n",
    "\n",
    "[You now have 591 members!](https://www.meetup.com/warsaw-data-engineering/)\n",
    "\n",
    "Co zainteresowało Cię w Warsaw Data Engineering Meetup, że zdecydowałaś/-eś się przyłączyć?\n",
    "\n",
    "1. Pracuję jako Data Engineer i ten temat jest mi bliski\n",
    "1. Tematyka"
   ]
  },
  {
   "cell_type": "markdown",
   "metadata": {
    "application/vnd.databricks.v1+cell": {
     "cellMetadata": {},
     "inputWidgets": {},
     "nuid": "911c3ac7-09bf-45dd-9a57-2d8de1c5aa67",
     "showTitle": false,
     "tableResultSettingsMap": {},
     "title": ""
    }
   },
   "source": [
    "\n",
    "## New Versions\n",
    "\n",
    "What has changed in the tooling space since we last met? I.e. hunting down the features to learn more about.\n",
    "\n",
    "* [DSPy 2.6.23](https://github.com/stanfordnlp/dspy/releases/tag/2.6.23)\n",
    "    * [Support streaming in async DSPy program](https://github.com/stanfordnlp/dspy/pull/8144)\n",
    "    * [Support token streaming with json adapter](https://github.com/stanfordnlp/dspy/pull/8158)\n",
    "    * [Utility that converts async stream to sync stream](https://github.com/stanfordnlp/dspy/pull/8162)\n",
    "* [PydanticAI 0.1.10](https://github.com/pydantic/pydantic-ai/releases/tag/v0.1.10)\n",
    "    * [Handle multi-modal and error responses from MCP tool calls](https://github.com/pydantic/pydantic-ai/pull/1618)\n",
    "    * [Store additional usage details from Anthropic](https://github.com/pydantic/pydantic-ai/pull/1549)\n",
    "* [OpenAI Agents SDK 0.0.14](https://github.com/openai/openai-agents-python/releases/tag/v0.0.14)\n",
    "    * [Add usage to context in streaming](https://github.com/openai/openai-agents-python/pull/595)\n",
    "* [Dagster 1.10.13](https://github.com/dagster-io/dagster/releases/tag/1.10.13)\n",
    "    * [Added Scala Spark / Dagster Pipes guide](https://docs.dagster.io/guides/build/external-pipelines/scalaspark-pipeline)"
   ]
  },
  {
   "cell_type": "markdown",
   "metadata": {
    "application/vnd.databricks.v1+cell": {
     "cellMetadata": {},
     "inputWidgets": {},
     "nuid": "2cc513e0-d7b0-4ea7-9c15-3fddde570778",
     "showTitle": false,
     "tableResultSettingsMap": {},
     "title": ""
    }
   },
   "source": [
    "\n",
    "# MLflow and Databricks Machine Learning\n",
    "\n",
    "It all started with [Manage model lifecycle in Unity Catalog](https://docs.databricks.com/aws/en/machine-learning/manage-model-lifecycle/) and [Tutorials: Get started with AI and machine learning](https://docs.databricks.com/aws/en/machine-learning/ml-tutorials)"
   ]
  },
  {
   "cell_type": "markdown",
   "metadata": {
    "application/vnd.databricks.v1+cell": {
     "cellMetadata": {},
     "inputWidgets": {},
     "nuid": "7e12728c-b13b-4606-b3cc-c34551bddb50",
     "showTitle": false,
     "tableResultSettingsMap": {},
     "title": ""
    }
   },
   "source": [
    "\n",
    "## Discovery of the Day\n",
    "\n",
    "A Data Engineer's take on the matters:\n",
    "\n",
    "> The key is to think about **model training workload** as a Python code and **ML model** as a directory with a bunch of files."
   ]
  },
  {
   "cell_type": "markdown",
   "metadata": {
    "application/vnd.databricks.v1+cell": {
     "cellMetadata": {},
     "inputWidgets": {},
     "nuid": "d88ee50b-68c0-45d1-a65a-5f88521f9ddf",
     "showTitle": false,
     "tableResultSettingsMap": {},
     "title": ""
    }
   },
   "source": [
    "\n",
    "```py\n",
    "mlflow.start_run()\n",
    "\n",
    "model_run = mlflow.active_run()\n",
    "\n",
    "mlflow.end_run()\n",
    "\n",
    "print(model_run.info)\n",
    "```"
   ]
  },
  {
   "cell_type": "markdown",
   "metadata": {
    "application/vnd.databricks.v1+cell": {
     "cellMetadata": {},
     "inputWidgets": {},
     "nuid": "8b73034a-91ab-4fa6-9e4c-723bf4813546",
     "showTitle": false,
     "tableResultSettingsMap": {},
     "title": ""
    }
   },
   "source": [
    "# That's all Folks 👋\n",
    "\n",
    "![Warner Bros., Public domain, via Wikimedia Commons](https://upload.wikimedia.org/wikipedia/commons/e/ea/Thats_all_folks.svg)"
   ]
  }
 ],
 "metadata": {
  "application/vnd.databricks.v1+notebook": {
   "computePreferences": null,
   "dashboards": [],
   "environmentMetadata": null,
   "inputWidgetPreferences": null,
   "language": "python",
   "notebookMetadata": {
    "pythonIndentUnit": 4
   },
   "notebookName": "Meetup_2025_05_08",
   "widgets": {}
  },
  "language_info": {
   "name": "python"
  }
 },
 "nbformat": 4,
 "nbformat_minor": 0
}
