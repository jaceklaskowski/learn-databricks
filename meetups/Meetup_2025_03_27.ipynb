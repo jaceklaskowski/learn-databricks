{
 "cells": [
  {
   "cell_type": "markdown",
   "metadata": {
    "application/vnd.databricks.v1+cell": {
     "cellMetadata": {},
     "inputWidgets": {},
     "nuid": "6a46b538-5343-4bc0-b5fc-97449b4aa283",
     "showTitle": false,
     "tableResultSettingsMap": {},
     "title": ""
    }
   },
   "source": [
    "# MLflow (Local) Serving\n",
    "\n",
    "Thursday, March 27, 2025\n",
    "\n",
    "[Invitation on Luma](https://lu.ma/4kdk7elh), [LinkedIn](https://www.linkedin.com/feed/update/urn:li:activity:7309308058235502593?utm_source=share&utm_medium=member_desktop&rcm=ACoAAAAutA8BdJM8iCUgt2VrqrjL8sihttmw9FE), [Meetup](https://www.meetup.com/warsaw-data-engineering/events/306867360/)"
   ]
  },
  {
   "cell_type": "markdown",
   "metadata": {
    "application/vnd.databricks.v1+cell": {
     "cellMetadata": {},
     "inputWidgets": {},
     "nuid": "dd081a26-c5e2-444a-875d-64c485221a95",
     "showTitle": false,
     "tableResultSettingsMap": {},
     "title": ""
    }
   },
   "source": [
    "\n",
    "# Agenda\n",
    "\n",
    "1. MLflow (Local) Serving Demo\n",
    "1. MLflow Serving\n",
    "\n",
    "Całkowity czas trwania spotkania: **1h 15min**"
   ]
  },
  {
   "cell_type": "markdown",
   "metadata": {
    "application/vnd.databricks.v1+cell": {
     "cellMetadata": {},
     "inputWidgets": {},
     "nuid": "f4b536d7-e189-45af-a05a-88e502572df4",
     "showTitle": false,
     "tableResultSettingsMap": {},
     "title": ""
    }
   },
   "source": [
    "\n",
    "# LinkedIn Poll\n",
    "\n",
    "[Poll](https://www.linkedin.com/feed/update/urn:li:activity:7309206566698688513?utm_source=share&utm_medium=member_desktop&rcm=ACoAAAAutA8BdJM8iCUgt2VrqrjL8sihttmw9FE)"
   ]
  },
  {
   "cell_type": "markdown",
   "metadata": {
    "application/vnd.databricks.v1+cell": {
     "cellMetadata": {},
     "inputWidgets": {},
     "nuid": "0099d7a7-078c-4a57-8671-dcd404040811",
     "showTitle": false,
     "tableResultSettingsMap": {},
     "title": ""
    }
   },
   "source": [
    "\n",
    "# FIXME Event Question\n",
    "\n",
    "O czym chciał(a)byś usłyszeć podczas naszych spotkań? 🤔 Rzuć ciekawym pomysłem na kolejne edycje 🙏\n",
    "\n",
    "1. FIXME"
   ]
  },
  {
   "cell_type": "markdown",
   "metadata": {
    "application/vnd.databricks.v1+cell": {
     "cellMetadata": {},
     "inputWidgets": {},
     "nuid": "811aaee2-66d6-4833-84d3-c5971e3359ad",
     "showTitle": false,
     "tableResultSettingsMap": {},
     "title": ""
    }
   },
   "source": [
    "# 📢 News\n",
    "\n",
    "Things worth watching out for..."
   ]
  },
  {
   "cell_type": "markdown",
   "metadata": {
    "application/vnd.databricks.v1+cell": {
     "cellMetadata": {},
     "inputWidgets": {},
     "nuid": "f0e2d493-eba8-48ef-b8b8-3681b4e87d69",
     "showTitle": false,
     "tableResultSettingsMap": {},
     "title": ""
    }
   },
   "source": [
    "\n",
    "## New members in Warsaw Data Engineering!\n",
    "\n",
    "[You now have 583 members!](https://www.meetup.com/warsaw-data-engineering/)\n",
    "\n",
    "1. Ciekawość\n",
    "1. ciekawe wydarzenia\n",
    "1. Technologie wymienione w opisie\n",
    "1. Tematyka data, Databricks, Spark etc\n",
    "1. Temat"
   ]
  },
  {
   "cell_type": "markdown",
   "metadata": {
    "application/vnd.databricks.v1+cell": {
     "cellMetadata": {},
     "inputWidgets": {},
     "nuid": "911c3ac7-09bf-45dd-9a57-2d8de1c5aa67",
     "showTitle": false,
     "tableResultSettingsMap": {},
     "title": ""
    }
   },
   "source": [
    "\n",
    "## New Versions\n",
    "\n",
    "What has changed in the tooling space since we last met? I.e. hunting down the features to learn more about.\n",
    "\n",
    "* [Databricks CLI 0.244.0](https://github.com/databricks/cli/releases/tag/v0.244.0)\n",
    "* [MLflow 2.21.0](https://github.com/mlflow/mlflow/releases/tag/v2.21.0)\n",
    "* [uv 0.6.9](https://github.com/astral-sh/uv/releases/tag/0.6.9)\n",
    "* [dqx 0.3.0](https://github.com/databrickslabs/dqx/releases/tag/v0.3.0)"
   ]
  },
  {
   "cell_type": "markdown",
   "metadata": {
    "application/vnd.databricks.v1+cell": {
     "cellMetadata": {},
     "inputWidgets": {},
     "nuid": "00a55b51-9ba1-42a6-a0a1-8952fc125623",
     "showTitle": false,
     "tableResultSettingsMap": {},
     "title": ""
    }
   },
   "source": [
    "\n",
    "# Live Coding Session"
   ]
  },
  {
   "cell_type": "markdown",
   "metadata": {
    "application/vnd.databricks.v1+cell": {
     "cellMetadata": {},
     "inputWidgets": {},
     "nuid": "258a54b4-59d5-4f17-add0-2f78ce526e2e",
     "showTitle": false,
     "tableResultSettingsMap": {},
     "title": ""
    }
   },
   "source": [
    "\n",
    "### MLflow Demo\n",
    "\n",
    "Stumbled upon a [MLflow demo](https://github.com/algorithmiaio/mlflow-algorithmia?tab=readme-ov-file#mlflow-algorithmia) and wanted to give it a try...\n",
    "\n",
    "It was supposed to be a series of simple-looking commands starting from the following:\n",
    "\n",
    "* `mlflow run examples/sklearn_elasticnet_wine/`\n",
    "\n",
    "So I ran it and...[bam](https://dictionary.cambridge.org/dictionary/english/bam)! 🧨💥"
   ]
  },
  {
   "cell_type": "markdown",
   "metadata": {
    "application/vnd.databricks.v1+cell": {
     "cellMetadata": {},
     "inputWidgets": {},
     "nuid": "3293571b-e416-44fc-83ca-4633b3d723e9",
     "showTitle": false,
     "tableResultSettingsMap": {},
     "title": ""
    }
   },
   "source": [
    "\n",
    "#### pyenv\n",
    "\n",
    "I had to `brew install pyenv` 😢\n",
    "\n",
    "<br>\n",
    "\n",
    "```\n",
    "2025/03/23 12:35:42 INFO mlflow.utils.virtualenv: Installing python 3.12.3 if it does not exist\n",
    "```\n"
   ]
  },
  {
   "cell_type": "markdown",
   "metadata": {
    "application/vnd.databricks.v1+cell": {
     "cellMetadata": {},
     "inputWidgets": {},
     "nuid": "ae4fe68d-0326-4d94-b78d-b41464c2161b",
     "showTitle": false,
     "tableResultSettingsMap": {},
     "title": ""
    }
   },
   "source": [
    "\n",
    "#### virtualenv\n",
    "\n",
    "I had to `uvx pip install virtualenv` to install `virtualenv` 😢\n",
    "\n",
    "<br>\n",
    "\n",
    "```\n",
    "Installed Python-3.12.3 to /Users/jacek/.pyenv/versions/3.12.3\n",
    "2025/03/23 12:40:36 INFO mlflow.utils.virtualenv: Creating a new environment in /Users/jacek/.mlflow/envs/mlflow-eab0dbf6a7b9d0db807e3fe12a98c99401ab090b with /Users/jacek/.pyenv/versions/3.12.3/bin/python\n",
    "/Users/jacek/.cache/uv/archive-v0/JHxeQpU1PiuaEcmm1M0XW/bin/python: No module named virtualenv\n",
    "2025/03/23 12:40:36 WARNING mlflow.utils.virtualenv: Encountered an unexpected error: ShellCommandException(\"Non-zero exit code: 1\\nCommand: ['/Users/jacek/.cache/uv/archive-v0/JHxeQpU1PiuaEcmm1M0XW/bin/python', '-m', 'virtualenv', '--python', '/Users/jacek/.pyenv/versions/3.12.3/bin/python', '/Users/jacek/.mlflow/envs/mlflow-eab0dbf6a7b9d0db807e3fe12a98c99401ab090b']\") while creating a virtualenv environment in /Users/jacek/.mlflow/envs/mlflow-eab0dbf6a7b9d0db807e3fe12a98c99401ab090b, removing the environment directory...\n",
    "2025/03/23 12:40:36 WARNING mlflow.utils.file_utils: Successfully removed /Users/jacek/.mlflow/envs/mlflow-eab0dbf6a7b9d0db807e3fe12a98c99401ab090b\n",
    "```\n",
    "\n",
    "<br>\n",
    "\n",
    "```\n",
    "mlflow.utils.process.ShellCommandException: Non-zero exit code: 1\n",
    "Command: ['/Users/jacek/.cache/uv/archive-v0/JHxeQpU1PiuaEcmm1M0XW/bin/python', '-m', 'virtualenv', '--python', '/Users/jacek/.pyenv/versions/3.12.3/bin/python', '/Users/jacek/.mlflow/envs/mlflow-eab0dbf6a7b9d0db807e3fe12a98c99401ab090b']\n",
    "```\n",
    "\n",
    "We'll get back to it in a bit..."
   ]
  },
  {
   "cell_type": "markdown",
   "metadata": {
    "application/vnd.databricks.v1+cell": {
     "cellMetadata": {},
     "inputWidgets": {},
     "nuid": "7dd30094-bea8-4130-9b37-32aad4f730a3",
     "showTitle": false,
     "tableResultSettingsMap": {},
     "title": ""
    }
   },
   "source": [
    "\n",
    "#### mlflow.utils.env_manager\n",
    "\n",
    "A surprise of a day!\n",
    "\n",
    "`uv` is supported as a local environment manager 🔥\n",
    "\n",
    "This is [Support uv in mlflow.models.predict #13824](https://github.com/mlflow/mlflow/pull/13824)\n",
    "* [mlflow/utils/env_manager.py](https://github.com/mlflow/mlflow/blob/master/mlflow/utils/env_manager.py)\n",
    "* Can we update [Managing Dependencies in MLflow Models](https://mlflow.org/docs/latest/model/dependencies.html#how-to-fix-dependency-errors-when-serving-my-model) section to fully explain and provide a comparison for package managers (uv >> pip >> conda for speed) and to show overriding the env manager option when calling the API? We want to gently push people to using this. ([ref](https://github.com/mlflow/mlflow/pull/13824#issuecomment-2518025210))\n",
    "* [\"uv\": use uv](https://github.com/mlflow/mlflow/blob/master/mlflow/models/python_api.py#L134)\n",
    "\n",
    "Eventually, I filed [[DOC] Quickstart tutorial on how to use mlflow with uv #15073](https://github.com/mlflow/mlflow/issues/15073)."
   ]
  },
  {
   "cell_type": "markdown",
   "metadata": {
    "application/vnd.databricks.v1+cell": {
     "cellMetadata": {},
     "inputWidgets": {},
     "nuid": "4a55bf53-b34d-4f1c-8da3-56d2f1fdb395",
     "showTitle": false,
     "tableResultSettingsMap": {},
     "title": ""
    }
   },
   "source": [
    "#### mlflow.utils.virtualenv\n",
    "\n",
    "[mlflow/utils/virtualenv.py#L247](https://github.com/mlflow/mlflow/blob/master/mlflow/utils/virtualenv.py#L247)\n",
    "\n",
    "`uv` is the default env manager! ❤️\n",
    "\n",
    "Unlike in [mlflow/models/python_api.py#L108](https://github.com/mlflow/mlflow/blob/master/mlflow/models/python_api.py#L108) 😢"
   ]
  },
  {
   "cell_type": "markdown",
   "metadata": {
    "application/vnd.databricks.v1+cell": {
     "cellMetadata": {},
     "inputWidgets": {},
     "nuid": "d7e256b3-2412-4c1e-9f63-13e1e600548b",
     "showTitle": false,
     "tableResultSettingsMap": {},
     "title": ""
    }
   },
   "source": [
    "#### mlflow run\n",
    "\n",
    "This explains all the troubles...almost. RTFM first, sir! 😍\n",
    "\n",
    "<br>\n",
    "\n",
    "```bash\n",
    "uv run mlflow run --help\n",
    "```\n",
    "\n",
    "<br>\n",
    "\n",
    "```\n",
    "Usage: mlflow run [OPTIONS] URI\n",
    "\n",
    "  Run an MLflow project from the given URI.\n",
    "\n",
    "  For local runs, the run will block until it completes. Otherwise, the\n",
    "  project will run asynchronously.\n",
    "\n",
    "  If running locally (the default), the URI can be either a Git repository URI\n",
    "  or a local path. If running on Databricks, the URI must be a Git repository.\n",
    "\n",
    "  By default, Git projects run in a new working directory with the given\n",
    "  parameters, while local projects run from the project's root directory.\n",
    "\n",
    "Options:\n",
    "  ...\n",
    "  --env-manager TEXT            If specified, create an environment for\n",
    "                                MLproject using the specified environment\n",
    "                                manager. The following values are supported:\n",
    "\n",
    "                                - local: use the local environment\n",
    "                                - virtualenv: use virtualenv (and pyenv for Python version management)\n",
    "                                - conda: use conda\n",
    "\n",
    "                                If unspecified, the appropriate environment\n",
    "                                manager is automatically selected based on the\n",
    "                                project configuration. For example, if\n",
    "                                `MLproject.yaml` contains a `python_env` key,\n",
    "                                virtualenv is used.\n",
    "```"
   ]
  },
  {
   "cell_type": "markdown",
   "metadata": {
    "application/vnd.databricks.v1+cell": {
     "cellMetadata": {},
     "inputWidgets": {},
     "nuid": "472b872a-1ac7-4883-983f-1e7ce0e4d08f",
     "showTitle": false,
     "tableResultSettingsMap": {},
     "title": ""
    }
   },
   "source": [
    "\n",
    "#### Create Model\n",
    "\n",
    "Learnt about [mlflow run](https://mlflow.org/docs/latest/api_reference/cli.html#mlflow-run)\n",
    "\n",
    "And with no RTFM, gave it a try 🤪\n",
    "\n",
    "<br>\n",
    "\n",
    "```bash\n",
    "cd /Users/jacek/dev/oss/mlflow\n",
    "uvx mlflow run examples/sklearn_elasticnet_wine/\n",
    "```\n",
    "\n",
    "<br>\n",
    "\n",
    "```bash\n",
    "uv run mlflow run https://github.com/mlflow/mlflow\n",
    "```\n",
    "\n",
    "It didn't take me long to learn it's not gonna fly 🤷‍♂️"
   ]
  },
  {
   "cell_type": "markdown",
   "metadata": {
    "application/vnd.databricks.v1+cell": {
     "cellMetadata": {},
     "inputWidgets": {},
     "nuid": "deb72865-e90e-4a3e-ad85-0d76bea23ac3",
     "showTitle": false,
     "tableResultSettingsMap": {},
     "title": ""
    }
   },
   "source": [
    "\n",
    "### Create Model (that works 🔥)\n",
    "\n",
    "Run the MLflow tracking server.\n",
    "\n",
    "<br>\n",
    "\n",
    "```bash\n",
    "uv run mlflow ui\n",
    "```\n",
    "\n",
    "Specify uv as the environment manager (`MLproject`). It's not printed out as supported in `--help`.\n",
    "\n",
    "<br>\n",
    "\n",
    "```bash\n",
    "uv run mlflow run --env-manager uv ~/dev/oss/mlflow/examples/sklearn_elasticnet_wine\n",
    "```\n",
    "\n",
    "`MLFLOW_TRACKING_URI` environment variable might be required.\n",
    "\n",
    "<br>\n",
    "\n",
    "```bash\n",
    "❯ MLFLOW_TRACKING_URI=http://127.0.0.1:5000 uv run mlflow run --env-manager uv ~/dev/oss/mlflow/examples/sklearn_elasticnet_wine\n",
    "2025/03/23 15:15:52 INFO mlflow.projects.utils: === Created directory /var/folders/rs/0rk7gkyn1nl8svxxb62n8frh0000gn/T/tmpkar2zasz for downloading remote URIs passed to arguments of type 'path' ===\n",
    "2025/03/23 15:15:52 INFO mlflow.projects.backend.local: === Running command 'python train.py 0.5 0.1' in run with ID '5f7aa998bde24970be12673fa2cf0175' ===\n",
    "Elasticnet model (alpha=0.500000, l1_ratio=0.100000):\n",
    "  RMSE: 0.7460550348172179\n",
    "  MAE: 0.576381895873763\n",
    "  R2: 0.21136606570632266\n",
    "2025/03/23 15:15:56 WARNING mlflow.utils.environment: Failed to resolve installed pip version. ``pip`` will be added to conda.yaml environment spec without a version specifier.\n",
    "Successfully registered model 'ElasticnetWineModel'.\n",
    "2025/03/23 15:15:56 INFO mlflow.store.model_registry.abstract_store: Waiting up to 300 seconds for model version to finish creation. Model name: ElasticnetWineModel, version 1\n",
    "Created version '1' of model 'ElasticnetWineModel'.\n",
    "🏃 View run upbeat-jay-91 at: http://127.0.0.1:5000/#/experiments/0/runs/5f7aa998bde24970be12673fa2cf0175\n",
    "🧪 View experiment at: http://127.0.0.1:5000/#/experiments/0\n",
    "2025/03/23 15:15:56 INFO mlflow.projects: === Run (ID '5f7aa998bde24970be12673fa2cf0175') succeeded ===\n",
    "🏃 View run upbeat-jay-91 at: http://127.0.0.1:5000/#/experiments/0/runs/5f7aa998bde24970be12673fa2cf0175\n",
    "🧪 View experiment at: http://127.0.0.1:5000/#/experiments/0\n",
    "```\n",
    "\n",
    "Creates an `mlruns` directory with the trained model."
   ]
  },
  {
   "cell_type": "markdown",
   "metadata": {
    "application/vnd.databricks.v1+cell": {
     "cellMetadata": {},
     "inputWidgets": {},
     "nuid": "e1e43f8c-9ba6-4ec0-bb32-4a1f74a2087b",
     "showTitle": false,
     "tableResultSettingsMap": {},
     "title": ""
    }
   },
   "source": [
    "\n",
    "## MLflow Serving\n",
    "\n",
    "[MLflow 2.21.0](https://github.com/mlflow/mlflow/releases/tag/v2.21.0):\n",
    "\n",
    "1. [FastAPI Scoring Server](https://mlflow.org/docs/latest/deployment/deploy-model-locally/#serving-frameworks)\n"
   ]
  },
  {
   "cell_type": "markdown",
   "metadata": {
    "application/vnd.databricks.v1+cell": {
     "cellMetadata": {},
     "inputWidgets": {},
     "nuid": "6506443d-2f0e-43d6-9200-9be742f21576",
     "showTitle": false,
     "tableResultSettingsMap": {},
     "title": ""
    }
   },
   "source": [
    "\n",
    "[MLflow Serving](https://mlflow.org/docs/latest/deployment/) (highlighting mine):\n",
    "\n",
    "> **After training your machine learning model** and ensuring its performance, the next step is **deploying it to a production environment**."
   ]
  },
  {
   "cell_type": "markdown",
   "metadata": {
    "application/vnd.databricks.v1+cell": {
     "cellMetadata": {},
     "inputWidgets": {},
     "nuid": "24c5456e-963d-476f-aea0-65f3748d6315",
     "showTitle": false,
     "tableResultSettingsMap": {},
     "title": ""
    }
   },
   "source": [
    "\n",
    "In other words, there are two phases in the Machine Learning model lifecycle (at least two, but could be more):\n",
    "\n",
    "1. Training\n",
    "1. Deployment"
   ]
  },
  {
   "cell_type": "markdown",
   "metadata": {
    "application/vnd.databricks.v1+cell": {
     "cellMetadata": {},
     "inputWidgets": {},
     "nuid": "97e6f412-8af8-4799-9a4b-c2b7d1db7f61",
     "showTitle": false,
     "tableResultSettingsMap": {},
     "title": ""
    }
   },
   "source": [
    "\n",
    "### MLflow Deployment Targets\n",
    "\n",
    "MLflow simplifies the model deployment process by offering an MLflow deployment toolset for deploying your ML models to various targets:\n",
    "\n",
    "* Local environments\n",
    "* Cloud services\n",
    "* Kubernetes clusters\n",
    "* Others via [Deployment Plugins](https://mlflow.org/docs/latest/plugins#deployment-plugins) (e.g., Ray Serve, Redis AI, Torch Serve)\n",
    "\n",
    "[MLflow Serving](https://mlflow.org/docs/latest/deployment/)\n",
    "\n",
    "[Supported Deployment Targets](https://mlflow.org/docs/latest/deployment/#deployment-target)\n",
    "\n",
    "Certain targets require custom modules or plugins:\n",
    "\n",
    "* [mlflow sagemaker](https://mlflow.org/docs/latest/api_reference/cli.html#mlflow-sagemaker) CLI is used for Amazon SageMaker AI deployments\n",
    "* [azureml-mlflow](https://pypi.org/project/azureml-mlflow/) library is required for Azure ML"
   ]
  },
  {
   "cell_type": "markdown",
   "metadata": {
    "application/vnd.databricks.v1+cell": {
     "cellMetadata": {},
     "inputWidgets": {},
     "nuid": "c99f7ce0-c3a4-4e55-8538-9dd38b483932",
     "showTitle": false,
     "tableResultSettingsMap": {},
     "title": ""
    }
   },
   "source": [
    "### MLflow Concepts\n",
    "\n",
    "[Concepts](https://mlflow.org/docs/latest/deployment/#concepts):\n",
    "\n",
    "* MLflow Model\n",
    "* Docker Container\n",
    "* Deployment Target\n",
    "\n"
   ]
  },
  {
   "cell_type": "markdown",
   "metadata": {
    "application/vnd.databricks.v1+cell": {
     "cellMetadata": {},
     "inputWidgets": {},
     "nuid": "f8581297-560f-4cb8-9deb-58d52cb3b343",
     "showTitle": false,
     "tableResultSettingsMap": {},
     "title": ""
    }
   },
   "source": [
    "### MLflow Model\n",
    "\n",
    "[MLflow Model](https://mlflow.org/docs/latest/model)\n",
    "\n",
    "* Packages your model and its dependencies\n",
    "* MLflow can create either a virtual environment (for local deployment) or a Docker container image with the dependencies to run your model"
   ]
  },
  {
   "cell_type": "markdown",
   "metadata": {
    "application/vnd.databricks.v1+cell": {
     "cellMetadata": {},
     "inputWidgets": {},
     "nuid": "4474149a-5f96-4a0d-9dbd-428ec9c54c2e",
     "showTitle": false,
     "tableResultSettingsMap": {},
     "title": ""
    }
   },
   "source": [
    "### MLflow CLI\n",
    "\n",
    "[Command Line Interface](https://mlflow.org/docs/latest/deployment/#deployment-cli):\n",
    "\n",
    "* [mlflow models](https://mlflow.org/docs/latest/api_reference/cli.html#mlflow-models) - typically used for local deployment\n",
    "* [mlflow deployments](https://mlflow.org/docs/latest/api_reference/cli.html#mlflow-deployments) - typically used for deploying to custom targets"
   ]
  },
  {
   "cell_type": "markdown",
   "metadata": {
    "application/vnd.databricks.v1+cell": {
     "cellMetadata": {},
     "inputWidgets": {},
     "nuid": "dab79192-e851-4273-a29a-7ed0a771eff1",
     "showTitle": false,
     "tableResultSettingsMap": {},
     "title": ""
    }
   },
   "source": [
    "\n",
    "#### mlflow models serve\n",
    "\n",
    "<br>\n",
    "\n",
    "```\n",
    "MLFLOW_TRACKING_URI=http://127.0.0.1:5000 \\\n",
    "  uv run mlflow models serve \\\n",
    "    -m mlflow-artifacts:/0/5f7aa998bde24970be12673fa2cf0175/artifacts/model \\\n",
    "    -p 1234\n",
    "```"
   ]
  },
  {
   "cell_type": "markdown",
   "metadata": {
    "application/vnd.databricks.v1+cell": {
     "cellMetadata": {},
     "inputWidgets": {},
     "nuid": "aecf5ef3-857a-4278-919f-54ab621ca47c",
     "showTitle": false,
     "tableResultSettingsMap": {},
     "title": ""
    }
   },
   "source": [
    "\n",
    "#### No module named virtualenv\n",
    "\n",
    "<br>\n",
    "\n",
    "```\n",
    "2025/03/23 15:23:06 INFO mlflow.models.flavor_backend_registry: Selected backend for flavor 'python_function'\n",
    "2025/03/23 15:23:06 INFO mlflow.utils.virtualenv: Installing python 3.11.11 if it does not exist\n",
    "python-build: use openssl@3 from homebrew\n",
    "python-build: use readline from homebrew\n",
    "Downloading Python-3.11.11.tar.xz...\n",
    "-> https://www.python.org/ftp/python/3.11.11/Python-3.11.11.tar.xz\n",
    "Installing Python-3.11.11...\n",
    "python-build: use readline from homebrew\n",
    "python-build: use ncurses from homebrew\n",
    "python-build: use zlib from xcode sdk\n",
    "Installed Python-3.11.11 to /Users/jacek/.pyenv/versions/3.11.11\n",
    "2025/03/23 15:28:01 INFO mlflow.utils.virtualenv: Creating a new environment in /Users/jacek/.mlflow/envs/mlflow-0c1f60fa03e7c32c4284dde3c7f8ab618f5414e4 with /Users/jacek/.pyenv/versions/3.11.11/bin/python\n",
    "/Users/jacek/dev/sandbox/mlflow-python-sandbox/.venv/bin/python3: No module named virtualenv\n",
    "2025/03/23 15:28:01 WARNING mlflow.utils.virtualenv: Encountered an unexpected error: ShellCommandException(\"Non-zero exit code: 1\\nCommand: ['/Users/jacek/dev/sandbox/mlflow-python-sandbox/.venv/bin/python3', '-m', 'virtualenv', '--python', '/Users/jacek/.pyenv/versions/3.11.11/bin/python', '/Users/jacek/.mlflow/envs/mlflow-0c1f60fa03e7c32c4284dde3c7f8ab618f5414e4']\") while creating a virtualenv environment in /Users/jacek/.mlflow/envs/mlflow-0c1f60fa03e7c32c4284dde3c7f8ab618f5414e4, removing the environment directory...\n",
    "2025/03/23 15:28:01 WARNING mlflow.utils.file_utils: Successfully removed /Users/jacek/.mlflow/envs/mlflow-0c1f60fa03e7c32c4284dde3c7f8ab618f5414e4\n",
    "```"
   ]
  },
  {
   "cell_type": "markdown",
   "metadata": {
    "application/vnd.databricks.v1+cell": {
     "cellMetadata": {},
     "inputWidgets": {},
     "nuid": "b4955059-e806-4ac2-8883-bc53ed2a9d18",
     "showTitle": false,
     "tableResultSettingsMap": {},
     "title": ""
    }
   },
   "source": [
    "\n",
    "#### Install virtualenv\n",
    "\n",
    "<br>\n",
    "\n",
    "```bash\n",
    "uv add virtualenv\n",
    "```"
   ]
  },
  {
   "cell_type": "markdown",
   "metadata": {
    "application/vnd.databricks.v1+cell": {
     "cellMetadata": {},
     "inputWidgets": {},
     "nuid": "35848383-0330-4c2c-a928-cdfaa244e76b",
     "showTitle": false,
     "tableResultSettingsMap": {},
     "title": ""
    }
   },
   "source": [
    "\n",
    "#### Application startup complete\n",
    "\n",
    "<br>\n",
    "\n",
    "```\n",
    "❯ MLFLOW_TRACKING_URI=http://127.0.0.1:5000 \\\n",
    "  uv run mlflow models serve \\\n",
    "    -m mlflow-artifacts:/0/5f7aa998bde24970be12673fa2cf0175/artifacts/model \\\n",
    "    -p 1234\n",
    "2025/03/23 18:22:53 INFO mlflow.models.flavor_backend_registry: Selected backend for flavor 'python_function'\n",
    "2025/03/23 18:22:53 INFO mlflow.utils.virtualenv: Installing python 3.11.11 if it does not exist\n",
    "2025/03/23 18:22:53 INFO mlflow.utils.virtualenv: Creating a new environment in /Users/jacek/.mlflow/envs/mlflow-0c1f60fa03e7c32c4284dde3c7f8ab618f5414e4 with /Users/jacek/.pyenv/versions/3.11.11/bin/python\n",
    "created virtual environment CPython3.11.11.final.0-64 in 349ms\n",
    "  creator CPython3Posix(dest=/Users/jacek/.mlflow/envs/mlflow-0c1f60fa03e7c32c4284dde3c7f8ab618f5414e4, clear=False, no_vcs_ignore=False, global=False)\n",
    "  seeder FromAppData(download=False, pip=bundle, setuptools=bundle, wheel=bundle, via=copy, app_data_dir=/Users/jacek/Library/Application Support/virtualenv)\n",
    "    added seed packages: pip==25.0.1, setuptools==75.8.0, wheel==0.45.1\n",
    "  activators BashActivator,CShellActivator,FishActivator,NushellActivator,PowerShellActivator,PythonActivator\n",
    "2025/03/23 18:22:54 INFO mlflow.utils.virtualenv: Installing dependencies\n",
    "...\n",
    "2025/03/23 18:24:12 INFO mlflow.utils.environment: === Running command '['bash', '-c', 'source /Users/jacek/.mlflow/envs/mlflow-0c1f60fa03e7c32c4284dde3c7f8ab618f5414e4/bin/activate && python -c \"\"']'\n",
    "2025/03/23 18:24:12 INFO mlflow.utils.environment: === Running command '['bash', '-c', 'source /Users/jacek/.mlflow/envs/mlflow-0c1f60fa03e7c32c4284dde3c7f8ab618f5414e4/bin/activate && exec uvicorn --host 127.0.0.1 --port 1234 --workers 1 mlflow.pyfunc.scoring_server.app:app']'\n",
    "INFO:     Started server process [32759]\n",
    "INFO:     Waiting for application startup.\n",
    "INFO:     Application startup complete.\n",
    "INFO:     Uvicorn running on http://127.0.0.1:1234 (Press CTRL+C to quit)\n",
    "```"
   ]
  },
  {
   "cell_type": "markdown",
   "metadata": {
    "application/vnd.databricks.v1+cell": {
     "cellMetadata": {},
     "inputWidgets": {},
     "nuid": "1c7c285f-21d4-4717-92ea-8522f59db125",
     "showTitle": false,
     "tableResultSettingsMap": {},
     "title": ""
    }
   },
   "source": [
    "\n",
    "### Inference Server Specification\n",
    "\n",
    "[Inference Server Specification](https://mlflow.org/docs/latest/deployment/deploy-model-locally/#local-inference-server-spec)"
   ]
  },
  {
   "cell_type": "markdown",
   "metadata": {
    "application/vnd.databricks.v1+cell": {
     "cellMetadata": {},
     "inputWidgets": {},
     "nuid": "5319c455-9e60-4c4b-8564-4cedb0af1d7a",
     "showTitle": false,
     "tableResultSettingsMap": {},
     "title": ""
    }
   },
   "source": [
    "\n",
    "#### /version\n",
    "\n",
    "<br>\n",
    "\n",
    "```\n",
    "❯ http -v http://127.0.0.1:1234/version\n",
    "GET /version HTTP/1.1\n",
    "Accept: */*\n",
    "Accept-Encoding: gzip, deflate\n",
    "Connection: keep-alive\n",
    "Host: 127.0.0.1:1234\n",
    "User-Agent: HTTPie/3.2.4\n",
    "\n",
    "\n",
    "\n",
    "HTTP/1.1 200 OK\n",
    "content-length: 6\n",
    "content-type: application/json\n",
    "date: Sun, 23 Mar 2025 17:49:53 GMT\n",
    "server: uvicorn\n",
    "\n",
    "2.21.0\n",
    "```"
   ]
  },
  {
   "cell_type": "markdown",
   "metadata": {
    "application/vnd.databricks.v1+cell": {
     "cellMetadata": {},
     "inputWidgets": {},
     "nuid": "6d57f3d2-f37e-4063-9ac9-7bc217fde2e8",
     "showTitle": false,
     "tableResultSettingsMap": {},
     "title": ""
    }
   },
   "source": [
    "\n",
    "#### /ping\n",
    "\n",
    "<br>\n",
    "\n",
    "```\n",
    "❯ http http://127.0.0.1:1234/ping\n",
    "HTTP/1.1 200 OK\n",
    "content-length: 1\n",
    "content-type: application/json\n",
    "date: Sun, 23 Mar 2025 17:51:16 GMT\n",
    "server: uvicorn\n",
    "```"
   ]
  },
  {
   "cell_type": "markdown",
   "metadata": {
    "application/vnd.databricks.v1+cell": {
     "cellMetadata": {},
     "inputWidgets": {},
     "nuid": "fc97a051-191b-4b27-930c-ddb5623480a5",
     "showTitle": false,
     "tableResultSettingsMap": {},
     "title": ""
    }
   },
   "source": [
    "\n",
    "### Accepted Input Formats\n",
    "\n",
    "[Accepted Input Formats](https://mlflow.org/docs/latest/deployment/deploy-model-locally/#accepted-input-formats)"
   ]
  },
  {
   "cell_type": "markdown",
   "metadata": {
    "application/vnd.databricks.v1+cell": {
     "cellMetadata": {},
     "inputWidgets": {},
     "nuid": "afe97fd1-6acf-4f1e-9344-5bafc975763c",
     "showTitle": false,
     "tableResultSettingsMap": {},
     "title": ""
    }
   },
   "source": [
    "\n",
    "#### /invocations\n",
    "\n",
    "**/invocations**: An inference endpoint that accepts POST requests with input data and returns predictions.\n",
    "\n",
    "<br>\n",
    "\n",
    "```\n",
    "❯ http http://127.0.0.1:1234/invocations --raw={}\n",
    "HTTP/1.1 400 Bad Request\n",
    "content-length: 943\n",
    "content-type: application/json\n",
    "date: Sun, 23 Mar 2025 20:59:59 GMT\n",
    "server: uvicorn\n",
    "\n",
    "{\n",
    "    \"error_code\": \"BAD_REQUEST\",\n",
    "    \"message\": \"The input must be a JSON dictionary with exactly one of the input fields {'dataframe_records', 'dataframe_split', 'instances', 'inputs'}. Received dictionary with input fields: []. IMPORTANT: The MLflow Model scoring protocol has changed in MLflow version 2.0. If you are seeing this error, you are likely using an outdated scoring request format. To resolve the error, either update your request format or adjust your MLflow Model's requirements file to specify an older version of MLflow (for example, change the 'mlflow' requirement specifier to 'mlflow==1.30.0'). If you are making a request using the MLflow client (e.g. via `mlflow.pyfunc.spark_udf()`), upgrade your MLflow client to a version >= 2.0 in order to use the new request format. For more information about the updated MLflow Model scoring protocol in MLflow 2.0, see https://mlflow.org/docs/latest/models.html#deploy-mlflow-models.\"\n",
    "}\n",
    "```\n",
    "\n",
    "<br>\n",
    "\n",
    "The input must be a JSON dictionary with exactly one of the input fields\n",
    "* `dataframe_records`\n",
    "* `dataframe_split`\n",
    "* `instances`\n",
    "* `inputs`\n",
    "\n",
    "See [JSON Input](https://mlflow.org/docs/latest/deployment/deploy-model-locally/#json-input)"
   ]
  },
  {
   "cell_type": "markdown",
   "metadata": {
    "application/vnd.databricks.v1+cell": {
     "cellMetadata": {},
     "inputWidgets": {},
     "nuid": "de4a5748-8948-42ea-a060-45cf5eb94c78",
     "showTitle": false,
     "tableResultSettingsMap": {},
     "title": ""
    }
   },
   "source": [
    "\n",
    "#### input.json\n",
    "\n",
    "<br>\n",
    "\n",
    "```json\n",
    "{\n",
    "    \"columns\": [\n",
    "        \"alcohol\",\n",
    "        \"chlorides\",\n",
    "        \"citric acid\",\n",
    "        \"density\",\n",
    "        \"fixed acidity\",\n",
    "        \"free sulfur dioxide\",\n",
    "        \"pH\",\n",
    "        \"residual sugar\",\n",
    "        \"sulphates\",\n",
    "        \"total sulfur dioxide\",\n",
    "        \"volatile acidity\"\n",
    "    ],\n",
    "    \"data\": [\n",
    "        [\n",
    "            12.8,\n",
    "            0.029,\n",
    "            0.48,\n",
    "            0.98,\n",
    "            6.2,\n",
    "            29,\n",
    "            3.33,\n",
    "            1.2,\n",
    "            0.39,\n",
    "            75,\n",
    "            0.66\n",
    "        ]\n",
    "    ]\n",
    "}\n",
    "```"
   ]
  },
  {
   "cell_type": "markdown",
   "metadata": {
    "application/vnd.databricks.v1+cell": {
     "cellMetadata": {},
     "inputWidgets": {},
     "nuid": "fa86954e-f9ad-4b96-afce-e15b338d0ffa",
     "showTitle": false,
     "tableResultSettingsMap": {},
     "title": ""
    }
   },
   "source": [
    "\n",
    "```\n",
    "❯ http http://127.0.0.1:1234/invocations dataframe_split:=@input.json\n",
    "HTTP/1.1 200 OK\n",
    "content-length: 36\n",
    "content-type: application/json\n",
    "date: Sun, 23 Mar 2025 21:00:44 GMT\n",
    "server: uvicorn\n",
    "\n",
    "{\n",
    "    \"predictions\": [\n",
    "        5.981269865832247\n",
    "    ]\n",
    "}\n",
    "```"
   ]
  },
  {
   "cell_type": "markdown",
   "metadata": {
    "application/vnd.databricks.v1+cell": {
     "cellMetadata": {},
     "inputWidgets": {},
     "nuid": "6b7ca052-74d6-448e-baa1-de50af32873e",
     "showTitle": false,
     "tableResultSettingsMap": {},
     "title": ""
    }
   },
   "source": [
    "## That's all Folks 👋\n",
    "\n",
    "![Warner Bros., Public domain, via Wikimedia Commons](https://upload.wikimedia.org/wikipedia/commons/e/ea/Thats_all_folks.svg)"
   ]
  },
  {
   "cell_type": "markdown",
   "metadata": {
    "application/vnd.databricks.v1+cell": {
     "cellMetadata": {},
     "inputWidgets": {},
     "nuid": "91668d8f-336b-4373-a0a6-6d1ad987a702",
     "showTitle": false,
     "tableResultSettingsMap": {},
     "title": ""
    }
   },
   "source": [
    "\n",
    "# 💡 Ideas for Future Events\n",
    "\n",
    "1. [Delta Live Tables](https://docs.databricks.com/en/delta-live-tables/index.html) with uv and pydantic\n",
    "1. Explore more [Pydantic](https://docs.pydantic.dev/latest/) features\n",
    "1. Create a new DAB template with `uv` as the project management tool (based on `default-python` template). Start from `databricks bundle init --help`.\n"
   ]
  },
  {
   "cell_type": "markdown",
   "metadata": {
    "application/vnd.databricks.v1+cell": {
     "cellMetadata": {},
     "inputWidgets": {},
     "nuid": "56e2fd65-3a54-4bf8-8755-a9300299c705",
     "showTitle": false,
     "tableResultSettingsMap": {},
     "title": ""
    }
   },
   "source": [
    "\n",
    "## MLflow Prompt Registry\n",
    "\n",
    "In [MLflow 2.21.0](https://github.com/mlflow/mlflow/releases/tag/v2.21.0):\n",
    "\n",
    ">  **Prompt Registry**: MLflow Prompt Registry is a powerful tool that streamlines prompt engineering and management in your GenAI applications. It enables you to version, track, and reuse prompts across your organization.\n",
    "\n",
    "[MLflow Prompt Registry](https://mlflow.org/docs/latest/prompts/)"
   ]
  },
  {
   "cell_type": "markdown",
   "metadata": {
    "application/vnd.databricks.v1+cell": {
     "cellMetadata": {},
     "inputWidgets": {},
     "nuid": "f095b15d-6202-436c-89dc-f86dbcbb30ca",
     "showTitle": false,
     "tableResultSettingsMap": {},
     "title": ""
    }
   },
   "source": [
    "## MLflow Tracing\n",
    "\n",
    "In [MLflow 2.21.0](https://github.com/mlflow/mlflow/releases/tag/v2.21.0):\n",
    "\n",
    ">  **Enhanced Tracing Capabilities**: MLflow Tracing now supports synchronous/asynchronous generators and auto-tracing for Async OpenAI, providing more flexible and comprehensive tracing options.\n",
    "\n",
    "[MLflow Tracing for LLM Observability](https://mlflow.org/docs/latest/tracing/)"
   ]
  },
  {
   "cell_type": "markdown",
   "metadata": {
    "application/vnd.databricks.v1+cell": {
     "cellMetadata": {},
     "inputWidgets": {},
     "nuid": "89930ea6-a407-45c4-8e39-2d393f7c68f8",
     "showTitle": false,
     "tableResultSettingsMap": {},
     "title": ""
    }
   },
   "source": [
    "\n",
    "## Databricks Asset Bundles and Library Dependencies\n",
    "\n",
    "[PyPI package](https://docs.databricks.com/aws/en/dev-tools/bundles/library-dependencies#pypi-package)\n",
    "\n",
    "Databricks CLI v0.244.0: [Support all version identifiers as per PEP440 in environment deps](https://github.com/databricks/cli/releases/tag/v0.244.0)"
   ]
  },
  {
   "cell_type": "markdown",
   "metadata": {
    "application/vnd.databricks.v1+cell": {
     "cellMetadata": {},
     "inputWidgets": {},
     "nuid": "cff7f3bf-5e24-4c68-b6e2-bf547fa38b0c",
     "showTitle": false,
     "tableResultSettingsMap": {},
     "title": ""
    }
   },
   "source": [
    "\n",
    "## Databricks Asset Bundles and Set the target catalog and schema\n",
    "\n",
    "Databricks CLI v0.243.0: [Use schema field for pipeline in builtin template](https://github.com/databricks/cli/releases/tag/v0.243.0):\n",
    "\n",
    "> The schema field implies the lifecycle of tables is no longer tied to the lifecycle of the pipeline, as was the case with the target field.\n",
    "\n",
    "[Set the target catalog and schema](https://docs.databricks.com/aws/en/dlt/target-schema)"
   ]
  },
  {
   "cell_type": "markdown",
   "metadata": {
    "application/vnd.databricks.v1+cell": {
     "cellMetadata": {},
     "inputWidgets": {},
     "nuid": "0a1f8436-7d6f-4f41-8c8c-85d86cd2f3b0",
     "showTitle": false,
     "tableResultSettingsMap": {},
     "title": ""
    }
   },
   "source": [
    "## uv with PyTorch\n",
    "\n",
    "uv 0.6.9: [Add experimental --torch-backend to the PyTorch guide](https://github.com/astral-sh/uv/releases/tag/0.6.9)\n",
    "\n",
    "[Using uv with PyTorch](https://docs.astral.sh/uv/guides/integration/pytorch/)"
   ]
  }
 ],
 "metadata": {
  "application/vnd.databricks.v1+notebook": {
   "computePreferences": null,
   "dashboards": [],
   "environmentMetadata": null,
   "language": "python",
   "notebookMetadata": {
    "pythonIndentUnit": 4
   },
   "notebookName": "Meetup_2025_03_27",
   "widgets": {}
  },
  "language_info": {
   "name": "python"
  }
 },
 "nbformat": 4,
 "nbformat_minor": 0
}
