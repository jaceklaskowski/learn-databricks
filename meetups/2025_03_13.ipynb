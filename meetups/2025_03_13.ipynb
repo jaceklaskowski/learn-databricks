{
 "cells": [
  {
   "cell_type": "markdown",
   "metadata": {
    "application/vnd.databricks.v1+cell": {
     "cellMetadata": {},
     "inputWidgets": {},
     "nuid": "6a46b538-5343-4bc0-b5fc-97449b4aa283",
     "showTitle": false,
     "tableResultSettingsMap": {},
     "title": ""
    }
   },
   "source": [
    "\n",
    "# Deep Dive into Delta Live Tables (DLT)\n",
    "\n",
    "Thursday, March 13, 2025\n",
    "\n",
    "[Meetup Announcement](https://www.meetup.com/warsaw-data-engineering/events/306608088/) ([Lu.ma](https://lu.ma/0ub5v16m))"
   ]
  },
  {
   "cell_type": "markdown",
   "metadata": {
    "application/vnd.databricks.v1+cell": {
     "cellMetadata": {},
     "inputWidgets": {},
     "nuid": "b4a24aba-452f-4dc3-aac3-4f10b05a9bff",
     "showTitle": false,
     "tableResultSettingsMap": {},
     "title": ""
    }
   },
   "source": [
    "\n",
    "# Agenda\n",
    "\n",
    "Całkowity czas trwania spotkania: **1h 15min**"
   ]
  },
  {
   "cell_type": "markdown",
   "metadata": {
    "application/vnd.databricks.v1+cell": {
     "cellMetadata": {},
     "inputWidgets": {},
     "nuid": "b578f527-086d-48aa-9f5f-1f4b3ab6a624",
     "showTitle": false,
     "tableResultSettingsMap": {},
     "title": ""
    }
   },
   "source": [
    "\n",
    "ChatGPT odpowiada:\n",
    "\n",
    "> If you were to teach the internals of Delta Live Tables, what would it be? What topics do you consider important while presenting DLT?"
   ]
  },
  {
   "cell_type": "markdown",
   "metadata": {
    "application/vnd.databricks.v1+cell": {
     "cellMetadata": {},
     "inputWidgets": {},
     "nuid": "0b593dcf-9e5b-4c04-b409-b547a62a6bbf",
     "showTitle": false,
     "tableResultSettingsMap": {},
     "title": ""
    }
   },
   "source": [
    "\n",
    "> If I were teaching the internals of Delta Live Tables (DLT), I would break it down into key technical areas to help learners understand how DLT works under the hood. Here’s how I’d structure the session:"
   ]
  },
  {
   "cell_type": "markdown",
   "metadata": {
    "application/vnd.databricks.v1+cell": {
     "cellMetadata": {},
     "inputWidgets": {},
     "nuid": "dd081a26-c5e2-444a-875d-64c485221a95",
     "showTitle": false,
     "tableResultSettingsMap": {},
     "title": ""
    }
   },
   "source": [
    "\n",
    "1. Hands-On & Advanced Use Cases\n",
    "    * Live demo:\n",
    "        * Building a real-time streaming pipeline in DLT.\n",
    "        * Implementing incremental batch processing with APPLY CHANGES INTO.\n",
    "    * Advanced topics:\n",
    "        * Multi-hop architecture (Bronze → Silver → Gold).\n",
    "        * Integrating DLT with external sources (Kafka, Event Hubs, CDC sources).\n",
    "        * 🌟🌟 Using DLT with ML & Feature Engineering. 🌟🌟\n",
    "1. Core concepts of Delta Live Tables (DLT)\n",
    "    * Pipelines, DLT definitions (LIVE, STREAM, APPLY CHANGES INTO)\n",
    "    * How does DLT compare to standard Delta Lake and Databricks Jobs?\n",
    "1. How DLT executes workflows\n",
    "    * Declarative vs. procedural data transformations.\n",
    "    * How DLT automatically manages dependencies between tables.\n",
    "    * The role of event-driven execution & orchestration.\n",
    "1. DLT Engine & DAG (Directed Acyclic Graph) Execution\n",
    "    * How Databricks runtime creates and optimizes DAGs.\n",
    "    * Understanding pipeline DAG visualization.\n",
    "    * How DLT optimizes transformations (batch & streaming).\n",
    "1. Data Processing in DLT\n",
    "    * Pipeline Modes: Triggered (Batch) vs. Continuous Processing (Streaming).\n",
    "    * Stateful Processing & Change Data Capture (CDC):\n",
    "        * APPLY CHANGES INTO (DLT-native CDC).\n",
    "        * How schema evolution & enforcement works.\n",
    "    * Data Quality & Expectations:\n",
    "        * How expectations (CONSTRAINT and EXPECT statements) affect execution.\n",
    "        * Auto-handling of bad records (quarantining & error policies).\n",
    "1. Storage & Metadata Management\n",
    "    * DLT and Delta Lake:\n",
    "        * How DLT writes & manages Delta tables.\n",
    "        * LIVE vs. TARGET table internals.\n",
    "        * How DLT tracks transaction logs & versioning.\n",
    "    * Auto-Scaling & Performance Optimization:\n",
    "        * How DLT auto-scales clusters dynamically.\n",
    "        * Optimized storage using Z-Ordering & Bloom Filters.\n",
    "        * Caching mechanisms to boost performance.\n",
    "1. DLT Operational Aspects\n",
    "    * Monitoring & Debugging DLT Pipelines:\n",
    "        * Understanding logs (event_log table).\n",
    "        * Built-in observability dashboards.\n",
    "        * How to debug pipeline failures effectively.\n",
    "    * Security & Governance in DLT:\n",
    "        * Unity Catalog integration (RBAC, lineage tracking).\n",
    "        * Managing access controls & data protection.\n",
    "    * Cost Optimization & Best Practices:\n",
    "        * Managing DBU costs efficiently.\n",
    "        * Using phased deployment for cost-effective runs."
   ]
  },
  {
   "cell_type": "markdown",
   "metadata": {
    "application/vnd.databricks.v1+cell": {
     "cellMetadata": {},
     "inputWidgets": {},
     "nuid": "f4b536d7-e189-45af-a05a-88e502572df4",
     "showTitle": false,
     "tableResultSettingsMap": {},
     "title": ""
    }
   },
   "source": [
    "\n",
    "# LinkedIn Poll\n",
    "\n",
    "[Poll](https://www.linkedin.com/feed/update/urn:li:activity:7302063410647638016?utm_source=share&utm_medium=member_desktop&rcm=ACoAAAAutA8BdJM8iCUgt2VrqrjL8sihttmw9FE)"
   ]
  },
  {
   "cell_type": "markdown",
   "metadata": {
    "application/vnd.databricks.v1+cell": {
     "cellMetadata": {},
     "inputWidgets": {},
     "nuid": "0099d7a7-078c-4a57-8671-dcd404040811",
     "showTitle": false,
     "tableResultSettingsMap": {},
     "title": ""
    }
   },
   "source": [
    "\n",
    "# Event Question\n",
    "\n",
    "O czym chciał(a)byś usłyszeć podczas meetupu? Rzuć ciekawym pomysłem na kolejne edycje 🙏\n",
    "\n",
    "1. [Apache Paimon](https://paimon.apache.org/)\n",
    "1. Kafka ingestion\n",
    "1. [Liquid clustering](https://docs.databricks.com/aws/en/delta/clustering)\n",
    "1. [Apache Iceberg](https://iceberg.apache.org/)"
   ]
  },
  {
   "cell_type": "markdown",
   "metadata": {
    "application/vnd.databricks.v1+cell": {
     "cellMetadata": {},
     "inputWidgets": {},
     "nuid": "811aaee2-66d6-4833-84d3-c5971e3359ad",
     "showTitle": false,
     "tableResultSettingsMap": {},
     "title": ""
    }
   },
   "source": [
    "# 📢 News\n",
    "\n",
    "Things worth watching out for..."
   ]
  },
  {
   "cell_type": "markdown",
   "metadata": {
    "application/vnd.databricks.v1+cell": {
     "cellMetadata": {},
     "inputWidgets": {},
     "nuid": "f0e2d493-eba8-48ef-b8b8-3681b4e87d69",
     "showTitle": false,
     "tableResultSettingsMap": {},
     "title": ""
    }
   },
   "source": [
    "\n",
    "## New members in Warsaw Data Engineering!\n",
    "\n",
    "[You now have 578 members!](https://www.meetup.com/warsaw-data-engineering/)\n",
    "\n",
    "1. zastanawiam sie nad rozwojem w kierunku inzyniera danych\n",
    "1. Presentations about various tech\n",
    "1. Znam Jacka i siedzę w tematach Spark Scala Delta Lake"
   ]
  },
  {
   "cell_type": "markdown",
   "metadata": {
    "application/vnd.databricks.v1+cell": {
     "cellMetadata": {},
     "inputWidgets": {},
     "nuid": "911c3ac7-09bf-45dd-9a57-2d8de1c5aa67",
     "showTitle": false,
     "tableResultSettingsMap": {},
     "title": ""
    }
   },
   "source": [
    "\n",
    "## New Versions\n",
    "\n",
    "What has changed in the tooling space we keep an eye on since we last met?\n",
    "\n",
    "* [Databricks CLI 0.243.0](https://github.com/databricks/cli/releases/tag/v0.243.0)\n",
    "* [uv 0.6.6](https://github.com/astral-sh/uv/releases/tag/0.6.6)\n",
    "* [dqx 0.2.0](https://github.com/databrickslabs/dqx/releases/tag/v0.2.0)"
   ]
  },
  {
   "cell_type": "markdown",
   "metadata": {
    "application/vnd.databricks.v1+cell": {
     "cellMetadata": {},
     "inputWidgets": {},
     "nuid": "e5bd2020-8f3a-4d73-a193-a6e49b2d0145",
     "showTitle": false,
     "tableResultSettingsMap": {},
     "title": ""
    }
   },
   "source": [
    "\n",
    "## DLT: Set the target catalog and schema\n",
    "\n",
    "W [Databricks CLI 0.243.0](https://github.com/databricks/cli/releases/tag/v0.243.0) pojawiło się wsparcie dla [Set the target catalog and schema](https://docs.databricks.com/aws/en/dlt/target-schema) (jako [Use schema field for pipeline in builtin template #2347](https://github.com/databricks/cli/pull/2347))."
   ]
  },
  {
   "cell_type": "markdown",
   "metadata": {
    "application/vnd.databricks.v1+cell": {
     "cellMetadata": {},
     "inputWidgets": {},
     "nuid": "10fb0724-4f62-4c67-b7a7-e662517d0db8",
     "showTitle": false,
     "tableResultSettingsMap": {},
     "title": ""
    }
   },
   "source": [
    "\n",
    "## DAB: Add support for schemas in deployment\n",
    "\n",
    "W [Databricks CLI 0.243.0](https://github.com/databricks/cli/releases/tag/v0.243.0) dostaliśmy [Add support for schemas in deployment bind/unbind commands #2406](https://github.com/databricks/cli/pull/2406)"
   ]
  },
  {
   "cell_type": "markdown",
   "metadata": {
    "application/vnd.databricks.v1+cell": {
     "cellMetadata": {},
     "inputWidgets": {},
     "nuid": "00a55b51-9ba1-42a6-a0a1-8952fc125623",
     "showTitle": false,
     "tableResultSettingsMap": {},
     "title": ""
    }
   },
   "source": [
    "\n",
    "# Live Coding Session"
   ]
  },
  {
   "cell_type": "markdown",
   "metadata": {
    "application/vnd.databricks.v1+cell": {
     "cellMetadata": {},
     "inputWidgets": {},
     "nuid": "56e2fd65-3a54-4bf8-8755-a9300299c705",
     "showTitle": false,
     "tableResultSettingsMap": {},
     "title": ""
    }
   },
   "source": [
    "\n",
    "## Step 1. Intro\n",
    "\n",
    "[What is Delta Live Tables?](https://docs.databricks.com/aws/en/delta-live-tables/)"
   ]
  },
  {
   "cell_type": "markdown",
   "metadata": {
    "application/vnd.databricks.v1+cell": {
     "cellMetadata": {},
     "inputWidgets": {},
     "nuid": "0bc67602-5638-492f-8848-884a56dbbf46",
     "showTitle": false,
     "tableResultSettingsMap": {},
     "title": ""
    }
   },
   "source": [
    "## Step 2. Create DLT Pipeline Project\n",
    "\n",
    "Use Databricks Asset Bundles\n",
    "\n",
    "<br>\n",
    "\n",
    "```bash\n",
    "databricks bundle init default-python --config-file dlt-config-file.json\n",
    "```"
   ]
  },
  {
   "cell_type": "markdown",
   "metadata": {
    "application/vnd.databricks.v1+cell": {
     "cellMetadata": {},
     "inputWidgets": {},
     "nuid": "c7e681a1-f48a-4d08-8546-2c23147a37f8",
     "showTitle": false,
     "tableResultSettingsMap": {},
     "title": ""
    }
   },
   "source": [
    "\n",
    "## Step 3. Deploy\n",
    "\n",
    "<br>\n",
    "\n",
    "```bash\n",
    "databricks bundle deploy\n",
    "```"
   ]
  },
  {
   "cell_type": "markdown",
   "metadata": {
    "application/vnd.databricks.v1+cell": {
     "cellMetadata": {},
     "inputWidgets": {},
     "nuid": "f15f839c-cb6f-4ff2-ba40-f82276facf87",
     "showTitle": false,
     "tableResultSettingsMap": {},
     "title": ""
    }
   },
   "source": [
    "\n",
    "## Step 4. Run\n",
    "\n",
    "<br>\n",
    "\n",
    "```bash\n",
    "databricks bundle run dlt_demo_pipeline\n",
    "```"
   ]
  },
  {
   "cell_type": "markdown",
   "metadata": {
    "application/vnd.databricks.v1+cell": {
     "cellMetadata": {},
     "inputWidgets": {},
     "nuid": "91668d8f-336b-4373-a0a6-6d1ad987a702",
     "showTitle": false,
     "tableResultSettingsMap": {},
     "title": ""
    }
   },
   "source": [
    "\n",
    "# 💡 Ideas for Future Events"
   ]
  },
  {
   "cell_type": "markdown",
   "metadata": {
    "application/vnd.databricks.v1+cell": {
     "cellMetadata": {},
     "inputWidgets": {},
     "nuid": "e180efd8-31d8-4aed-a121-800b36e39950",
     "showTitle": false,
     "tableResultSettingsMap": {},
     "title": ""
    }
   },
   "source": [
    "\n",
    "1. Expectations\n",
    "1. `SHOW TABLES DROPPED`\n",
    "1. Full scan na PostgreSQL z DLT?\n",
    "1. [Delta Live Tables](https://docs.databricks.com/en/delta-live-tables/index.html) with uv and pydantic\n",
    "1. Explore more [Pydantic](https://docs.pydantic.dev/latest/) features\n",
    "1. Create a new DAB template with `uv` as the project management tool (based on `default-python` template). Start from `databricks bundle init --help`."
   ]
  },
  {
   "cell_type": "markdown",
   "metadata": {
    "application/vnd.databricks.v1+cell": {
     "cellMetadata": {},
     "inputWidgets": {},
     "nuid": "15df19ff-1645-4199-9f91-693e84ad3396",
     "showTitle": false,
     "tableResultSettingsMap": {},
     "title": ""
    }
   },
   "source": [
    "\n",
    "## 🚀 MLflow and uv\n",
    "\n",
    "‼️ Highly unlikely we cover this topic at this meetup ‼️\n",
    "\n",
    "1. [Faster Model Validation with uv Package Manager](https://mlflow.org/releases/2.20.0) in MLflow 2.20.0 🥳\n",
    "    * [Support uv in `mlflow.models.predict`](https://github.com/mlflow/mlflow/pull/i3824) for faster model environment validation\n",
    "    * [mlflow.models.predict](https://mlflow.org/docs/latest/api_reference/python_api/mlflow.models.html#mlflow.models.predict)\n",
    "    * [MLflow Models](https://mlflow.org/docs/latest/model)\n",
    "1. [[FR] Support uv package installer when inferring requirements (i.e. when logging model) #12478](https://github.com/mlflow/mlflow/issues/12478) - a conversation about how uv could be used with and outside MLflow\n"
   ]
  }
 ],
 "metadata": {
  "application/vnd.databricks.v1+notebook": {
   "computePreferences": null,
   "dashboards": [],
   "environmentMetadata": null,
   "language": "python",
   "notebookMetadata": {
    "mostRecentlyExecutedCommandWithImplicitDF": {
     "commandId": 3517486394696585,
     "dataframes": [
      "_sqldf"
     ]
    },
    "pythonIndentUnit": 4
   },
   "notebookName": "2025_03_13",
   "widgets": {}
  },
  "language_info": {
   "name": "python"
  }
 },
 "nbformat": 4,
 "nbformat_minor": 0
}
