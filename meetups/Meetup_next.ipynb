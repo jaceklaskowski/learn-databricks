{
 "cells": [
  {
   "cell_type": "markdown",
   "metadata": {
    "application/vnd.databricks.v1+cell": {
     "cellMetadata": {},
     "inputWidgets": {},
     "nuid": "a68f0afc-f0c6-420b-912e-e88c0e45be7f",
     "showTitle": false,
     "tableResultSettingsMap": {},
     "title": ""
    }
   },
   "source": [
    "\n",
    "# 📝 Meetup Next\n",
    "\n",
    "This notebook should help you set up your next great meetup ❤️\n",
    "\n",
    "1. Create a git branch\n",
    "    * Use `meetup_MMM_DD` (e.g., `meetup_Jun_26`)\n",
    "1. In Databricks UI, clone this notebook (**File > Clone**)\n",
    "    * Use `Meetup_YYYY_MM_DD` pattern for the name of the notebook file (e.g., `Meetup_2025_06_26`)\n",
    "    * The prefix `Meetup_` helps while searching for the recent notebooks edited\n",
    "1. Add the new notebook to [README]($./README.md)\n",
    "1. Fill in the fields with **FIXME** marker\n",
    "1. Announce the meetup\n",
    "    * [Meetup](https://www.meetup.com/warsaw-data-engineering/)\n",
    "    * [LinkedIn](https://www.linkedin.com/groups/9307761/)\n",
    "1. Remove this cell once all the action items are done"
   ]
  },
  {
   "cell_type": "markdown",
   "metadata": {
    "application/vnd.databricks.v1+cell": {
     "cellMetadata": {},
     "inputWidgets": {},
     "nuid": "6a46b538-5343-4bc0-b5fc-97449b4aa283",
     "showTitle": false,
     "tableResultSettingsMap": {},
     "title": ""
    }
   },
   "source": [
    "# FIXME Title\n",
    "\n",
    "FIXME Thursday, Feb 27, 2025\n",
    "\n",
    "FIXME [Meetup](https://www.meetup.com/warsaw-data-engineering/) • [LinkedIn](https://www.linkedin.com/groups/9307761/)"
   ]
  },
  {
   "cell_type": "markdown",
   "metadata": {
    "application/vnd.databricks.v1+cell": {
     "cellMetadata": {},
     "inputWidgets": {},
     "nuid": "dd081a26-c5e2-444a-875d-64c485221a95",
     "showTitle": false,
     "tableResultSettingsMap": {},
     "title": ""
    }
   },
   "source": [
    "\n",
    "# FIXME 📚 Agenda\n",
    "\n",
    "✨✨ No links to click and follow along. Content follows ✨✨\n",
    "\n",
    "1. FIXME\n",
    "\n",
    "⏰ Całkowity czas trwania spotkania: **1h 15min**"
   ]
  },
  {
   "cell_type": "markdown",
   "metadata": {
    "application/vnd.databricks.v1+cell": {
     "cellMetadata": {},
     "inputWidgets": {},
     "nuid": "f4b536d7-e189-45af-a05a-88e502572df4",
     "showTitle": false,
     "tableResultSettingsMap": {},
     "title": ""
    }
   },
   "source": [
    "\n",
    "# FIXME 📈 LinkedIn Poll\n",
    "\n",
    "[Poll](https://www.linkedin.com/feed/update/urn:li:activity:7302063410647638016?utm_source=share&utm_medium=member_desktop&rcm=ACoAAAAutA8BdJM8iCUgt2VrqrjL8sihttmw9FE)"
   ]
  },
  {
   "cell_type": "markdown",
   "metadata": {
    "application/vnd.databricks.v1+cell": {
     "cellMetadata": {},
     "inputWidgets": {},
     "nuid": "0099d7a7-078c-4a57-8671-dcd404040811",
     "showTitle": false,
     "tableResultSettingsMap": {},
     "title": ""
    }
   },
   "source": [
    "\n",
    "# FIXME 🙋‍♀️ Event Question\n",
    "\n",
    "[O czym chciał(a)byś usłyszeć podczas meetupu? Rzuć ciekawym pomysłem na kolejne edycje](https://www.meetup.com/warsaw-data-engineering/events/307894572/attendees/) 🙏\n",
    "\n",
    "1. FIXME"
   ]
  },
  {
   "cell_type": "markdown",
   "metadata": {
    "application/vnd.databricks.v1+cell": {
     "cellMetadata": {},
     "inputWidgets": {},
     "nuid": "811aaee2-66d6-4833-84d3-c5971e3359ad",
     "showTitle": false,
     "tableResultSettingsMap": {},
     "title": ""
    }
   },
   "source": [
    "# 📢 News\n",
    "\n",
    "Things worth watching out for..."
   ]
  },
  {
   "cell_type": "markdown",
   "metadata": {
    "application/vnd.databricks.v1+cell": {
     "cellMetadata": {},
     "inputWidgets": {},
     "nuid": "f0e2d493-eba8-48ef-b8b8-3681b4e87d69",
     "showTitle": false,
     "tableResultSettingsMap": {},
     "title": ""
    }
   },
   "source": [
    "\n",
    "## FIXME New members in Warsaw Data Engineering!\n",
    "\n",
    "[You now have 595 members!](https://www.meetup.com/warsaw-data-engineering/)\n",
    "\n",
    "Co zainteresowało Cię w Warsaw Data Engineering Meetup, że zdecydowałaś/-eś się przyłączyć?\n",
    "\n",
    "1. FIXME"
   ]
  },
  {
   "cell_type": "markdown",
   "metadata": {
    "application/vnd.databricks.v1+cell": {
     "cellMetadata": {},
     "inputWidgets": {},
     "nuid": "911c3ac7-09bf-45dd-9a57-2d8de1c5aa67",
     "showTitle": false,
     "tableResultSettingsMap": {},
     "title": ""
    }
   },
   "source": [
    "\n",
    "## FIXME New Versions\n",
    "\n",
    "What has changed in the tooling space since we last met? I.e. hunting down the features to learn more about.\n",
    "\n",
    "* [Databricks CLI 0.242.0](https://github.com/databricks/cli/releases/tag/v0.242.0)\n",
    "* [MLflow 2.20.3](https://github.com/mlflow/mlflow/releases/tag/v2.20.3)\n",
    "* [uv 0.6.3](https://github.com/astral-sh/uv/releases/tag/0.6.3)\n",
    "* [Pydantic 2.10.6](https://github.com/pydantic/pydantic/releases/tag/v2.10.6)\n",
    "* [brickflow 1.3.2](https://github.com/Nike-Inc/brickflow/releases/tag/v1.3.2)\n",
    "* [dqx 0.1.13](https://github.com/databrickslabs/dqx/releases/tag/v0.1.13)\n",
    "* [ruff 0.9.9](https://github.com/astral-sh/ruff/releases/tag/0.9.9)"
   ]
  },
  {
   "cell_type": "markdown",
   "metadata": {
    "application/vnd.databricks.v1+cell": {
     "cellMetadata": {},
     "inputWidgets": {},
     "nuid": "00a55b51-9ba1-42a6-a0a1-8952fc125623",
     "showTitle": false,
     "tableResultSettingsMap": {},
     "title": ""
    }
   },
   "source": [
    "\n",
    "# FIXME 🧑‍💻 Demo 1️⃣: Live Coding Session"
   ]
  },
  {
   "cell_type": "markdown",
   "metadata": {
    "application/vnd.databricks.v1+cell": {
     "cellMetadata": {},
     "inputWidgets": {},
     "nuid": "10870095-cc94-4a2c-b246-8819eb8910bd",
     "showTitle": false,
     "tableResultSettingsMap": {},
     "title": ""
    }
   },
   "source": [
    "\n",
    "# 🧑‍💻 Demo 2️⃣: Context Managers w Pythonie\n",
    "\n",
    "1. [Context Manager Types](https://docs.python.org/3/library/stdtypes.html#typecontextmanager)\n",
    "1. [@contextlib.contextmanager](https://docs.python.org/3/library/contextlib.html#contextlib.contextmanager)\n",
    "1. [3.3.9. With Statement Context Managers](https://docs.python.org/3/reference/datamodel.html#context-managers)"
   ]
  },
  {
   "cell_type": "markdown",
   "metadata": {
    "application/vnd.databricks.v1+cell": {
     "cellMetadata": {},
     "inputWidgets": {},
     "nuid": "f94d6b24-ab59-4653-8cc9-3b7eb27b5426",
     "showTitle": false,
     "tableResultSettingsMap": {},
     "title": ""
    }
   },
   "source": [
    "\n",
    "1. Create a new Python class with 3 methods (`__init__`, `__enter__`, `__exit__`)\n",
    "1. Use [@contextlib.contextmanager](https://docs.python.org/3/library/contextlib.html#contextlib.contextmanager) decorator\n",
    "1. `yield` keyword"
   ]
  },
  {
   "cell_type": "markdown",
   "metadata": {
    "application/vnd.databricks.v1+cell": {
     "cellMetadata": {},
     "inputWidgets": {},
     "nuid": "dd796fbc-25aa-42e1-8c80-c76700d53180",
     "showTitle": false,
     "tableResultSettingsMap": {},
     "title": ""
    }
   },
   "source": [
    "\n",
    "# 🧑‍💻 Demo 3️⃣: Progress Bar (tqdm)\n",
    "\n",
    "[tqdm](https://tqdm.github.io/) A Fast, Extensible Progress Bar for Python and CLI"
   ]
  },
  {
   "cell_type": "markdown",
   "metadata": {
    "application/vnd.databricks.v1+cell": {
     "cellMetadata": {},
     "inputWidgets": {},
     "nuid": "4e0d97b3-4945-4c65-8afd-194b2acc5293",
     "showTitle": false,
     "tableResultSettingsMap": {},
     "title": ""
    }
   },
   "source": [
    "\n",
    "Found while exploring [DSPy](https://dspy.ai/) - a declarative framework for building modular AI software.\n",
    "\n",
    "While in `~/oss/dspy`:\n",
    "\n",
    "<br>\n",
    "\n",
    "```python\n",
    "import tqdm\n",
    "import sys\n",
    "\n",
    "pbar = tqdm.tqdm(total=4, dynamic_ncols=True, file=sys.stdout)\n",
    "\n",
    "pbar.set_description(\"X\")\n",
    "\n",
    "pbar.update()\n",
    "\n",
    "pbar.update()\n",
    "\n",
    "pbar.update()\n",
    "\n",
    "pbar.update()\n",
    "```"
   ]
  },
  {
   "cell_type": "markdown",
   "metadata": {
    "application/vnd.databricks.v1+cell": {
     "cellMetadata": {},
     "inputWidgets": {},
     "nuid": "97fc92db-a7cf-4a69-8956-c12f0ca31719",
     "showTitle": false,
     "tableResultSettingsMap": {},
     "title": ""
    }
   },
   "source": [
    "# That's all Folks! 👋\n",
    "\n",
    "![Warner Bros., Public domain, via Wikimedia Commons](https://upload.wikimedia.org/wikipedia/commons/e/ea/Thats_all_folks.svg)"
   ]
  },
  {
   "cell_type": "markdown",
   "metadata": {
    "application/vnd.databricks.v1+cell": {
     "cellMetadata": {},
     "inputWidgets": {},
     "nuid": "f51c1479-b26a-4f74-b5de-ad9e2a6efbe8",
     "showTitle": false,
     "tableResultSettingsMap": {},
     "title": ""
    }
   },
   "source": [
    "\n",
    "# 🙋 Questions and Answers"
   ]
  },
  {
   "cell_type": "markdown",
   "metadata": {
    "application/vnd.databricks.v1+cell": {
     "cellMetadata": {},
     "inputWidgets": {},
     "nuid": "a2d18bd4-1785-4bdb-9331-20895382b515",
     "showTitle": false,
     "tableResultSettingsMap": {},
     "title": ""
    }
   },
   "source": [
    "\n",
    "# 💡 Ideas for Future Events\n",
    "\n",
    "➡️ [Ideas for Future Events]($./Ideas for Future Events)"
   ]
  }
 ],
 "metadata": {
  "application/vnd.databricks.v1+notebook": {
   "computePreferences": null,
   "dashboards": [],
   "environmentMetadata": null,
   "inputWidgetPreferences": null,
   "language": "python",
   "notebookMetadata": {
    "pythonIndentUnit": 4
   },
   "notebookName": "Meetup_next",
   "widgets": {}
  },
  "language_info": {
   "name": "python"
  }
 },
 "nbformat": 4,
 "nbformat_minor": 0
}
