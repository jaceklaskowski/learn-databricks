{
 "cells": [
  {
   "cell_type": "markdown",
   "metadata": {
    "application/vnd.databricks.v1+cell": {
     "cellMetadata": {},
     "inputWidgets": {},
     "nuid": "a68f0afc-f0c6-420b-912e-e88c0e45be7f",
     "showTitle": false,
     "tableResultSettingsMap": {},
     "title": ""
    }
   },
   "source": [
    "\n",
    "# Meetup Next\n",
    "\n",
    "This notebook should help you set up your next great meetup.\n",
    "\n",
    "1. Clone this notebook (**File > Clone** in Databricks UI)\n",
    "    * Use `YYYY_MM_DD` pattern for the name of the notebook file\n",
    "1. Fill in the fields with **FIXME** marker\n",
    "1. Add the new notebook to [README]($./README.md)\n",
    "1. Announce the meetup\n",
    "    * [lu.ma](https://lu.ma/warsaw-data-engineering)\n",
    "    * [LinkedIn](https://www.linkedin.com/groups/9307761/)\n",
    "    * (Optionally) [meetup](https://www.meetup.com/warsaw-data-engineering/) for a greater visibility\n",
    "1. Remove this cell once all the action items are done"
   ]
  },
  {
   "cell_type": "markdown",
   "metadata": {
    "application/vnd.databricks.v1+cell": {
     "cellMetadata": {},
     "inputWidgets": {},
     "nuid": "6a46b538-5343-4bc0-b5fc-97449b4aa283",
     "showTitle": false,
     "tableResultSettingsMap": {},
     "title": ""
    }
   },
   "source": [
    "# FIXME Title\n",
    "\n",
    "FIXME Thursday, February 27, 2025\n",
    "\n",
    "FIXME [Meetup Announcement](https://www.meetup.com/warsaw-data-engineering/events/306200574/) ([Lu.ma](https://lu.ma/dbc9cie2))"
   ]
  },
  {
   "cell_type": "markdown",
   "metadata": {
    "application/vnd.databricks.v1+cell": {
     "cellMetadata": {},
     "inputWidgets": {},
     "nuid": "dd081a26-c5e2-444a-875d-64c485221a95",
     "showTitle": false,
     "tableResultSettingsMap": {},
     "title": ""
    }
   },
   "source": [
    "\n",
    "# FIXME Agenda\n",
    "\n",
    "1. FIXME\n",
    "\n",
    "Całkowity czas trwania meetupu: **1h 15min**"
   ]
  },
  {
   "cell_type": "markdown",
   "metadata": {
    "application/vnd.databricks.v1+cell": {
     "cellMetadata": {},
     "inputWidgets": {},
     "nuid": "f4b536d7-e189-45af-a05a-88e502572df4",
     "showTitle": false,
     "tableResultSettingsMap": {},
     "title": ""
    }
   },
   "source": [
    "\n",
    "# FIXME LinkedIn Poll\n",
    "\n",
    "[Poll](https://www.linkedin.com/feed/update/urn:li:activity:7302063410647638016?utm_source=share&utm_medium=member_desktop&rcm=ACoAAAAutA8BdJM8iCUgt2VrqrjL8sihttmw9FE)"
   ]
  },
  {
   "cell_type": "markdown",
   "metadata": {
    "application/vnd.databricks.v1+cell": {
     "cellMetadata": {},
     "inputWidgets": {},
     "nuid": "0099d7a7-078c-4a57-8671-dcd404040811",
     "showTitle": false,
     "tableResultSettingsMap": {},
     "title": ""
    }
   },
   "source": [
    "\n",
    "# FIXME Event Question\n",
    "\n",
    "O czym chciał(a)byś usłyszeć podczas meetupu? Rzuć ciekawym pomysłem na kolejne edycje 🙏\n",
    "\n",
    "1. FIXME"
   ]
  },
  {
   "cell_type": "markdown",
   "metadata": {
    "application/vnd.databricks.v1+cell": {
     "cellMetadata": {},
     "inputWidgets": {},
     "nuid": "811aaee2-66d6-4833-84d3-c5971e3359ad",
     "showTitle": false,
     "tableResultSettingsMap": {},
     "title": ""
    }
   },
   "source": [
    "# 📢 News\n",
    "\n",
    "Things worth watching out for..."
   ]
  },
  {
   "cell_type": "markdown",
   "metadata": {
    "application/vnd.databricks.v1+cell": {
     "cellMetadata": {},
     "inputWidgets": {},
     "nuid": "f0e2d493-eba8-48ef-b8b8-3681b4e87d69",
     "showTitle": false,
     "tableResultSettingsMap": {},
     "title": ""
    }
   },
   "source": [
    "\n",
    "## New members in Warsaw Data Engineering!\n",
    "\n",
    "1. Rozwój wiedzy"
   ]
  },
  {
   "cell_type": "markdown",
   "metadata": {
    "application/vnd.databricks.v1+cell": {
     "cellMetadata": {},
     "inputWidgets": {},
     "nuid": "911c3ac7-09bf-45dd-9a57-2d8de1c5aa67",
     "showTitle": false,
     "tableResultSettingsMap": {},
     "title": ""
    }
   },
   "source": [
    "\n",
    "## FIXME New Versions\n",
    "\n",
    "What has changed in the tooling space we keep an eye on since we last met?\n",
    "\n",
    "* [Databricks CLI 0.242.0](https://github.com/databricks/cli/releases/tag/v0.242.0)\n",
    "* [MLflow 2.20.3](https://github.com/mlflow/mlflow/releases/tag/v2.20.3)\n",
    "* [uv 0.6.3](https://github.com/astral-sh/uv/releases/tag/0.6.3)\n",
    "* [Pydantic 2.10.6](https://github.com/pydantic/pydantic/releases/tag/v2.10.6)\n",
    "* [brickflow 1.3.2](https://github.com/Nike-Inc/brickflow/releases/tag/v1.3.2)\n",
    "* [dqx 0.1.13](https://github.com/databrickslabs/dqx/releases/tag/v0.1.13)\n",
    "* [ruff 0.9.9](https://github.com/astral-sh/ruff/releases/tag/0.9.9)"
   ]
  },
  {
   "cell_type": "markdown",
   "metadata": {
    "application/vnd.databricks.v1+cell": {
     "cellMetadata": {},
     "inputWidgets": {},
     "nuid": "9b8fc88a-0347-43f6-9281-1c5337e73779",
     "showTitle": false,
     "tableResultSettingsMap": {},
     "title": ""
    }
   },
   "source": [
    "\n",
    "# FIXME 👀 In the spotlight: `pytest`\n",
    "\n",
    "It is one of the regular sections in our schedule until we run out of...interest to dig deeper and learn more."
   ]
  },
  {
   "cell_type": "markdown",
   "metadata": {
    "application/vnd.databricks.v1+cell": {
     "cellMetadata": {},
     "inputWidgets": {},
     "nuid": "b0117e3a-3e05-49f5-9712-f63db1b35494",
     "showTitle": false,
     "tableResultSettingsMap": {},
     "title": ""
    }
   },
   "source": [
    "\n",
    "## Parametrizing tests\n",
    "\n",
    "[Parametrizing tests](https://docs.pytest.org/en/stable/example/parametrize.html)\n",
    "\n",
    "1. Create a brand new python sandbox project (`uv init --bare`)\n",
    "1. Add a dev / test dependency on `pytest`\n",
    "1. Write a test to demo the feature"
   ]
  },
  {
   "cell_type": "markdown",
   "metadata": {
    "application/vnd.databricks.v1+cell": {
     "cellMetadata": {},
     "inputWidgets": {},
     "nuid": "49f8bafb-10f8-4b44-869f-ccb55969fabe",
     "showTitle": false,
     "tableResultSettingsMap": {},
     "title": ""
    }
   },
   "source": [
    "\n",
    "```py\n",
    "import pytest\n",
    "\n",
    "\n",
    "@pytest.mark.parametrize(\"version\", [0, \"0\"])\n",
    "def test_one(version):\n",
    "    print(f\"version={version} (type: {type(version)})\")\n",
    "    assert True\n",
    "```"
   ]
  },
  {
   "cell_type": "markdown",
   "metadata": {
    "application/vnd.databricks.v1+cell": {
     "cellMetadata": {},
     "inputWidgets": {},
     "nuid": "00a55b51-9ba1-42a6-a0a1-8952fc125623",
     "showTitle": false,
     "tableResultSettingsMap": {},
     "title": ""
    }
   },
   "source": [
    "\n",
    "# FIXME Live Coding Session"
   ]
  },
  {
   "cell_type": "markdown",
   "metadata": {
    "application/vnd.databricks.v1+cell": {
     "cellMetadata": {},
     "inputWidgets": {},
     "nuid": "56e2fd65-3a54-4bf8-8755-a9300299c705",
     "showTitle": false,
     "tableResultSettingsMap": {},
     "title": ""
    }
   },
   "source": [
    "\n",
    "## Step 1"
   ]
  },
  {
   "cell_type": "markdown",
   "metadata": {
    "application/vnd.databricks.v1+cell": {
     "cellMetadata": {},
     "inputWidgets": {},
     "nuid": "91668d8f-336b-4373-a0a6-6d1ad987a702",
     "showTitle": false,
     "tableResultSettingsMap": {},
     "title": ""
    }
   },
   "source": [
    "\n",
    "# FIXME 💡 Ideas for Future Events\n",
    "\n",
    "FIXME Add / remove topics\n",
    "\n",
    "1. [Delta Live Tables](https://docs.databricks.com/en/delta-live-tables/index.html) with uv and pydantic\n",
    "1. Explore more [Pydantic](https://docs.pydantic.dev/latest/) features\n",
    "1. Create a new DAB template with `uv` as the project management tool (based on `default-python` template). Start from `databricks bundle init --help`.\n"
   ]
  }
 ],
 "metadata": {
  "application/vnd.databricks.v1+notebook": {
   "computePreferences": null,
   "dashboards": [],
   "environmentMetadata": null,
   "language": "python",
   "notebookMetadata": {
    "pythonIndentUnit": 4
   },
   "notebookName": "Meetup_next",
   "widgets": {}
  },
  "language_info": {
   "name": "python"
  }
 },
 "nbformat": 4,
 "nbformat_minor": 0
}
