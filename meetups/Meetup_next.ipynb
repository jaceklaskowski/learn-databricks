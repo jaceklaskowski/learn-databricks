{
 "cells": [
  {
   "cell_type": "markdown",
   "metadata": {
    "application/vnd.databricks.v1+cell": {
     "cellMetadata": {},
     "inputWidgets": {},
     "nuid": "6a46b538-5343-4bc0-b5fc-97449b4aa283",
     "showTitle": false,
     "tableResultSettingsMap": {},
     "title": ""
    }
   },
   "source": [
    "# (Draft) Data Quality in Databricks Workflows with Pydantic cntd.\n",
    "\n",
    "> ⚠️ This is a draft of the agenda of the future meetup\n",
    "\n",
    "Thursday, February 20, 2025"
   ]
  },
  {
   "cell_type": "markdown",
   "metadata": {
    "application/vnd.databricks.v1+cell": {
     "cellMetadata": {},
     "inputWidgets": {},
     "nuid": "dd081a26-c5e2-444a-875d-64c485221a95",
     "showTitle": false,
     "tableResultSettingsMap": {},
     "title": ""
    }
   },
   "source": [
    "\n",
    "➡️ [Meetup Announcement](https://www.meetup.com/warsaw-data-engineering/events/305995327/) (FIXME)\n",
    "\n",
    "The future meetup is a continuation of the following...\n",
    "\n",
    "Zakładamy, że mamy 2 projekty. Pierwszy projekt z pydantic (libka w Pythonie), a drugi to \"hello world\" Databricks Asset Bundle project z przykładowym job'em. Nic specjalnie wyrafinowanego. Od tego zaczniemy.\n",
    "\n",
    "Agenda:\n",
    "\n",
    "1. 5 minut rozgrzewki na luźne pomysły na ten i przyszłe meetupy\n",
    "    * News (new versions, new features, etc.)\n",
    "1. 50 minut Live coding session, a w nim:\n",
    "    * Za pomocą Databricks Asset Bundles (DAB), uruchomisz Databricks job z notebookiem z libką w Pythonie z Pydantic (takie tam \"hello world\"). Wszystko z pomocą uv do zarządzania projektem.\n",
    "    * Stworzymy UDFa do walidacji rekordów, którego \"uzbroimy\" w pydantic'a. To główny cel meetupu, którego osiągnięcie będzie naszym \"najosobityczniejszym\" sukcesem 🥂\n",
    "    * Może coś jeszcze, ale nie zdradzę teraz 🤷‍♂️\n",
    "1. 5 minut Q&A / Zbieranie pomysłów na kolejne edycje"
   ]
  },
  {
   "cell_type": "markdown",
   "metadata": {
    "application/vnd.databricks.v1+cell": {
     "cellMetadata": {},
     "inputWidgets": {},
     "nuid": "0099d7a7-078c-4a57-8671-dcd404040811",
     "showTitle": false,
     "tableResultSettingsMap": {},
     "title": ""
    }
   },
   "source": [
    "\n",
    "## Event Question\n",
    "\n",
    "O czym chciał(a)byś usłyszeć podczas meetupu? Rzuć ciekawym pomysłem na kolejne edycje 🙏\n",
    "\n",
    "1. staram się nadarzyć za tym co Jacek mówi i czegoś się dowiedzieć\n",
    "1. framework w Python - best practices\n",
    "1. DAB\n",
    "1. continue exploring quality with dqx or dlt publish to different schemas as good standard for medalion\n",
    "1. Plan rozwoju, doświadczenia zawodowe wymiataczy technologicznych\n",
    "1. Jakieś zaawansowane data quality w DBR; może jakaś analiza wykorzystania narzędzi typu Polars/DuckDB dla jedno-node’owych klastrów?\n",
    "1. Jeżeli uda mi się dołączyć, to będzie fajnie posłuchać dalszej cześci poprzedniego meetup'u :)\n",
    "1. Podłączenie Master data w transformacjach Databricks\n",
    "1. Pydantic\n",
    "1. everything about databricks\n",
    "1. Chcę rozwijać swoje umiejętności w databricks a ta seria spotkań to coś czego szukałem"
   ]
  },
  {
   "cell_type": "markdown",
   "metadata": {
    "application/vnd.databricks.v1+cell": {
     "cellMetadata": {},
     "inputWidgets": {},
     "nuid": "811aaee2-66d6-4833-84d3-c5971e3359ad",
     "showTitle": false,
     "tableResultSettingsMap": {},
     "title": ""
    }
   },
   "source": [
    "# 📢 News (FIXME)"
   ]
  },
  {
   "cell_type": "markdown",
   "metadata": {
    "application/vnd.databricks.v1+cell": {
     "cellMetadata": {},
     "inputWidgets": {},
     "nuid": "a32e9654-31e0-4afa-b153-320773a495ce",
     "showTitle": false,
     "tableResultSettingsMap": {},
     "title": ""
    }
   },
   "source": [
    "\n",
    "## New Versions\n",
    "\n",
    "* Databricks CLI\n",
    "* [uv 0.5.29](https://github.com/astral-sh/uv/releases/tag/0.5.29)\n",
    "* [awscli 2.24.0](https://github.com/aws/aws-cli/releases/tag/2.24.0)"
   ]
  },
  {
   "cell_type": "markdown",
   "metadata": {
    "application/vnd.databricks.v1+cell": {
     "cellMetadata": {},
     "inputWidgets": {},
     "nuid": "9b8fc88a-0347-43f6-9281-1c5337e73779",
     "showTitle": false,
     "tableResultSettingsMap": {},
     "title": ""
    }
   },
   "source": [
    "\n",
    "# Krótko o uv: `uv init`"
   ]
  },
  {
   "cell_type": "markdown",
   "metadata": {
    "application/vnd.databricks.v1+cell": {
     "cellMetadata": {},
     "inputWidgets": {},
     "nuid": "07789504-d4f2-4094-bc23-c3d3c4574b01",
     "showTitle": false,
     "tableResultSettingsMap": {},
     "title": ""
    }
   },
   "source": [
    "\n",
    "The very recent change was to add `--bare` option to `uv init`. Why is this important?\n",
    "\n",
    "<br>\n",
    "\n",
    "```py\n",
    "uv init --bare\n",
    "```"
   ]
  },
  {
   "cell_type": "markdown",
   "metadata": {
    "application/vnd.databricks.v1+cell": {
     "cellMetadata": {},
     "inputWidgets": {},
     "nuid": "421ed372-d597-4f95-a551-d865c9160995",
     "showTitle": false,
     "tableResultSettingsMap": {},
     "title": ""
    }
   },
   "source": [
    "\n",
    "* [Working on projects](https://docs.astral.sh/uv/guides/projects/)\n",
    "* [Creating projects](https://docs.astral.sh/uv/concepts/projects/init/)\n",
    "* [uv init](https://docs.astral.sh/uv/reference/cli/#uv-init)"
   ]
  },
  {
   "cell_type": "markdown",
   "metadata": {
    "application/vnd.databricks.v1+cell": {
     "cellMetadata": {
      "byteLimit": 2048000,
      "rowLimit": 10000
     },
     "inputWidgets": {},
     "nuid": "00a55b51-9ba1-42a6-a0a1-8952fc125623",
     "showTitle": false,
     "tableResultSettingsMap": {},
     "title": ""
    }
   },
   "source": [
    "\n",
    "# Live Coding Session"
   ]
  }
 ],
 "metadata": {
  "application/vnd.databricks.v1+notebook": {
   "computePreferences": null,
   "dashboards": [],
   "environmentMetadata": null,
   "language": "python",
   "notebookMetadata": {
    "pythonIndentUnit": 4
   },
   "notebookName": "Meetup_next",
   "widgets": {}
  },
  "language_info": {
   "name": "python"
  }
 },
 "nbformat": 4,
 "nbformat_minor": 0
}
