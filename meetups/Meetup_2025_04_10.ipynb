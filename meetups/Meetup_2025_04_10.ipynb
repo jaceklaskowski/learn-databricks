{
 "cells": [
  {
   "cell_type": "markdown",
   "metadata": {
    "application/vnd.databricks.v1+cell": {
     "cellMetadata": {},
     "inputWidgets": {},
     "nuid": "a68f0afc-f0c6-420b-912e-e88c0e45be7f",
     "showTitle": false,
     "tableResultSettingsMap": {},
     "title": ""
    }
   },
   "source": [
    "\n",
    "# Meetup Next\n",
    "\n",
    "This notebook should help you set up your next great meetup.\n",
    "\n",
    "1. Fill in the fields with **FIXME** marker\n",
    "1. Add the new notebook to [README]($./README.md)\n",
    "1. Announce the meetup\n",
    "    * [lu.ma](https://lu.ma/warsaw-data-engineering)\n",
    "    * [LinkedIn](https://www.linkedin.com/groups/9307761/)\n",
    "    * (Optionally) [meetup](https://www.meetup.com/warsaw-data-engineering/) for a greater visibility\n",
    "1. Remove this cell once all the action items are done"
   ]
  },
  {
   "cell_type": "markdown",
   "metadata": {
    "application/vnd.databricks.v1+cell": {
     "cellMetadata": {},
     "inputWidgets": {},
     "nuid": "6a46b538-5343-4bc0-b5fc-97449b4aa283",
     "showTitle": false,
     "tableResultSettingsMap": {},
     "title": ""
    }
   },
   "source": [
    "# Learn MLflow from mlflow/models/docker_utils.py\n",
    "\n",
    "Thursday, April 10, 2025\n",
    "\n",
    "[Invitation on Luma](https://lu.ma/ik2ey1i4), [LinkedIn](https://www.linkedin.com/groups/9307761/), [Meetup](https://www.meetup.com/warsaw-data-engineering/)"
   ]
  },
  {
   "cell_type": "markdown",
   "metadata": {
    "application/vnd.databricks.v1+cell": {
     "cellMetadata": {},
     "inputWidgets": {},
     "nuid": "dd081a26-c5e2-444a-875d-64c485221a95",
     "showTitle": false,
     "tableResultSettingsMap": {},
     "title": ""
    }
   },
   "source": [
    "\n",
    "# Agenda\n",
    "\n",
    "1. [mlflow/models/docker_utils.py](https://github.com/mlflow/mlflow/blob/master/mlflow/models/docker_utils.py)\n",
    "\n",
    "Całkowity czas trwania spotkania: **1h 15min**"
   ]
  },
  {
   "cell_type": "markdown",
   "metadata": {
    "application/vnd.databricks.v1+cell": {
     "cellMetadata": {},
     "inputWidgets": {},
     "nuid": "a98e1e11-4dec-4577-9ad6-8c418e81dac0",
     "showTitle": false,
     "tableResultSettingsMap": {},
     "title": ""
    }
   },
   "source": [
    "\n",
    "# LinkedIn Poll\n",
    "\n",
    "[O której chciał(a)byś, aby rozpoczynały się meetupy online?](https://www.linkedin.com/feed/update/urn:li:activity:7309206566698688513?utm_source=share&utm_medium=member_desktop&rcm=ACoAAAAutA8BdJM8iCUgt2VrqrjL8sihttmw9FE)"
   ]
  },
  {
   "cell_type": "markdown",
   "metadata": {
    "application/vnd.databricks.v1+cell": {
     "cellMetadata": {},
     "inputWidgets": {},
     "nuid": "8f22852e-68e2-4413-b316-051e639bd8d5",
     "showTitle": false,
     "tableResultSettingsMap": {},
     "title": ""
    }
   },
   "source": [
    "\n",
    "# Event Question\n",
    "\n",
    "[O czym chciał(a)byś usłyszeć podczas naszych spotkań?](https://www.meetup.com/warsaw-data-engineering/events/306867360/attendees/) 🤔 Rzuć ciekawym pomysłem na kolejne edycje 🙏\n",
    "\n",
    "1. Lakeflow\n",
    "\n",
    "Reszta cisza?! 😢"
   ]
  },
  {
   "cell_type": "markdown",
   "metadata": {
    "application/vnd.databricks.v1+cell": {
     "cellMetadata": {},
     "inputWidgets": {},
     "nuid": "811aaee2-66d6-4833-84d3-c5971e3359ad",
     "showTitle": false,
     "tableResultSettingsMap": {},
     "title": ""
    }
   },
   "source": [
    "# 📢 News\n",
    "\n",
    "Things worth watching out for..."
   ]
  },
  {
   "cell_type": "markdown",
   "metadata": {
    "application/vnd.databricks.v1+cell": {
     "cellMetadata": {},
     "inputWidgets": {},
     "nuid": "f0e2d493-eba8-48ef-b8b8-3681b4e87d69",
     "showTitle": false,
     "tableResultSettingsMap": {},
     "title": ""
    }
   },
   "source": [
    "\n",
    "## New members in Warsaw Data Engineering!\n",
    "\n",
    "[You now have 588 members!](https://www.meetup.com/warsaw-data-engineering/)\n",
    "\n",
    "1. Wydarzenia o Databricks\n",
    "1. Inżynieria danych"
   ]
  },
  {
   "cell_type": "markdown",
   "metadata": {
    "application/vnd.databricks.v1+cell": {
     "cellMetadata": {},
     "inputWidgets": {},
     "nuid": "24d4db15-2e38-4134-ba00-e9dfe86ef4a1",
     "showTitle": false,
     "tableResultSettingsMap": {},
     "title": ""
    }
   },
   "source": [
    "\n",
    "## New Versions\n",
    "\n",
    "What has changed in the tooling space since we last met? I.e. hunting down the features to learn more about.\n",
    "\n",
    "* [Pydantic 2.11.0](https://github.com/pydantic/pydantic/releases/tag/v2.11.0) with [2.11.1](https://github.com/pydantic/pydantic/releases/tag/v2.11.1) minutes after and then [2.11.2](https://github.com/pydantic/pydantic/releases/tag/v2.11.2) 😳\n",
    "    * [@jaceklaskowski made their first contribution in #11353](https://github.com/pydantic/pydantic/pull/11353)\n",
    "* [PydanticAI](https://github.com/pydantic/pydantic-ai) Agent Framework / shim to use Pydantic with LLMs is a new kid of the block\n",
    "* [Databricks CLI 0.246.0](https://github.com/databricks/cli/releases/tag/v0.246.0)\n",
    "    * [Support for clusters in `databricks bundle deployment bind`](https://github.com/databricks/cli/pull/2536)\n",
    "        * [databricks.yml](https://github.com/databricks/cli/blob/main/acceptance/bundle/deployment/bind/cluster/databricks.yml.tmpl)\n",
    "        * [envsubst](https://github.com/databricks/cli/pull/2536/files#diff-8a6c0147553de33d4a75b92931537f9fe78e8afc1a0d9e32586761eeaa72c66e) 🔥\n",
    "    * [Support for volumes in `databricks bundle deployment bind`](https://github.com/databricks/cli/pull/2527)\n",
    "        * [databricks.yml](https://github.com/databricks/cli/blob/main/acceptance/bundle/deployment/bind/volume/databricks.yml.tmpl)\n",
    "    * [New attribute on artifacts entries: `dynamic_version`](https://github.com/databricks/cli/pull/2520)\n",
    "        * When `true`, it patches the wheel with dynamic version suffix so it is always used by Databricks environments, even if original wheel version is the same.\n",
    "        * Intended for development loop on interactive clusters.\n",
    "        * [acceptance/bundle/artifacts/whl_dynamic/databricks.yml](https://github.com/databricks/cli/blob/main/acceptance/bundle/artifacts/whl_dynamic/databricks.yml)\n",
    "        * [databricks.yml.tmpl](https://github.com/databricks/cli/blob/main/acceptance/bundle/integration_whl/interactive_cluster_dynamic_version/databricks.yml.tmpl) with `uv` 🔥\n",
    "        * [Environment](https://github.com/databricks/cli/blob/main/acceptance/bundle/integration_whl/serverless_dynamic_version/databricks.yml.tmpl)\n",
    "    * [Added support for quality monitors in deployment bind/unbind commands](https://github.com/databricks/cli/pull/2583)\n",
    "    * [New DATABRICKS_BUNDLE_RESTRICTED_CODE_EXECUTION environment variable](https://github.com/databricks/cli/pull/2598)\n",
    "        * [experimental](https://github.com/databricks/cli/blob/main/acceptance/bundle/python/restricted-execution/databricks.yml#L6C1-L9)\n",
    "        * [scripts](https://github.com/databricks/cli/blob/main/acceptance/bundle/scripts/restricted-execution/databricks.yml#L4-L13)\n",
    "* [MLflow 2.21.3](https://github.com/mlflow/mlflow/releases/tag/v2.21.3)\n",
    "* [uv 0.6.12](https://github.com/astral-sh/uv/releases/tag/0.6.12)\n",
    "    * [`uv sync --check`](https://github.com/astral-sh/uv/issues/12338)\n",
    "    * [`uv python list [filter]`](https://github.com/astral-sh/uv/pull/12375)\n",
    "    * [Support .env files in uv tool run](https://github.com/astral-sh/uv/pull/12386/files#diff-975000db2bb150ebdc1a762c178c531c19747c5c75a8147bec4a31e69945e711)\n",
    "        * [`uv tool run` == `uvx`](https://docs.astral.sh/uv/guides/tools/)\n",
    "        * `UV_ENV_FILE` and `--env-file`\n",
    "        * `UV_NO_ENV_FILE` and `--no-env-file`\n",
    "    * [Support `uv python find --script`](https://github.com/astral-sh/uv/pull/11891/files#diff-975000db2bb150ebdc1a762c178c531c19747c5c75a8147bec4a31e69945e711)\n",
    "    * [`UV_PROJECT` environment variable to set the project directory](https://github.com/astral-sh/uv/pull/12327/files#diff-2812238f635f5dca688748a85121c5442c0e805ceab4e19b53792df056e03e1a)"
   ]
  },
  {
   "cell_type": "markdown",
   "metadata": {
    "application/vnd.databricks.v1+cell": {
     "cellMetadata": {},
     "inputWidgets": {},
     "nuid": "2bbf9dd6-1bcb-4563-bf53-48fb45018d95",
     "showTitle": false,
     "tableResultSettingsMap": {},
     "title": ""
    }
   },
   "source": [
    "\n",
    "## Organizing information with collapsed sections\n",
    "\n",
    "[Organizing information with collapsed sections](https://docs.github.com/en/get-started/writing-on-github/working-with-advanced-formatting/organizing-information-with-collapsed-sections)"
   ]
  },
  {
   "cell_type": "markdown",
   "metadata": {
    "application/vnd.databricks.v1+cell": {
     "cellMetadata": {},
     "inputWidgets": {},
     "nuid": "00a55b51-9ba1-42a6-a0a1-8952fc125623",
     "showTitle": false,
     "tableResultSettingsMap": {},
     "title": ""
    }
   },
   "source": [
    "\n",
    "# FIXME Live Coding Session"
   ]
  },
  {
   "cell_type": "markdown",
   "metadata": {
    "application/vnd.databricks.v1+cell": {
     "cellMetadata": {},
     "inputWidgets": {},
     "nuid": "56e2fd65-3a54-4bf8-8755-a9300299c705",
     "showTitle": false,
     "tableResultSettingsMap": {},
     "title": ""
    }
   },
   "source": [
    "\n",
    "## Step 1"
   ]
  },
  {
   "cell_type": "markdown",
   "metadata": {
    "application/vnd.databricks.v1+cell": {
     "cellMetadata": {},
     "inputWidgets": {},
     "nuid": "ec4b01cb-3883-47f1-975a-02561b81f666",
     "showTitle": false,
     "tableResultSettingsMap": {},
     "title": ""
    }
   },
   "source": [
    "## That's all Folks 👋\n",
    "\n",
    "![Warner Bros., Public domain, via Wikimedia Commons](https://upload.wikimedia.org/wikipedia/commons/e/ea/Thats_all_folks.svg)"
   ]
  },
  {
   "cell_type": "markdown",
   "metadata": {
    "application/vnd.databricks.v1+cell": {
     "cellMetadata": {},
     "inputWidgets": {},
     "nuid": "05c2a330-6774-48e4-9794-6899187409a2",
     "showTitle": false,
     "tableResultSettingsMap": {},
     "title": ""
    }
   },
   "source": [
    "\n",
    "# 💡 Ideas for Future Events\n",
    "\n",
    "1. [Delta Live Tables](https://docs.databricks.com/en/delta-live-tables/index.html) with uv and pydantic\n",
    "1. Explore more [Pydantic](https://docs.pydantic.dev/latest/) features\n",
    "1. Create a new DAB template with `uv` as the project management tool (based on `default-python` template). Start from `databricks bundle init --help`.\n"
   ]
  },
  {
   "cell_type": "markdown",
   "metadata": {
    "application/vnd.databricks.v1+cell": {
     "cellMetadata": {},
     "inputWidgets": {},
     "nuid": "04222df7-b8fb-4283-8249-b25ea4bc7dad",
     "showTitle": false,
     "tableResultSettingsMap": {},
     "title": ""
    }
   },
   "source": [
    "\n",
    "## MLflow Prompt Registry\n",
    "\n",
    "In [MLflow 2.21.0](https://github.com/mlflow/mlflow/releases/tag/v2.21.0):\n",
    "\n",
    ">  **Prompt Registry**: MLflow Prompt Registry is a powerful tool that streamlines prompt engineering and management in your GenAI applications. It enables you to version, track, and reuse prompts across your organization.\n",
    "\n",
    "[MLflow Prompt Registry](https://mlflow.org/docs/latest/prompts/)"
   ]
  },
  {
   "cell_type": "markdown",
   "metadata": {
    "application/vnd.databricks.v1+cell": {
     "cellMetadata": {},
     "inputWidgets": {},
     "nuid": "3dc54dc6-a168-41af-9b02-9cec20f3fe5f",
     "showTitle": false,
     "tableResultSettingsMap": {},
     "title": ""
    }
   },
   "source": [
    "## MLflow Tracing\n",
    "\n",
    "In [MLflow 2.21.0](https://github.com/mlflow/mlflow/releases/tag/v2.21.0):\n",
    "\n",
    ">  **Enhanced Tracing Capabilities**: MLflow Tracing now supports synchronous/asynchronous generators and auto-tracing for Async OpenAI, providing more flexible and comprehensive tracing options.\n",
    "\n",
    "[MLflow Tracing for LLM Observability](https://mlflow.org/docs/latest/tracing/)"
   ]
  },
  {
   "cell_type": "markdown",
   "metadata": {
    "application/vnd.databricks.v1+cell": {
     "cellMetadata": {},
     "inputWidgets": {},
     "nuid": "2c9fd670-cd81-4029-950a-b91a77ffbc84",
     "showTitle": false,
     "tableResultSettingsMap": {},
     "title": ""
    }
   },
   "source": [
    "\n",
    "## Databricks Asset Bundles and Library Dependencies\n",
    "\n",
    "[PyPI package](https://docs.databricks.com/aws/en/dev-tools/bundles/library-dependencies#pypi-package)\n",
    "\n",
    "Databricks CLI v0.244.0: [Support all version identifiers as per PEP440 in environment deps](https://github.com/databricks/cli/releases/tag/v0.244.0)"
   ]
  },
  {
   "cell_type": "markdown",
   "metadata": {
    "application/vnd.databricks.v1+cell": {
     "cellMetadata": {},
     "inputWidgets": {},
     "nuid": "d858051b-e44a-40e6-8a21-a135267d678d",
     "showTitle": false,
     "tableResultSettingsMap": {},
     "title": ""
    }
   },
   "source": [
    "\n",
    "## Databricks Asset Bundles and Set the target catalog and schema\n",
    "\n",
    "Databricks CLI v0.243.0: [Use schema field for pipeline in builtin template](https://github.com/databricks/cli/releases/tag/v0.243.0):\n",
    "\n",
    "> The schema field implies the lifecycle of tables is no longer tied to the lifecycle of the pipeline, as was the case with the target field.\n",
    "\n",
    "[Set the target catalog and schema](https://docs.databricks.com/aws/en/dlt/target-schema)"
   ]
  },
  {
   "cell_type": "markdown",
   "metadata": {
    "application/vnd.databricks.v1+cell": {
     "cellMetadata": {},
     "inputWidgets": {},
     "nuid": "c5c1bce4-06bf-477e-9090-4e256add3db2",
     "showTitle": false,
     "tableResultSettingsMap": {},
     "title": ""
    }
   },
   "source": [
    "## uv with PyTorch\n",
    "\n",
    "uv 0.6.9: [Add experimental --torch-backend to the PyTorch guide](https://github.com/astral-sh/uv/releases/tag/0.6.9)\n",
    "\n",
    "[Using uv with PyTorch](https://docs.astral.sh/uv/guides/integration/pytorch/)"
   ]
  }
 ],
 "metadata": {
  "application/vnd.databricks.v1+notebook": {
   "computePreferences": null,
   "dashboards": [],
   "environmentMetadata": null,
   "inputWidgetPreferences": null,
   "language": "python",
   "notebookMetadata": {
    "pythonIndentUnit": 4
   },
   "notebookName": "Meetup_2025_04_10",
   "widgets": {}
  },
  "language_info": {
   "name": "python"
  }
 },
 "nbformat": 4,
 "nbformat_minor": 0
}
