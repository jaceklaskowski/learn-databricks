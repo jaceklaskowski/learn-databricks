{
 "cells": [
  {
   "cell_type": "markdown",
   "metadata": {
    "application/vnd.databricks.v1+cell": {
     "cellMetadata": {},
     "inputWidgets": {},
     "nuid": "a68f0afc-f0c6-420b-912e-e88c0e45be7f",
     "showTitle": false,
     "tableResultSettingsMap": {},
     "title": ""
    }
   },
   "source": [
    "\n",
    "# Meetup Next\n",
    "\n",
    "This notebook should help you set up your next great meetup.\n",
    "\n",
    "1. Fill in the fields with **FIXME** marker\n",
    "1. Add the new notebook to [README]($./README.md)\n",
    "1. Announce the meetup\n",
    "    * [lu.ma](https://lu.ma/warsaw-data-engineering)\n",
    "    * [LinkedIn](https://www.linkedin.com/groups/9307761/)\n",
    "    * (Optionally) [meetup](https://www.meetup.com/warsaw-data-engineering/) for a greater visibility\n",
    "1. Remove this cell once all the action items are done"
   ]
  },
  {
   "cell_type": "markdown",
   "metadata": {
    "application/vnd.databricks.v1+cell": {
     "cellMetadata": {},
     "inputWidgets": {},
     "nuid": "6a46b538-5343-4bc0-b5fc-97449b4aa283",
     "showTitle": false,
     "tableResultSettingsMap": {},
     "title": ""
    }
   },
   "source": [
    "# Learn MLflow from mlflow/models/docker_utils.py\n",
    "\n",
    "Thursday, April 10, 2025\n",
    "\n",
    "[Invitation on Luma](https://lu.ma/ik2ey1i4), [LinkedIn](https://www.linkedin.com/groups/9307761/), [Meetup](https://www.meetup.com/warsaw-data-engineering/)"
   ]
  },
  {
   "cell_type": "markdown",
   "metadata": {
    "application/vnd.databricks.v1+cell": {
     "cellMetadata": {},
     "inputWidgets": {},
     "nuid": "dd081a26-c5e2-444a-875d-64c485221a95",
     "showTitle": false,
     "tableResultSettingsMap": {},
     "title": ""
    }
   },
   "source": [
    "\n",
    "# Agenda\n",
    "\n",
    "1. [mlflow/models/docker_utils.py](https://github.com/mlflow/mlflow/blob/master/mlflow/models/docker_utils.py)\n",
    "\n",
    "Całkowity czas trwania spotkania: **1h 15min**"
   ]
  },
  {
   "cell_type": "markdown",
   "metadata": {
    "application/vnd.databricks.v1+cell": {
     "cellMetadata": {},
     "inputWidgets": {},
     "nuid": "a98e1e11-4dec-4577-9ad6-8c418e81dac0",
     "showTitle": false,
     "tableResultSettingsMap": {},
     "title": ""
    }
   },
   "source": [
    "\n",
    "# LinkedIn Poll\n",
    "\n",
    "[O której chciał(a)byś, aby rozpoczynały się meetupy online?](https://www.linkedin.com/feed/update/urn:li:activity:7309206566698688513?utm_source=share&utm_medium=member_desktop&rcm=ACoAAAAutA8BdJM8iCUgt2VrqrjL8sihttmw9FE)"
   ]
  },
  {
   "cell_type": "markdown",
   "metadata": {
    "application/vnd.databricks.v1+cell": {
     "cellMetadata": {},
     "inputWidgets": {},
     "nuid": "8f22852e-68e2-4413-b316-051e639bd8d5",
     "showTitle": false,
     "tableResultSettingsMap": {},
     "title": ""
    }
   },
   "source": [
    "\n",
    "# Event Question\n",
    "\n",
    "[O czym chciał(a)byś usłyszeć podczas naszych spotkań?](https://www.meetup.com/warsaw-data-engineering/events/306867360/attendees/) 🤔 Rzuć ciekawym pomysłem na kolejne edycje 🙏\n",
    "\n",
    "1. Lakeflow\n",
    "\n",
    "Reszta cisza?! 😢"
   ]
  },
  {
   "cell_type": "markdown",
   "metadata": {
    "application/vnd.databricks.v1+cell": {
     "cellMetadata": {},
     "inputWidgets": {},
     "nuid": "811aaee2-66d6-4833-84d3-c5971e3359ad",
     "showTitle": false,
     "tableResultSettingsMap": {},
     "title": ""
    }
   },
   "source": [
    "# 📢 News\n",
    "\n",
    "Things worth watching out for..."
   ]
  },
  {
   "cell_type": "markdown",
   "metadata": {
    "application/vnd.databricks.v1+cell": {
     "cellMetadata": {},
     "inputWidgets": {},
     "nuid": "f0e2d493-eba8-48ef-b8b8-3681b4e87d69",
     "showTitle": false,
     "tableResultSettingsMap": {},
     "title": ""
    }
   },
   "source": [
    "\n",
    "## New members in Warsaw Data Engineering!\n",
    "\n",
    "[You now have 588 members!](https://www.meetup.com/warsaw-data-engineering/)\n",
    "\n",
    "1. Wydarzenia o Databricks\n",
    "1. Inżynieria danych"
   ]
  },
  {
   "cell_type": "markdown",
   "metadata": {
    "application/vnd.databricks.v1+cell": {
     "cellMetadata": {},
     "inputWidgets": {},
     "nuid": "24d4db15-2e38-4134-ba00-e9dfe86ef4a1",
     "showTitle": false,
     "tableResultSettingsMap": {},
     "title": ""
    }
   },
   "source": [
    "\n",
    "## New Versions\n",
    "\n",
    "What has changed in the tooling space since we last met? I.e. hunting down the features to learn more about.\n",
    "\n",
    "* [Pydantic 2.11.0](https://github.com/pydantic/pydantic/releases/tag/v2.11.0) with [2.11.1](https://github.com/pydantic/pydantic/releases/tag/v2.11.1) minutes after and then [2.11.2](https://github.com/pydantic/pydantic/releases/tag/v2.11.2) 😳\n",
    "    * [@jaceklaskowski made their first contribution in #11353](https://github.com/pydantic/pydantic/pull/11353)\n",
    "* [PydanticAI](https://github.com/pydantic/pydantic-ai) Agent Framework / shim to use Pydantic with LLMs is a new kid of the block\n",
    "* [Databricks CLI 0.246.0](https://github.com/databricks/cli/releases/tag/v0.246.0)\n",
    "    * [Support for clusters in `databricks bundle deployment bind`](https://github.com/databricks/cli/pull/2536)\n",
    "        * [databricks.yml](https://github.com/databricks/cli/blob/main/acceptance/bundle/deployment/bind/cluster/databricks.yml.tmpl)\n",
    "        * [envsubst](https://github.com/databricks/cli/pull/2536/files#diff-8a6c0147553de33d4a75b92931537f9fe78e8afc1a0d9e32586761eeaa72c66e) 🔥\n",
    "    * [Support for volumes in `databricks bundle deployment bind`](https://github.com/databricks/cli/pull/2527)\n",
    "        * [databricks.yml](https://github.com/databricks/cli/blob/main/acceptance/bundle/deployment/bind/volume/databricks.yml.tmpl)\n",
    "    * [New attribute on artifacts entries: `dynamic_version`](https://github.com/databricks/cli/pull/2520)\n",
    "        * When `true`, it patches the wheel with dynamic version suffix so it is always used by Databricks environments, even if original wheel version is the same.\n",
    "        * Intended for development loop on interactive clusters.\n",
    "        * [acceptance/bundle/artifacts/whl_dynamic/databricks.yml](https://github.com/databricks/cli/blob/main/acceptance/bundle/artifacts/whl_dynamic/databricks.yml)\n",
    "        * [databricks.yml.tmpl](https://github.com/databricks/cli/blob/main/acceptance/bundle/integration_whl/interactive_cluster_dynamic_version/databricks.yml.tmpl) with `uv` 🔥\n",
    "        * [Environment](https://github.com/databricks/cli/blob/main/acceptance/bundle/integration_whl/serverless_dynamic_version/databricks.yml.tmpl)\n",
    "    * [Added support for quality monitors in deployment bind/unbind commands](https://github.com/databricks/cli/pull/2583)\n",
    "    * [New DATABRICKS_BUNDLE_RESTRICTED_CODE_EXECUTION environment variable](https://github.com/databricks/cli/pull/2598)\n",
    "        * [experimental](https://github.com/databricks/cli/blob/main/acceptance/bundle/python/restricted-execution/databricks.yml#L6C1-L9)\n",
    "        * [scripts](https://github.com/databricks/cli/blob/main/acceptance/bundle/scripts/restricted-execution/databricks.yml#L4-L13)\n",
    "* [MLflow 2.21.3](https://github.com/mlflow/mlflow/releases/tag/v2.21.3)\n",
    "* [uv 0.6.12](https://github.com/astral-sh/uv/releases/tag/0.6.12)\n",
    "    * [`uv sync --check`](https://github.com/astral-sh/uv/issues/12338)\n",
    "    * [`uv python list [filter]`](https://github.com/astral-sh/uv/pull/12375)\n",
    "    * [Support .env files in uv tool run](https://github.com/astral-sh/uv/pull/12386/files#diff-975000db2bb150ebdc1a762c178c531c19747c5c75a8147bec4a31e69945e711)\n",
    "        * [`uv tool run` == `uvx`](https://docs.astral.sh/uv/guides/tools/)\n",
    "        * `UV_ENV_FILE` and `--env-file`\n",
    "        * `UV_NO_ENV_FILE` and `--no-env-file`\n",
    "    * [Support `uv python find --script`](https://github.com/astral-sh/uv/pull/11891/files#diff-975000db2bb150ebdc1a762c178c531c19747c5c75a8147bec4a31e69945e711)\n",
    "    * [`UV_PROJECT` environment variable to set the project directory](https://github.com/astral-sh/uv/pull/12327/files#diff-2812238f635f5dca688748a85121c5442c0e805ceab4e19b53792df056e03e1a)"
   ]
  },
  {
   "cell_type": "markdown",
   "metadata": {
    "application/vnd.databricks.v1+cell": {
     "cellMetadata": {},
     "inputWidgets": {},
     "nuid": "2bbf9dd6-1bcb-4563-bf53-48fb45018d95",
     "showTitle": false,
     "tableResultSettingsMap": {},
     "title": ""
    }
   },
   "source": [
    "\n",
    "## Organizing information with collapsed sections\n",
    "\n",
    "[Organizing information with collapsed sections](https://docs.github.com/en/get-started/writing-on-github/working-with-advanced-formatting/organizing-information-with-collapsed-sections)"
   ]
  },
  {
   "cell_type": "markdown",
   "metadata": {
    "application/vnd.databricks.v1+cell": {
     "cellMetadata": {},
     "inputWidgets": {},
     "nuid": "00a55b51-9ba1-42a6-a0a1-8952fc125623",
     "showTitle": false,
     "tableResultSettingsMap": {},
     "title": ""
    }
   },
   "source": [
    "\n",
    "# Live Coding Session\n",
    "\n",
    "Found inspiration from the release notes of [MLflow 2.21.1](https://github.com/mlflow/mlflow/releases/tag/v2.21.1) from [Add --install-java option to sagemaker build-and-push-container](https://github.com/mlflow/mlflow/pull/14868/files)"
   ]
  },
  {
   "cell_type": "markdown",
   "metadata": {
    "application/vnd.databricks.v1+cell": {
     "cellMetadata": {},
     "inputWidgets": {},
     "nuid": "56e2fd65-3a54-4bf8-8755-a9300299c705",
     "showTitle": false,
     "tableResultSettingsMap": {},
     "title": ""
    }
   },
   "source": [
    "\n",
    "## Lessons Learnt / Findings"
   ]
  },
  {
   "cell_type": "markdown",
   "metadata": {
    "application/vnd.databricks.v1+cell": {
     "cellMetadata": {},
     "inputWidgets": {},
     "nuid": "d597d017-e1f1-4b71-9d0a-52d30011e7ed",
     "showTitle": false,
     "tableResultSettingsMap": {},
     "title": ""
    }
   },
   "source": [
    "\n",
    "1. MLflow uses [Click](https://click.palletsprojects.com/en/stable/) for command-line handling\n",
    "    * [Why Click?](https://click.palletsprojects.com/en/stable/why/)\n",
    "1. There's [mlflow/sagemaker/cli.py](https://github.com/mlflow/mlflow/blob/master/mlflow/sagemaker/cli.py)\n",
    "1. [mlflow/utils/cli_args.py](https://github.com/mlflow/mlflow/pull/14868/files#diff-9e26376f395c14f610c17c3ab922c5ffe6c0733a846c8d5fcb0ab994e5ca23ac) shows the scope of the change\n",
    "    * There's a notion of Docker images (_\"Installs Java in the image\"_, _\"UBUNTU base image\"_, _\"Python base images\"_), flavors (_Flavors requiring Java, such as Spark_)\n",
    "1. [tests/resources/dockerfile/Dockerfile_sagemaker_virtualenv_no_java](https://github.com/mlflow/mlflow/pull/14868/files#diff-fecc6ed0dc1e7a9e3147cd27ededda0a264d5cedb3eb3ea0ec84868cfe99b70c)\n",
    "    * _Build an image that can serve mlflow models._\n",
    "    * `ENTRYPOINT` with an inline Python script (`\"python\", \"-c\"`)\n",
    "1. [tests/sagemaker/test_cli.py](https://github.com/mlflow/mlflow/pull/14868/files#diff-2bb249744bbe79e5379002ba0b4f90868e7546c369ea4333592b0356a6c72647)\n",
    "    * `pytest.mark.parametrize`\n",
    "    * `env_manager` with no `uv`...yet 🥹"
   ]
  },
  {
   "cell_type": "markdown",
   "metadata": {
    "application/vnd.databricks.v1+cell": {
     "cellMetadata": {},
     "inputWidgets": {},
     "nuid": "ad2a0973-269c-4efc-af1c-86e894b77a70",
     "showTitle": false,
     "tableResultSettingsMap": {},
     "title": ""
    }
   },
   "source": [
    "\n",
    "## Command Groups in MLflow CLI\n",
    "\n",
    "<br>\n",
    "\n",
    "```\n",
    "❯ uv run mlflow --help\n",
    "Usage: mlflow [OPTIONS] COMMAND [ARGS]...\n",
    "\n",
    "Options:\n",
    "  --version  Show the version and exit.\n",
    "  --help     Show this message and exit.\n",
    "\n",
    "Commands:\n",
    "  artifacts    Upload, list, and download artifacts from an MLflow...\n",
    "  db           Commands for managing an MLflow tracking database.\n",
    "  deployments  Deploy MLflow models to custom targets.\n",
    "  doctor       Prints out useful information for debugging issues with MLflow.\n",
    "  experiments  Manage experiments.\n",
    "  gc           Permanently delete runs in the `deleted` lifecycle stage.\n",
    "  models       Deploy MLflow models locally.\n",
    "  recipes      MLflow Recipes is deprecated and will be removed in MLflow...\n",
    "  run          Run an MLflow project from the given URI.\n",
    "  runs         Manage runs.\n",
    "  sagemaker    Serve models on SageMaker.\n",
    "  server       Run the MLflow tracking server.\n",
    "```"
   ]
  },
  {
   "cell_type": "markdown",
   "metadata": {
    "application/vnd.databricks.v1+cell": {
     "cellMetadata": {},
     "inputWidgets": {},
     "nuid": "87c05c46-22c4-4ae9-8d88-05f426e1b758",
     "showTitle": false,
     "tableResultSettingsMap": {},
     "title": ""
    }
   },
   "source": [
    "\n",
    "## Serve models on SageMaker\n",
    "\n",
    "<br>\n",
    "\n",
    "```\n",
    "❯ uv run mlflow sagemaker --help\n",
    "Usage: mlflow sagemaker [OPTIONS] COMMAND [ARGS]...\n",
    "\n",
    "  Serve models on SageMaker.\n",
    "\n",
    "  To serve a model associated with a run on a tracking server, set the\n",
    "  MLFLOW_TRACKING_URI environment variable to the URL of the desired server.\n",
    "\n",
    "Options:\n",
    "  --help  Show this message and exit.\n",
    "\n",
    "Commands:\n",
    "  build-and-push-container  Build new MLflow Sagemaker image, assign it a...\n",
    "  deploy-transform-job      Deploy model on Sagemaker as a batch...\n",
    "  push-model                Push an MLflow model to Sagemaker model...\n",
    "  terminate-transform-job   Terminate the specified Sagemaker batch...\n",
    "```"
   ]
  },
  {
   "cell_type": "markdown",
   "metadata": {
    "application/vnd.databricks.v1+cell": {
     "cellMetadata": {},
     "inputWidgets": {},
     "nuid": "b47f8092-4fbc-4f4b-9f78-831706c59d73",
     "showTitle": false,
     "tableResultSettingsMap": {},
     "title": ""
    }
   },
   "source": [
    "## mlflow sagemaker build_and_push_container\n",
    "\n",
    "Review [build_and_push_container](https://github.com/mlflow/mlflow/blob/master/mlflow/sagemaker/cli.py#L339-L346)"
   ]
  },
  {
   "cell_type": "markdown",
   "metadata": {
    "application/vnd.databricks.v1+cell": {
     "cellMetadata": {},
     "inputWidgets": {},
     "nuid": "3aa2fb9f-51f7-4165-b965-7788037922d6",
     "showTitle": false,
     "tableResultSettingsMap": {},
     "title": ""
    }
   },
   "source": [
    "\n",
    "<br>\n",
    "\n",
    "```\n",
    "❯ uv run mlflow sagemaker build-and-push-container\n",
    "...\n",
    "  File \"/Users/jacek/dev/sandbox/mlflow-python-sandbox/.venv/lib/python3.13/site-packages/click/core.py\", line 788, in invoke\n",
    "    return __callback(*args, **kwargs)\n",
    "  File \"/Users/jacek/dev/sandbox/mlflow-python-sandbox/.venv/lib/python3.13/site-packages/mlflow/sagemaker/cli.py\", line 384, in build_and_push_container\n",
    "    docker_utils.build_image_from_context(tmp, image_name=container)\n",
    "    ~~~~~~~~~~~~~~~~~~~~~~~~~~~~~~~~~~~~~^^^^^^^^^^^^^^^^^^^^^^^^^^^\n",
    "  File \"/Users/jacek/dev/sandbox/mlflow-python-sandbox/.venv/lib/python3.13/site-packages/mlflow/models/docker_utils.py\", line 221, in build_image_from_context\n",
    "    client = docker.from_env()\n",
    "  File \"/Users/jacek/dev/sandbox/mlflow-python-sandbox/.venv/lib/python3.13/site-packages/docker/client.py\", line 94, in from_env\n",
    "    return cls(\n",
    "        timeout=timeout,\n",
    "    ...<3 lines>...\n",
    "        **kwargs_from_env(**kwargs)\n",
    "    )\n",
    "  File \"/Users/jacek/dev/sandbox/mlflow-python-sandbox/.venv/lib/python3.13/site-packages/docker/client.py\", line 45, in __init__\n",
    "    self.api = APIClient(*args, **kwargs)\n",
    "               ~~~~~~~~~^^^^^^^^^^^^^^^^^\n",
    "  File \"/Users/jacek/dev/sandbox/mlflow-python-sandbox/.venv/lib/python3.13/site-packages/docker/api/client.py\", line 207, in __init__\n",
    "    self._version = self._retrieve_server_version()\n",
    "                    ~~~~~~~~~~~~~~~~~~~~~~~~~~~~~^^\n",
    "  File \"/Users/jacek/dev/sandbox/mlflow-python-sandbox/.venv/lib/python3.13/site-packages/docker/api/client.py\", line 230, in _retrieve_server_version\n",
    "    raise DockerException(\n",
    "        f'Error while fetching server API version: {e}'\n",
    "    ) from e\n",
    "docker.errors.DockerException: Error while fetching server API version: ('Connection aborted.', FileNotFoundError(2, 'No such file or directory'))\n",
    "```"
   ]
  },
  {
   "cell_type": "markdown",
   "metadata": {
    "application/vnd.databricks.v1+cell": {
     "cellMetadata": {},
     "inputWidgets": {},
     "nuid": "228b2cd4-d82b-4903-bdcf-e8d865fc682d",
     "showTitle": false,
     "tableResultSettingsMap": {},
     "title": ""
    }
   },
   "source": [
    "\n",
    "Looked at `mlflow/models/docker_utils.py:221`\n",
    "\n",
    "Found the following:\n",
    "\n",
    "<br>\n",
    "\n",
    "```py\n",
    "import docker\n",
    "client = docker.from_env()\n",
    "```\n",
    "\n",
    "That's exactly as pydoc says to connect to a Docker server.\n",
    "\n",
    "<br>\n",
    "\n",
    "```py\n",
    "uv run python -c \"import docker; help(docker.from_env)\"\n",
    "```\n",
    "\n",
    "And the very same Python code generates the error! It's Docker's, not MLflow's issue (sort of)."
   ]
  },
  {
   "cell_type": "markdown",
   "metadata": {
    "application/vnd.databricks.v1+cell": {
     "cellMetadata": {},
     "inputWidgets": {},
     "nuid": "1149ceb0-4119-452f-8ab4-73d1d28f755b",
     "showTitle": false,
     "tableResultSettingsMap": {},
     "title": ""
    }
   },
   "source": [
    "\n",
    "## docker_utils.build_image_from_context\n",
    "\n",
    "`docker_utils.build_image_from_context` used twice:\n",
    "\n",
    "1. [PyFuncBackend](https://github.com/mlflow/mlflow/blob/master/mlflow/pyfunc/backend.py#L388)\n",
    "1. SageMaker's [build-and-push-container](https://github.com/mlflow/mlflow/blob/master/mlflow/sagemaker/cli.py#L384)"
   ]
  },
  {
   "cell_type": "markdown",
   "metadata": {
    "application/vnd.databricks.v1+cell": {
     "cellMetadata": {},
     "inputWidgets": {},
     "nuid": "ddf957ff-a0ed-4c64-b04f-17b9af4a1005",
     "showTitle": false,
     "tableResultSettingsMap": {},
     "title": ""
    }
   },
   "source": [
    "\n",
    "## MLflow Models and Flavors\n",
    "\n",
    "The [mlflow.models](https://mlflow.org/docs/latest/api_reference/python_api/mlflow.models.html) module provides an API for saving machine learning models in \"flavors\" that can be understood by different downstream tools.\n",
    "\n",
    "✨ Flavors ✨\n",
    "\n",
    "[MLflow Models](https://mlflow.org/docs/latest/model):\n",
    "* Each MLflow Model is a directory containing arbitrary files, (...) that can define multiple flavors that the model can be viewed in.\n",
    "* Flavors are the key concept that makes MLflow Models powerful: they are a convention that deployment tools can use to understand the model\n",
    "* MLflow defines several \"standard\" flavors that all of its built-in deployment tools support\n",
    "    * \"Python function\" flavor describes how to run the model as a Python function\n",
    "    * MLflow's [mlflow.sklearn](https://mlflow.org/docs/latest/api_reference/python_api/mlflow.sklearn.html#mlflow.sklearn) library allows loading models back as a scikit-learn `Pipeline` object\n",
    "    * All the flavours a particular model supports are defined in its `MLmodel` file in YAML format"
   ]
  },
  {
   "cell_type": "markdown",
   "metadata": {
    "application/vnd.databricks.v1+cell": {
     "cellMetadata": {},
     "inputWidgets": {},
     "nuid": "fcec9f4e-23d2-4211-8b9e-2933c039ca6b",
     "showTitle": false,
     "tableResultSettingsMap": {},
     "title": ""
    }
   },
   "source": [
    "\n",
    "### Train Model\n",
    "\n",
    "<br>\n",
    "\n",
    "```\n",
    "❯ MLFLOW_TRACKING_URI=http://127.0.0.1:5000 uv run python train.py\n",
    "Score: 0.6666666666666666\n",
    "2025/04/06 21:12:01 WARNING mlflow.utils.environment: Failed to resolve installed pip version. ``pip`` will be added to conda.yaml environment spec without a version specifier.\n",
    "Model saved in run 79bd048bee894af9a8b743e107bf0b84\n",
    "🏃 View run silent-eel-59 at: http://127.0.0.1:5000/#/experiments/0/runs/79bd048bee894af9a8b743e107bf0b84\n",
    "🧪 View experiment at: http://127.0.0.1:5000/#/experiments/0\n",
    "```"
   ]
  },
  {
   "cell_type": "markdown",
   "metadata": {
    "application/vnd.databricks.v1+cell": {
     "cellMetadata": {},
     "inputWidgets": {},
     "nuid": "edffb42f-8744-4841-ba28-7f99c3066c30",
     "showTitle": false,
     "tableResultSettingsMap": {},
     "title": ""
    }
   },
   "source": [
    "### Review Model\n",
    "\n",
    "`mlartifacts/0/79bd048bee894af9a8b743e107bf0b84/artifacts/model`\n",
    "\n",
    "Review the `MLmodel` to learn about the supported flavors.\n",
    "\n",
    "<br>\n",
    "\n",
    "```\n",
    "❯ more mlartifacts/0/79bd048bee894af9a8b743e107bf0b84/artifacts/model/MLmodel\n",
    "artifact_path: model\n",
    "flavors:\n",
    "  python_function:\n",
    "    env:\n",
    "      conda: conda.yaml\n",
    "      virtualenv: python_env.yaml\n",
    "    loader_module: mlflow.sklearn\n",
    "    model_path: model.pkl\n",
    "    predict_fn: predict\n",
    "    python_version: 3.13.2\n",
    "  sklearn:\n",
    "    code: null\n",
    "    pickled_model: model.pkl\n",
    "    serialization_format: cloudpickle\n",
    "    sklearn_version: 1.6.1\n",
    "is_signature_from_type_hint: false\n",
    "mlflow_version: 2.21.3\n",
    "model_size_bytes: 903\n",
    "model_uuid: d87e298020494e48b98d4c88c861931e\n",
    "prompts: null\n",
    "run_id: 79bd048bee894af9a8b743e107bf0b84\n",
    "saved_input_example_info:\n",
    "  artifact_path: input_example.json\n",
    "  serving_input_path: serving_input_example.json\n",
    "  type: ndarray\n",
    "signature:\n",
    "  inputs: '[{\"type\": \"tensor\", \"tensor-spec\": {\"dtype\": \"int64\", \"shape\": [-1, 1]}}]'\n",
    "  outputs: '[{\"type\": \"tensor\", \"tensor-spec\": {\"dtype\": \"int64\", \"shape\": [-1]}}]'\n",
    "  params: null\n",
    "type_hint_from_example: false\n",
    "utc_time_created: '2025-04-06 19:11:58.786326'\n",
    "```"
   ]
  },
  {
   "cell_type": "markdown",
   "metadata": {
    "application/vnd.databricks.v1+cell": {
     "cellMetadata": {},
     "inputWidgets": {},
     "nuid": "6a505e53-6727-4a28-bac9-b12a279e3e5a",
     "showTitle": false,
     "tableResultSettingsMap": {},
     "title": ""
    }
   },
   "source": [
    "\n",
    "## Built-In Model Flavors\n",
    "\n",
    "[Built-In Model Flavors](https://mlflow.org/docs/latest/model#models_built-in-model-flavors)\n",
    "\n",
    "The list is neither ordered nor complete.\n",
    "\n",
    "Have a look at [mlflow/models/\\_\\_init__.py](https://github.com/mlflow/mlflow/blob/master/mlflow/models/__init__.py)."
   ]
  },
  {
   "cell_type": "markdown",
   "metadata": {
    "application/vnd.databricks.v1+cell": {
     "cellMetadata": {},
     "inputWidgets": {},
     "nuid": "3f6751bd-a26b-4e99-b980-e37fcaa1a560",
     "showTitle": false,
     "tableResultSettingsMap": {},
     "title": ""
    }
   },
   "source": [
    "\n",
    "## mlflow sagemaker build_and_push_container Works Finally 🥳\n",
    "\n",
    "Remember how `uv run mlflow sagemaker build-and-push-container` failed?! 😩\n",
    "\n",
    "[Environment variables](https://docs.docker.com/reference/cli/docker/#environment-variables):\n",
    "\n",
    "* `DOCKER_CONTEXT` Name of the docker context to use (overrides `DOCKER_HOST` env var and default context set with `docker context use`)\n",
    "\n",
    "A'ha moment: `docker context`"
   ]
  },
  {
   "cell_type": "markdown",
   "metadata": {
    "application/vnd.databricks.v1+cell": {
     "cellMetadata": {},
     "inputWidgets": {},
     "nuid": "1e183284-c107-4b33-816d-05c58e65716f",
     "showTitle": false,
     "tableResultSettingsMap": {},
     "title": ""
    }
   },
   "source": [
    "\n",
    "<br>\n",
    "\n",
    "```\n",
    "❯ docker context inspect\n",
    "[\n",
    "    {\n",
    "        \"Name\": \"desktop-linux\",\n",
    "        \"Metadata\": {\n",
    "            \"Description\": \"Docker Desktop\"\n",
    "        },\n",
    "        \"Endpoints\": {\n",
    "            \"docker\": {\n",
    "                \"Host\": \"unix:///Users/jacek/.docker/run/docker.sock\",\n",
    "                \"SkipTLSVerify\": false\n",
    "            }\n",
    "        },\n",
    "        \"TLSMaterial\": {},\n",
    "        \"Storage\": {\n",
    "            \"MetadataPath\": \"/Users/jacek/.docker/contexts/meta/fe9c6bd7a66301f49ca9b6a70b217107cd1284598bfc254700c989b916da791e\",\n",
    "            \"TLSPath\": \"/Users/jacek/.docker/contexts/tls/fe9c6bd7a66301f49ca9b6a70b217107cd1284598bfc254700c989b916da791e\"\n",
    "        }\n",
    "    }\n",
    "]\n",
    "```"
   ]
  },
  {
   "cell_type": "markdown",
   "metadata": {
    "application/vnd.databricks.v1+cell": {
     "cellMetadata": {},
     "inputWidgets": {},
     "nuid": "8852ea24-23c3-43d4-97a0-47ba77a230dc",
     "showTitle": false,
     "tableResultSettingsMap": {},
     "title": ""
    }
   },
   "source": [
    "\n",
    "<br>\n",
    "\n",
    "```\n",
    "❯ DOCKER_HOST=\"unix:///Users/jacek/.docker/run/docker.sock\" uv run mlflow sagemaker build-and-push-container\n",
    "[+] Building 136.8s (10/20)                                                                                                                                                  docker:default\n",
    " => [internal] load build definition from Dockerfile                                                                                                                                   0.0s\n",
    " => => transferring dockerfile: 2.43kB                                                                                                                                                 0.0s\n",
    " => [internal] load metadata for docker.io/library/ubuntu:20.04                                                                                                                        4.8s\n",
    " => [auth] library/ubuntu:pull token for registry-1.docker.io                                                                                                                          0.0s\n",
    " => [internal] load .dockerignore                                                                                                                                                      0.0s\n",
    " ...\n",
    "Traceback (most recent call last):\n",
    "  File \"/Users/jacek/dev/sandbox/mlflow-python-sandbox/.venv/bin/mlflow\", line 10, in <module>\n",
    "    sys.exit(cli())\n",
    "             ~~~^^\n",
    "  File \"/Users/jacek/dev/sandbox/mlflow-python-sandbox/.venv/lib/python3.13/site-packages/click/core.py\", line 1161, in __call__\n",
    "    return self.main(*args, **kwargs)\n",
    "           ~~~~~~~~~^^^^^^^^^^^^^^^^^\n",
    "  File \"/Users/jacek/dev/sandbox/mlflow-python-sandbox/.venv/lib/python3.13/site-packages/click/core.py\", line 1082, in main\n",
    "    rv = self.invoke(ctx)\n",
    "  File \"/Users/jacek/dev/sandbox/mlflow-python-sandbox/.venv/lib/python3.13/site-packages/click/core.py\", line 1697, in invoke\n",
    "    return _process_result(sub_ctx.command.invoke(sub_ctx))\n",
    "                           ~~~~~~~~~~~~~~~~~~~~~~^^^^^^^^^\n",
    "  File \"/Users/jacek/dev/sandbox/mlflow-python-sandbox/.venv/lib/python3.13/site-packages/click/core.py\", line 1697, in invoke\n",
    "    return _process_result(sub_ctx.command.invoke(sub_ctx))\n",
    "                           ~~~~~~~~~~~~~~~~~~~~~~^^^^^^^^^\n",
    "  File \"/Users/jacek/dev/sandbox/mlflow-python-sandbox/.venv/lib/python3.13/site-packages/click/core.py\", line 1443, in invoke\n",
    "    return ctx.invoke(self.callback, **ctx.params)\n",
    "           ~~~~~~~~~~^^^^^^^^^^^^^^^^^^^^^^^^^^^^^\n",
    "  File \"/Users/jacek/dev/sandbox/mlflow-python-sandbox/.venv/lib/python3.13/site-packages/click/core.py\", line 788, in invoke\n",
    "    return __callback(*args, **kwargs)\n",
    "  File \"/Users/jacek/dev/sandbox/mlflow-python-sandbox/.venv/lib/python3.13/site-packages/mlflow/sagemaker/cli.py\", line 386, in build_and_push_container\n",
    "    mlflow.sagemaker.push_image_to_ecr(container)\n",
    "    ~~~~~~~~~~~~~~~~~~~~~~~~~~~~~~~~~~^^^^^^^^^^^\n",
    "  File \"/Users/jacek/dev/sandbox/mlflow-python-sandbox/.venv/lib/python3.13/site-packages/mlflow/sagemaker/__init__.py\", line 129, in push_image_to_ecr\n",
    "    import boto3\n",
    "ModuleNotFoundError: No module named 'boto3'\n",
    "```"
   ]
  },
  {
   "cell_type": "markdown",
   "metadata": {
    "application/vnd.databricks.v1+cell": {
     "cellMetadata": {},
     "inputWidgets": {},
     "nuid": "ec4b01cb-3883-47f1-975a-02561b81f666",
     "showTitle": false,
     "tableResultSettingsMap": {},
     "title": ""
    }
   },
   "source": [
    "## That's all Folks 👋\n",
    "\n",
    "![Warner Bros., Public domain, via Wikimedia Commons](https://upload.wikimedia.org/wikipedia/commons/e/ea/Thats_all_folks.svg)"
   ]
  },
  {
   "cell_type": "markdown",
   "metadata": {
    "application/vnd.databricks.v1+cell": {
     "cellMetadata": {},
     "inputWidgets": {},
     "nuid": "05c2a330-6774-48e4-9794-6899187409a2",
     "showTitle": false,
     "tableResultSettingsMap": {},
     "title": ""
    }
   },
   "source": [
    "\n",
    "# 💡 Ideas for Future Events\n",
    "\n",
    "1. [Delta Live Tables](https://docs.databricks.com/en/delta-live-tables/index.html) with uv and pydantic\n",
    "1. Explore more [Pydantic](https://docs.pydantic.dev/latest/) features\n",
    "1. Create a new DAB template with `uv` as the project management tool (based on `default-python` template). Start from `databricks bundle init --help`.\n"
   ]
  },
  {
   "cell_type": "markdown",
   "metadata": {
    "application/vnd.databricks.v1+cell": {
     "cellMetadata": {},
     "inputWidgets": {},
     "nuid": "04222df7-b8fb-4283-8249-b25ea4bc7dad",
     "showTitle": false,
     "tableResultSettingsMap": {},
     "title": ""
    }
   },
   "source": [
    "\n",
    "## MLflow Prompt Registry\n",
    "\n",
    "In [MLflow 2.21.0](https://github.com/mlflow/mlflow/releases/tag/v2.21.0):\n",
    "\n",
    ">  **Prompt Registry**: MLflow Prompt Registry is a powerful tool that streamlines prompt engineering and management in your GenAI applications. It enables you to version, track, and reuse prompts across your organization.\n",
    "\n",
    "[MLflow Prompt Registry](https://mlflow.org/docs/latest/prompts/)"
   ]
  },
  {
   "cell_type": "markdown",
   "metadata": {
    "application/vnd.databricks.v1+cell": {
     "cellMetadata": {},
     "inputWidgets": {},
     "nuid": "3dc54dc6-a168-41af-9b02-9cec20f3fe5f",
     "showTitle": false,
     "tableResultSettingsMap": {},
     "title": ""
    }
   },
   "source": [
    "## MLflow Tracing\n",
    "\n",
    "In [MLflow 2.21.0](https://github.com/mlflow/mlflow/releases/tag/v2.21.0):\n",
    "\n",
    ">  **Enhanced Tracing Capabilities**: MLflow Tracing now supports synchronous/asynchronous generators and auto-tracing for Async OpenAI, providing more flexible and comprehensive tracing options.\n",
    "\n",
    "[MLflow Tracing for LLM Observability](https://mlflow.org/docs/latest/tracing/)"
   ]
  },
  {
   "cell_type": "markdown",
   "metadata": {
    "application/vnd.databricks.v1+cell": {
     "cellMetadata": {},
     "inputWidgets": {},
     "nuid": "2c9fd670-cd81-4029-950a-b91a77ffbc84",
     "showTitle": false,
     "tableResultSettingsMap": {},
     "title": ""
    }
   },
   "source": [
    "\n",
    "## Databricks Asset Bundles and Library Dependencies\n",
    "\n",
    "[PyPI package](https://docs.databricks.com/aws/en/dev-tools/bundles/library-dependencies#pypi-package)\n",
    "\n",
    "Databricks CLI v0.244.0: [Support all version identifiers as per PEP440 in environment deps](https://github.com/databricks/cli/releases/tag/v0.244.0)"
   ]
  },
  {
   "cell_type": "markdown",
   "metadata": {
    "application/vnd.databricks.v1+cell": {
     "cellMetadata": {},
     "inputWidgets": {},
     "nuid": "d858051b-e44a-40e6-8a21-a135267d678d",
     "showTitle": false,
     "tableResultSettingsMap": {},
     "title": ""
    }
   },
   "source": [
    "\n",
    "## Databricks Asset Bundles and Set the target catalog and schema\n",
    "\n",
    "Databricks CLI v0.243.0: [Use schema field for pipeline in builtin template](https://github.com/databricks/cli/releases/tag/v0.243.0):\n",
    "\n",
    "> The schema field implies the lifecycle of tables is no longer tied to the lifecycle of the pipeline, as was the case with the target field.\n",
    "\n",
    "[Set the target catalog and schema](https://docs.databricks.com/aws/en/dlt/target-schema)"
   ]
  },
  {
   "cell_type": "markdown",
   "metadata": {
    "application/vnd.databricks.v1+cell": {
     "cellMetadata": {},
     "inputWidgets": {},
     "nuid": "c5c1bce4-06bf-477e-9090-4e256add3db2",
     "showTitle": false,
     "tableResultSettingsMap": {},
     "title": ""
    }
   },
   "source": [
    "## uv with PyTorch\n",
    "\n",
    "uv 0.6.9: [Add experimental --torch-backend to the PyTorch guide](https://github.com/astral-sh/uv/releases/tag/0.6.9)\n",
    "\n",
    "[Using uv with PyTorch](https://docs.astral.sh/uv/guides/integration/pytorch/)"
   ]
  }
 ],
 "metadata": {
  "application/vnd.databricks.v1+notebook": {
   "computePreferences": null,
   "dashboards": [],
   "environmentMetadata": null,
   "inputWidgetPreferences": null,
   "language": "python",
   "notebookMetadata": {
    "pythonIndentUnit": 4
   },
   "notebookName": "Meetup_2025_04_10",
   "widgets": {}
  },
  "language_info": {
   "name": "python"
  }
 },
 "nbformat": 4,
 "nbformat_minor": 0
}
