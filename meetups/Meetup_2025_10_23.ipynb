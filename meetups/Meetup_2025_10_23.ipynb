{
 "cells": [
  {
   "cell_type": "markdown",
   "metadata": {
    "application/vnd.databricks.v1+cell": {
     "cellMetadata": {},
     "inputWidgets": {},
     "nuid": "6a46b538-5343-4bc0-b5fc-97449b4aa283",
     "showTitle": false,
     "tableResultSettingsMap": {},
     "title": ""
    }
   },
   "source": [
    "# Building Model Context Protocol (MCP) servers in Python cntd.\n",
    "\n",
    "Thursday, Oct 23, 2025\n",
    "\n",
    "[Meetup](https://www.meetup.com/warsaw-data-engineering/events/311629283/) • [LinkedIn](https://www.linkedin.com/feed/update/urn:li:activity:7386315947587833856)"
   ]
  },
  {
   "cell_type": "markdown",
   "metadata": {
    "application/vnd.databricks.v1+cell": {
     "cellMetadata": {},
     "inputWidgets": {},
     "nuid": "dd081a26-c5e2-444a-875d-64c485221a95",
     "showTitle": false,
     "tableResultSettingsMap": {},
     "title": ""
    }
   },
   "source": [
    "\n",
    "# 📚 Agenda\n",
    "\n",
    "1. Stworzysz projekt MCP w Pythonie i uv\n",
    "1. Stworzysz serwer MCP i połączysz go z ulubionym AI Coding Assistant (koncentrujemy się na [Continue.dev](https://www.continue.dev/), Windsurf i Claude Code)\n",
    "1. Dowiesz się, czym są MCP tools, prompts oraz resources.\n",
    "1. Dowiesz się o sposobach komunikacji w MCP (przez pryzmat specyfikacji MCP oraz jej implementacji)\n",
    "\n",
    "⏰ Całkowity czas trwania spotkania: **1h 15min**"
   ]
  },
  {
   "cell_type": "markdown",
   "metadata": {
    "application/vnd.databricks.v1+cell": {
     "cellMetadata": {},
     "inputWidgets": {},
     "nuid": "0099d7a7-078c-4a57-8671-dcd404040811",
     "showTitle": false,
     "tableResultSettingsMap": {},
     "title": ""
    }
   },
   "source": [
    "\n",
    "# 🙋‍♀️ Event Question\n",
    "\n",
    "[O czym chciał(a)byś usłyszeć o MCP podczas tego meetupu?](https://www.meetup.com/warsaw-data-engineering/events/311629283/attendees/) 🙏\n",
    "\n",
    "1. Jak tworzyć ETL za pomocą MCP\n",
    "1. use case\n",
    "1. o realnych use case'ach i implementacjach\n",
    "1. How to create it"
   ]
  },
  {
   "cell_type": "markdown",
   "metadata": {
    "application/vnd.databricks.v1+cell": {
     "cellMetadata": {},
     "inputWidgets": {},
     "nuid": "811aaee2-66d6-4833-84d3-c5971e3359ad",
     "showTitle": false,
     "tableResultSettingsMap": {},
     "title": ""
    }
   },
   "source": [
    "# 📢 News\n",
    "\n",
    "Things worth watching out for..."
   ]
  },
  {
   "cell_type": "markdown",
   "metadata": {
    "application/vnd.databricks.v1+cell": {
     "cellMetadata": {},
     "inputWidgets": {},
     "nuid": "f0e2d493-eba8-48ef-b8b8-3681b4e87d69",
     "showTitle": false,
     "tableResultSettingsMap": {},
     "title": ""
    }
   },
   "source": [
    "\n",
    "## New members in Warsaw Data Engineering!\n",
    "\n",
    "[You now have 628 members!](https://www.meetup.com/warsaw-data-engineering/)"
   ]
  },
  {
   "cell_type": "markdown",
   "metadata": {
    "application/vnd.databricks.v1+cell": {
     "cellMetadata": {},
     "inputWidgets": {},
     "nuid": "911c3ac7-09bf-45dd-9a57-2d8de1c5aa67",
     "showTitle": false,
     "tableResultSettingsMap": {},
     "title": ""
    }
   },
   "source": [
    "\n",
    "## New Versions\n",
    "\n",
    "What has changed in the tooling space since we last met? I.e. hunting down the features to learn more about.\n",
    "\n",
    "* [modelcontextprotocol/python-sdk v1.18.0](https://github.com/modelcontextprotocol/python-sdk/releases/tag/v1.18.0)\n",
    "    * [feat: add resource annotations support to FastMCP #1468](https://github.com/modelcontextprotocol/python-sdk/pull/1468)\n",
    "* [openai/openai-agents-python v0.4.1](https://github.com/openai/openai-agents-python/releases/tag/v0.4.1)\n",
    "* [pydantic/pydantic-ai v1.2.0 (2025-10-20)](https://github.com/pydantic/pydantic-ai/releases/tag/v1.2.0)\n",
    "    * [Strip markdown fences when generating evals datasets #3141](https://github.com/pydantic/pydantic-ai/pull/3141)"
   ]
  },
  {
   "cell_type": "markdown",
   "metadata": {
    "application/vnd.databricks.v1+cell": {
     "cellMetadata": {},
     "inputWidgets": {},
     "nuid": "41e3b039-f333-493d-a139-69318100891f",
     "showTitle": false,
     "tableResultSettingsMap": {},
     "title": ""
    }
   },
   "source": [
    "\n",
    "# 🧑‍💻 Demo 1️⃣: Simple MCP Server\n",
    "\n",
    "[Quickstart](https://github.com/modelcontextprotocol/python-sdk?tab=readme-ov-file#quickstart).\n",
    "\n",
    "The basics:\n",
    "\n",
    "1. `from mcp.server.fastmcp import FastMCP`\n",
    "1. `mcp = FastMCP(\"Meetup_Oct_23\")`"
   ]
  },
  {
   "cell_type": "markdown",
   "metadata": {
    "application/vnd.databricks.v1+cell": {
     "cellMetadata": {},
     "inputWidgets": {},
     "nuid": "0d0146d0-fe70-4fdb-9d94-3be97ef0c466",
     "showTitle": false,
     "tableResultSettingsMap": {},
     "title": ""
    }
   },
   "source": [
    "## DSPy and MCP\n",
    "\n",
    "Just FYI that in the latest release of [DSPy](https://dspy.ai/), they added the docs about [Model Context Protocol (MCP)](https://dspy.ai/learn/programming/mcp/) ❤️\n",
    "\n",
    "1. The Model Context Protocol (MCP) is an open protocol that standardizes how applications provide context to language models.\n",
    "1. DSPy supports MCP, allowing you to use tools from any MCP server with DSPy agents."
   ]
  },
  {
   "cell_type": "markdown",
   "metadata": {
    "application/vnd.databricks.v1+cell": {
     "cellMetadata": {},
     "inputWidgets": {},
     "nuid": "18f0b2d7-cf4b-48c9-ba9d-a9620dcc3fbe",
     "showTitle": false,
     "tableResultSettingsMap": {},
     "title": ""
    }
   },
   "source": [
    "## MCP Server Features\n",
    "\n",
    "⚠️ tl;dr You should read the [MCP spec](https://modelcontextprotocol.io/specification/2025-06-18).\n",
    "\n",
    "I found many answers in the [MCP spec](https://modelcontextprotocol.io/specification/2025-06-18) itself, esp. [2.2 Features](https://modelcontextprotocol.io/specification/2025-06-18#features):\n",
    "\n",
    "Servers offer any of the following features to clients:\n",
    "* **Resources** (`@mcp.resource`): Context and data, for the user or the AI model to use\n",
    "* **Prompts** (`@mcp.prompt`): Templated messages and workflows for users\n",
    "* **Tools** (`@mcp.tool`): Functions for the AI model to execute\n",
    "\n",
    "All better described in [Server Features](https://modelcontextprotocol.io/specification/2025-06-18/server)."
   ]
  },
  {
   "cell_type": "markdown",
   "metadata": {
    "application/vnd.databricks.v1+cell": {
     "cellMetadata": {},
     "inputWidgets": {},
     "nuid": "97fc92db-a7cf-4a69-8956-c12f0ca31719",
     "showTitle": false,
     "tableResultSettingsMap": {},
     "title": ""
    }
   },
   "source": [
    "# That's all Folks! 👋\n",
    "\n",
    "![Warner Bros., Public domain, via Wikimedia Commons](https://upload.wikimedia.org/wikipedia/commons/e/ea/Thats_all_folks.svg)"
   ]
  },
  {
   "cell_type": "markdown",
   "metadata": {
    "application/vnd.databricks.v1+cell": {
     "cellMetadata": {},
     "inputWidgets": {},
     "nuid": "f51c1479-b26a-4f74-b5de-ad9e2a6efbe8",
     "showTitle": false,
     "tableResultSettingsMap": {},
     "title": ""
    }
   },
   "source": [
    "\n",
    "# 🙋 Questions and Answers"
   ]
  },
  {
   "cell_type": "markdown",
   "metadata": {
    "application/vnd.databricks.v1+cell": {
     "cellMetadata": {},
     "inputWidgets": {},
     "nuid": "a2d18bd4-1785-4bdb-9331-20895382b515",
     "showTitle": false,
     "tableResultSettingsMap": {},
     "title": ""
    }
   },
   "source": [
    "\n",
    "# 💡 Ideas for Future Events\n",
    "\n",
    "➡️ [Ideas for Future Events]($./Ideas for Future Events)"
   ]
  }
 ],
 "metadata": {
  "application/vnd.databricks.v1+notebook": {
   "computePreferences": null,
   "dashboards": [],
   "environmentMetadata": null,
   "inputWidgetPreferences": null,
   "language": "python",
   "notebookMetadata": {
    "pythonIndentUnit": 4
   },
   "notebookName": "Meetup_2025_10_23",
   "widgets": {}
  },
  "language_info": {
   "name": "python"
  }
 },
 "nbformat": 4,
 "nbformat_minor": 0
}
