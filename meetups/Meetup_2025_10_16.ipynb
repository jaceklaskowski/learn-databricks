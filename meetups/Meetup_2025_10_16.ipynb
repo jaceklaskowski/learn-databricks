{
 "cells": [
  {
   "cell_type": "markdown",
   "metadata": {
    "application/vnd.databricks.v1+cell": {
     "cellMetadata": {},
     "inputWidgets": {},
     "nuid": "6a46b538-5343-4bc0-b5fc-97449b4aa283",
     "showTitle": false,
     "tableResultSettingsMap": {},
     "title": ""
    }
   },
   "source": [
    "# Building Model Context Protocol (MCP) servers in Python\n",
    "\n",
    "Thursday, Oct 16, 2025\n",
    "\n",
    "[Meetup](https://www.meetup.com/warsaw-data-engineering/events/311509380/) • [LinkedIn](https://www.linkedin.com/feed/update/urn:li:activity:7383240086492086272)"
   ]
  },
  {
   "cell_type": "markdown",
   "metadata": {
    "application/vnd.databricks.v1+cell": {
     "cellMetadata": {},
     "inputWidgets": {},
     "nuid": "dd081a26-c5e2-444a-875d-64c485221a95",
     "showTitle": false,
     "tableResultSettingsMap": {},
     "title": ""
    }
   },
   "source": [
    "\n",
    "# 📚 Agenda\n",
    "\n",
    "1. Wprowadzenie do Model Context Protocol (MCP) (kolejny \"trzyliterowiec\")\n",
    "1. Stworzysz projekt MCP w Pythonie (i ulubionym uv, który nota bene jest promowany w takim zestawieniu)\n",
    "1. Stworzysz serwer MCP i połączysz go z ulubionym AI Coding Assistant (Windsurf, Cursor czy Claude Code)\n",
    "\n",
    "W trakcie spotkania próbujemy odpowiedzieć na pytanie:\n",
    "\n",
    "> W jaki sposób MCP może pomóc Data Engineers w tworzeniu ETLi (chociażby z pomocą SDP)?\n",
    "\n",
    "⏰ Całkowity czas trwania spotkania: **1h 15min**"
   ]
  },
  {
   "cell_type": "markdown",
   "metadata": {
    "application/vnd.databricks.v1+cell": {
     "cellMetadata": {},
     "inputWidgets": {},
     "nuid": "0099d7a7-078c-4a57-8671-dcd404040811",
     "showTitle": false,
     "tableResultSettingsMap": {},
     "title": ""
    }
   },
   "source": [
    "\n",
    "# 🙋‍♀️ Event Question\n",
    "\n",
    "[O czym chciał(a)byś usłyszeć o MCP podczas tego meetupu?](https://www.meetup.com/warsaw-data-engineering/events/311509380/attendees/) 🙏\n",
    "\n",
    "1. jak go stworzyć i używać :)\n",
    "1. Najlepsze praktyki, od czego zacząć, dos and dont's\n",
    "1. practical mcp server creation"
   ]
  },
  {
   "cell_type": "markdown",
   "metadata": {
    "application/vnd.databricks.v1+cell": {
     "cellMetadata": {},
     "inputWidgets": {},
     "nuid": "d3fb9f29-d249-4a25-aa46-20d9ed235017",
     "showTitle": false,
     "tableResultSettingsMap": {},
     "title": ""
    }
   },
   "source": [
    "\n",
    "## Intro to Model Context Protocol (MCP)\n",
    "\n",
    "1. An open-source standard for connecting AI applications to external systems.\n",
    "1. AI applications\n",
    "    * Claude\n",
    "    * ChatGPT\n",
    "1. External systems\n",
    "    * Data sources (e.g. local files, databases)\n",
    "    * Tools (e.g. search engines, calculators)\n",
    "    * Workflows (e.g. specialized prompts)\n",
    "1. Access to information and to perform tasks\n",
    "\n",
    "[What is the Model Context Protocol (MCP)?](https://modelcontextprotocol.io/docs/getting-started/intro)"
   ]
  },
  {
   "cell_type": "markdown",
   "metadata": {
    "application/vnd.databricks.v1+cell": {
     "cellMetadata": {},
     "inputWidgets": {},
     "nuid": "d415c2e7-771a-410b-84aa-48d191ca90c5",
     "showTitle": false,
     "tableResultSettingsMap": {},
     "title": ""
    }
   },
   "source": [
    "## MCP Python SDK\n",
    "\n",
    "[MCP Python SDK](https://github.com/modelcontextprotocol/python-sdk)\n",
    "\n",
    "1. [This Python SDK implements the full MCP specification](https://github.com/modelcontextprotocol/python-sdk?tab=readme-ov-file#overview)"
   ]
  },
  {
   "cell_type": "markdown",
   "metadata": {
    "application/vnd.databricks.v1+cell": {
     "cellMetadata": {},
     "inputWidgets": {},
     "nuid": "1babddbe-cf68-4f0c-9da4-8b6ef0ea3bcc",
     "showTitle": false,
     "tableResultSettingsMap": {},
     "title": ""
    }
   },
   "source": [
    "\n",
    "## Windsurf\n",
    "\n",
    "[Windsurf Editor Changelog](https://windsurf.com/changelog) / 1.12.18 / October 14, 2025:\n",
    "\n",
    "1. Fixes issue with custom MCP servers not being displayed correctly in the new MCP panel."
   ]
  },
  {
   "cell_type": "markdown",
   "metadata": {
    "application/vnd.databricks.v1+cell": {
     "cellMetadata": {},
     "inputWidgets": {},
     "nuid": "572ae119-80bc-40fd-855a-704030af874f",
     "showTitle": false,
     "tableResultSettingsMap": {},
     "title": ""
    }
   },
   "source": [
    "\n",
    "## Continue.dev\n",
    "\n",
    "Lots of MCP-related changes in [v1.0.48-jetbrains](https://github.com/continuedev/continue/releases/tag/v1.0.48-jetbrains)! ❤️"
   ]
  },
  {
   "cell_type": "markdown",
   "metadata": {
    "application/vnd.databricks.v1+cell": {
     "cellMetadata": {},
     "inputWidgets": {},
     "nuid": "972b2dd6-8ef3-4722-b3e2-76afccdd64b7",
     "showTitle": false,
     "tableResultSettingsMap": {},
     "title": ""
    }
   },
   "source": [
    "\n",
    "# 🧑‍💻 Demo 1️⃣: Simple MCP Server\n",
    "\n",
    "[Quickstart](https://github.com/modelcontextprotocol/python-sdk?tab=readme-ov-file#quickstart):\n",
    "\n",
    "1. `from mcp.server.fastmcp import FastMCP`\n",
    "1. `mcp = FastMCP(\"Demo\")`\n",
    "1. `@mcp.tool`\n",
    "1. `@mcp.resource`\n",
    "1. `@mcp.prompt`"
   ]
  },
  {
   "cell_type": "markdown",
   "metadata": {
    "application/vnd.databricks.v1+cell": {
     "cellMetadata": {},
     "inputWidgets": {},
     "nuid": "375cf56c-e0b1-46b8-8811-763315da5590",
     "showTitle": false,
     "tableResultSettingsMap": {},
     "title": ""
    }
   },
   "source": [
    "\n",
    "```shell\n",
    "uv add \"mcp[cli]\"\n",
    "```"
   ]
  },
  {
   "cell_type": "markdown",
   "metadata": {
    "application/vnd.databricks.v1+cell": {
     "cellMetadata": {},
     "inputWidgets": {},
     "nuid": "9aa52302-9c75-4556-9310-28db137d7f26",
     "showTitle": false,
     "tableResultSettingsMap": {},
     "title": ""
    }
   },
   "source": [
    "\n",
    "## Dependencies\n",
    "\n",
    "[project.optional-dependencies](https://github.com/modelcontextprotocol/python-sdk/blob/main/pyproject.toml#L38-L41) in `pyproject.toml`\n",
    "\n",
    "<br>\n",
    "\n",
    "```\n",
    "❯ uv tree --depth 2\n",
    "Resolved 35 packages in 12ms\n",
    "my-mcp-server v0.1.0\n",
    "└── mcp[cli] v1.17.0\n",
    "    ├── anyio v4.11.0\n",
    "    ├── httpx v0.28.1\n",
    "    ├── httpx-sse v0.4.3\n",
    "    ├── jsonschema v4.25.1\n",
    "    ├── pydantic v2.12.2\n",
    "    ├── pydantic-settings v2.11.0\n",
    "    ├── python-multipart v0.0.20\n",
    "    ├── sse-starlette v3.0.2\n",
    "    ├── starlette v0.48.0\n",
    "    ├── uvicorn v0.37.0\n",
    "    ├── python-dotenv v1.1.1 (extra: cli)\n",
    "    └── typer v0.19.2 (extra: cli)\n",
    "```"
   ]
  },
  {
   "cell_type": "markdown",
   "metadata": {
    "application/vnd.databricks.v1+cell": {
     "cellMetadata": {},
     "inputWidgets": {},
     "nuid": "d841dff3-6704-4485-8284-681660f78d36",
     "showTitle": false,
     "tableResultSettingsMap": {},
     "title": ""
    }
   },
   "source": [
    "\n",
    "```\n",
    ">>> from mcp.server import fastmcp\n",
    ">>> fastmcp.__version__\n",
    "'1.17.1.dev6+de89457'\n",
    "```"
   ]
  },
  {
   "cell_type": "markdown",
   "metadata": {
    "application/vnd.databricks.v1+cell": {
     "cellMetadata": {},
     "inputWidgets": {},
     "nuid": "ca89132d-85c8-4937-894c-d853f82a2da6",
     "showTitle": false,
     "tableResultSettingsMap": {},
     "title": ""
    }
   },
   "source": [
    "\n",
    "## Run standalone MCP development tools\n",
    "\n",
    "<br>\n",
    "\n",
    "```\n",
    "uv run mcp\n",
    "```\n",
    "\n",
    "<br>\n",
    "\n",
    "```\n",
    "uv run mcp dev server.py\n",
    "```"
   ]
  },
  {
   "cell_type": "markdown",
   "metadata": {
    "application/vnd.databricks.v1+cell": {
     "cellMetadata": {},
     "inputWidgets": {},
     "nuid": "3dc49b47-8d39-4622-aa6b-781906e13b37",
     "showTitle": false,
     "tableResultSettingsMap": {},
     "title": ""
    }
   },
   "source": [
    "## FastMCP\n",
    "\n",
    "`from mcp.server.fastmcp import FastMCP`\n",
    "\n",
    "[starlette](https://www.starlette.dev/) under the covers\n",
    "\n",
    "`mcp = FastMCP(\"Demo\")`\n",
    "\n",
    "1. `Settings`\n",
    "1. `MCPServer`\n",
    "1. `ToolManager`\n",
    "1. `ResourceManager`\n",
    "1. `PromptManager`\n",
    "1. MCP protocol handlers"
   ]
  },
  {
   "cell_type": "markdown",
   "metadata": {
    "application/vnd.databricks.v1+cell": {
     "cellMetadata": {},
     "inputWidgets": {},
     "nuid": "97fc92db-a7cf-4a69-8956-c12f0ca31719",
     "showTitle": false,
     "tableResultSettingsMap": {},
     "title": ""
    }
   },
   "source": [
    "# That's all Folks! 👋\n",
    "\n",
    "![Warner Bros., Public domain, via Wikimedia Commons](https://upload.wikimedia.org/wikipedia/commons/e/ea/Thats_all_folks.svg)"
   ]
  },
  {
   "cell_type": "markdown",
   "metadata": {
    "application/vnd.databricks.v1+cell": {
     "cellMetadata": {},
     "inputWidgets": {},
     "nuid": "f51c1479-b26a-4f74-b5de-ad9e2a6efbe8",
     "showTitle": false,
     "tableResultSettingsMap": {},
     "title": ""
    }
   },
   "source": [
    "\n",
    "# 🙋 Questions and Answers"
   ]
  },
  {
   "cell_type": "markdown",
   "metadata": {
    "application/vnd.databricks.v1+cell": {
     "cellMetadata": {},
     "inputWidgets": {},
     "nuid": "a2d18bd4-1785-4bdb-9331-20895382b515",
     "showTitle": false,
     "tableResultSettingsMap": {},
     "title": ""
    }
   },
   "source": [
    "\n",
    "# 💡 Ideas for Future Events\n",
    "\n",
    "➡️ [Ideas for Future Events]($./Ideas for Future Events)"
   ]
  }
 ],
 "metadata": {
  "application/vnd.databricks.v1+notebook": {
   "computePreferences": null,
   "dashboards": [],
   "environmentMetadata": null,
   "inputWidgetPreferences": null,
   "language": "python",
   "notebookMetadata": {
    "pythonIndentUnit": 4
   },
   "notebookName": "Meetup_2025_10_16",
   "widgets": {}
  },
  "language_info": {
   "name": "python"
  }
 },
 "nbformat": 4,
 "nbformat_minor": 0
}
