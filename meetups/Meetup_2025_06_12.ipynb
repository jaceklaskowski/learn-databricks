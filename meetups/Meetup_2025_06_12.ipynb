{
 "cells": [
  {
   "cell_type": "markdown",
   "metadata": {
    "application/vnd.databricks.v1+cell": {
     "cellMetadata": {},
     "inputWidgets": {},
     "nuid": "6a46b538-5343-4bc0-b5fc-97449b4aa283",
     "showTitle": false,
     "tableResultSettingsMap": {},
     "title": ""
    }
   },
   "source": [
    "# Deploy and Query Models in Databricks\n",
    "\n",
    "Thursday, Jun 12, 2025\n",
    "\n",
    "[Invitation on Luma](https://lu.ma/avdu1fev), [LinkedIn](https://www.linkedin.com/feed/update/urn:li:activity:7337118509803393026), [Meetup](https://www.meetup.com/warsaw-data-engineering/events/308350480/)"
   ]
  },
  {
   "cell_type": "markdown",
   "metadata": {
    "application/vnd.databricks.v1+cell": {
     "cellMetadata": {},
     "inputWidgets": {},
     "nuid": "dd081a26-c5e2-444a-875d-64c485221a95",
     "showTitle": false,
     "tableResultSettingsMap": {},
     "title": ""
    }
   },
   "source": [
    "\n",
    "# 📚 Agenda\n",
    "\n",
    "1. **10 minut** Ogłoszenia. Czas na szalone pomysły na przyszłe spotkania 🫣👻\n",
    "1. **55 minut** Demo Time 🧑‍💻\n",
    "    1. Demo: Model Deployment (Serving, Publishing) in Databricks\n",
    "1. **10 minut** Pytania i odpowiedzi 🙋‍♀️\n",
    "\n",
    "⏰ Całkowity czas trwania spotkania: **1h 15min**"
   ]
  },
  {
   "cell_type": "markdown",
   "metadata": {
    "application/vnd.databricks.v1+cell": {
     "cellMetadata": {},
     "inputWidgets": {},
     "nuid": "82738e1a-8612-4d5c-883c-4aa3006308c2",
     "showTitle": false,
     "tableResultSettingsMap": {},
     "title": ""
    }
   },
   "source": [
    "\n",
    "# 📈 LinkedIn Poll\n",
    "\n",
    "O czym chciał(a)byś się dowiedzieć o potrzebach naszej społeczności?!"
   ]
  },
  {
   "cell_type": "markdown",
   "metadata": {
    "application/vnd.databricks.v1+cell": {
     "cellMetadata": {},
     "inputWidgets": {},
     "nuid": "0099d7a7-078c-4a57-8671-dcd404040811",
     "showTitle": false,
     "tableResultSettingsMap": {},
     "title": ""
    }
   },
   "source": [
    "\n",
    "# 🙋‍♀️ Event Question\n",
    "\n",
    "[O czym chciał(a)byś usłyszeć podczas meetupu? Rzuć ciekawym pomysłem na kolejne edycje](https://www.meetup.com/warsaw-data-engineering/events/308350480/attendees/) 🙏\n",
    "\n",
    "1. ML pipelini in Databrics\n",
    "1. Tworzenie modeli, dobre praktyki\n",
    "1. Jak poprawne trenować model\n",
    "1. Rozpoczęcię swojej przygody z ML"
   ]
  },
  {
   "cell_type": "markdown",
   "metadata": {
    "application/vnd.databricks.v1+cell": {
     "cellMetadata": {},
     "inputWidgets": {},
     "nuid": "811aaee2-66d6-4833-84d3-c5971e3359ad",
     "showTitle": false,
     "tableResultSettingsMap": {},
     "title": ""
    }
   },
   "source": [
    "# 📢 News\n",
    "\n",
    "Things worth watching out for..."
   ]
  },
  {
   "cell_type": "markdown",
   "metadata": {
    "application/vnd.databricks.v1+cell": {
     "cellMetadata": {},
     "inputWidgets": {},
     "nuid": "f0e2d493-eba8-48ef-b8b8-3681b4e87d69",
     "showTitle": false,
     "tableResultSettingsMap": {},
     "title": ""
    }
   },
   "source": [
    "\n",
    "## New members in Warsaw Data Engineering!\n",
    "\n",
    "[You now have 602 members!](https://www.meetup.com/warsaw-data-engineering/members/)\n",
    "\n",
    "Co zainteresowało Cię w Warsaw Data Engineering Meetup, że zdecydowałaś/-eś się przyłączyć?\n",
    "\n",
    "1. The Internals Online Books\n",
    "1. Możliwość zdobycia dodatkowej wiedzy i poznania doświadczeń innych członków.\n",
    "1. Pogłębić swoje umiejętności\n"
   ]
  },
  {
   "cell_type": "markdown",
   "metadata": {
    "application/vnd.databricks.v1+cell": {
     "cellMetadata": {},
     "inputWidgets": {},
     "nuid": "61b89195-abde-454e-9b2a-ce0b1f416174",
     "showTitle": false,
     "tableResultSettingsMap": {},
     "title": ""
    }
   },
   "source": [
    "\n",
    "##  Data + AI Summit 2025 is live 🔥\n",
    "\n",
    "[DAIS](https://www.databricks.com/dataaisummit)"
   ]
  },
  {
   "cell_type": "markdown",
   "metadata": {
    "application/vnd.databricks.v1+cell": {
     "cellMetadata": {},
     "inputWidgets": {},
     "nuid": "b03f1a00-af8f-48d5-b866-4c6f7c38994d",
     "showTitle": false,
     "tableResultSettingsMap": {},
     "title": ""
    }
   },
   "source": [
    "\n",
    "## 🚀 New Versions\n",
    "\n",
    "What has changed in the tooling space since we last met? I.e. hunting down the features to learn more about.\n",
    "\n",
    "* [MLflow 2.22.1](https://github.com/mlflow/mlflow/releases/tag/v2.22.1)\n",
    "    * ⁉️ [3.0.0 RC3 and 3.1.0 RC0](https://github.com/mlflow/mlflow/releases)\n",
    "* [PydanticAI 0.2.14](https://github.com/pydantic/pydantic-ai/releases/tag/v0.2.14)\n",
    "    * ⚠️ [Pydantic Graph](https://github.com/pydantic/pydantic-ai/tree/main/pydantic_graph)\n",
    "    * ⚠️ [Parallel Evaluation](https://ai.pydantic.dev/evals/#parallel-evaluation)\n",
    "* [Weights & Biases 0.20.1](https://github.com/wandb/wandb/releases/tag/v0.20.1)\n",
    "    * Konkurencja dla MLflow??? 🤨\n",
    "* [fast-agent 0.2.29](https://github.com/evalstate/fast-agent/releases/tag/v0.2.29)\n",
    "* [OpenAI Agents SDK 0.0.17](https://github.com/openai/openai-agents-python/releases/tag/v0.0.17)\n",
    "* [DSPy: Programming—not prompting—Foundation Models 2.6.26](https://github.com/stanfordnlp/dspy/tree/2.6.26)"
   ]
  },
  {
   "cell_type": "markdown",
   "metadata": {
    "application/vnd.databricks.v1+cell": {
     "cellMetadata": {},
     "inputWidgets": {},
     "nuid": "00a55b51-9ba1-42a6-a0a1-8952fc125623",
     "showTitle": false,
     "tableResultSettingsMap": {},
     "title": ""
    }
   },
   "source": [
    "\n",
    "# 🧑‍💻 Demo: Model Deployment (Serving, Publishing) in Databricks\n",
    "\n",
    "Based on [Tutorial: Deploy and query a custom model](https://docs.databricks.com/aws/en/machine-learning/model-serving/model-serving-intro):\n",
    "\n",
    "1. This article provides the basic steps for deploying and querying a custom model, that is a **traditional ML model**, using **Mosaic AI Model Serving**.\n",
    "1. The model must be registered in Unity Catalog or in the workspace model registry.\n",
    "\n",
    "⚠️ Traditional ML models != Generative AI models"
   ]
  },
  {
   "cell_type": "markdown",
   "metadata": {
    "application/vnd.databricks.v1+cell": {
     "cellMetadata": {},
     "inputWidgets": {},
     "nuid": "f41ce99c-93e0-45f8-b836-5526b9ed2315",
     "showTitle": false,
     "tableResultSettingsMap": {},
     "title": ""
    }
   },
   "source": [
    "\n",
    "There are [3 different logging techniques](https://docs.databricks.com/aws/en/machine-learning/model-serving/model-serving-intro#step-1-log-the-model).\n",
    "\n",
    "This demo uses manual model logging with [MLflow's built-in model flavors](https://mlflow.org/docs/latest/model#models_built-in-model-flavors) focusing on [scikit-learn (sklearn)](https://mlflow.org/docs/latest/model#scikit-learn-sklearn).\n",
    "\n",
    "💡 IDEA: Use Custom logging with `pyfunc` for a custom \"model\" (= some random python code) for extra steps before or after inference."
   ]
  },
  {
   "cell_type": "markdown",
   "metadata": {
    "application/vnd.databricks.v1+cell": {
     "cellMetadata": {},
     "inputWidgets": {},
     "nuid": "5d16b7ae-86a1-4f97-b4c5-8b4490f8c0d9",
     "showTitle": false,
     "tableResultSettingsMap": {},
     "title": ""
    }
   },
   "source": [
    "## Pre-requisites\n",
    "\n",
    "1. [A Unity Catalog schema to register (save) models to](https://curriculum-dev.cloud.databricks.com/explore/data/jacek_laskowski/mlflow)\n",
    "1. ⛔️ No Serverless. It did not work for me ⛔️"
   ]
  },
  {
   "cell_type": "markdown",
   "metadata": {
    "application/vnd.databricks.v1+cell": {
     "cellMetadata": {},
     "inputWidgets": {},
     "nuid": "9180da78-7f80-46be-b864-cdd0bdc51c7d",
     "showTitle": false,
     "tableResultSettingsMap": {},
     "title": ""
    }
   },
   "source": [
    "## Train Model\n",
    "\n",
    "A scikit-learn [LogisticRegression](https://scikit-learn.org/stable/modules/linear_model.html#logistic-regression) model from [Scikit-learn pyfunc usage](https://mlflow.org/docs/latest/model#scikit-learn-pyfunc-usage)"
   ]
  },
  {
   "cell_type": "code",
   "execution_count": 0,
   "metadata": {
    "application/vnd.databricks.v1+cell": {
     "cellMetadata": {
      "byteLimit": 2048000,
      "rowLimit": 10000
     },
     "inputWidgets": {},
     "nuid": "823c968a-0bd0-454c-9348-ac359c2afb97",
     "showTitle": false,
     "tableResultSettingsMap": {},
     "title": ""
    }
   },
   "outputs": [],
   "source": [
    "%pip install mlflow-skinny[databricks]\n",
    "%restart_python\n",
    "# dbutils.library.restartPython()"
   ]
  },
  {
   "cell_type": "code",
   "execution_count": 0,
   "metadata": {
    "application/vnd.databricks.v1+cell": {
     "cellMetadata": {
      "byteLimit": 2048000,
      "rowLimit": 10000
     },
     "inputWidgets": {},
     "nuid": "16887f4e-9ff4-4470-8c10-dc40806d9ede",
     "showTitle": false,
     "tableResultSettingsMap": {},
     "title": ""
    }
   },
   "outputs": [],
   "source": [
    "import sys\n",
    "print(sys.version)"
   ]
  },
  {
   "cell_type": "code",
   "execution_count": 0,
   "metadata": {
    "application/vnd.databricks.v1+cell": {
     "cellMetadata": {
      "byteLimit": 2048000,
      "rowLimit": 10000
     },
     "inputWidgets": {},
     "nuid": "3f87ecc8-4bb6-41cf-80a6-046fe2c25543",
     "showTitle": false,
     "tableResultSettingsMap": {},
     "title": ""
    }
   },
   "outputs": [],
   "source": [
    "import mlflow\n",
    "print(mlflow.__version__)"
   ]
  },
  {
   "cell_type": "code",
   "execution_count": 0,
   "metadata": {
    "application/vnd.databricks.v1+cell": {
     "cellMetadata": {
      "byteLimit": 2048000,
      "rowLimit": 10000
     },
     "inputWidgets": {},
     "nuid": "7e605322-d139-4543-86a7-fcedf657be90",
     "showTitle": false,
     "tableResultSettingsMap": {},
     "title": ""
    }
   },
   "outputs": [],
   "source": [
    "import sklearn\n",
    "print(sklearn.__version__)"
   ]
  },
  {
   "cell_type": "code",
   "execution_count": 0,
   "metadata": {
    "application/vnd.databricks.v1+cell": {
     "cellMetadata": {
      "byteLimit": 2048000,
      "rowLimit": 10000
     },
     "inputWidgets": {},
     "nuid": "3bb48740-409e-4bee-af25-6cd5596d479d",
     "showTitle": false,
     "tableResultSettingsMap": {},
     "title": ""
    }
   },
   "outputs": [],
   "source": [
    "import numpy\n",
    "print(numpy.__version__)"
   ]
  },
  {
   "cell_type": "code",
   "execution_count": 0,
   "metadata": {
    "application/vnd.databricks.v1+cell": {
     "cellMetadata": {
      "byteLimit": 2048000,
      "rowLimit": 10000
     },
     "inputWidgets": {},
     "nuid": "bf5a59b7-a4db-4853-b302-559708a24dad",
     "showTitle": false,
     "tableResultSettingsMap": {},
     "title": ""
    }
   },
   "outputs": [],
   "source": [
    "mlflow.set_registry_uri('databricks-uc')"
   ]
  },
  {
   "cell_type": "code",
   "execution_count": 0,
   "metadata": {
    "application/vnd.databricks.v1+cell": {
     "cellMetadata": {
      "byteLimit": 2048000,
      "rowLimit": 10000
     },
     "inputWidgets": {},
     "nuid": "64ce3cb6-b444-47b1-ac53-487eb27a4bd3",
     "showTitle": true,
     "tableResultSettingsMap": {},
     "title": "mlflow.sklearn.log_model"
    }
   },
   "outputs": [],
   "source": [
    "import mlflow\n",
    "from mlflow.models import infer_signature\n",
    "import numpy as np\n",
    "from sklearn.linear_model import LogisticRegression\n",
    "\n",
    "with mlflow.start_run():\n",
    "    X = np.array([-2, -1, 0, 1, 2, 1]).reshape(-1, 1)\n",
    "    y = np.array([0, 0, 1, 1, 1, 0])\n",
    "    lr = LogisticRegression()\n",
    "    lr.fit(X, y)\n",
    "    signature = infer_signature(X, lr.predict(X))\n",
    "\n",
    "    mlflow.log_param(\"wazny_param\", 20)\n",
    "    mlflow.log_param(\"inny_wazny_param\", True)\n",
    "\n",
    "    model_info = mlflow.sklearn.log_model(\n",
    "        sk_model=lr,\n",
    "        artifact_path=\"model\",\n",
    "        signature=signature,\n",
    "        registered_model_name=\"jacek_laskowski.mlflow.meetup_06_12\",\n",
    "    )\n",
    "    print(f\"Model saved to: {model_info.model_uri}\")"
   ]
  },
  {
   "cell_type": "markdown",
   "metadata": {
    "application/vnd.databricks.v1+cell": {
     "cellMetadata": {},
     "inputWidgets": {},
     "nuid": "dca0ab52-11ac-4805-b137-7687a43f1752",
     "showTitle": false,
     "tableResultSettingsMap": {},
     "title": ""
    }
   },
   "source": [
    "\n",
    "Review [Registered Models](https://curriculum-dev.cloud.databricks.com/ml/models?o=3551974319838082) (Owned by me)\n",
    "\n",
    "There could be one from my previous experiments."
   ]
  },
  {
   "cell_type": "markdown",
   "metadata": {
    "application/vnd.databricks.v1+cell": {
     "cellMetadata": {},
     "inputWidgets": {},
     "nuid": "b4937b16-0571-4ef0-a2bf-a43a5fcfa525",
     "showTitle": false,
     "tableResultSettingsMap": {},
     "title": ""
    }
   },
   "source": [
    "\n",
    "## List All My Registered Models\n",
    "\n",
    "<br>\n",
    "\n",
    "```\n",
    "databricks registered-models list | jq '.[] | select(.created_by==\"jacek@japila.pl\")' | jq '.full_name' | tr -d \\\"\n",
    "```"
   ]
  },
  {
   "cell_type": "markdown",
   "metadata": {
    "application/vnd.databricks.v1+cell": {
     "cellMetadata": {},
     "inputWidgets": {},
     "nuid": "b63dcce4-ef2f-4b67-84c5-12bda1003726",
     "showTitle": false,
     "tableResultSettingsMap": {},
     "title": ""
    }
   },
   "source": [
    "\n",
    "## ☠️ Delete All My Registered Models\n",
    "\n",
    "<br>\n",
    "\n",
    "```\n",
    "databricks registered-models list | jq '.[] | select(.created_by==\"jacek@japila.pl\")' | jq '.full_name' | tr -d \\\" | while read -r full_model_name;\n",
    "  do\n",
    "    echo \"Deleting \" $full_model_name;\n",
    "    databricks functions delete --force $full_model_name\n",
    "  done\n",
    "```"
   ]
  },
  {
   "cell_type": "markdown",
   "metadata": {
    "application/vnd.databricks.v1+cell": {
     "cellMetadata": {},
     "inputWidgets": {},
     "nuid": "a88c56a2-c715-4e9f-91fc-8b6e36148481",
     "showTitle": false,
     "tableResultSettingsMap": {},
     "title": ""
    }
   },
   "source": [
    "\n",
    "Review [Model Versions](https://curriculum-dev.cloud.databricks.com/explore/data/models/jacek_laskowski/mlflow/meetup_06_12)\n",
    "\n",
    "There could be many from my previous experiments."
   ]
  },
  {
   "cell_type": "markdown",
   "metadata": {
    "application/vnd.databricks.v1+cell": {
     "cellMetadata": {},
     "inputWidgets": {},
     "nuid": "9dc3b74f-ea60-492a-9598-1b5f861179a3",
     "showTitle": false,
     "tableResultSettingsMap": {},
     "title": ""
    }
   },
   "source": [
    "## Create Serving Endpoint\n",
    "\n",
    "Based on [Step 2: Create endpoint using the Serving UI](https://docs.databricks.com/aws/en/machine-learning/model-serving/model-serving-intro#step-2-create-endpoint-using-the-serving-ui)\n",
    "\n",
    "[Create custom model serving endpoints](https://docs.databricks.com/aws/en/machine-learning/model-serving/create-manage-serving-endpoints)"
   ]
  },
  {
   "cell_type": "markdown",
   "metadata": {
    "application/vnd.databricks.v1+cell": {
     "cellMetadata": {},
     "inputWidgets": {},
     "nuid": "8259553e-3911-43ce-b451-266fe43139a0",
     "showTitle": false,
     "tableResultSettingsMap": {},
     "title": ""
    }
   },
   "source": [
    "\n",
    "### FIXME Screenshot 🙏"
   ]
  },
  {
   "cell_type": "markdown",
   "metadata": {
    "application/vnd.databricks.v1+cell": {
     "cellMetadata": {},
     "inputWidgets": {},
     "nuid": "ff21cc06-17d1-44cb-ab42-6bb1123d64c3",
     "showTitle": false,
     "tableResultSettingsMap": {},
     "title": ""
    }
   },
   "source": [
    "## Query Endpoint\n",
    "\n",
    "Learn more in [Query serving endpoints for custom models](https://docs.databricks.com/aws/en/machine-learning/model-serving/score-custom-model-endpoints)"
   ]
  },
  {
   "cell_type": "markdown",
   "metadata": {
    "application/vnd.databricks.v1+cell": {
     "cellMetadata": {},
     "inputWidgets": {},
     "nuid": "b18c495d-64a0-4429-92c8-6c9f0b032e32",
     "showTitle": false,
     "tableResultSettingsMap": {},
     "title": ""
    }
   },
   "source": [
    "\n",
    "### MLflow Client API"
   ]
  },
  {
   "cell_type": "code",
   "execution_count": 0,
   "metadata": {
    "application/vnd.databricks.v1+cell": {
     "cellMetadata": {
      "byteLimit": 2048000,
      "rowLimit": 10000
     },
     "inputWidgets": {},
     "nuid": "55cb7397-e801-4894-af40-08393ee6d7fd",
     "showTitle": false,
     "tableResultSettingsMap": {},
     "title": ""
    }
   },
   "outputs": [],
   "source": [
    "import mlflow\n",
    "\n",
    "model_uri=model_info.model_uri\n",
    "\n",
    "print(f\"model_uri: {model_uri}\")\n",
    "\n",
    "# The always-available generic model loader (pyfunc)\n",
    "# Could also be mlflow.sklearn.load_model(model_uri=model_uri)\n",
    "sklearn_pyfunc = mlflow.pyfunc.load_model(model_uri=model_uri)\n",
    "\n",
    "data = np.array([-4, 1, 0, 10, -2, 1]).reshape(-1, 1)\n",
    "print(f\"data: {data}\")\n",
    "\n",
    "predictions = sklearn_pyfunc.predict(data)\n",
    "print(f\"predictions: {predictions}\")"
   ]
  },
  {
   "cell_type": "code",
   "execution_count": 0,
   "metadata": {
    "application/vnd.databricks.v1+cell": {
     "cellMetadata": {
      "byteLimit": 2048000,
      "rowLimit": 10000
     },
     "inputWidgets": {},
     "nuid": "0249a854-d332-404a-a47d-d6c53b841919",
     "showTitle": false,
     "tableResultSettingsMap": {},
     "title": ""
    }
   },
   "outputs": [],
   "source": [
    "mlflow.sklearn.load_model(model_uri=model_uri)"
   ]
  },
  {
   "cell_type": "markdown",
   "metadata": {
    "application/vnd.databricks.v1+cell": {
     "cellMetadata": {},
     "inputWidgets": {},
     "nuid": "6ec1fe6a-1b0b-4b52-b21f-71221b78d780",
     "showTitle": false,
     "tableResultSettingsMap": {},
     "title": ""
    }
   },
   "source": [
    "### Databricks UI\n",
    "\n",
    "1. [Serving endpoints](https://curriculum-dev.cloud.databricks.com/ml/endpoints) > Click **Owned by me** to narrow down the list of the available endpoints > [jacek_laskowski_meetup_06_12](https://curriculum-dev.cloud.databricks.com/ml/endpoints/jacek_laskowski_meetup_06_12)\n",
    "1. Click **Use** (in the top-right corner) or **Query** (in the drop-down menu) buttons\n",
    "1. In **Browser** tab, enter one of the [supported scoring formats](https://docs.databricks.com/aws/en/machine-learning/model-serving/score-custom-model-endpoints#supported-scoring-formats):\n",
    "    * [JSONified Pandas DataFrame](https://docs.databricks.com/aws/en/machine-learning/model-serving/score-custom-model-endpoints#pandas-dataframe)\n",
    "    * [Tensor input](https://docs.databricks.com/aws/en/machine-learning/model-serving/score-custom-model-endpoints#tensor-input) (e.g., `{\"inputs\": [[-4], [ 1], [ 0], [10], [-2], [ 1]]}`)"
   ]
  },
  {
   "cell_type": "markdown",
   "metadata": {
    "application/vnd.databricks.v1+cell": {
     "cellMetadata": {},
     "inputWidgets": {},
     "nuid": "3b706588-972b-4905-871a-f3eba9b43a91",
     "showTitle": false,
     "tableResultSettingsMap": {},
     "title": ""
    }
   },
   "source": [
    "\n",
    "### Command Line\n",
    "\n",
    "<br>\n",
    "\n",
    "```\n",
    "❯ echo -n '{\"inputs\": [[5]]}' | https -A bearer -a $DATABRICKS_TOKEN https://curriculum-dev.cloud.databricks.com/serving-endpoints/jacek_laskowski_meetup_06_12_v1/invocations\n",
    "HTTP/1.1 200 OK\n",
    "content-length: 20\n",
    "content-type: application/json\n",
    "date: Sun, 8 Jun 2025 09:35:21 GMT\n",
    "endpoint-scale-to-zero: True\n",
    "endpoint-small-workload: True\n",
    "served-model-name: meetup_06_12-1\n",
    "server: databricks\n",
    "strict-transport-security: max-age=31536000; includeSubDomains; preload\n",
    "x-content-type-options: nosniff\n",
    "x-databricks-org-id: 3551974319838082\n",
    "x-request-id: f961f144-681e-4449-9cd4-c2e295d87f52\n",
    "\n",
    "{\n",
    "    \"predictions\": [\n",
    "        1\n",
    "    ]\n",
    "}\n",
    "```"
   ]
  },
  {
   "cell_type": "markdown",
   "metadata": {
    "application/vnd.databricks.v1+cell": {
     "cellMetadata": {},
     "inputWidgets": {},
     "nuid": "716f06f3-6dd9-4828-be0b-bb15f9083524",
     "showTitle": false,
     "tableResultSettingsMap": {},
     "title": ""
    }
   },
   "source": [
    "\n",
    "You can learn quite a lot from errors (when input data is of incorrect format):\n",
    "\n",
    "<br>\n",
    "\n",
    "```\n",
    "❯ echo -n '{}' | https -A bearer -a $DATABRICKS_TOKEN https://curriculum-dev.cloud.databricks.com/serving-endpoints/jacek_laskowski_meetup_06_12_v1/invocations\n",
    "HTTP/1.1 400 Bad Request\n",
    "content-encoding: gzip\n",
    "content-type: application/json\n",
    "date: Sun, 8 Jun 2025 09:38:37 GMT\n",
    "endpoint-scale-to-zero: True\n",
    "endpoint-small-workload: True\n",
    "served-model-name: meetup_06_12-1\n",
    "server: databricks\n",
    "strict-transport-security: max-age=31536000; includeSubDomains; preload\n",
    "transfer-encoding: chunked\n",
    "vary: Accept-Encoding\n",
    "x-content-type-options: nosniff\n",
    "x-databricks-org-id: 3551974319838082\n",
    "x-request-id: 61b79acd-4484-4e23-ba5b-aa868017bba2\n",
    "\n",
    "{\n",
    "    \"error_code\": \"BAD_REQUEST\",\n",
    "    \"message\": \"Invalid input. The input must be a JSON dictionary with exactly one of the input fields {'inputs', 'instances', 'dataframe_split', 'dataframe_records'}.. Received dictionary with input fields: set().\"\n",
    "}\n",
    "```\n",
    "\n",
    "The input must be a JSON dictionary with exactly one of the input fields `{'inputs', 'instances', 'dataframe_split', 'dataframe_records'}`"
   ]
  },
  {
   "cell_type": "markdown",
   "metadata": {
    "application/vnd.databricks.v1+cell": {
     "cellMetadata": {},
     "inputWidgets": {},
     "nuid": "7d623b0c-c578-4e65-ae20-020b32ee6e4a",
     "showTitle": false,
     "tableResultSettingsMap": {},
     "title": ""
    }
   },
   "source": [
    "\n",
    "## 🎁 Bonus: Databricks CLI"
   ]
  },
  {
   "cell_type": "markdown",
   "metadata": {
    "application/vnd.databricks.v1+cell": {
     "cellMetadata": {},
     "inputWidgets": {},
     "nuid": "c6744952-e0c1-4845-86db-71848c7e1f95",
     "showTitle": false,
     "tableResultSettingsMap": {},
     "title": ""
    }
   },
   "source": [
    "\n",
    "### databricks serving-endpoints\n",
    "\n",
    "The [Serving Endpoints API](https://docs.databricks.com/api/workspace/servingendpoints) allows you to create, update, and delete model serving endpoints.\n",
    "\n",
    "1. You can use a **serving endpoint** to serve models from the Databricks Model Registry or Unity Catalog.\n",
    "1. Endpoints expose the underlying models as scalable REST API endpoints using serverless compute.\n",
    "    1. The endpoints and associated compute resources are fully managed by Databricks and will not appear in your cloud account.\n",
    "1. A serving endpoint can consist of one or more MLflow models from the Databricks Model Registry, called **served entities**.\n",
    "    1. A serving endpoint can have at most ten served entities.\n",
    "    1. You can configure traffic settings to define how requests should be routed to your served entities behind an endpoint.\n",
    "    1. Additionally, you can configure the scale of resources that should be applied to each served entity.\n",
    "\n",
    "Available commands in `databricks serving-endpoints`:\n",
    "\n",
    "| Command | Description |\n",
    "|-|-|\n",
    "| build-logs                                    | Get build logs for a served model. |\n",
    "| create                                        | Create a new serving endpoint. |\n",
    "| create-provisioned-throughput-endpoint        | Create a new PT serving endpoint. |\n",
    "| delete                                        | Delete a serving endpoint. |\n",
    "| export-metrics                                | Get metrics of a serving endpoint. |\n",
    "| get                                           | Get a single serving endpoint. |\n",
    "| get-open-api                                  | Get the schema for a serving endpoint. |\n",
    "| list                                          | Get all serving endpoints. |\n",
    "| logs                                          | Get the latest logs for a served model. |\n",
    "| patch                                         | Update tags of a serving endpoint. |\n",
    "| put                                           | Update rate limits of a serving endpoint. |\n",
    "| put-ai-gateway                                | Update AI Gateway of a serving endpoint. |\n",
    "| query                                         | Query a serving endpoint. |\n",
    "| update-config                                 | Update config of a serving endpoint. |\n",
    "| update-provisioned-throughput-endpoint-config | Update config of a PT serving endpoint. |\n",
    "\n",
    "The Permission Commands in `databricks serving-endpoints`:\n",
    "\n",
    "| Permission Command | Description |\n",
    "|-|-|\n",
    "| get-permission-levels                         | Get serving endpoint permission levels. |\n",
    "| get-permissions                               | Get serving endpoint permissions. |\n",
    "| set-permissions                               | Set serving endpoint permissions. |\n",
    "| update-permissions                            | Update serving endpoint permissions. |"
   ]
  },
  {
   "cell_type": "markdown",
   "metadata": {
    "application/vnd.databricks.v1+cell": {
     "cellMetadata": {},
     "inputWidgets": {},
     "nuid": "2f027478-99d8-4f31-8c98-59d267ed6105",
     "showTitle": false,
     "tableResultSettingsMap": {},
     "title": ""
    }
   },
   "source": [
    "\n",
    "### List My Serving Endpoints\n",
    "\n",
    "<br>\n",
    "\n",
    "```\n",
    "databricks serving-endpoints list | jq '.[] | select(.creator==\"jacek@japila.pl\")'\n",
    "```"
   ]
  },
  {
   "cell_type": "markdown",
   "metadata": {
    "application/vnd.databricks.v1+cell": {
     "cellMetadata": {},
     "inputWidgets": {},
     "nuid": "3b756d21-21a0-4000-841b-53633125c516",
     "showTitle": false,
     "tableResultSettingsMap": {},
     "title": ""
    }
   },
   "source": [
    "\n",
    "### List Names of My Serving Endpoints\n",
    "\n",
    "<br>\n",
    "\n",
    "```\n",
    "databricks serving-endpoints list | jq '.[] | select(.creator==\"jacek@japila.pl\")' | jq '.name'\n",
    "```\n"
   ]
  },
  {
   "cell_type": "markdown",
   "metadata": {
    "application/vnd.databricks.v1+cell": {
     "cellMetadata": {},
     "inputWidgets": {},
     "nuid": "fcd8f8f4-d242-4df3-abfe-fd2d7bf5a28e",
     "showTitle": false,
     "tableResultSettingsMap": {},
     "title": ""
    }
   },
   "source": [
    "\n",
    "Once up and running, get the query schema of the serving endpoint in OpenAPI format.\n",
    "\n",
    "<br>\n",
    "\n",
    "```\n",
    "databricks serving-endpoints get-open-api jacek_laskowski_meetup_06_12\n",
    "```"
   ]
  },
  {
   "cell_type": "markdown",
   "metadata": {
    "application/vnd.databricks.v1+cell": {
     "cellMetadata": {},
     "inputWidgets": {},
     "nuid": "ede5786d-5329-40fc-ab31-e716da99efb4",
     "showTitle": false,
     "tableResultSettingsMap": {},
     "title": ""
    }
   },
   "source": [
    "\n",
    "### ☠️ Delete All My Endpoints\n",
    "\n",
    "<br>\n",
    "\n",
    "```\n",
    "models=$(databricks serving-endpoints list | jq '.[] | select(.creator==\"jacek@japila.pl\")' | jq '.name')\n",
    "echo $models | tr -d \\\" | while read -r model_name;\n",
    "  do\n",
    "    if [ $model_name = 'DISABLED_jacek_laskowski_meetup_06_12' ];\n",
    "    then\n",
    "      echo \"Skip \" $model_name;\n",
    "    else\n",
    "      echo \"Deleting \" $model_name;\n",
    "      databricks serving-endpoints delete $model_name\n",
    "    fi\n",
    "  done\n",
    "```"
   ]
  },
  {
   "cell_type": "markdown",
   "metadata": {
    "application/vnd.databricks.v1+cell": {
     "cellMetadata": {},
     "inputWidgets": {},
     "nuid": "bde48ccb-ad3e-44bf-9376-1ba264b50839",
     "showTitle": false,
     "tableResultSettingsMap": {},
     "title": ""
    }
   },
   "source": [
    "# That's all Folks! 👋\n",
    "\n",
    "![Warner Bros., Public domain, via Wikimedia Commons](https://upload.wikimedia.org/wikipedia/commons/e/ea/Thats_all_folks.svg)"
   ]
  },
  {
   "cell_type": "markdown",
   "metadata": {
    "application/vnd.databricks.v1+cell": {
     "cellMetadata": {},
     "inputWidgets": {},
     "nuid": "8f9b96ee-3a41-4131-b854-366fec7f65ee",
     "showTitle": false,
     "tableResultSettingsMap": {},
     "title": ""
    }
   },
   "source": [
    "\n",
    "# 🙋 Questions and Answers"
   ]
  },
  {
   "cell_type": "markdown",
   "metadata": {
    "application/vnd.databricks.v1+cell": {
     "cellMetadata": {},
     "inputWidgets": {},
     "nuid": "2aff47b7-b635-4e8a-bd21-1496e41332cc",
     "showTitle": false,
     "tableResultSettingsMap": {},
     "title": ""
    }
   },
   "source": [
    "\n",
    "# 💡 Ideas for Future Events\n",
    "\n",
    "➡️ [Ideas for Future Events]($./Ideas for Future Events)"
   ]
  }
 ],
 "metadata": {
  "application/vnd.databricks.v1+notebook": {
   "computePreferences": {
    "hardware": {
     "accelerator": null,
     "gpuPoolId": null,
     "memory": null
    }
   },
   "dashboards": [],
   "environmentMetadata": {
    "base_environment": "",
    "environment_version": "2"
   },
   "inputWidgetPreferences": null,
   "language": "python",
   "notebookMetadata": {
    "mostRecentlyExecutedCommandWithImplicitDF": {
     "commandId": 7235682345754161,
     "dataframes": [
      "_sqldf"
     ]
    },
    "pythonIndentUnit": 4
   },
   "notebookName": "Meetup_2025_06_12",
   "widgets": {}
  },
  "language_info": {
   "name": "python"
  }
 },
 "nbformat": 4,
 "nbformat_minor": 0
}
