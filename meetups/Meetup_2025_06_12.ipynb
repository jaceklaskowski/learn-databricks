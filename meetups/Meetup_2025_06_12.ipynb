{
 "cells": [
  {
   "cell_type": "markdown",
   "metadata": {
    "application/vnd.databricks.v1+cell": {
     "cellMetadata": {
      "byteLimit": 2048000,
      "rowLimit": 10000
     },
     "inputWidgets": {},
     "nuid": "6a46b538-5343-4bc0-b5fc-97449b4aa283",
     "showTitle": false,
     "tableResultSettingsMap": {},
     "title": ""
    }
   },
   "source": [
    "# Deploy and Query Models in Databricks\n",
    "\n",
    "Thursday, Jun 12, 2025\n",
    "\n",
    "[Invitation on Luma](https://lu.ma/avdu1fev), [LinkedIn](https://www.linkedin.com/feed/update/urn:li:activity:7337118509803393026), [Meetup](https://www.meetup.com/warsaw-data-engineering/events/308350480/)"
   ]
  },
  {
   "cell_type": "markdown",
   "metadata": {
    "application/vnd.databricks.v1+cell": {
     "cellMetadata": {
      "byteLimit": 2048000,
      "rowLimit": 10000
     },
     "inputWidgets": {},
     "nuid": "dd081a26-c5e2-444a-875d-64c485221a95",
     "showTitle": false,
     "tableResultSettingsMap": {},
     "title": ""
    }
   },
   "source": [
    "\n",
    "# 📚 Agenda\n",
    "\n",
    "1. **10 minut** Ogłoszenia. Czas na szalone pomysły na przyszłe spotkania 🫣👻\n",
    "1. **55 minut** Demo Time 🧑‍💻\n",
    "    1. Demo: Model Deployment (Serving, Publishing) in Databricks\n",
    "1. **10 minut** Pytania i odpowiedzi 🙋‍♀️\n",
    "\n",
    "⏰ Całkowity czas trwania spotkania: **1h 15min**"
   ]
  },
  {
   "cell_type": "markdown",
   "metadata": {
    "application/vnd.databricks.v1+cell": {
     "cellMetadata": {
      "byteLimit": 2048000,
      "rowLimit": 10000
     },
     "inputWidgets": {},
     "nuid": "82738e1a-8612-4d5c-883c-4aa3006308c2",
     "showTitle": false,
     "tableResultSettingsMap": {},
     "title": ""
    }
   },
   "source": [
    "\n",
    "# 📈 LinkedIn Poll\n",
    "\n",
    "O czym chciał(a)byś się dowiedzieć o potrzebach naszej społeczności?!"
   ]
  },
  {
   "cell_type": "markdown",
   "metadata": {
    "application/vnd.databricks.v1+cell": {
     "cellMetadata": {
      "byteLimit": 2048000,
      "rowLimit": 10000
     },
     "inputWidgets": {},
     "nuid": "0099d7a7-078c-4a57-8671-dcd404040811",
     "showTitle": false,
     "tableResultSettingsMap": {},
     "title": ""
    }
   },
   "source": [
    "\n",
    "# 🙋‍♀️ Event Question\n",
    "\n",
    "[O czym chciał(a)byś usłyszeć podczas meetupu? Rzuć ciekawym pomysłem na kolejne edycje](https://www.meetup.com/warsaw-data-engineering/events/308350480/attendees/) 🙏\n",
    "\n",
    "1. ML pipelini in Databrics\n",
    "1. Tworzenie modeli, dobre praktyki\n",
    "1. Jak poprawne trenować model\n",
    "1. Rozpoczęcię swojej przygody z ML"
   ]
  },
  {
   "cell_type": "markdown",
   "metadata": {
    "application/vnd.databricks.v1+cell": {
     "cellMetadata": {
      "byteLimit": 2048000,
      "rowLimit": 10000
     },
     "inputWidgets": {},
     "nuid": "811aaee2-66d6-4833-84d3-c5971e3359ad",
     "showTitle": false,
     "tableResultSettingsMap": {},
     "title": ""
    }
   },
   "source": [
    "# 📢 News\n",
    "\n",
    "Things worth watching out for..."
   ]
  },
  {
   "cell_type": "markdown",
   "metadata": {
    "application/vnd.databricks.v1+cell": {
     "cellMetadata": {
      "byteLimit": 2048000,
      "rowLimit": 10000
     },
     "inputWidgets": {},
     "nuid": "f0e2d493-eba8-48ef-b8b8-3681b4e87d69",
     "showTitle": false,
     "tableResultSettingsMap": {},
     "title": ""
    }
   },
   "source": [
    "\n",
    "## New members in Warsaw Data Engineering!\n",
    "\n",
    "[You now have 602 members!](https://www.meetup.com/warsaw-data-engineering/members/)\n",
    "\n",
    "Co zainteresowało Cię w Warsaw Data Engineering Meetup, że zdecydowałaś/-eś się przyłączyć?\n",
    "\n",
    "1. The Internals Online Books\n",
    "1. Możliwość zdobycia dodatkowej wiedzy i poznania doświadczeń innych członków.\n",
    "1. Pogłębić swoje umiejętności\n"
   ]
  },
  {
   "cell_type": "markdown",
   "metadata": {
    "application/vnd.databricks.v1+cell": {
     "cellMetadata": {
      "byteLimit": 2048000,
      "rowLimit": 10000
     },
     "inputWidgets": {},
     "nuid": "61b89195-abde-454e-9b2a-ce0b1f416174",
     "showTitle": false,
     "tableResultSettingsMap": {},
     "title": ""
    }
   },
   "source": [
    "\n",
    "##  Data + AI Summit 2025 is live 🔥\n",
    "\n",
    "[DAIS](https://www.databricks.com/dataaisummit)"
   ]
  },
  {
   "cell_type": "markdown",
   "metadata": {
    "application/vnd.databricks.v1+cell": {
     "cellMetadata": {
      "byteLimit": 2048000,
      "rowLimit": 10000
     },
     "inputWidgets": {},
     "nuid": "b03f1a00-af8f-48d5-b866-4c6f7c38994d",
     "showTitle": false,
     "tableResultSettingsMap": {},
     "title": ""
    }
   },
   "source": [
    "\n",
    "## 🚀 New Versions\n",
    "\n",
    "What has changed in the tooling space since we last met? I.e. hunting down the features to learn more about.\n",
    "\n",
    "* [MLflow 2.22.1](https://github.com/mlflow/mlflow/releases/tag/v2.22.1)\n",
    "    * ⁉️ [3.0.0 RC3 and 3.1.0 RC0](https://github.com/mlflow/mlflow/releases)\n",
    "* [PydanticAI 0.2.14](https://github.com/pydantic/pydantic-ai/releases/tag/v0.2.14)\n",
    "    * ⚠️ [Pydantic Graph](https://github.com/pydantic/pydantic-ai/tree/main/pydantic_graph)\n",
    "    * ⚠️ [Parallel Evaluation](https://ai.pydantic.dev/evals/#parallel-evaluation)\n",
    "* [Weights & Biases 0.20.1](https://github.com/wandb/wandb/releases/tag/v0.20.1)\n",
    "    * Konkurencja dla MLflow??? 🤨\n",
    "* [fast-agent 0.2.29](https://github.com/evalstate/fast-agent/releases/tag/v0.2.29)\n",
    "* [OpenAI Agents SDK 0.0.17](https://github.com/openai/openai-agents-python/releases/tag/v0.0.17)\n",
    "* [DSPy: Programming—not prompting—Foundation Models 2.6.26](https://github.com/stanfordnlp/dspy/tree/2.6.26)"
   ]
  },
  {
   "cell_type": "markdown",
   "metadata": {
    "application/vnd.databricks.v1+cell": {
     "cellMetadata": {
      "byteLimit": 2048000,
      "rowLimit": 10000
     },
     "inputWidgets": {},
     "nuid": "00a55b51-9ba1-42a6-a0a1-8952fc125623",
     "showTitle": false,
     "tableResultSettingsMap": {},
     "title": ""
    }
   },
   "source": [
    "\n",
    "# 🧑‍💻 Demo: Model Deployment (Serving, Publishing) in Databricks\n",
    "\n",
    "Based on [Tutorial: Deploy and query a custom model](https://docs.databricks.com/aws/en/machine-learning/model-serving/model-serving-intro):\n",
    "\n",
    "1. This article provides the basic steps for deploying and querying a custom model, that is a **traditional ML model**, using **Mosaic AI Model Serving**.\n",
    "1. The model must be registered in Unity Catalog or in the workspace model registry.\n",
    "\n",
    "⚠️ Traditional ML models != Generative AI models"
   ]
  },
  {
   "cell_type": "markdown",
   "metadata": {
    "application/vnd.databricks.v1+cell": {
     "cellMetadata": {
      "byteLimit": 2048000,
      "rowLimit": 10000
     },
     "inputWidgets": {},
     "nuid": "f41ce99c-93e0-45f8-b836-5526b9ed2315",
     "showTitle": false,
     "tableResultSettingsMap": {},
     "title": ""
    }
   },
   "source": [
    "\n",
    "There are [3 different logging techniques](https://docs.databricks.com/aws/en/machine-learning/model-serving/model-serving-intro#step-1-log-the-model).\n",
    "\n",
    "This demo uses manual model logging with [MLflow's built-in model flavors](https://mlflow.org/docs/latest/model#models_built-in-model-flavors) focusing on [scikit-learn (sklearn)](https://mlflow.org/docs/latest/model#scikit-learn-sklearn).\n",
    "\n",
    "💡 IDEA: Use Custom logging with `pyfunc` for a custom \"model\" (= some random python code) for extra steps before or after inference."
   ]
  },
  {
   "cell_type": "markdown",
   "metadata": {
    "application/vnd.databricks.v1+cell": {
     "cellMetadata": {
      "byteLimit": 2048000,
      "rowLimit": 10000
     },
     "inputWidgets": {},
     "nuid": "5d16b7ae-86a1-4f97-b4c5-8b4490f8c0d9",
     "showTitle": false,
     "tableResultSettingsMap": {},
     "title": ""
    }
   },
   "source": [
    "## Pre-requisites\n",
    "\n",
    "1. [A Unity Catalog schema to register (save) models to](https://curriculum-dev.cloud.databricks.com/explore/data/jacek_laskowski/mlflow)\n",
    "1. ⛔️ No Serverless. It did not work for me ⛔️"
   ]
  },
  {
   "cell_type": "markdown",
   "metadata": {
    "application/vnd.databricks.v1+cell": {
     "cellMetadata": {
      "byteLimit": 2048000,
      "rowLimit": 10000
     },
     "inputWidgets": {},
     "nuid": "9180da78-7f80-46be-b864-cdd0bdc51c7d",
     "showTitle": false,
     "tableResultSettingsMap": {},
     "title": ""
    }
   },
   "source": [
    "## Train Model\n",
    "\n",
    "A scikit-learn [LogisticRegression](https://scikit-learn.org/stable/modules/linear_model.html#logistic-regression) model from [Scikit-learn pyfunc usage](https://mlflow.org/docs/latest/model#scikit-learn-pyfunc-usage)"
   ]
  },
  {
   "cell_type": "code",
   "execution_count": 0,
   "metadata": {
    "application/vnd.databricks.v1+cell": {
     "cellMetadata": {
      "byteLimit": 2048000,
      "rowLimit": 10000
     },
     "inputWidgets": {},
     "nuid": "823c968a-0bd0-454c-9348-ac359c2afb97",
     "showTitle": false,
     "tableResultSettingsMap": {},
     "title": ""
    }
   },
   "outputs": [],
   "source": [
    "%pip install mlflow-skinny[databricks]\n",
    "%restart_python\n",
    "# dbutils.library.restartPython()"
   ]
  },
  {
   "cell_type": "code",
   "execution_count": 0,
   "metadata": {
    "application/vnd.databricks.v1+cell": {
     "cellMetadata": {
      "byteLimit": 2048000,
      "rowLimit": 10000
     },
     "inputWidgets": {},
     "nuid": "16887f4e-9ff4-4470-8c10-dc40806d9ede",
     "showTitle": false,
     "tableResultSettingsMap": {},
     "title": ""
    }
   },
   "outputs": [],
   "source": [
    "import sys\n",
    "print(sys.version)"
   ]
  },
  {
   "cell_type": "code",
   "execution_count": 0,
   "metadata": {
    "application/vnd.databricks.v1+cell": {
     "cellMetadata": {
      "byteLimit": 2048000,
      "rowLimit": 10000
     },
     "inputWidgets": {},
     "nuid": "3f87ecc8-4bb6-41cf-80a6-046fe2c25543",
     "showTitle": false,
     "tableResultSettingsMap": {},
     "title": ""
    }
   },
   "outputs": [],
   "source": [
    "import mlflow\n",
    "print(mlflow.__version__)"
   ]
  },
  {
   "cell_type": "code",
   "execution_count": 0,
   "metadata": {
    "application/vnd.databricks.v1+cell": {
     "cellMetadata": {
      "byteLimit": 2048000,
      "rowLimit": 10000
     },
     "inputWidgets": {},
     "nuid": "7e605322-d139-4543-86a7-fcedf657be90",
     "showTitle": false,
     "tableResultSettingsMap": {},
     "title": ""
    }
   },
   "outputs": [],
   "source": [
    "import sklearn\n",
    "print(sklearn.__version__)"
   ]
  },
  {
   "cell_type": "code",
   "execution_count": 0,
   "metadata": {
    "application/vnd.databricks.v1+cell": {
     "cellMetadata": {
      "byteLimit": 2048000,
      "rowLimit": 10000
     },
     "inputWidgets": {},
     "nuid": "3bb48740-409e-4bee-af25-6cd5596d479d",
     "showTitle": false,
     "tableResultSettingsMap": {},
     "title": ""
    }
   },
   "outputs": [],
   "source": [
    "import numpy\n",
    "print(numpy.__version__)"
   ]
  },
  {
   "cell_type": "code",
   "execution_count": 0,
   "metadata": {
    "application/vnd.databricks.v1+cell": {
     "cellMetadata": {
      "byteLimit": 2048000,
      "rowLimit": 10000
     },
     "inputWidgets": {},
     "nuid": "bf5a59b7-a4db-4853-b302-559708a24dad",
     "showTitle": false,
     "tableResultSettingsMap": {},
     "title": ""
    }
   },
   "outputs": [],
   "source": [
    "mlflow.set_registry_uri('databricks-uc')"
   ]
  },
  {
   "cell_type": "code",
   "execution_count": 0,
   "metadata": {
    "application/vnd.databricks.v1+cell": {
     "cellMetadata": {
      "byteLimit": 2048000,
      "rowLimit": 10000
     },
     "inputWidgets": {},
     "nuid": "64ce3cb6-b444-47b1-ac53-487eb27a4bd3",
     "showTitle": true,
     "tableResultSettingsMap": {},
     "title": "mlflow.sklearn.log_model"
    }
   },
   "outputs": [],
   "source": [
    "import mlflow\n",
    "from mlflow.models import infer_signature\n",
    "import numpy as np\n",
    "from sklearn.linear_model import LogisticRegression\n",
    "\n",
    "with mlflow.start_run():\n",
    "    X = np.array([-2, -1, 0, 1, 2, 1]).reshape(-1, 1)\n",
    "    y = np.array([0, 0, 1, 1, 1, 0])\n",
    "    lr = LogisticRegression()\n",
    "    lr.fit(X, y)\n",
    "    signature = infer_signature(X, lr.predict(X))\n",
    "\n",
    "    mlflow.log_param(\"wazny_param\", 20)\n",
    "    mlflow.log_param(\"inny_wazny_param\", True)\n",
    "\n",
    "    model_info = mlflow.sklearn.log_model(\n",
    "        sk_model=lr,\n",
    "        artifact_path=\"model\",\n",
    "        signature=signature,\n",
    "        registered_model_name=\"jacek_laskowski.mlflow.meetup_06_12\",\n",
    "    )\n",
    "    print(f\"Model saved to: {model_info.model_uri}\")"
   ]
  },
  {
   "cell_type": "markdown",
   "metadata": {
    "application/vnd.databricks.v1+cell": {
     "cellMetadata": {
      "byteLimit": 2048000,
      "rowLimit": 10000
     },
     "inputWidgets": {},
     "nuid": "dca0ab52-11ac-4805-b137-7687a43f1752",
     "showTitle": false,
     "tableResultSettingsMap": {},
     "title": ""
    }
   },
   "source": [
    "\n",
    "Review [Registered Models](https://curriculum-dev.cloud.databricks.com/ml/models?o=3551974319838082) (Owned by me)\n",
    "\n",
    "There could be one from my previous experiments."
   ]
  },
  {
   "cell_type": "markdown",
   "metadata": {
    "application/vnd.databricks.v1+cell": {
     "cellMetadata": {
      "byteLimit": 2048000,
      "rowLimit": 10000
     },
     "inputWidgets": {},
     "nuid": "b4937b16-0571-4ef0-a2bf-a43a5fcfa525",
     "showTitle": false,
     "tableResultSettingsMap": {},
     "title": ""
    }
   },
   "source": [
    "\n",
    "## List All My Registered Models\n",
    "\n",
    "<br>\n",
    "\n",
    "```\n",
    "databricks registered-models list | jq '.[] | select(.created_by==\"jacek@japila.pl\")' | jq '.full_name' | tr -d \\\"\n",
    "```"
   ]
  },
  {
   "cell_type": "markdown",
   "metadata": {
    "application/vnd.databricks.v1+cell": {
     "cellMetadata": {
      "byteLimit": 2048000,
      "rowLimit": 10000
     },
     "inputWidgets": {},
     "nuid": "b63dcce4-ef2f-4b67-84c5-12bda1003726",
     "showTitle": false,
     "tableResultSettingsMap": {},
     "title": ""
    }
   },
   "source": [
    "\n",
    "## ☠️ Delete All My Registered Models\n",
    "\n",
    "<br>\n",
    "\n",
    "```\n",
    "databricks registered-models list | jq '.[] | select(.created_by==\"jacek@japila.pl\")' | jq '.full_name' | tr -d \\\" | while read -r full_model_name;\n",
    "  do\n",
    "    echo \"Deleting \" $full_model_name;\n",
    "    databricks functions delete --force $full_model_name\n",
    "  done\n",
    "```"
   ]
  },
  {
   "cell_type": "markdown",
   "metadata": {
    "application/vnd.databricks.v1+cell": {
     "cellMetadata": {
      "byteLimit": 2048000,
      "rowLimit": 10000
     },
     "inputWidgets": {},
     "nuid": "a88c56a2-c715-4e9f-91fc-8b6e36148481",
     "showTitle": false,
     "tableResultSettingsMap": {},
     "title": ""
    }
   },
   "source": [
    "\n",
    "Review [Model Versions](https://curriculum-dev.cloud.databricks.com/explore/data/models/jacek_laskowski/mlflow/meetup_06_12)\n",
    "\n",
    "There could be many from my previous experiments."
   ]
  },
  {
   "cell_type": "markdown",
   "metadata": {
    "application/vnd.databricks.v1+cell": {
     "cellMetadata": {
      "byteLimit": 2048000,
      "rowLimit": 10000
     },
     "inputWidgets": {},
     "nuid": "9dc3b74f-ea60-492a-9598-1b5f861179a3",
     "showTitle": false,
     "tableResultSettingsMap": {},
     "title": ""
    }
   },
   "source": [
    "## Create Serving Endpoint\n",
    "\n",
    "Based on [Step 2: Create endpoint using the Serving UI](https://docs.databricks.com/aws/en/machine-learning/model-serving/model-serving-intro#step-2-create-endpoint-using-the-serving-ui)\n",
    "\n",
    "[Create custom model serving endpoints](https://docs.databricks.com/aws/en/machine-learning/model-serving/create-manage-serving-endpoints)"
   ]
  },
  {
   "cell_type": "markdown",
   "metadata": {
    "application/vnd.databricks.v1+cell": {
     "cellMetadata": {},
     "inputWidgets": {},
     "nuid": "8259553e-3911-43ce-b451-266fe43139a0",
     "showTitle": false,
     "tableResultSettingsMap": {},
     "title": ""
    }
   },
   "source": [
    "\n",
    "### FIXME Screenshot 🙏"
   ]
  },
  {
   "cell_type": "markdown",
   "metadata": {
    "application/vnd.databricks.v1+cell": {
     "cellMetadata": {
      "byteLimit": 2048000,
      "rowLimit": 10000
     },
     "inputWidgets": {},
     "nuid": "ff21cc06-17d1-44cb-ab42-6bb1123d64c3",
     "showTitle": false,
     "tableResultSettingsMap": {},
     "title": ""
    }
   },
   "source": [
    "## Query Endpoint\n",
    "\n",
    "Learn more in [Query serving endpoints for custom models](https://docs.databricks.com/aws/en/machine-learning/model-serving/score-custom-model-endpoints)"
   ]
  },
  {
   "cell_type": "markdown",
   "metadata": {
    "application/vnd.databricks.v1+cell": {
     "cellMetadata": {
      "byteLimit": 2048000,
      "rowLimit": 10000
     },
     "inputWidgets": {},
     "nuid": "b18c495d-64a0-4429-92c8-6c9f0b032e32",
     "showTitle": false,
     "tableResultSettingsMap": {},
     "title": ""
    }
   },
   "source": [
    "\n",
    "### MLflow Client API"
   ]
  },
  {
   "cell_type": "code",
   "execution_count": 0,
   "metadata": {
    "application/vnd.databricks.v1+cell": {
     "cellMetadata": {
      "byteLimit": 2048000,
      "rowLimit": 10000
     },
     "inputWidgets": {},
     "nuid": "55cb7397-e801-4894-af40-08393ee6d7fd",
     "showTitle": false,
     "tableResultSettingsMap": {},
     "title": ""
    }
   },
   "outputs": [],
   "source": [
    "import mlflow\n",
    "\n",
    "model_uri=model_info.model_uri\n",
    "\n",
    "print(f\"model_uri: {model_uri}\")\n",
    "\n",
    "# The always-available generic model loader (pyfunc)\n",
    "# Could also be mlflow.sklearn.load_model(model_uri=model_uri)\n",
    "sklearn_pyfunc = mlflow.pyfunc.load_model(model_uri=model_uri)\n",
    "\n",
    "data = np.array([-4, 1, 0, 10, -2, 1]).reshape(-1, 1)\n",
    "print(f\"data: {data}\")\n",
    "\n",
    "predictions = sklearn_pyfunc.predict(data)\n",
    "print(f\"predictions: {predictions}\")"
   ]
  },
  {
   "cell_type": "code",
   "execution_count": 0,
   "metadata": {
    "application/vnd.databricks.v1+cell": {
     "cellMetadata": {
      "byteLimit": 2048000,
      "rowLimit": 10000
     },
     "inputWidgets": {},
     "nuid": "0249a854-d332-404a-a47d-d6c53b841919",
     "showTitle": false,
     "tableResultSettingsMap": {},
     "title": ""
    }
   },
   "outputs": [],
   "source": [
    "mlflow.sklearn.load_model(model_uri=model_uri)"
   ]
  },
  {
   "cell_type": "markdown",
   "metadata": {
    "application/vnd.databricks.v1+cell": {
     "cellMetadata": {
      "byteLimit": 2048000,
      "rowLimit": 10000
     },
     "inputWidgets": {},
     "nuid": "6ec1fe6a-1b0b-4b52-b21f-71221b78d780",
     "showTitle": false,
     "tableResultSettingsMap": {},
     "title": ""
    }
   },
   "source": [
    "### Databricks UI\n",
    "\n",
    "1. [Serving endpoints](https://curriculum-dev.cloud.databricks.com/ml/endpoints) > Click **Owned by me** to narrow down the list of the available endpoints > [jacek_laskowski_meetup_06_12](https://curriculum-dev.cloud.databricks.com/ml/endpoints/jacek_laskowski_meetup_06_12)\n",
    "1. Click **Use** (in the top-right corner) or **Query** (in the drop-down menu) buttons\n",
    "1. In **Browser** tab, enter one of the [supported scoring formats](https://docs.databricks.com/aws/en/machine-learning/model-serving/score-custom-model-endpoints#supported-scoring-formats):\n",
    "    * [JSONified Pandas DataFrame](https://docs.databricks.com/aws/en/machine-learning/model-serving/score-custom-model-endpoints#pandas-dataframe)\n",
    "    * [Tensor input](https://docs.databricks.com/aws/en/machine-learning/model-serving/score-custom-model-endpoints#tensor-input) (e.g., `{\"inputs\": [[-4], [ 1], [ 0], [10], [-2], [ 1]]}`)"
   ]
  },
  {
   "cell_type": "markdown",
   "metadata": {
    "application/vnd.databricks.v1+cell": {
     "cellMetadata": {
      "byteLimit": 2048000,
      "rowLimit": 10000
     },
     "inputWidgets": {},
     "nuid": "3b706588-972b-4905-871a-f3eba9b43a91",
     "showTitle": false,
     "tableResultSettingsMap": {},
     "title": ""
    }
   },
   "source": [
    "\n",
    "### Command Line\n",
    "\n",
    "<br>\n",
    "\n",
    "```\n",
    "❯ echo -n '{\"inputs\": [[5]]}' | https -A bearer -a $DATABRICKS_TOKEN https://curriculum-dev.cloud.databricks.com/serving-endpoints/jacek_laskowski_meetup_06_12_v1/invocations\n",
    "HTTP/1.1 200 OK\n",
    "content-length: 20\n",
    "content-type: application/json\n",
    "date: Sun, 8 Jun 2025 09:35:21 GMT\n",
    "endpoint-scale-to-zero: True\n",
    "endpoint-small-workload: True\n",
    "served-model-name: meetup_06_12-1\n",
    "server: databricks\n",
    "strict-transport-security: max-age=31536000; includeSubDomains; preload\n",
    "x-content-type-options: nosniff\n",
    "x-databricks-org-id: 3551974319838082\n",
    "x-request-id: f961f144-681e-4449-9cd4-c2e295d87f52\n",
    "\n",
    "{\n",
    "    \"predictions\": [\n",
    "        1\n",
    "    ]\n",
    "}\n",
    "```"
   ]
  },
  {
   "cell_type": "markdown",
   "metadata": {
    "application/vnd.databricks.v1+cell": {
     "cellMetadata": {
      "byteLimit": 2048000,
      "rowLimit": 10000
     },
     "inputWidgets": {},
     "nuid": "716f06f3-6dd9-4828-be0b-bb15f9083524",
     "showTitle": false,
     "tableResultSettingsMap": {},
     "title": ""
    }
   },
   "source": [
    "\n",
    "You can learn quite a lot from errors (when input data is of incorrect format):\n",
    "\n",
    "<br>\n",
    "\n",
    "```\n",
    "❯ echo -n '{}' | https -A bearer -a $DATABRICKS_TOKEN https://curriculum-dev.cloud.databricks.com/serving-endpoints/jacek_laskowski_meetup_06_12_v1/invocations\n",
    "HTTP/1.1 400 Bad Request\n",
    "content-encoding: gzip\n",
    "content-type: application/json\n",
    "date: Sun, 8 Jun 2025 09:38:37 GMT\n",
    "endpoint-scale-to-zero: True\n",
    "endpoint-small-workload: True\n",
    "served-model-name: meetup_06_12-1\n",
    "server: databricks\n",
    "strict-transport-security: max-age=31536000; includeSubDomains; preload\n",
    "transfer-encoding: chunked\n",
    "vary: Accept-Encoding\n",
    "x-content-type-options: nosniff\n",
    "x-databricks-org-id: 3551974319838082\n",
    "x-request-id: 61b79acd-4484-4e23-ba5b-aa868017bba2\n",
    "\n",
    "{\n",
    "    \"error_code\": \"BAD_REQUEST\",\n",
    "    \"message\": \"Invalid input. The input must be a JSON dictionary with exactly one of the input fields {'inputs', 'instances', 'dataframe_split', 'dataframe_records'}.. Received dictionary with input fields: set().\"\n",
    "}\n",
    "```\n",
    "\n",
    "The input must be a JSON dictionary with exactly one of the input fields `{'inputs', 'instances', 'dataframe_split', 'dataframe_records'}`"
   ]
  },
  {
   "cell_type": "markdown",
   "metadata": {
    "application/vnd.databricks.v1+cell": {
     "cellMetadata": {
      "byteLimit": 2048000,
      "rowLimit": 10000
     },
     "inputWidgets": {},
     "nuid": "7d623b0c-c578-4e65-ae20-020b32ee6e4a",
     "showTitle": false,
     "tableResultSettingsMap": {},
     "title": ""
    }
   },
   "source": [
    "\n",
    "## 🎁 Bonus: Databricks CLI"
   ]
  },
  {
   "cell_type": "markdown",
   "metadata": {
    "application/vnd.databricks.v1+cell": {
     "cellMetadata": {
      "byteLimit": 2048000,
      "rowLimit": 10000
     },
     "inputWidgets": {},
     "nuid": "c6744952-e0c1-4845-86db-71848c7e1f95",
     "showTitle": false,
     "tableResultSettingsMap": {},
     "title": ""
    }
   },
   "source": [
    "\n",
    "### databricks serving-endpoints\n",
    "\n",
    "The [Serving Endpoints API](https://docs.databricks.com/api/workspace/servingendpoints) allows you to create, update, and delete model serving endpoints.\n",
    "\n",
    "1. You can use a **serving endpoint** to serve models from the Databricks Model Registry or Unity Catalog.\n",
    "1. Endpoints expose the underlying models as scalable REST API endpoints using serverless compute.\n",
    "    1. The endpoints and associated compute resources are fully managed by Databricks and will not appear in your cloud account.\n",
    "1. A serving endpoint can consist of one or more MLflow models from the Databricks Model Registry, called **served entities**.\n",
    "    1. A serving endpoint can have at most ten served entities.\n",
    "    1. You can configure traffic settings to define how requests should be routed to your served entities behind an endpoint.\n",
    "    1. Additionally, you can configure the scale of resources that should be applied to each served entity.\n",
    "\n",
    "Available commands in `databricks serving-endpoints`:\n",
    "\n",
    "| Command | Description |\n",
    "|-|-|\n",
    "| build-logs                                    | Get build logs for a served model. |\n",
    "| create                                        | Create a new serving endpoint. |\n",
    "| create-provisioned-throughput-endpoint        | Create a new PT serving endpoint. |\n",
    "| delete                                        | Delete a serving endpoint. |\n",
    "| export-metrics                                | Get metrics of a serving endpoint. |\n",
    "| get                                           | Get a single serving endpoint. |\n",
    "| get-open-api                                  | Get the schema for a serving endpoint. |\n",
    "| list                                          | Get all serving endpoints. |\n",
    "| logs                                          | Get the latest logs for a served model. |\n",
    "| patch                                         | Update tags of a serving endpoint. |\n",
    "| put                                           | Update rate limits of a serving endpoint. |\n",
    "| put-ai-gateway                                | Update AI Gateway of a serving endpoint. |\n",
    "| query                                         | Query a serving endpoint. |\n",
    "| update-config                                 | Update config of a serving endpoint. |\n",
    "| update-provisioned-throughput-endpoint-config | Update config of a PT serving endpoint. |\n",
    "\n",
    "The Permission Commands in `databricks serving-endpoints`:\n",
    "\n",
    "| Permission Command | Description |\n",
    "|-|-|\n",
    "| get-permission-levels                         | Get serving endpoint permission levels. |\n",
    "| get-permissions                               | Get serving endpoint permissions. |\n",
    "| set-permissions                               | Set serving endpoint permissions. |\n",
    "| update-permissions                            | Update serving endpoint permissions. |"
   ]
  },
  {
   "cell_type": "markdown",
   "metadata": {
    "application/vnd.databricks.v1+cell": {
     "cellMetadata": {
      "byteLimit": 2048000,
      "rowLimit": 10000
     },
     "inputWidgets": {},
     "nuid": "2f027478-99d8-4f31-8c98-59d267ed6105",
     "showTitle": false,
     "tableResultSettingsMap": {},
     "title": ""
    }
   },
   "source": [
    "\n",
    "### List My Serving Endpoints\n",
    "\n",
    "<br>\n",
    "\n",
    "```\n",
    "databricks serving-endpoints list | jq '.[] | select(.creator==\"jacek@japila.pl\")'\n",
    "```"
   ]
  },
  {
   "cell_type": "markdown",
   "metadata": {
    "application/vnd.databricks.v1+cell": {
     "cellMetadata": {
      "byteLimit": 2048000,
      "rowLimit": 10000
     },
     "inputWidgets": {},
     "nuid": "3b756d21-21a0-4000-841b-53633125c516",
     "showTitle": false,
     "tableResultSettingsMap": {},
     "title": ""
    }
   },
   "source": [
    "\n",
    "### List Names of My Serving Endpoints\n",
    "\n",
    "<br>\n",
    "\n",
    "```\n",
    "databricks serving-endpoints list | jq '.[] | select(.creator==\"jacek@japila.pl\")' | jq '.name'\n",
    "```\n"
   ]
  },
  {
   "cell_type": "markdown",
   "metadata": {
    "application/vnd.databricks.v1+cell": {
     "cellMetadata": {
      "byteLimit": 2048000,
      "rowLimit": 10000
     },
     "inputWidgets": {},
     "nuid": "fcd8f8f4-d242-4df3-abfe-fd2d7bf5a28e",
     "showTitle": false,
     "tableResultSettingsMap": {},
     "title": ""
    }
   },
   "source": [
    "\n",
    "Once up and running, get the query schema of the serving endpoint in OpenAPI format.\n",
    "\n",
    "<br>\n",
    "\n",
    "```\n",
    "databricks serving-endpoints get-open-api jacek_laskowski_meetup_06_12\n",
    "```"
   ]
  },
  {
   "cell_type": "markdown",
   "metadata": {
    "application/vnd.databricks.v1+cell": {
     "cellMetadata": {
      "byteLimit": 2048000,
      "rowLimit": 10000
     },
     "inputWidgets": {},
     "nuid": "ede5786d-5329-40fc-ab31-e716da99efb4",
     "showTitle": false,
     "tableResultSettingsMap": {},
     "title": ""
    }
   },
   "source": [
    "\n",
    "### ☠️ Delete All My Endpoints\n",
    "\n",
    "<br>\n",
    "\n",
    "```\n",
    "models=$(databricks serving-endpoints list | jq '.[] | select(.creator==\"jacek@japila.pl\")' | jq '.name')\n",
    "echo $models | tr -d \\\" | while read -r model_name;\n",
    "  do\n",
    "    if [ $model_name = 'DISABLED_jacek_laskowski_meetup_06_12' ];\n",
    "    then\n",
    "      echo \"Skip \" $model_name;\n",
    "    else\n",
    "      echo \"Deleting \" $model_name;\n",
    "      databricks serving-endpoints delete $model_name\n",
    "    fi\n",
    "  done\n",
    "```"
   ]
  },
  {
   "cell_type": "markdown",
   "metadata": {
    "application/vnd.databricks.v1+cell": {
     "cellMetadata": {
      "byteLimit": 2048000,
      "rowLimit": 10000
     },
     "inputWidgets": {},
     "nuid": "06f4d4b8-7627-42c4-a88f-ff0a1d008ad0",
     "showTitle": false,
     "tableResultSettingsMap": {},
     "title": ""
    }
   },
   "source": [
    "\n",
    "## 🛑 Stop Here"
   ]
  },
  {
   "cell_type": "code",
   "execution_count": 0,
   "metadata": {
    "application/vnd.databricks.v1+cell": {
     "cellMetadata": {
      "byteLimit": 2048000,
      "rowLimit": 10000
     },
     "inputWidgets": {},
     "nuid": "e6112f9b-65cf-4a6e-804d-141cf4618c90",
     "showTitle": false,
     "tableResultSettingsMap": {},
     "title": ""
    }
   },
   "outputs": [],
   "source": [
    "dbutils.notebook.exit(\"Stop here\")"
   ]
  },
  {
   "cell_type": "markdown",
   "metadata": {
    "application/vnd.databricks.v1+cell": {
     "cellMetadata": {
      "byteLimit": 2048000,
      "rowLimit": 10000
     },
     "inputWidgets": {},
     "nuid": "ac91fa3b-c045-4ed2-8503-89b3801de7f9",
     "showTitle": false,
     "tableResultSettingsMap": {},
     "title": ""
    }
   },
   "source": [
    "\n",
    "# 🧑‍💻 Demo: Running MLflow's examples/databricks (and Editable Install in Python)\n",
    "\n",
    "[examples/databricks](https://github.com/mlflow/mlflow/tree/master/examples/databricks)"
   ]
  },
  {
   "cell_type": "markdown",
   "metadata": {
    "application/vnd.databricks.v1+cell": {
     "cellMetadata": {
      "byteLimit": 2048000,
      "rowLimit": 10000
     },
     "inputWidgets": {},
     "nuid": "c2eb1743-e728-49e9-ae34-170d4f1e578f",
     "showTitle": false,
     "tableResultSettingsMap": {},
     "title": ""
    }
   },
   "source": [
    "\n",
    "## Step 0. Clone MLflow Repo\n",
    "\n",
    "`git clone` https://github.com/mlflow/mlflow"
   ]
  },
  {
   "cell_type": "markdown",
   "metadata": {
    "application/vnd.databricks.v1+cell": {
     "cellMetadata": {
      "byteLimit": 2048000,
      "rowLimit": 10000
     },
     "inputWidgets": {},
     "nuid": "956f4d68-a569-4ed2-86e2-9d8e1f2fdbbf",
     "showTitle": false,
     "tableResultSettingsMap": {},
     "title": ""
    }
   },
   "source": [
    "\n",
    "## Step 1. Install Dependencies"
   ]
  },
  {
   "cell_type": "markdown",
   "metadata": {
    "application/vnd.databricks.v1+cell": {
     "cellMetadata": {
      "byteLimit": 2048000,
      "rowLimit": 10000
     },
     "inputWidgets": {},
     "nuid": "98926702-397e-4174-bb77-42f9e274e4f2",
     "showTitle": false,
     "tableResultSettingsMap": {},
     "title": ""
    }
   },
   "source": [
    "\n",
    "```\n",
    "uv pip install databricks-connect\n",
    "uv pip install scikit-learn\n",
    "```"
   ]
  },
  {
   "cell_type": "markdown",
   "metadata": {
    "application/vnd.databricks.v1+cell": {
     "cellMetadata": {
      "byteLimit": 2048000,
      "rowLimit": 10000
     },
     "inputWidgets": {},
     "nuid": "970ca884-9ac8-4532-9990-fa4885e878b4",
     "showTitle": false,
     "tableResultSettingsMap": {},
     "title": ""
    }
   },
   "source": [
    "\n",
    "## Step 2. Run Experiment"
   ]
  },
  {
   "cell_type": "markdown",
   "metadata": {
    "application/vnd.databricks.v1+cell": {
     "cellMetadata": {
      "byteLimit": 2048000,
      "rowLimit": 10000
     },
     "inputWidgets": {},
     "nuid": "7f8a06f8-5b0e-4251-973b-9e3bb5f34a69",
     "showTitle": false,
     "tableResultSettingsMap": {},
     "title": ""
    }
   },
   "source": [
    "\n",
    "```\n",
    "❯ python examples/databricks/dbconnect.py --cluster-id xxx\n",
    "2025/05/08 17:51:04 INFO mlflow.tracking.fluent: Experiment with name '/Users/jacek@japila.pl/dbconnect' does not exist. Creating a new experiment.\n",
    "🏃 View run smiling-ox-667 at: https://curriculum-dev.cloud.databricks.com/ml/experiments/1275781889574864/runs/b88fd8406e7d410bac8992258093ef5d\n",
    "🧪 View experiment at: https://curriculum-dev.cloud.databricks.com/ml/experiments/1275781889574864\n",
    "Traceback (most recent call last):\n",
    "  File \"/Users/jacek/oss/mlflow/examples/databricks/dbconnect.py\", line 56, in <module>\n",
    "    main()\n",
    "    ~~~~^^\n",
    "  File \"/Users/jacek/oss/mlflow/examples/databricks/dbconnect.py\", line 37, in main\n",
    "    model_info = mlflow.sklearn.log_model(model, name=\"model\", signature=signature)\n",
    "TypeError: log_model() got an unexpected keyword argument 'name'\n",
    "```"
   ]
  },
  {
   "cell_type": "markdown",
   "metadata": {
    "application/vnd.databricks.v1+cell": {
     "cellMetadata": {
      "byteLimit": 2048000,
      "rowLimit": 10000
     },
     "inputWidgets": {},
     "nuid": "0236050b-a30b-4fa3-9cbc-366fd9acb2f4",
     "showTitle": false,
     "tableResultSettingsMap": {},
     "title": ""
    }
   },
   "source": [
    "\n",
    "## Step 3. Editable Install\n",
    "\n",
    "[Development Mode (a.k.a. “Editable Installs”)](https://setuptools.pypa.io/en/latest/userguide/development_mode.html)"
   ]
  },
  {
   "cell_type": "markdown",
   "metadata": {
    "application/vnd.databricks.v1+cell": {
     "cellMetadata": {
      "byteLimit": 2048000,
      "rowLimit": 10000
     },
     "inputWidgets": {},
     "nuid": "7db008c0-b12e-4eba-b79c-0bfcbd617843",
     "showTitle": false,
     "tableResultSettingsMap": {},
     "title": ""
    }
   },
   "source": [
    "\n",
    "```\n",
    "uv pip install -e .\n",
    "```"
   ]
  },
  {
   "cell_type": "markdown",
   "metadata": {
    "application/vnd.databricks.v1+cell": {
     "cellMetadata": {
      "byteLimit": 2048000,
      "rowLimit": 10000
     },
     "inputWidgets": {},
     "nuid": "6835dd8f-df1b-42ca-a614-d3288c7913c9",
     "showTitle": false,
     "tableResultSettingsMap": {},
     "title": ""
    }
   },
   "source": [
    "\n",
    "```\n",
    "❯ python examples/databricks/dbconnect.py --cluster-id xxx\n",
    "🏃 View run carefree-duck-680 at: https://curriculum-dev.cloud.databricks.com/ml/experiments/1275781889574864/runs/89a774fb54da4a5c844764d3e40ad638\n",
    "🧪 View experiment at: https://curriculum-dev.cloud.databricks.com/ml/experiments/1275781889574864\n",
    "Traceback (most recent call last):\n",
    "  File \"/Users/jacek/oss/mlflow/examples/databricks/dbconnect.py\", line 56, in <module>\n",
    "    main()\n",
    "    ~~~~^^\n",
    "  File \"/Users/jacek/oss/mlflow/examples/databricks/dbconnect.py\", line 37, in main\n",
    "    model_info = mlflow.sklearn.log_model(model, name=\"model\", signature=signature)\n",
    "  File \"/Users/jacek/oss/mlflow/mlflow/sklearn/__init__.py\", line 426, in log_model\n",
    "    return Model.log(\n",
    "           ~~~~~~~~~^\n",
    "        artifact_path=artifact_path,\n",
    "        ^^^^^^^^^^^^^^^^^^^^^^^^^^^^\n",
    "    ...<18 lines>...\n",
    "        model_id=model_id,\n",
    "        ^^^^^^^^^^^^^^^^^^\n",
    "    )\n",
    "    ^\n",
    "  File \"/Users/jacek/oss/mlflow/mlflow/models/model.py\", line 928, in log\n",
    "    model = mlflow.initialize_logged_model(\n",
    "        # TODO: Update model name\n",
    "    ...<6 lines>...\n",
    "        else None,\n",
    "    )\n",
    "  File \"/Users/jacek/oss/mlflow/mlflow/tracking/fluent.py\", line 2122, in initialize_logged_model\n",
    "    model = _create_logged_model(\n",
    "        name=name,\n",
    "    ...<4 lines>...\n",
    "        experiment_id=experiment_id,\n",
    "    )\n",
    "  File \"/Users/jacek/oss/mlflow/mlflow/tracking/fluent.py\", line 2232, in _create_logged_model\n",
    "    return MlflowClient().create_logged_model(\n",
    "           ~~~~~~~~~~~~~~~~~~~~~~~~~~~~~~~~~~^\n",
    "        experiment_id=experiment_id,\n",
    "        ^^^^^^^^^^^^^^^^^^^^^^^^^^^^\n",
    "    ...<4 lines>...\n",
    "        model_type=model_type,\n",
    "        ^^^^^^^^^^^^^^^^^^^^^^\n",
    "    )\n",
    "    ^\n",
    "  File \"/Users/jacek/oss/mlflow/mlflow/tracking/client.py\", line 5218, in create_logged_model\n",
    "    return self._tracking_client.create_logged_model(\n",
    "           ~~~~~~~~~~~~~~~~~~~~~~~~~~~~~~~~~~~~~~~~~^\n",
    "        experiment_id, name, source_run_id, tags, params, model_type\n",
    "        ^^^^^^^^^^^^^^^^^^^^^^^^^^^^^^^^^^^^^^^^^^^^^^^^^^^^^^^^^^^^\n",
    "    )\n",
    "    ^\n",
    "  File \"/Users/jacek/oss/mlflow/mlflow/tracking/_tracking_service/client.py\", line 815, in create_logged_model\n",
    "    return self.store.create_logged_model(\n",
    "           ~~~~~~~~~~~~~~~~~~~~~~~~~~~~~~^\n",
    "        experiment_id=experiment_id,\n",
    "        ^^^^^^^^^^^^^^^^^^^^^^^^^^^^\n",
    "    ...<8 lines>...\n",
    "        model_type=model_type,\n",
    "        ^^^^^^^^^^^^^^^^^^^^^^\n",
    "    )\n",
    "    ^\n",
    "  File \"/Users/jacek/oss/mlflow/mlflow/store/tracking/rest_store.py\", line 904, in create_logged_model\n",
    "    response_proto = self._call_endpoint(CreateLoggedModel, req_body)\n",
    "  File \"/Users/jacek/oss/mlflow/mlflow/store/tracking/rest_store.py\", line 129, in _call_endpoint\n",
    "    return call_endpoint(\n",
    "        self.get_host_creds(),\n",
    "    ...<4 lines>...\n",
    "        retry_timeout_seconds=retry_timeout_seconds,\n",
    "    )\n",
    "  File \"/Users/jacek/oss/mlflow/mlflow/utils/rest_utils.py\", line 474, in call_endpoint\n",
    "    response = verify_rest_response(response, endpoint)\n",
    "  File \"/Users/jacek/oss/mlflow/mlflow/utils/rest_utils.py\", line 261, in verify_rest_response\n",
    "    raise RestException(json.loads(response.text))\n",
    "mlflow.exceptions.RestException: BAD_REQUEST: This API is not enabled.\n",
    "```"
   ]
  },
  {
   "cell_type": "markdown",
   "metadata": {
    "application/vnd.databricks.v1+cell": {
     "cellMetadata": {
      "byteLimit": 2048000,
      "rowLimit": 10000
     },
     "inputWidgets": {},
     "nuid": "1a9a770e-242d-4166-94d2-9aaf3faae1f0",
     "showTitle": false,
     "tableResultSettingsMap": {},
     "title": ""
    }
   },
   "source": [
    "## Step 4. BAD_REQUEST: This API is not enabled.\n",
    "\n",
    "Hunting down the root cause of the exception."
   ]
  },
  {
   "cell_type": "markdown",
   "metadata": {
    "application/vnd.databricks.v1+cell": {
     "cellMetadata": {
      "byteLimit": 2048000,
      "rowLimit": 10000
     },
     "inputWidgets": {},
     "nuid": "90888f24-d445-4383-9d9b-c511293d1c38",
     "showTitle": false,
     "tableResultSettingsMap": {},
     "title": ""
    }
   },
   "source": [
    "\n",
    "Modify `mlflow/utils/rest_utils.py:261`"
   ]
  },
  {
   "cell_type": "markdown",
   "metadata": {
    "application/vnd.databricks.v1+cell": {
     "cellMetadata": {
      "byteLimit": 2048000,
      "rowLimit": 10000
     },
     "inputWidgets": {},
     "nuid": "af1b552c-ac6e-487b-a544-43cef7b77d52",
     "showTitle": false,
     "tableResultSettingsMap": {},
     "title": ""
    }
   },
   "source": [
    "\n",
    "```\n",
    "❯ python examples/databricks/dbconnect.py --cluster-id xxx\n",
    ">>> endpoint /api/2.0/mlflow/experiments/get-by-name\n",
    ">>> endpoint /api/2.0/mlflow/runs/create\n",
    ">>> endpoint /api/2.0/mlflow/runs/get\n",
    ">>> endpoint /api/2.0/mlflow/logged-models\n",
    ">>> endpoint /api/2.0/mlflow/runs/get\n",
    "🏃 View run zealous-worm-360 at: https://curriculum-dev.cloud.databricks.com/ml/experiments/1275781889574864/runs/8cad690b9bdd45ab96658987f4039180\n",
    "🧪 View experiment at: https://curriculum-dev.cloud.databricks.com/ml/experiments/1275781889574864\n",
    ">>> endpoint /api/2.0/mlflow/runs/update\n",
    "Traceback (most recent call last):\n",
    "  File \"/Users/jacek/oss/mlflow/examples/databricks/dbconnect.py\", line 56, in <module>\n",
    "    main()\n",
    "    ~~~~^^\n",
    "...\n",
    "  File \"/Users/jacek/oss/mlflow/mlflow/utils/rest_utils.py\", line 262, in verify_rest_response\n",
    "    raise RestException(json.loads(response.text))\n",
    "mlflow.exceptions.RestException: BAD_REQUEST: This API is not enabled.\n",
    "```"
   ]
  },
  {
   "cell_type": "markdown",
   "metadata": {
    "application/vnd.databricks.v1+cell": {
     "cellMetadata": {
      "byteLimit": 2048000,
      "rowLimit": 10000
     },
     "inputWidgets": {},
     "nuid": "c5c52ab3-5f91-4ba2-a53d-547530b98412",
     "showTitle": false,
     "tableResultSettingsMap": {},
     "title": ""
    }
   },
   "source": [
    "\n",
    "## Step 5. MLflow API reference\n",
    "\n",
    "[MLflow API reference](https://docs.databricks.com/aws/en/reference/mlflow-api)"
   ]
  },
  {
   "cell_type": "markdown",
   "metadata": {
    "application/vnd.databricks.v1+cell": {
     "cellMetadata": {
      "byteLimit": 2048000,
      "rowLimit": 10000
     },
     "inputWidgets": {},
     "nuid": "4808469f-133d-4862-8147-45456e7a67f6",
     "showTitle": false,
     "tableResultSettingsMap": {},
     "title": ""
    }
   },
   "source": [
    "\n",
    "### Experiments\n",
    "\n",
    "[Experiments](https://docs.databricks.com/api/workspace/experiments)\n",
    "\n",
    "1. **Experiments** are the primary unit of organization in MLflow.\n",
    "1. All **MLflow runs** belong to an experiment.\n",
    "1. Each experiment lets you visualize, search, and compare runs, as well as download run artifacts or metadata for analysis in other tools.\n",
    "1. Experiments are maintained in a Databricks-hosted MLflow tracking server.\n",
    "1. Experiments are located in the workspace file tree.\n",
    "1. You manage experiments using the same tools you use to manage other workspace objects such as folders, notebooks, and libraries."
   ]
  },
  {
   "cell_type": "markdown",
   "metadata": {
    "application/vnd.databricks.v1+cell": {
     "cellMetadata": {
      "byteLimit": 2048000,
      "rowLimit": 10000
     },
     "inputWidgets": {},
     "nuid": "73da36c4-ba45-43ca-b511-55d8f1a6eda1",
     "showTitle": false,
     "tableResultSettingsMap": {},
     "title": ""
    }
   },
   "source": [
    "### Databricks CLI\n",
    "\n",
    "<br>\n",
    "\n",
    "```\n",
    "❯ databricks | more\n",
    "...\n",
    "Machine Learning\n",
    "  experiments                            Experiments are the primary unit of organization in MLflow; all MLflow runs belong to an experiment.\n",
    "  model-registry                         Note: This API reference documents APIs for the Workspace Model Registry.\n",
    "Real-time Serving\n",
    "  serving-endpoints                      The Serving Endpoints API allows you to create, update, and delete model serving endpoints.\n",
    "Unity Catalog\n",
    "  model-versions                         Databricks provides a hosted version of MLflow Model Registry in Unity Catalog.\n",
    "  registered-models                      Databricks provides a hosted version of MLflow Model Registry in Unity Catalog.\n",
    "...\n",
    "```"
   ]
  },
  {
   "cell_type": "markdown",
   "metadata": {
    "application/vnd.databricks.v1+cell": {
     "cellMetadata": {
      "byteLimit": 2048000,
      "rowLimit": 10000
     },
     "inputWidgets": {},
     "nuid": "eb379053-2409-4d32-a942-e1d36b70f2d3",
     "showTitle": false,
     "tableResultSettingsMap": {},
     "title": ""
    }
   },
   "source": [
    "\n",
    "```\n",
    "❯ databricks experiments list-experiments | jq '.[].name' | grep 'jacek@japila.pl'\n",
    "\"/Users/jacek@japila.pl/dbconnect\"\n",
    "\"/Users/jacek@japila.pl/demo-experiment\"\n",
    "```"
   ]
  },
  {
   "cell_type": "markdown",
   "metadata": {
    "application/vnd.databricks.v1+cell": {
     "cellMetadata": {
      "byteLimit": 2048000,
      "rowLimit": 10000
     },
     "inputWidgets": {},
     "nuid": "9652b59c-3753-4333-b4d7-1e012b242bd3",
     "showTitle": false,
     "tableResultSettingsMap": {},
     "title": ""
    }
   },
   "source": [
    "\n",
    "```\n",
    "databricks registered-models list | jq '.[].full_name'\n",
    "```"
   ]
  },
  {
   "cell_type": "markdown",
   "metadata": {
    "application/vnd.databricks.v1+cell": {
     "cellMetadata": {
      "byteLimit": 2048000,
      "rowLimit": 10000
     },
     "inputWidgets": {},
     "nuid": "841c22d0-46ab-435a-8644-408de8ce81f5",
     "showTitle": false,
     "tableResultSettingsMap": {},
     "title": ""
    }
   },
   "source": [
    "# 🧑‍💻 Demo: MLflow's dev/pyproject.py and uv\n",
    "\n",
    "1. What I learnt while reviewing the source code of MLflow and having found [dev/pyproject.py](https://github.com/mlflow/mlflow/blob/master/dev/pyproject.py) to execute locally.\n",
    "1. And how uv helped.\n",
    "\n",
    "Why it even matters?! 🤨"
   ]
  },
  {
   "cell_type": "markdown",
   "metadata": {
    "application/vnd.databricks.v1+cell": {
     "cellMetadata": {
      "byteLimit": 2048000,
      "rowLimit": 10000
     },
     "inputWidgets": {},
     "nuid": "620395ad-cd26-476e-9624-7852602ff3c2",
     "showTitle": false,
     "tableResultSettingsMap": {},
     "title": ""
    }
   },
   "source": [
    "\n",
    "## Step 0. Clone MLflow Repo\n",
    "\n",
    "`git clone` https://github.com/mlflow/mlflow"
   ]
  },
  {
   "cell_type": "markdown",
   "metadata": {
    "application/vnd.databricks.v1+cell": {
     "cellMetadata": {
      "byteLimit": 2048000,
      "rowLimit": 10000
     },
     "inputWidgets": {},
     "nuid": "81a26d7a-5141-44b2-ae17-bde4ca451220",
     "showTitle": false,
     "tableResultSettingsMap": {},
     "title": ""
    }
   },
   "source": [
    "\n",
    "## Step 1. uvx python dev/pyproject.py\n",
    "\n",
    "<br>\n",
    "\n",
    "```\n",
    "❯ uvx python dev/pyproject.py\n",
    "Traceback (most recent call last):\n",
    "  File \"/Users/jacek/oss/mlflow/./dev/pyproject.py\", line 10, in <module>\n",
    "    import toml\n",
    "ModuleNotFoundError: No module named 'toml'\n",
    "```"
   ]
  },
  {
   "cell_type": "markdown",
   "metadata": {
    "application/vnd.databricks.v1+cell": {
     "cellMetadata": {
      "byteLimit": 2048000,
      "rowLimit": 10000
     },
     "inputWidgets": {},
     "nuid": "2d1a19da-7349-483c-bf20-e8ce71fb4ea2",
     "showTitle": false,
     "tableResultSettingsMap": {},
     "title": ""
    }
   },
   "source": [
    "\n",
    "## Step 2. Set Up Dev Env"
   ]
  },
  {
   "cell_type": "markdown",
   "metadata": {
    "application/vnd.databricks.v1+cell": {
     "cellMetadata": {
      "byteLimit": 2048000,
      "rowLimit": 10000
     },
     "inputWidgets": {},
     "nuid": "4cb74c3f-308d-4f79-bb8f-f7aa6dc4956c",
     "showTitle": false,
     "tableResultSettingsMap": {},
     "title": ""
    }
   },
   "source": [
    "\n",
    "`uv venv .dev_pyproject_py_deep_dive`\n",
    "\n",
    "`source .dev_pyproject_py_deep_dive/bin/activate`"
   ]
  },
  {
   "cell_type": "markdown",
   "metadata": {
    "application/vnd.databricks.v1+cell": {
     "cellMetadata": {
      "byteLimit": 2048000,
      "rowLimit": 10000
     },
     "inputWidgets": {},
     "nuid": "badac1e7-c283-421d-b81c-8a0412c50c51",
     "showTitle": false,
     "tableResultSettingsMap": {},
     "title": ""
    }
   },
   "source": [
    "\n",
    "## Step 3. Virtual Envs in Python\n",
    "\n",
    "Please note that I'm a JVM dev (and only very recently switched to Python)."
   ]
  },
  {
   "cell_type": "markdown",
   "metadata": {
    "application/vnd.databricks.v1+cell": {
     "cellMetadata": {
      "byteLimit": 2048000,
      "rowLimit": 10000
     },
     "inputWidgets": {},
     "nuid": "bda1c5a2-2377-4f08-9444-730759e6fb08",
     "showTitle": false,
     "tableResultSettingsMap": {},
     "title": ""
    }
   },
   "source": [
    "\n",
    "`uv pip install toml`\n",
    "\n",
    "`python ./dev/pyproject.py`\n",
    "\n",
    "`type python` and it finally clicked how virtual envs work 🔥\n",
    "\n",
    "[venv — Creation of virtual environments](https://docs.python.org/3/library/venv.html)"
   ]
  },
  {
   "cell_type": "markdown",
   "metadata": {
    "application/vnd.databricks.v1+cell": {
     "cellMetadata": {
      "byteLimit": 2048000,
      "rowLimit": 10000
     },
     "inputWidgets": {},
     "nuid": "1dd13382-aeb9-420a-a887-7b34d04a6c06",
     "showTitle": false,
     "tableResultSettingsMap": {},
     "title": ""
    }
   },
   "source": [
    "## Step 4. It Works 🥳"
   ]
  },
  {
   "cell_type": "markdown",
   "metadata": {
    "application/vnd.databricks.v1+cell": {
     "cellMetadata": {
      "byteLimit": 2048000,
      "rowLimit": 10000
     },
     "inputWidgets": {},
     "nuid": "62f56061-22b9-4fd8-bd72-769069d6f8cc",
     "showTitle": false,
     "tableResultSettingsMap": {},
     "title": ""
    }
   },
   "source": [
    "\n",
    "`uv pip install pyyaml`\n",
    "\n",
    "> ⚠️ NOTE\n",
    ">\n",
    "> All the dev deps are in [dev/requirements.txt](https://github.com/mlflow/mlflow/blob/master/dev/requirements.txt)\n",
    "\n",
    "`uv pip install packaging`\n",
    "\n",
    "`brew install taplo`\n",
    "\n",
    "`python ./dev/pyproject.py` seems to change nothing, huh?! 🤨\n",
    "\n",
    "💎 Think what the script does and you will know why nothing seems changed 😉"
   ]
  },
  {
   "cell_type": "markdown",
   "metadata": {
    "application/vnd.databricks.v1+cell": {
     "cellMetadata": {
      "byteLimit": 2048000,
      "rowLimit": 10000
     },
     "inputWidgets": {},
     "nuid": "c2384861-cf1e-41e1-9dfd-b803b0905019",
     "showTitle": false,
     "tableResultSettingsMap": {},
     "title": ""
    }
   },
   "source": [
    "# ✨ Bonus Demo ✨\n",
    "\n",
    "[RestException: INVALID_PARAMETER_VALUE while searching for registered models from model registry](https://stackoverflow.com/q/79630371/1305344)"
   ]
  },
  {
   "cell_type": "markdown",
   "metadata": {
    "application/vnd.databricks.v1+cell": {
     "cellMetadata": {
      "byteLimit": 2048000,
      "rowLimit": 10000
     },
     "inputWidgets": {},
     "nuid": "bde48ccb-ad3e-44bf-9376-1ba264b50839",
     "showTitle": false,
     "tableResultSettingsMap": {},
     "title": ""
    }
   },
   "source": [
    "# That's all Folks! 👋\n",
    "\n",
    "![Warner Bros., Public domain, via Wikimedia Commons](https://upload.wikimedia.org/wikipedia/commons/e/ea/Thats_all_folks.svg)"
   ]
  },
  {
   "cell_type": "markdown",
   "metadata": {
    "application/vnd.databricks.v1+cell": {
     "cellMetadata": {
      "byteLimit": 2048000,
      "rowLimit": 10000
     },
     "inputWidgets": {},
     "nuid": "8f9b96ee-3a41-4131-b854-366fec7f65ee",
     "showTitle": false,
     "tableResultSettingsMap": {},
     "title": ""
    }
   },
   "source": [
    "\n",
    "# 🙋 Questions and Answers"
   ]
  },
  {
   "cell_type": "markdown",
   "metadata": {
    "application/vnd.databricks.v1+cell": {
     "cellMetadata": {
      "byteLimit": 2048000,
      "rowLimit": 10000
     },
     "inputWidgets": {},
     "nuid": "2aff47b7-b635-4e8a-bd21-1496e41332cc",
     "showTitle": false,
     "tableResultSettingsMap": {},
     "title": ""
    }
   },
   "source": [
    "\n",
    "# 💡 Ideas for Future Events\n",
    "\n",
    "➡️ [Ideas for Future Events]($./Ideas for Future Events)"
   ]
  }
 ],
 "metadata": {
  "application/vnd.databricks.v1+notebook": {
   "computePreferences": {
    "hardware": {
     "accelerator": null,
     "gpuPoolId": null,
     "memory": null
    }
   },
   "dashboards": [],
   "environmentMetadata": {
    "base_environment": "",
    "environment_version": "2"
   },
   "inputWidgetPreferences": null,
   "language": "python",
   "notebookMetadata": {
    "mostRecentlyExecutedCommandWithImplicitDF": {
     "commandId": 7235682345754161,
     "dataframes": [
      "_sqldf"
     ]
    },
    "pythonIndentUnit": 4
   },
   "notebookName": "Meetup_2025_06_12",
   "widgets": {}
  },
  "language_info": {
   "name": "python"
  }
 },
 "nbformat": 4,
 "nbformat_minor": 0
}
