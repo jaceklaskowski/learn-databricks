{
 "cells": [
  {
   "cell_type": "markdown",
   "metadata": {
    "application/vnd.databricks.v1+cell": {
     "cellMetadata": {},
     "inputWidgets": {},
     "nuid": "6a46b538-5343-4bc0-b5fc-97449b4aa283",
     "showTitle": false,
     "tableResultSettingsMap": {},
     "title": ""
    }
   },
   "source": [
    "# Databricks Machine Learning and MLflow Client API\n",
    "\n",
    "Thursday, May 22, 2025\n",
    "\n",
    "[Invitation on Luma](https://lu.ma/mnl5suva), [LinkedIn](https://www.linkedin.com/feed/update/urn:li:activity:7329845559609978881/), [Meetup](https://www.meetup.com/warsaw-data-engineering/events/307894572/)"
   ]
  },
  {
   "cell_type": "markdown",
   "metadata": {
    "application/vnd.databricks.v1+cell": {
     "cellMetadata": {},
     "inputWidgets": {},
     "nuid": "dd081a26-c5e2-444a-875d-64c485221a95",
     "showTitle": false,
     "tableResultSettingsMap": {},
     "title": ""
    }
   },
   "source": [
    "\n",
    "# 📚 Agenda\n",
    "\n",
    "1. Demo: Serve Model\n",
    "1. Demo: Running MLflow's `examples/databricks` (and Editable Install in Python)\n",
    "1. Demo: MLflow's `dev/pyproject.py` and uv\n",
    "\n",
    "⏰ Całkowity czas trwania spotkania: **1h 15min**"
   ]
  },
  {
   "cell_type": "markdown",
   "metadata": {
    "application/vnd.databricks.v1+cell": {
     "cellMetadata": {},
     "inputWidgets": {},
     "nuid": "f4b536d7-e189-45af-a05a-88e502572df4",
     "showTitle": false,
     "tableResultSettingsMap": {},
     "title": ""
    }
   },
   "source": [
    "\n",
    "# 📈 LinkedIn Poll\n",
    "\n",
    "[Czy weźmiesz udział w spotkaniu stacjonarnym?](https://www.linkedin.com/feed/update/urn:li:groupPost:9307761-7327398491633156096/)"
   ]
  },
  {
   "cell_type": "markdown",
   "metadata": {
    "application/vnd.databricks.v1+cell": {
     "cellMetadata": {},
     "inputWidgets": {},
     "nuid": "0099d7a7-078c-4a57-8671-dcd404040811",
     "showTitle": false,
     "tableResultSettingsMap": {},
     "title": ""
    }
   },
   "source": [
    "\n",
    "# Event Question\n",
    "\n",
    "[O czym chciał(a)byś usłyszeć podczas meetupu? Rzuć ciekawym pomysłem na kolejne edycje](https://www.meetup.com/warsaw-data-engineering/events/307894572/attendees/) 🙏\n",
    "\n",
    "* testing i data quality. może rozwinięcie pydantic i zobaczyć co tam DQX oferuje\n",
    "* GenAI in databricks\n",
    "* Więcej na temat MLflow\n",
    "* jak zbudować efektywny model danych w Data Lakehouse na podstawie danych z systemu transakcyjnego"
   ]
  },
  {
   "cell_type": "markdown",
   "metadata": {
    "application/vnd.databricks.v1+cell": {
     "cellMetadata": {},
     "inputWidgets": {},
     "nuid": "811aaee2-66d6-4833-84d3-c5971e3359ad",
     "showTitle": false,
     "tableResultSettingsMap": {},
     "title": ""
    }
   },
   "source": [
    "# 📢 News\n",
    "\n",
    "Things worth watching out for..."
   ]
  },
  {
   "cell_type": "markdown",
   "metadata": {
    "application/vnd.databricks.v1+cell": {
     "cellMetadata": {},
     "inputWidgets": {},
     "nuid": "6c1a71ee-100f-48c0-b82a-e8b535208dea",
     "showTitle": false,
     "tableResultSettingsMap": {},
     "title": ""
    }
   },
   "source": [
    "\n",
    "## 🎉 New members joined Warsaw Data Engineering\n",
    "\n",
    "[You now have 595 members!](https://www.meetup.com/warsaw-data-engineering/)\n",
    "\n",
    "Co zainteresowało Cię w Warsaw Data Engineering Meetup, że zdecydowałaś/-eś się przyłączyć?\n",
    "\n",
    "1. databricks"
   ]
  },
  {
   "cell_type": "markdown",
   "metadata": {
    "application/vnd.databricks.v1+cell": {
     "cellMetadata": {},
     "inputWidgets": {},
     "nuid": "911c3ac7-09bf-45dd-9a57-2d8de1c5aa67",
     "showTitle": false,
     "tableResultSettingsMap": {},
     "title": ""
    }
   },
   "source": [
    "\n",
    "## 🚀 New Versions\n",
    "\n",
    "What has changed in the tooling space since we last met? I.e. hunting down the features to learn more about.\n",
    "\n",
    "* [MLflow 3.0.0rc2](https://github.com/mlflow/mlflow/releases/tag/v3.0.0rc2)\n",
    "    * [MLflow 3.0 (Preview)](https://mlflow.org/docs/3.0.0rc2/mlflow-3/) will be the topic of the next meetup! 🤞\n",
    "* [OpenAI Agents SDK 0.0.16](https://github.com/openai/openai-agents-python/releases/tag/v0.0.16)\n",
    "    * [feat: pass extra_body through to LiteLLM acompletion #638](https://github.com/openai/openai-agents-python/pull/638)\n",
    "    * [feat: Streamable HTTP support #643](https://github.com/openai/openai-agents-python/pull/643)\n",
    "    * Uses [Makefile and uv](https://github.com/openai/openai-agents-python/pull/707/files) 🔥\n",
    "        * Executed `make format` and got \"interesting\" result! 😜\n",
    "* [DSPy 2.6.24](https://github.com/stanfordnlp/dspy/releases/tag/2.6.24)\n",
    "    * Programming—not prompting—Foundation Models\n",
    "    * [Make it easier to do sync streaming #8183](https://github.com/stanfordnlp/dspy/pull/8183)\n",
    "* [fast-agent 0.2.25](https://github.com/evalstate/fast-agent/releases/tag/v0.2.25)\n",
    "    * [feat: Add Azure OpenAI Service Support to FastAgent #160](https://github.com/evalstate/fast-agent/pull/160)\n",
    "* [Dagster 1.10.15](https://github.com/dagster-io/dagster/releases/tag/1.10.15)\n",
    "* [PydanticAI 0.2.6](https://github.com/pydantic/pydantic-ai/releases/tag/v0.2.6)"
   ]
  },
  {
   "cell_type": "markdown",
   "metadata": {
    "application/vnd.databricks.v1+cell": {
     "cellMetadata": {},
     "inputWidgets": {},
     "nuid": "3d043ab3-1c7d-49ed-991a-43731eebc858",
     "showTitle": false,
     "tableResultSettingsMap": {},
     "title": ""
    }
   },
   "source": [
    "\n",
    "# 🧑‍💻 Demo: Install MLflow 3.0.0rc2"
   ]
  },
  {
   "cell_type": "markdown",
   "metadata": {
    "application/vnd.databricks.v1+cell": {
     "cellMetadata": {},
     "inputWidgets": {},
     "nuid": "04c19ac0-11b3-4487-b89f-714ca68c064c",
     "showTitle": false,
     "tableResultSettingsMap": {},
     "title": ""
    }
   },
   "source": [
    "```\n",
    "uv add --upgrade mlflow==3.0.0rc2 mlflow-skinny==3.0.0rc2\n",
    "```"
   ]
  },
  {
   "cell_type": "markdown",
   "metadata": {
    "application/vnd.databricks.v1+cell": {
     "cellMetadata": {},
     "inputWidgets": {},
     "nuid": "3be8c363-4999-42bd-9a0c-e3173e72dd18",
     "showTitle": false,
     "tableResultSettingsMap": {},
     "title": ""
    }
   },
   "source": [
    "\n",
    "```\n",
    "❯ uv tree --depth 1\n",
    "Resolved 77 packages in 0.96ms\n",
    "mlflow-sandbox v0.1.0\n",
    "├── mlflow v3.0.0rc2\n",
    "└── mlflow-skinny v3.0.0rc2\n",
    "```"
   ]
  },
  {
   "cell_type": "markdown",
   "metadata": {
    "application/vnd.databricks.v1+cell": {
     "cellMetadata": {},
     "inputWidgets": {},
     "nuid": "3f132118-0733-4d8f-a9b0-3ea2e861992e",
     "showTitle": false,
     "tableResultSettingsMap": {},
     "title": ""
    }
   },
   "source": [
    "```\n",
    "❯ uv run python -c 'import mlflow; print(mlflow.__version__)'\n",
    "3.0.0rc2\n",
    "```"
   ]
  },
  {
   "cell_type": "markdown",
   "metadata": {
    "application/vnd.databricks.v1+cell": {
     "cellMetadata": {},
     "inputWidgets": {},
     "nuid": "3d34c8c0-c546-441e-bed1-a1104cedf162",
     "showTitle": false,
     "tableResultSettingsMap": {},
     "title": ""
    }
   },
   "source": [
    "\n",
    "# 🧑‍💻 Demo: Model Deployment\n",
    "\n",
    "Aka _model serving_"
   ]
  },
  {
   "cell_type": "markdown",
   "metadata": {
    "application/vnd.databricks.v1+cell": {
     "cellMetadata": {},
     "inputWidgets": {},
     "nuid": "63265455-0d1b-49f7-942d-c2230e10c193",
     "showTitle": false,
     "tableResultSettingsMap": {},
     "title": ""
    }
   },
   "source": [
    "## Train Random Forest Model (scikit-learn)"
   ]
  },
  {
   "cell_type": "markdown",
   "metadata": {
    "application/vnd.databricks.v1+cell": {
     "cellMetadata": {},
     "inputWidgets": {},
     "nuid": "9139dc20-a79d-48b0-8a7a-49a06d99f430",
     "showTitle": false,
     "tableResultSettingsMap": {},
     "title": ""
    }
   },
   "source": [
    "\n",
    "[RandomForestRegressor](https://scikit-learn.org/stable/modules/generated/sklearn.ensemble.RandomForestRegressor.html):\n",
    "\n",
    "1. A random forest regressor.\n",
    "1. A **random forest** is a meta estimator that fits a number of decision tree regressors on various sub-samples of the dataset and uses averaging to improve the predictive accuracy and control over-fitting."
   ]
  },
  {
   "cell_type": "markdown",
   "metadata": {
    "application/vnd.databricks.v1+cell": {
     "cellMetadata": {},
     "inputWidgets": {},
     "nuid": "e2165038-3d19-4bf9-88d9-66e1a6d121cc",
     "showTitle": false,
     "tableResultSettingsMap": {},
     "title": ""
    }
   },
   "source": [
    "\n",
    "Quite a few examples to learn from:\n",
    "\n",
    "* [mlflow/tracking/_model_registry/fluent.py](https://github.com/mlflow/mlflow/blob/v2.22.0/mlflow/tracking/_model_registry/fluent.py#L20-L49)\n",
    "    * scikit-learn's `RandomForestRegressor`\n",
    "* [Register a model to Unity Catalog using autologging](https://docs.databricks.com/aws/en/machine-learning/manage-model-lifecycle/#register-a-model-to-unity-catalog-using-autologging)\n",
    "    * scikit-learn's `RandomForestClassifier`\n",
    "* scikit-learn's [1.11.2. Random forests and other randomized tree ensembles](https://scikit-learn.org/stable/modules/ensemble.html#forest)\n",
    "* Databricks Machine Learning's [Example notebook](https://docs.databricks.com/aws/en/machine-learning/manage-model-lifecycle/#example-notebook)"
   ]
  },
  {
   "cell_type": "code",
   "execution_count": 0,
   "metadata": {
    "application/vnd.databricks.v1+cell": {
     "cellMetadata": {
      "byteLimit": 2048000,
      "rowLimit": 10000
     },
     "inputWidgets": {},
     "nuid": "d2f29293-2164-4d9f-863a-40e2973f7f68",
     "showTitle": false,
     "tableResultSettingsMap": {},
     "title": ""
    }
   },
   "outputs": [],
   "source": [
    "from sklearn.datasets import make_regression\n",
    "help(make_regression)"
   ]
  },
  {
   "cell_type": "code",
   "execution_count": 0,
   "metadata": {
    "application/vnd.databricks.v1+cell": {
     "cellMetadata": {
      "byteLimit": 2048000,
      "rowLimit": 10000
     },
     "inputWidgets": {},
     "nuid": "8894d1ac-c5c5-4277-823f-2e3ebc2a5901",
     "showTitle": false,
     "tableResultSettingsMap": {},
     "title": ""
    }
   },
   "outputs": [],
   "source": [
    "# Generate a random regression problem.\n",
    "from sklearn.datasets import make_regression\n",
    "\n",
    "X, y = make_regression(n_features=4, n_informative=2, random_state=0, shuffle=False)"
   ]
  },
  {
   "cell_type": "code",
   "execution_count": 0,
   "metadata": {
    "application/vnd.databricks.v1+cell": {
     "cellMetadata": {
      "byteLimit": 2048000,
      "rowLimit": 10000
     },
     "inputWidgets": {},
     "nuid": "6be9e0f7-3c7f-4bc5-812c-9ca3658b9eeb",
     "showTitle": false,
     "tableResultSettingsMap": {},
     "title": ""
    }
   },
   "outputs": [],
   "source": [
    "from sklearn.ensemble import RandomForestRegressor\n",
    "\n",
    "params = {\"n_estimators\": 3, \"random_state\": 42}\n",
    "rfr = RandomForestRegressor(**params).fit(X, y)\n",
    "rfr"
   ]
  },
  {
   "cell_type": "code",
   "execution_count": 0,
   "metadata": {
    "application/vnd.databricks.v1+cell": {
     "cellMetadata": {
      "byteLimit": 2048000,
      "rowLimit": 10000
     },
     "inputWidgets": {},
     "nuid": "58c91257-7535-483a-a495-092b36a4db3e",
     "showTitle": false,
     "tableResultSettingsMap": {},
     "title": ""
    }
   },
   "outputs": [],
   "source": [
    "rfr.predict(X)"
   ]
  },
  {
   "cell_type": "markdown",
   "metadata": {
    "application/vnd.databricks.v1+cell": {
     "cellMetadata": {},
     "inputWidgets": {},
     "nuid": "1308713d-2cb9-4922-8a9a-60fbc9413862",
     "showTitle": false,
     "tableResultSettingsMap": {},
     "title": ""
    }
   },
   "source": [
    "\n",
    "⚠️ **NOTE**\n",
    "\n",
    "Up to this cell, the code was all scikit-learn-specific."
   ]
  },
  {
   "cell_type": "markdown",
   "metadata": {
    "application/vnd.databricks.v1+cell": {
     "cellMetadata": {},
     "inputWidgets": {},
     "nuid": "f3db79be-46e1-42bd-8ded-33bd19b8f939",
     "showTitle": false,
     "tableResultSettingsMap": {},
     "title": ""
    }
   },
   "source": [
    "\n",
    "## Registered Models"
   ]
  },
  {
   "cell_type": "markdown",
   "metadata": {
    "application/vnd.databricks.v1+cell": {
     "cellMetadata": {},
     "inputWidgets": {},
     "nuid": "de2b0025-0979-4917-8273-3b147f084759",
     "showTitle": false,
     "tableResultSettingsMap": {},
     "title": ""
    }
   },
   "source": [
    "### Databricks UI"
   ]
  },
  {
   "cell_type": "markdown",
   "metadata": {
    "application/vnd.databricks.v1+cell": {
     "cellMetadata": {},
     "inputWidgets": {},
     "nuid": "2482c2e6-c8fb-466f-b2a3-dc74545554f4",
     "showTitle": false,
     "tableResultSettingsMap": {},
     "title": ""
    }
   },
   "source": [
    "\n",
    "Review [Registered Models](https://curriculum-dev.cloud.databricks.com/ml/models?o=3551974319838082) (Owned by me)\n",
    "\n",
    "There could be one from my previous experiments."
   ]
  },
  {
   "cell_type": "markdown",
   "metadata": {
    "application/vnd.databricks.v1+cell": {
     "cellMetadata": {},
     "inputWidgets": {},
     "nuid": "cb7427a8-3107-4bf1-8497-872a7fb1c205",
     "showTitle": false,
     "tableResultSettingsMap": {},
     "title": ""
    }
   },
   "source": [
    "\n",
    "![Registered Models](./databricks_ml_registered_models.png)"
   ]
  },
  {
   "cell_type": "markdown",
   "metadata": {
    "application/vnd.databricks.v1+cell": {
     "cellMetadata": {},
     "inputWidgets": {},
     "nuid": "200104a4-6ee0-4aaa-b5c2-f59f6a93329f",
     "showTitle": false,
     "tableResultSettingsMap": {},
     "title": ""
    }
   },
   "source": [
    "### Databricks CLI"
   ]
  },
  {
   "cell_type": "markdown",
   "metadata": {
    "application/vnd.databricks.v1+cell": {
     "cellMetadata": {},
     "inputWidgets": {},
     "nuid": "51e067e6-7c94-4342-a725-a8f45dbbf496",
     "showTitle": false,
     "tableResultSettingsMap": {},
     "title": ""
    }
   },
   "source": [
    "\n",
    "#### No models command 😢\n",
    "\n",
    "<br>\n",
    "\n",
    "```\n",
    "❯ databricks models\n",
    "Error: unknown command \"models\" for \"databricks\"\n",
    "```"
   ]
  },
  {
   "cell_type": "markdown",
   "metadata": {
    "application/vnd.databricks.v1+cell": {
     "cellMetadata": {},
     "inputWidgets": {},
     "nuid": "7ffc4062-3324-4bae-8015-2f11bfe12501",
     "showTitle": false,
     "tableResultSettingsMap": {},
     "title": ""
    }
   },
   "source": [
    "#### databricks registered-models\n",
    "\n",
    "* Databricks provides a hosted version of MLflow Model Registry in Unity Catalog\n",
    "* Models in Unity Catalog provide centralized access control, auditing, lineage, and discovery of ML models across Databricks workspaces.\n",
    "* An **MLflow registered model** resides in the third layer of Unity Catalog’s three-level namespace.\n",
    "* Registered models contain model versions, which correspond to actual ML models (MLflow models).\n",
    "\n",
    "⚠️ Creating new model versions currently requires use of the MLflow Python client.\n",
    "\n",
    "⚠️ The securable type for models is **FUNCTION**. When using REST APIs (e.g. tagging, grants) that specify a securable type, use \"FUNCTION\" as the securable type.\n",
    "\n",
    "Once model versions are created:\n",
    "\n",
    "* For **batch inference**, load them using MLflow Python Client API.\n",
    "* For **real-time serving**, deploy them using Databricks Model Serving."
   ]
  },
  {
   "cell_type": "markdown",
   "metadata": {
    "application/vnd.databricks.v1+cell": {
     "cellMetadata": {},
     "inputWidgets": {},
     "nuid": "beb0e714-569d-4d32-89b1-80d64e984fa4",
     "showTitle": false,
     "tableResultSettingsMap": {},
     "title": ""
    }
   },
   "source": [
    "```\n",
    "❯ databricks registered-models list --catalog-name jacek_laskowski --schema-name mlflow\n",
    "[\n",
    "  {\n",
    "    \"catalog_name\": \"jacek_laskowski\",\n",
    "    \"created_at\": 1746973647937,\n",
    "    \"created_by\": \"jacek@japila.pl\",\n",
    "    \"full_name\": \"jacek_laskowski.mlflow.sklearn_model\",\n",
    "    \"metastore_id\": \"6820268e-1541-4b52-b49e-e7135e528491\",\n",
    "    \"name\": \"sklearn_model\",\n",
    "    \"owner\": \"jacek@japila.pl\",\n",
    "    \"schema_name\": \"mlflow\",\n",
    "    \"storage_location\": \"s3://curriculum-storage/6820268e-1541-4b52-b49e-e7135e528491/models/debf1786-b6b4-4119-8f31-940dac8036de\",\n",
    "    \"updated_at\": 1747324659304,\n",
    "    \"updated_by\": \"jacek@japila.pl\"\n",
    "  }\n",
    "]\n",
    "```"
   ]
  },
  {
   "cell_type": "markdown",
   "metadata": {
    "application/vnd.databricks.v1+cell": {
     "cellMetadata": {},
     "inputWidgets": {},
     "nuid": "f620564c-7a0e-438d-8c96-ff7148a271ee",
     "showTitle": false,
     "tableResultSettingsMap": {},
     "title": ""
    }
   },
   "source": [
    "## Model Versions"
   ]
  },
  {
   "cell_type": "markdown",
   "metadata": {
    "application/vnd.databricks.v1+cell": {
     "cellMetadata": {},
     "inputWidgets": {},
     "nuid": "15b9ad77-50c0-4594-ba01-2eb8d4c7d378",
     "showTitle": false,
     "tableResultSettingsMap": {},
     "title": ""
    }
   },
   "source": [
    "### Databricks UI"
   ]
  },
  {
   "cell_type": "markdown",
   "metadata": {
    "application/vnd.databricks.v1+cell": {
     "cellMetadata": {},
     "inputWidgets": {},
     "nuid": "59909085-03b2-40f1-8af8-d74f852cf103",
     "showTitle": false,
     "tableResultSettingsMap": {},
     "title": ""
    }
   },
   "source": [
    "\n",
    "Review [Model Versions](https://curriculum-dev.cloud.databricks.com/explore/data/models/jacek_laskowski/mlflow/sklearn_model)\n",
    "\n",
    "There could be many from my previous experiments."
   ]
  },
  {
   "cell_type": "markdown",
   "metadata": {
    "application/vnd.databricks.v1+cell": {
     "cellMetadata": {},
     "inputWidgets": {},
     "nuid": "2c158e1a-52d9-4a0e-abd7-298842b32f8e",
     "showTitle": false,
     "tableResultSettingsMap": {},
     "title": ""
    }
   },
   "source": [
    "\n",
    "![Model Versions](./databricks_ml_model_versions.png)"
   ]
  },
  {
   "cell_type": "markdown",
   "metadata": {
    "application/vnd.databricks.v1+cell": {
     "cellMetadata": {},
     "inputWidgets": {},
     "nuid": "9027823e-fb21-4322-9d0b-8cd38bb9808f",
     "showTitle": false,
     "tableResultSettingsMap": {},
     "title": ""
    }
   },
   "source": [
    "### Databricks CLI"
   ]
  },
  {
   "cell_type": "markdown",
   "metadata": {
    "application/vnd.databricks.v1+cell": {
     "cellMetadata": {},
     "inputWidgets": {},
     "nuid": "61b5bd72-6c53-4f76-a7ca-f336860ca435",
     "showTitle": false,
     "tableResultSettingsMap": {},
     "title": ""
    }
   },
   "source": [
    "\n",
    "|Databricks Command|Description|\n",
    "|-|-|\n",
    "|`databricks model-registry`|⛔️ This API reference documents APIs for the Workspace Model Registry.|\n",
    "|`databricks model-versions`|👍 Databricks provides a hosted version of MLflow Model Registry in Unity Catalog.|"
   ]
  },
  {
   "cell_type": "markdown",
   "metadata": {
    "application/vnd.databricks.v1+cell": {
     "cellMetadata": {},
     "inputWidgets": {},
     "nuid": "008a68b8-d71b-4dd2-bdcd-ba5504b33dee",
     "showTitle": false,
     "tableResultSettingsMap": {},
     "title": ""
    }
   },
   "source": [
    "\n",
    "```\n",
    "❯ databricks model-versions list jacek_laskowski.mlflow.sklearn_model | jq 'sort_by(.version)| .[] | [.version, .storage_location]'\n",
    "[\n",
    "  1,\n",
    "  \"s3://curriculum-storage/6820268e-1541-4b52-b49e-e7135e528491/models/debf1786-b6b4-4119-8f31-940dac8036de/versions/51854a98-c4ff-460c-9b60-4883ef748022\"\n",
    "]\n",
    "[\n",
    "  2,\n",
    "  \"s3://curriculum-storage/6820268e-1541-4b52-b49e-e7135e528491/models/debf1786-b6b4-4119-8f31-940dac8036de/versions/1b810a18-852e-4016-a706-595a32385ec7\"\n",
    "]\n",
    "[\n",
    "  3,\n",
    "  \"s3://curriculum-storage/6820268e-1541-4b52-b49e-e7135e528491/models/debf1786-b6b4-4119-8f31-940dac8036de/versions/92489608-a3ab-4994-8b39-b9ab4a227a1a\"\n",
    "]\n",
    "```"
   ]
  },
  {
   "cell_type": "markdown",
   "metadata": {
    "application/vnd.databricks.v1+cell": {
     "cellMetadata": {},
     "inputWidgets": {},
     "nuid": "55e65a92-b63c-4c0a-ac4f-9e47b0336da7",
     "showTitle": false,
     "tableResultSettingsMap": {},
     "title": ""
    }
   },
   "source": [
    "# That's all Folks! 👋\n",
    "\n",
    "![Warner Bros., Public domain, via Wikimedia Commons](https://upload.wikimedia.org/wikipedia/commons/e/ea/Thats_all_folks.svg)"
   ]
  },
  {
   "cell_type": "markdown",
   "metadata": {
    "application/vnd.databricks.v1+cell": {
     "cellMetadata": {},
     "inputWidgets": {},
     "nuid": "f2a436c2-47c9-4e3e-ba82-dca2be989352",
     "showTitle": false,
     "tableResultSettingsMap": {},
     "title": ""
    }
   },
   "source": [
    "\n",
    "# 🙋 Questions and Answers"
   ]
  },
  {
   "cell_type": "markdown",
   "metadata": {
    "application/vnd.databricks.v1+cell": {
     "cellMetadata": {},
     "inputWidgets": {},
     "nuid": "7aef8367-d254-4e97-be45-d54950dcf9fb",
     "showTitle": false,
     "tableResultSettingsMap": {},
     "title": ""
    }
   },
   "source": [
    "\n",
    "# 💡 Ideas for Future Events\n",
    "\n",
    "➡️ [Ideas for Future Events]($./Ideas for Future Events)"
   ]
  }
 ],
 "metadata": {
  "application/vnd.databricks.v1+notebook": {
   "computePreferences": null,
   "dashboards": [],
   "environmentMetadata": null,
   "inputWidgetPreferences": null,
   "language": "python",
   "notebookMetadata": {
    "mostRecentlyExecutedCommandWithImplicitDF": {
     "commandId": 3452010503601358,
     "dataframes": [
      "_sqldf"
     ]
    },
    "pythonIndentUnit": 4
   },
   "notebookName": "Meetup_2025_05_22",
   "widgets": {}
  },
  "language_info": {
   "name": "python"
  }
 },
 "nbformat": 4,
 "nbformat_minor": 0
}
