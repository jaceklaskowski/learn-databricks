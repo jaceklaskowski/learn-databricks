{
 "cells": [
  {
   "cell_type": "markdown",
   "metadata": {
    "application/vnd.databricks.v1+cell": {
     "cellMetadata": {},
     "inputWidgets": {},
     "nuid": "c19bfbf5-14b0-4ca9-876e-9d4da136f520",
     "showTitle": false,
     "tableResultSettingsMap": {},
     "title": ""
    }
   },
   "source": [
    "\n",
    "# Intro to MLflow (with uv)\n",
    "\n",
    "Thursday, March 6, 2025\n",
    "\n",
    "[lu.ma](https://lu.ma/ew7alfw1) ([meetup](https://www.meetup.com/warsaw-data-engineering/events/306501683/))"
   ]
  },
  {
   "cell_type": "markdown",
   "metadata": {
    "application/vnd.databricks.v1+cell": {
     "cellMetadata": {},
     "inputWidgets": {},
     "nuid": "4a8d3b2e-3a91-4962-8d62-09ba1bb4389d",
     "showTitle": false,
     "tableResultSettingsMap": {},
     "title": ""
    }
   },
   "source": [
    "\n",
    "# Agenda\n",
    "\n",
    "1. **10 minut** Ogłoszenia. Czas na szalone pomysły na przyszłe meetupy 👻\n",
    "    * News (new versions, new features, etc.)\n",
    "1. **55 minut** Live coding session z MLflow i uv:\n",
    "    * ​Konfiguracja projektu\n",
    "    * [​MLflow Tracking Quickstart](https://mlflow.org/docs/latest/getting-started/intro-quickstart/index.html)\n",
    "    * ​(potencjalnie) MLflow i Databricks Asset Bundles\n",
    "1. **10 minut** Q&A i zbieranie pomysłów na kolejne edycje\n",
    "\n",
    "Całkowity czas trwania meetupu: **1h 15min**"
   ]
  },
  {
   "cell_type": "markdown",
   "metadata": {
    "application/vnd.databricks.v1+cell": {
     "cellMetadata": {},
     "inputWidgets": {},
     "nuid": "0099d7a7-078c-4a57-8671-dcd404040811",
     "showTitle": false,
     "tableResultSettingsMap": {},
     "title": ""
    }
   },
   "source": [
    "\n",
    "# Event Question\n",
    "\n",
    "O czym chciał(a)byś usłyszeć podczas meetupu? Rzuć ciekawym pomysłem na kolejne edycje 🙏\n",
    "\n",
    "1. FIXME"
   ]
  },
  {
   "cell_type": "markdown",
   "metadata": {
    "application/vnd.databricks.v1+cell": {
     "cellMetadata": {},
     "inputWidgets": {},
     "nuid": "811aaee2-66d6-4833-84d3-c5971e3359ad",
     "showTitle": false,
     "tableResultSettingsMap": {},
     "title": ""
    }
   },
   "source": [
    "# 📢 News\n",
    "\n",
    "Things worth watching out for..."
   ]
  },
  {
   "cell_type": "markdown",
   "metadata": {
    "application/vnd.databricks.v1+cell": {
     "cellMetadata": {},
     "inputWidgets": {},
     "nuid": "a32e9654-31e0-4afa-b153-320773a495ce",
     "showTitle": false,
     "tableResultSettingsMap": {},
     "title": ""
    }
   },
   "source": [
    "\n",
    "## FIXME New Versions\n",
    "\n",
    "What has changed in the tooling space we keep an eye on since we last met?\n",
    "\n",
    "* [Databricks CLI 0.241.2](https://github.com/databricks/cli/releases/tag/v0.241.2)\n",
    "* [uv 0.6.2](https://github.com/astral-sh/uv/releases/tag/0.6.2)\n",
    "* 🚨 [MLflow 2.20.2](https://github.com/mlflow/mlflow/releases/tag/v2.20.2)\n",
    "    * released this 2 days ago with 176 commits to master since this release 🤨\n",
    "* 🚨 [Pydantic 2.10.6](https://github.com/pydantic/pydantic/releases/tag/v2.10.6)"
   ]
  },
  {
   "cell_type": "markdown",
   "metadata": {
    "application/vnd.databricks.v1+cell": {
     "cellMetadata": {},
     "inputWidgets": {},
     "nuid": "9b8fc88a-0347-43f6-9281-1c5337e73779",
     "showTitle": false,
     "tableResultSettingsMap": {},
     "title": ""
    }
   },
   "source": [
    "\n",
    "# 👀 In the spotlight: `pytest`\n",
    "\n",
    "It is one of the regular sections in our schedule until we run out of...interest to dig deeper and learn more."
   ]
  },
  {
   "cell_type": "markdown",
   "metadata": {
    "application/vnd.databricks.v1+cell": {
     "cellMetadata": {},
     "inputWidgets": {},
     "nuid": "b0117e3a-3e05-49f5-9712-f63db1b35494",
     "showTitle": false,
     "tableResultSettingsMap": {},
     "title": ""
    }
   },
   "source": [
    "\n",
    "## Parametrizing tests\n",
    "\n",
    "[Parametrizing tests](https://docs.pytest.org/en/stable/example/parametrize.html)\n",
    "\n",
    "1. Create a brand new python sandbox project (`uv init --bare`)\n",
    "1. Add a dev / test dependency on `pytest`\n",
    "1. Write a test to demo the feature"
   ]
  },
  {
   "cell_type": "markdown",
   "metadata": {
    "application/vnd.databricks.v1+cell": {
     "cellMetadata": {},
     "inputWidgets": {},
     "nuid": "49f8bafb-10f8-4b44-869f-ccb55969fabe",
     "showTitle": false,
     "tableResultSettingsMap": {},
     "title": ""
    }
   },
   "source": [
    "\n",
    "```py\n",
    "import pytest\n",
    "\n",
    "\n",
    "@pytest.mark.parametrize(\"version\", [0, \"0\"])\n",
    "def test_one(version):\n",
    "    print(f\"version={version} (type: {type(version)})\")\n",
    "    assert True\n",
    "```"
   ]
  },
  {
   "cell_type": "markdown",
   "metadata": {
    "application/vnd.databricks.v1+cell": {
     "cellMetadata": {},
     "inputWidgets": {},
     "nuid": "00a55b51-9ba1-42a6-a0a1-8952fc125623",
     "showTitle": false,
     "tableResultSettingsMap": {},
     "title": ""
    }
   },
   "source": [
    "\n",
    "# Live Coding Session"
   ]
  },
  {
   "cell_type": "markdown",
   "metadata": {
    "application/vnd.databricks.v1+cell": {
     "cellMetadata": {},
     "inputWidgets": {},
     "nuid": "7d738031-beac-4e24-8e17-8ade418c5a54",
     "showTitle": false,
     "tableResultSettingsMap": {},
     "title": ""
    }
   },
   "source": [
    "\n",
    "## Create Databricks (DAB) Project\n",
    "\n",
    "Databricks Asset Bundles (DAB) enters the scene 🎬\n",
    "\n",
    "`databricks bundle init default-python`\n",
    "\n",
    "* Name: `dlt_intro` (in `demo` directory)\n",
    "* No Python lib\n",
    "* No jobs\n",
    "\n",
    "Learn more:\n",
    "\n",
    "1. [Databricks Asset Bundles development](https://docs.databricks.com/en/dev-tools/bundles/work-tasks.html)"
   ]
  },
  {
   "cell_type": "markdown",
   "metadata": {
    "application/vnd.databricks.v1+cell": {
     "cellMetadata": {},
     "inputWidgets": {},
     "nuid": "0a8760b1-b485-4ec0-9dba-a671a308839e",
     "showTitle": false,
     "tableResultSettingsMap": {},
     "title": ""
    }
   },
   "source": [
    "\n",
    "### databricks.yml and the resources\n",
    "\n",
    "Review the following:\n",
    "\n",
    "1. `databricks.yml`\n",
    "    * Make sure that `workspace/host` section points at the proper Databricks workspace\n",
    "1. `resources/*.yml` (included in `databricks.yml`)"
   ]
  },
  {
   "cell_type": "markdown",
   "metadata": {
    "application/vnd.databricks.v1+cell": {
     "cellMetadata": {},
     "inputWidgets": {},
     "nuid": "375f2e55-3ad2-4caf-a981-7f1926c5b30b",
     "showTitle": false,
     "tableResultSettingsMap": {},
     "title": ""
    }
   },
   "source": [
    "\n",
    "### Clean Up\n",
    "\n",
    "> ⚠️ NOTE\n",
    ">\n",
    "> This step is not required at such an early stage of Databricks project's development.\n",
    "> You may skip it.\n",
    "\n",
    "Remove the following (unnecessary) files and directories:\n",
    "\n",
    "1. `rm pytest.ini requirements-dev.txt setup.py`\n",
    "1. `rm -rf fixtures scratch dist`"
   ]
  },
  {
   "cell_type": "markdown",
   "metadata": {
    "application/vnd.databricks.v1+cell": {
     "cellMetadata": {},
     "inputWidgets": {},
     "nuid": "f7c60438-66cb-404f-abb6-3f129b88591a",
     "showTitle": false,
     "tableResultSettingsMap": {},
     "title": ""
    }
   },
   "source": [
    "\n",
    "### Deploy Bundle\n",
    "\n",
    "`databricks bundle deploy`"
   ]
  },
  {
   "cell_type": "markdown",
   "metadata": {
    "application/vnd.databricks.v1+cell": {
     "cellMetadata": {},
     "inputWidgets": {},
     "nuid": "b2f33f7d-3c21-4adc-8123-10ba513f726a",
     "showTitle": false,
     "tableResultSettingsMap": {},
     "title": ""
    }
   },
   "source": [
    "\n",
    "### Run DLT Pipeline\n",
    "\n",
    "`databricks bundle run FIXME`\n",
    "\n",
    "> ⚠️ Hint\n",
    ">\n",
    "> Use auto-completion while typing `databricks bundle` commands (incl. the names of resources).\n",
    "\n",
    "It should work just fine."
   ]
  },
  {
   "cell_type": "markdown",
   "metadata": {
    "application/vnd.databricks.v1+cell": {
     "cellMetadata": {},
     "inputWidgets": {},
     "nuid": "91668d8f-336b-4373-a0a6-6d1ad987a702",
     "showTitle": false,
     "tableResultSettingsMap": {},
     "title": ""
    }
   },
   "source": [
    "\n",
    "# 💡 Ideas for Future Events\n",
    "\n",
    "1. [Delta Live Tables](https://docs.databricks.com/en/delta-live-tables/index.html) with uv and pydantic\n",
    "1. Explore more [Pydantic](https://docs.pydantic.dev/latest/) features\n",
    "1. Create a new DAB template with `uv` as the project management tool (based on `default-python` template). Start from `databricks bundle init --help`.\n"
   ]
  }
 ],
 "metadata": {
  "application/vnd.databricks.v1+notebook": {
   "computePreferences": null,
   "dashboards": [],
   "environmentMetadata": null,
   "language": "python",
   "notebookMetadata": {
    "pythonIndentUnit": 4
   },
   "notebookName": "2025_03_06",
   "widgets": {}
  },
  "language_info": {
   "name": "python"
  }
 },
 "nbformat": 4,
 "nbformat_minor": 0
}
