{
 "cells": [
  {
   "cell_type": "markdown",
   "metadata": {
    "application/vnd.databricks.v1+cell": {
     "cellMetadata": {},
     "inputWidgets": {},
     "nuid": "c19bfbf5-14b0-4ca9-876e-9d4da136f520",
     "showTitle": false,
     "tableResultSettingsMap": {},
     "title": ""
    }
   },
   "source": [
    "\n",
    "# Intro to MLflow (with uv)\n",
    "\n",
    "Thursday, March 6, 2025\n",
    "\n",
    "[lu.ma](https://lu.ma/ew7alfw1) ([meetup](https://www.meetup.com/warsaw-data-engineering/events/306501683/))"
   ]
  },
  {
   "cell_type": "markdown",
   "metadata": {
    "application/vnd.databricks.v1+cell": {
     "cellMetadata": {},
     "inputWidgets": {},
     "nuid": "4a8d3b2e-3a91-4962-8d62-09ba1bb4389d",
     "showTitle": false,
     "tableResultSettingsMap": {},
     "title": ""
    }
   },
   "source": [
    "\n",
    "# Agenda\n",
    "\n",
    "1. **10 minut** Ogłoszenia. Czas na szalone pomysły na przyszłe meetupy 👻\n",
    "    * News (new versions, new features, etc.)\n",
    "1. **55 minut** Live coding session z MLflow i uv:\n",
    "    * ​Konfiguracja projektu\n",
    "    * [​MLflow Tracking Quickstart](https://mlflow.org/docs/latest/getting-started/intro-quickstart/index.html)\n",
    "    * ​(potencjalnie) MLflow i Databricks Asset Bundles\n",
    "1. **10 minut** Q&A i zbieranie pomysłów na kolejne edycje\n",
    "\n",
    "Całkowity czas trwania meetupu: **1h 15min**"
   ]
  },
  {
   "cell_type": "markdown",
   "metadata": {
    "application/vnd.databricks.v1+cell": {
     "cellMetadata": {},
     "inputWidgets": {},
     "nuid": "63d4bf27-3b94-47f1-bf7a-5a3c50ada5dd",
     "showTitle": false,
     "tableResultSettingsMap": {},
     "title": ""
    }
   },
   "source": [
    "\n",
    "# LinkedIn Poll\n",
    "\n",
    "[Poll](https://www.linkedin.com/feed/update/urn:li:activity:7302063410647638016?utm_source=share&utm_medium=member_desktop&rcm=ACoAAAAutA8BdJM8iCUgt2VrqrjL8sihttmw9FE)"
   ]
  },
  {
   "cell_type": "markdown",
   "metadata": {
    "application/vnd.databricks.v1+cell": {
     "cellMetadata": {},
     "inputWidgets": {},
     "nuid": "0099d7a7-078c-4a57-8671-dcd404040811",
     "showTitle": false,
     "tableResultSettingsMap": {},
     "title": ""
    }
   },
   "source": [
    "\n",
    "# Event Question\n",
    "\n",
    "O czym chciał(a)byś usłyszeć podczas meetupu? Rzuć ciekawym pomysłem na kolejne edycje 🙏\n",
    "\n",
    "1. Apache Flink\n",
    "1. streaming - checkpoints, offsets, commits\n"
   ]
  },
  {
   "cell_type": "markdown",
   "metadata": {
    "application/vnd.databricks.v1+cell": {
     "cellMetadata": {},
     "inputWidgets": {},
     "nuid": "811aaee2-66d6-4833-84d3-c5971e3359ad",
     "showTitle": false,
     "tableResultSettingsMap": {},
     "title": ""
    }
   },
   "source": [
    "# 📢 News\n",
    "\n",
    "Things worth watching out for..."
   ]
  },
  {
   "cell_type": "markdown",
   "metadata": {
    "application/vnd.databricks.v1+cell": {
     "cellMetadata": {},
     "inputWidgets": {},
     "nuid": "e99b8f43-db01-4a5e-b1a6-342881df5b4e",
     "showTitle": false,
     "tableResultSettingsMap": {},
     "title": ""
    }
   },
   "source": [
    "\n",
    "## New members in Warsaw Data Engineering!\n",
    "\n",
    "1. Rozwój wiedzy\n",
    "1. data enginnering"
   ]
  },
  {
   "cell_type": "markdown",
   "metadata": {
    "application/vnd.databricks.v1+cell": {
     "cellMetadata": {},
     "inputWidgets": {},
     "nuid": "a32e9654-31e0-4afa-b153-320773a495ce",
     "showTitle": false,
     "tableResultSettingsMap": {},
     "title": ""
    }
   },
   "source": [
    "\n",
    "## New Versions\n",
    "\n",
    "What has changed in the tooling space we keep an eye on since we last met?\n",
    "\n",
    "* [Databricks CLI 0.243.0](https://github.com/databricks/cli/releases/tag/v0.243.0)\n",
    "* [MLflow 2.20.3](https://github.com/mlflow/mlflow/releases/tag/v2.20.3)\n",
    "* [uv 0.6.4](https://github.com/astral-sh/uv/releases/tag/0.6.4)\n",
    "* [Pydantic 2.10.6](https://github.com/pydantic/pydantic/releases/tag/v2.10.6)\n",
    "* [brickflow 1.3.2](https://github.com/Nike-Inc/brickflow/releases/tag/v1.3.2)\n",
    "* [dqx 0.1.13](https://github.com/databrickslabs/dqx/releases/tag/v0.1.13)\n",
    "* [ruff 0.9.9](https://github.com/astral-sh/ruff/releases/tag/0.9.9)"
   ]
  },
  {
   "cell_type": "markdown",
   "metadata": {
    "application/vnd.databricks.v1+cell": {
     "cellMetadata": {},
     "inputWidgets": {},
     "nuid": "9b8fc88a-0347-43f6-9281-1c5337e73779",
     "showTitle": false,
     "tableResultSettingsMap": {},
     "title": ""
    }
   },
   "source": [
    "\n",
    "# 👀 In the spotlight: `pytest`\n",
    "\n",
    "It is one of the regular sections in our schedule until we run out of...interest to dig deeper and learn more."
   ]
  },
  {
   "cell_type": "markdown",
   "metadata": {
    "application/vnd.databricks.v1+cell": {
     "cellMetadata": {},
     "inputWidgets": {},
     "nuid": "b0117e3a-3e05-49f5-9712-f63db1b35494",
     "showTitle": false,
     "tableResultSettingsMap": {},
     "title": ""
    }
   },
   "source": [
    "\n",
    "## Parametrizing tests\n",
    "\n",
    "[Parametrizing tests](https://docs.pytest.org/en/stable/example/parametrize.html)\n",
    "\n",
    "1. Create a brand new python sandbox project (`uv init --bare`)\n",
    "1. Add a dev / test dependency on `pytest`\n",
    "1. Write a test to demo the feature"
   ]
  },
  {
   "cell_type": "markdown",
   "metadata": {
    "application/vnd.databricks.v1+cell": {
     "cellMetadata": {},
     "inputWidgets": {},
     "nuid": "49f8bafb-10f8-4b44-869f-ccb55969fabe",
     "showTitle": false,
     "tableResultSettingsMap": {},
     "title": ""
    }
   },
   "source": [
    "\n",
    "```py\n",
    "import pytest\n",
    "\n",
    "\n",
    "@pytest.mark.parametrize(\"version\", [0, \"0\"])\n",
    "def test_one(version):\n",
    "    print(f\"version={version} (type: {type(version)})\")\n",
    "    assert True\n",
    "```"
   ]
  },
  {
   "cell_type": "markdown",
   "metadata": {
    "application/vnd.databricks.v1+cell": {
     "cellMetadata": {},
     "inputWidgets": {},
     "nuid": "00a55b51-9ba1-42a6-a0a1-8952fc125623",
     "showTitle": false,
     "tableResultSettingsMap": {},
     "title": ""
    }
   },
   "source": [
    "\n",
    "# Live Coding Session"
   ]
  },
  {
   "cell_type": "markdown",
   "metadata": {
    "application/vnd.databricks.v1+cell": {
     "cellMetadata": {},
     "inputWidgets": {},
     "nuid": "a17ad32a-f54f-4689-9f30-e0c3d81ca19d",
     "showTitle": false,
     "tableResultSettingsMap": {},
     "title": ""
    }
   },
   "source": [
    "\n",
    "Asked Copilot:\n",
    "\n",
    "> Imagine you're an expert in mlflow. Please give an advice on how I can get started with mlflow? Write your advice in 5 action items.\n",
    "\n",
    "And Copilot gave me 5 action items that are the headings in the document.\n",
    "\n",
    "According to Copilot, by following these steps, you'll be well on your way to leveraging MLflow for managing your machine learning lifecycle."
   ]
  },
  {
   "cell_type": "markdown",
   "metadata": {
    "application/vnd.databricks.v1+cell": {
     "cellMetadata": {},
     "inputWidgets": {},
     "nuid": "49e60a59-b8e2-4bd3-84f5-2aa55c3cf30c",
     "showTitle": false,
     "tableResultSettingsMap": {},
     "title": ""
    }
   },
   "source": [
    "\n",
    "## Create MLflow Project"
   ]
  },
  {
   "cell_type": "code",
   "execution_count": 0,
   "metadata": {
    "application/vnd.databricks.v1+cell": {
     "cellMetadata": {
      "byteLimit": 2048000,
      "rowLimit": 10000
     },
     "inputWidgets": {},
     "nuid": "db6cdb10-a5f9-488e-8f6f-622e47290c4a",
     "showTitle": true,
     "tableResultSettingsMap": {},
     "title": "uv init"
    }
   },
   "outputs": [],
   "source": [
    "%sh\n",
    "\n",
    "echo uv init --bare mlflow-sandbox"
   ]
  },
  {
   "cell_type": "markdown",
   "metadata": {
    "application/vnd.databricks.v1+cell": {
     "cellMetadata": {},
     "inputWidgets": {},
     "nuid": "714a6e81-d23e-4bcb-934f-40a8d759b35c",
     "showTitle": false,
     "tableResultSettingsMap": {},
     "title": ""
    }
   },
   "source": [
    "\n",
    "## Install MLflow\n",
    "\n",
    "Copilot:\n",
    "\n",
    "> Installing MLflow is the first step. Ensure you have Python and pip installed on your system. This will set up the necessary environment to start using MLflow.\n",
    "\n",
    "We'll use `uv` instead."
   ]
  },
  {
   "cell_type": "code",
   "execution_count": 0,
   "metadata": {
    "application/vnd.databricks.v1+cell": {
     "cellMetadata": {
      "byteLimit": 2048000,
      "rowLimit": 10000
     },
     "inputWidgets": {},
     "nuid": "e82344e0-569a-4187-a362-1c26bf6821b6",
     "showTitle": true,
     "tableResultSettingsMap": {},
     "title": "uv add mlflow"
    }
   },
   "outputs": [],
   "source": [
    "%sh\n",
    "\n",
    "echo uv add mlflow"
   ]
  },
  {
   "cell_type": "markdown",
   "metadata": {
    "application/vnd.databricks.v1+cell": {
     "cellMetadata": {},
     "inputWidgets": {},
     "nuid": "b4a2b067-047c-4abd-a3d5-39936bd0def2",
     "showTitle": false,
     "tableResultSettingsMap": {},
     "title": ""
    }
   },
   "source": [
    "\n",
    "## Set Up a Tracking Server\n",
    "\n",
    "Copilot:\n",
    "\n",
    "> Start the MLflow tracking server.\n",
    "> \n",
    "> Setting up a tracking server allows you to log and visualize your experiments.\n",
    "> Using SQLite for the backend store is a simple way to get started, and you can store artifacts locally.\n",
    "\n",
    "Again, we'll use `uv` for this.\n",
    "\n",
    "> [!NOTE]\n",
    "> \n",
    "> MLflow tracking server is also known as [MLflow Experiment Tracking Server](https://github.com/mlflow/mlflow/issues/6348)."
   ]
  },
  {
   "cell_type": "code",
   "execution_count": 0,
   "metadata": {
    "application/vnd.databricks.v1+cell": {
     "cellMetadata": {
      "byteLimit": 2048000,
      "rowLimit": 10000
     },
     "inputWidgets": {},
     "nuid": "c61cc874-f39c-45de-b217-b5cea16fc438",
     "showTitle": true,
     "tableResultSettingsMap": {},
     "title": "uv run mlflow server"
    }
   },
   "outputs": [],
   "source": [
    "%sh\n",
    "\n",
    "echo uv run mlflow server \\\n",
    "    --host 127.0.0.1 \\\n",
    "    --port 8080"
   ]
  },
  {
   "cell_type": "markdown",
   "metadata": {
    "application/vnd.databricks.v1+cell": {
     "cellMetadata": {},
     "inputWidgets": {},
     "nuid": "a514cae7-bb13-4df7-9011-aa7a583dcf3e",
     "showTitle": false,
     "tableResultSettingsMap": {},
     "title": ""
    }
   },
   "source": [
    "\n",
    "## Log Your First Experiment\n",
    "\n",
    "Copilot:\n",
    "\n",
    "> Use MLflow to log parameters, metrics, and models in your code.\n",
    "> \n",
    "> Logging experiments helps you keep track of different runs and their outcomes.\n",
    "> This is crucial for comparing models and understanding what works best.\n",
    "\n",
    "Run the Python interpreter and mimic a regular experiment job.\n",
    "\n",
    "<br>\n",
    "\n",
    "```bash\n",
    "uv run python\n",
    "```\n",
    "\n",
    "<br>\n",
    "\n",
    "Type the following code in the Python interpreter.\n",
    "\n",
    "<br>\n",
    "\n",
    "```py\n",
    "mlflow.set_tracking_uri(uri=\"http://127.0.0.1:8080\")\n",
    "\n",
    "# Create a new MLflow Experiment\n",
    "mlflow.set_experiment(\"Meetup Demo\")\n",
    "\n",
    "with mlflow.start_run():\n",
    "     mlflow.log_params(params)\n",
    "     mlflow.log_metric(\"accuracy\", accuracy)\n",
    "     mlflow.set_tag(\"Training Info\", \"Basic LR model for iris data\")\n",
    "     signature = infer_signature(X_train, lr.predict(X_train))\n",
    "     model_info = mlflow.sklearn.log_model(sk_model=lr,\n",
    "         artifact_path=\"iris_model\",\n",
    "         signature=signature,\n",
    "         input_example=X_train,\n",
    "         registered_model_name=\"tracking-quickstart\",\n",
    "     )\n",
    "```"
   ]
  },
  {
   "cell_type": "markdown",
   "metadata": {
    "application/vnd.databricks.v1+cell": {
     "cellMetadata": {},
     "inputWidgets": {},
     "nuid": "896d6814-d01f-4ad5-9878-1084db04d396",
     "showTitle": false,
     "tableResultSettingsMap": {},
     "title": ""
    }
   },
   "source": [
    "\n",
    "## Explore the MLflow UI\n",
    "\n",
    "Copilot:\n",
    "\n",
    "> Access the MLflow UI by navigating to http://localhost:5000 in your browser.\n",
    "> \n",
    "> The MLflow UI provides a visual interface to explore your experiments.\n",
    "> You can compare runs, visualize metrics, and manage artifacts, making it easier to analyze your results."
   ]
  },
  {
   "cell_type": "markdown",
   "metadata": {
    "application/vnd.databricks.v1+cell": {
     "cellMetadata": {},
     "inputWidgets": {},
     "nuid": "07923197-de92-4899-9372-ec2946b464c6",
     "showTitle": false,
     "tableResultSettingsMap": {},
     "title": ""
    }
   },
   "source": [
    "\n",
    "## Integrate MLflow with Your Workflow\n",
    "\n",
    "Copilot:\n",
    "\n",
    "> Incorporate MLflow into your existing machine learning workflow.\n",
    "> \n",
    "> MLflow can be integrated with various ML libraries like TensorFlow, PyTorch, and Scikit-learn.\n",
    "> This allows you to log models and parameters seamlessly within your existing projects, enhancing reproducibility and collaboration."
   ]
  },
  {
   "cell_type": "markdown",
   "metadata": {
    "application/vnd.databricks.v1+cell": {
     "cellMetadata": {},
     "inputWidgets": {},
     "nuid": "38ce945a-2664-42c1-8414-c77e1346a09a",
     "showTitle": false,
     "tableResultSettingsMap": {},
     "title": ""
    }
   },
   "source": [
    "\n",
    "## Follow-Up Prompts\n",
    "\n",
    "1. Can you explain how to deploy models with MLflow?\n",
    "    * Save (and Register) Your Model\n",
    "    * Serve the Model\n",
    "    * Create a Docker Image\n",
    "    * Deploy to a Cloud Service / Deploy the Model to SageMaker\n",
    "    * Monitor and Update the Model"
   ]
  },
  {
   "cell_type": "markdown",
   "metadata": {
    "application/vnd.databricks.v1+cell": {
     "cellMetadata": {},
     "inputWidgets": {},
     "nuid": "27f2b0ce-4fcf-4a6a-abf5-7c82443140c5",
     "showTitle": false,
     "tableResultSettingsMap": {},
     "title": ""
    }
   },
   "source": [
    "\n",
    "## Learn More\n",
    "\n",
    "1. https://mlflow.org/docs/latest/deployment/deploy-model-to-sagemaker.html\n",
    "1. https://docs.aws.amazon.com/sagemaker/latest/dg/mlflow-track-experiments-model-deployment.html\n",
    "1. https://docs.aws.amazon.com/sagemaker/latest/dg/mlflow-tutorials.html\n",
    "1. https://aws.amazon.com/blogs/aws/manage-ml-and-generative-ai-experiments-using-amazon-sagemaker-with-mlflow/\n",
    "1. https://aws.amazon.com/blogs/machine-learning/managing-your-machine-learning-lifecycle-with-mlflow-and-amazon-sagemaker/"
   ]
  },
  {
   "cell_type": "markdown",
   "metadata": {
    "application/vnd.databricks.v1+cell": {
     "cellMetadata": {},
     "inputWidgets": {},
     "nuid": "9ed9758a-1b29-414d-9fda-09bf38418b7f",
     "showTitle": false,
     "tableResultSettingsMap": {},
     "title": ""
    }
   },
   "source": [
    "\n",
    "# uv sync -U"
   ]
  },
  {
   "cell_type": "markdown",
   "metadata": {
    "application/vnd.databricks.v1+cell": {
     "cellMetadata": {},
     "inputWidgets": {},
     "nuid": "9bd4fcb2-86c7-4512-ad21-a4850d33f002",
     "showTitle": false,
     "tableResultSettingsMap": {},
     "title": ""
    }
   },
   "source": [
    "\n",
    "# uv as the learning environment\n",
    "\n",
    "<br>\n",
    "\n",
    "```\n",
    "uv init --bare uv-spark\n",
    "uv add spark\n",
    "uv run spark\n",
    "```"
   ]
  },
  {
   "cell_type": "markdown",
   "metadata": {
    "application/vnd.databricks.v1+cell": {
     "cellMetadata": {},
     "inputWidgets": {},
     "nuid": "91668d8f-336b-4373-a0a6-6d1ad987a702",
     "showTitle": false,
     "tableResultSettingsMap": {},
     "title": ""
    }
   },
   "source": [
    "\n",
    "# 💡 Ideas for Future Events\n",
    "\n",
    "1. [Delta Live Tables](https://docs.databricks.com/en/delta-live-tables/index.html) with uv and pydantic\n",
    "1. Explore more [Pydantic](https://docs.pydantic.dev/latest/) features\n",
    "1. Create a new DAB template with `uv` as the project management tool (based on `default-python` template). Start from `databricks bundle init --help`.\n"
   ]
  }
 ],
 "metadata": {
  "application/vnd.databricks.v1+notebook": {
   "computePreferences": null,
   "dashboards": [],
   "environmentMetadata": null,
   "language": "python",
   "notebookMetadata": {
    "mostRecentlyExecutedCommandWithImplicitDF": {
     "commandId": 1101559319241256,
     "dataframes": [
      "_sqldf"
     ]
    },
    "pythonIndentUnit": 4
   },
   "notebookName": "2025_03_06",
   "widgets": {}
  },
  "language_info": {
   "name": "python"
  }
 },
 "nbformat": 4,
 "nbformat_minor": 0
}
