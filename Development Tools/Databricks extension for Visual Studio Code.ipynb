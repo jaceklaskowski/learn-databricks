{
 "cells": [
  {
   "cell_type": "markdown",
   "metadata": {
    "application/vnd.databricks.v1+cell": {
     "cellMetadata": {},
     "inputWidgets": {},
     "nuid": "4a0d237f-47c6-49e3-bb67-88a44834759d",
     "showTitle": false,
     "title": ""
    }
   },
   "source": [
    "# Databricks extension for Visual Studio Code\n",
    "\n",
    "[Databricks extension for Visual Studio Code](https://docs.databricks.com/en/dev-tools/vscode-ext/index.html)"
   ]
  },
  {
   "cell_type": "markdown",
   "metadata": {
    "application/vnd.databricks.v1+cell": {
     "cellMetadata": {},
     "inputWidgets": {},
     "nuid": "520406aa-d41d-4424-999e-07bdb3291f1a",
     "showTitle": false,
     "title": ""
    }
   },
   "source": [
    "\n",
    "1. Enables connecting to your remote Databricks workspaces from VS Code (running on your local development machine)"
   ]
  },
  {
   "cell_type": "markdown",
   "metadata": {
    "application/vnd.databricks.v1+cell": {
     "cellMetadata": {},
     "inputWidgets": {},
     "nuid": "05d9a7a5-c10d-4463-9bdb-34540ce4b7b6",
     "showTitle": false,
     "title": ""
    }
   },
   "source": [
    "## Advanced notebook support with Databricks Connect\n",
    "\n",
    "New in v1.2.0"
   ]
  },
  {
   "cell_type": "markdown",
   "metadata": {
    "application/vnd.databricks.v1+cell": {
     "cellMetadata": {},
     "inputWidgets": {},
     "nuid": "75c7d021-1871-44aa-ab0e-5d901fc9593d",
     "showTitle": false,
     "title": ""
    }
   },
   "source": [
    "\n",
    "1. You could already run notebooks locally with Databricks Connect\n",
    "1. With this new advanced support you can run notebooks locally with a similar experience as you have by running them on a Databricks cluster.\n",
    "1. Brings much of the convenience of running notebooks on a Databricks cluster to your local development environment."
   ]
  },
  {
   "cell_type": "markdown",
   "metadata": {
    "application/vnd.databricks.v1+cell": {
     "cellMetadata": {},
     "inputWidgets": {},
     "nuid": "b96e3221-f99a-478a-9fce-04342c2769f4",
     "showTitle": false,
     "title": ""
    }
   },
   "source": [
    "### Magic commands"
   ]
  },
  {
   "cell_type": "markdown",
   "metadata": {
    "application/vnd.databricks.v1+cell": {
     "cellMetadata": {},
     "inputWidgets": {},
     "nuid": "ddf42c25-423f-4671-99e4-cc9998071d47",
     "showTitle": false,
     "title": ""
    }
   },
   "source": [
    "\n",
    "Magic commands (e.g., `%run` and `%sql`) are supported in local notebooks"
   ]
  },
  {
   "cell_type": "markdown",
   "metadata": {
    "application/vnd.databricks.v1+cell": {
     "cellMetadata": {},
     "inputWidgets": {},
     "nuid": "cd79aee1-f82c-44ef-b912-8ea8077854c5",
     "showTitle": false,
     "title": ""
    }
   },
   "source": [
    "### Preconfigured globals"
   ]
  },
  {
   "cell_type": "markdown",
   "metadata": {
    "application/vnd.databricks.v1+cell": {
     "cellMetadata": {},
     "inputWidgets": {},
     "nuid": "b8d7f823-c3f6-40cf-b0e7-d50e8ee4082b",
     "showTitle": false,
     "title": ""
    }
   },
   "source": [
    "\n",
    "Global variables (e.g., `spark`, `dbutils`) supported in local notebooks"
   ]
  },
  {
   "cell_type": "markdown",
   "metadata": {
    "application/vnd.databricks.v1+cell": {
     "cellMetadata": {},
     "inputWidgets": {},
     "nuid": "9fe8cea6-9ee3-4e69-9bdf-7e92e3b02512",
     "showTitle": false,
     "title": ""
    }
   },
   "source": [
    "### Interactive dbutils.widgets"
   ]
  },
  {
   "cell_type": "markdown",
   "metadata": {
    "application/vnd.databricks.v1+cell": {
     "cellMetadata": {},
     "inputWidgets": {},
     "nuid": "b00aa2f0-8f4c-4c0a-843f-80a57ea976f3",
     "showTitle": false,
     "title": ""
    }
   },
   "source": [
    "\n",
    "`dbutils.widgets` to create interactive widgets in your local notebooks"
   ]
  },
  {
   "cell_type": "markdown",
   "metadata": {
    "application/vnd.databricks.v1+cell": {
     "cellMetadata": {},
     "inputWidgets": {},
     "nuid": "52eee718-45bf-42da-b382-86a6fb9052ef",
     "showTitle": false,
     "title": ""
    }
   },
   "source": [
    "### Databricks notebooks"
   ]
  },
  {
   "cell_type": "markdown",
   "metadata": {
    "application/vnd.databricks.v1+cell": {
     "cellMetadata": {},
     "inputWidgets": {},
     "nuid": "a7f09bf7-5ff6-4af0-b854-4ca77e37185b",
     "showTitle": false,
     "title": ""
    }
   },
   "source": [
    "\n",
    "You can use Databricks notebooks locally with VS Code [Python Interactive windows](https://code.visualstudio.com/docs/python/jupyter-support-py).\n",
    "\n",
    "Learn more in [Use notebooks with Databricks Connect](https://docs.databricks.com/en/dev-tools/vscode-ext/dev-tasks/notebooks.html)"
   ]
  }
 ],
 "metadata": {
  "application/vnd.databricks.v1+notebook": {
   "dashboards": [],
   "language": "python",
   "notebookMetadata": {
    "pythonIndentUnit": 4
   },
   "notebookName": "Databricks extension for Visual Studio Code",
   "widgets": {}
  }
 },
 "nbformat": 4,
 "nbformat_minor": 0
}
