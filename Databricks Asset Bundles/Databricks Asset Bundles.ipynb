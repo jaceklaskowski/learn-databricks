{
 "cells": [
  {
   "cell_type": "markdown",
   "metadata": {
    "application/vnd.databricks.v1+cell": {
     "cellMetadata": {},
     "inputWidgets": {},
     "nuid": "65945cb6-7324-4999-8941-a01281b28e51",
     "showTitle": false,
     "title": ""
    }
   },
   "source": [
    "# Databricks Asset Bundles\n",
    "\n",
    "[Databricks Asset Bundles](https://www.databricks.com/resources/demos/tours/data-engineering/databricks-asset-bundles):\n",
    "\n",
    "> Databricks Asset Bundles (DAB) is a new capability on Databricks that **standardizes and unifies the deployment strategy** for all data products developed on the platform.\n",
    "> It allows developers to describe the infrastructure and resources of their project through a **YAML configuration file**.\n",
    "\n",
    "The main take-aways from the above introduction about DAB are as follows:\n",
    "\n",
    "1. DAB is all about standardizing deployment of Databricks projects\n",
    "1. DAB is an [Infrastructure as code (IaC)](https://en.wikipedia.org/wiki/Infrastructure_as_code) tool\n",
    "1. DAB uses a YAML configuration file to declaratively describe what/when/how"
   ]
  },
  {
   "cell_type": "markdown",
   "metadata": {
    "application/vnd.databricks.v1+cell": {
     "cellMetadata": {},
     "inputWidgets": {},
     "nuid": "4d4433a2-b627-4e43-8364-01506756bf6f",
     "showTitle": false,
     "title": ""
    }
   },
   "source": [
    "\n",
    "[Databricks Asset Bundle deployment modes](https://docs.databricks.com/en/dev-tools/bundles/deployment-modes.html):\n",
    "\n",
    "> Bundles enable programmatic management of Databricks workflows"
   ]
  },
  {
   "cell_type": "markdown",
   "metadata": {
    "application/vnd.databricks.v1+cell": {
     "cellMetadata": {},
     "inputWidgets": {},
     "nuid": "b038c7e5-d2ea-4b55-ad51-f0e3e4d732a2",
     "showTitle": false,
     "title": ""
    }
   },
   "source": [
    "\n",
    "Databricks asset bundles make it possible to express complete data, analytics, and ML projects as a collection of source files called a bundle.\n",
    "\n",
    "➡️ Learn more in the [official documentation](https://docs.databricks.com/en/dev-tools/bundles/index.html)"
   ]
  },
  {
   "cell_type": "markdown",
   "metadata": {
    "application/vnd.databricks.v1+cell": {
     "cellMetadata": {},
     "inputWidgets": {},
     "nuid": "6f314bb1-c042-4421-93ab-ddbc7a54335f",
     "showTitle": false,
     "title": ""
    }
   },
   "source": [
    "## Automate Databricks Deployments\n",
    "\n",
    "DAB is not alone in the IaC/deployment 'market'.\n",
    "\n",
    "Developers have been using the following for quite some time:\n",
    "\n",
    "1. [Databricks REST API](https://docs.databricks.com/api/)\n",
    "1. [Databricks CLI](https://docs.databricks.com/en/dev-tools/cli/index.html)\n",
    "1. [Databricks Terraform provider](https://docs.databricks.com/en/dev-tools/terraform/index.html)\n",
    "1. [dbx by Databricks Labs](https://docs.databricks.com/en/archive/dev-tools/dbx/dbx.html)"
   ]
  },
  {
   "cell_type": "markdown",
   "metadata": {
    "application/vnd.databricks.v1+cell": {
     "cellMetadata": {},
     "inputWidgets": {},
     "nuid": "6c55034a-b263-4581-8162-9bc96bb76483",
     "showTitle": false,
     "title": ""
    }
   },
   "source": [
    "### Migrate from dbx to Databricks Asset Bundles\n",
    "\n",
    "[Migrate from dbx to bundles](https://docs.databricks.com/en/archive/dev-tools/dbx/dbx-migrate.html)\n",
    "\n",
    "From [databrickslabs/dbx](https://github.com/databrickslabs/dbx#legal-information):\n",
    "\n",
    "> Databricks recommends using Databricks asset bundles for CI/CD. Please see migration guidance on how to migrate from dbx to dabs\n"
   ]
  },
  {
   "cell_type": "markdown",
   "metadata": {
    "application/vnd.databricks.v1+cell": {
     "cellMetadata": {},
     "inputWidgets": {},
     "nuid": "e8c90739-b6dc-4a1e-b379-67741e383c65",
     "showTitle": false,
     "title": ""
    }
   },
   "source": [
    "## 🚀 Demo: On Fast Track to Deploy\n",
    "\n",
    "[Develop a job on Databricks by using Databricks asset bundles](https://docs.databricks.com/en/workflows/jobs/how-to/use-bundles-with-jobs.html)"
   ]
  },
  {
   "cell_type": "markdown",
   "metadata": {
    "application/vnd.databricks.v1+cell": {
     "cellMetadata": {},
     "inputWidgets": {},
     "nuid": "ccba4a5e-9cad-4c60-b576-96bec228b754",
     "showTitle": false,
     "title": ""
    }
   },
   "source": [
    "\n",
    "```\n",
    "$ databricks --version\n",
    "Databricks CLI v0.208.1\n",
    "```"
   ]
  },
  {
   "cell_type": "markdown",
   "metadata": {
    "application/vnd.databricks.v1+cell": {
     "cellMetadata": {},
     "inputWidgets": {},
     "nuid": "22e531d9-44cb-4793-910d-1c23fc10b5df",
     "showTitle": false,
     "title": ""
    }
   },
   "source": [
    "\n",
    "```shell\n",
    "$ databricks bundle\n",
    "Databricks Asset Bundles\n",
    "\n",
    "Online documentation: https://docs.databricks.com/en/dev-tools/bundles\n",
    "\n",
    "Usage:\n",
    "  databricks bundle [command]\n",
    "\n",
    "Available Commands:\n",
    "  deploy      Deploy bundle\n",
    "  destroy     Destroy deployed bundle resources\n",
    "  init        Initialize using a bundle template\n",
    "  run         Run a resource (e.g. a job or a pipeline)\n",
    "  schema      Generate JSON Schema for bundle configuration\n",
    "  sync        Synchronize bundle tree to the workspace\n",
    "  validate    Validate configuration\n",
    "\n",
    "Flags:\n",
    "  -h, --help          help for bundle\n",
    "      --var strings   set values for variables defined in bundle config. Example: --var=\"foo=bar\"\n",
    "\n",
    "Global Flags:\n",
    "      --log-file file            file to write logs to (default stderr)\n",
    "      --log-format type          log output format (text or json) (default text)\n",
    "      --log-level format         log level (default disabled)\n",
    "  -o, --output type              output type: text or json (default text)\n",
    "  -p, --profile string           ~/.databrickscfg profile\n",
    "      --progress-format format   format for progress logs (append, inplace, json) (default default)\n",
    "  -t, --target string            bundle target to use (if applicable)\n",
    "\n",
    "Use \"databricks bundle [command] --help\" for more information about a command.\n",
    "```"
   ]
  },
  {
   "cell_type": "markdown",
   "metadata": {
    "application/vnd.databricks.v1+cell": {
     "cellMetadata": {},
     "inputWidgets": {},
     "nuid": "f720284f-4527-4395-ab19-25885acd6d18",
     "showTitle": false,
     "title": ""
    }
   },
   "source": [
    "\n",
    "Typical development flow using `databricks bundle`:\n",
    "\n",
    "* `init`\n",
    "* `deploy`\n",
    "* `run`"
   ]
  },
  {
   "cell_type": "markdown",
   "metadata": {
    "application/vnd.databricks.v1+cell": {
     "cellMetadata": {},
     "inputWidgets": {},
     "nuid": "08a6eb30-987e-47a2-908d-f79d41abe485",
     "showTitle": false,
     "title": ""
    }
   },
   "source": [
    "\n",
    "```shell\n",
    "$ databricks bundle init\n",
    "Template to use [default-python]:\n",
    "Unique name for this project [my_project]:\n",
    "Include a stub (sample) notebook in 'my_project/src': yes\n",
    "Include a stub (sample) Delta Live Tables pipeline in 'my_project/src': yes\n",
    "Include a stub (sample) Python package in 'my_project/src': no\n",
    "\n",
    "✨ Your new project has been created in the 'my_project' directory!\n",
    "\n",
    "Please refer to the README.md of your project for further instructions on getting started.\n",
    "Or read the documentation on Databricks Asset Bundles at https://docs.databricks.com/dev-tools/bundles/index.html.\n",
    "```\n",
    "\n",
    "```shell\n",
    "$ cd my_project\n",
    "```\n",
    "\n",
    "```shell\n",
    "$ databricks bundle deploy\n",
    "Starting upload of bundle files\n",
    "Uploaded bundle files at /Users/jacek@japila.pl/.bundle/my_project/dev/files!\n",
    "\n",
    "Starting resource deployment\n",
    "Resource deployment completed!\n",
    "```\n",
    "\n",
    "```shell\n",
    "$ databricks bundle run\n",
    "Update URL: https://training-partners.cloud.databricks.com/#joblist/pipelines/84f3895d-a910-4d9a-b8ec-ac275d4985bd/updates/ce459b1d-5323-46de-b0a4-86b459c13301\n",
    "\n",
    "2023-10-21T12:58:16.972Z update_progress INFO \"Update ce459b is WAITING_FOR_RESOURCES.\"\n",
    "2023-10-21T13:01:50.065Z update_progress INFO \"Update ce459b is INITIALIZING.\"\n",
    "2023-10-21T13:02:36.634Z update_progress INFO \"Update ce459b is SETTING_UP_TABLES.\"\n",
    "2023-10-21T13:03:01.865Z update_progress INFO \"Update ce459b is RUNNING.\"\n",
    "2023-10-21T13:03:01.871Z flow_progress   INFO \"Flow 'filtered_taxis' is QUEUED.\"\n",
    "2023-10-21T13:03:01.893Z flow_progress   INFO \"Flow 'filtered_taxis' is PLANNING.\"\n",
    "2023-10-21T13:03:02.673Z flow_progress   INFO \"Flow 'filtered_taxis' is STARTING.\"\n",
    "2023-10-21T13:03:02.712Z flow_progress   INFO \"Flow 'filtered_taxis' is RUNNING.\"\n",
    "2023-10-21T13:03:42.162Z flow_progress   INFO \"Flow 'filtered_taxis' has COMPLETED.\"\n",
    "2023-10-21T13:03:43.702Z update_progress INFO \"Update ce459b is COMPLETED.\"\n",
    "```"
   ]
  },
  {
   "cell_type": "markdown",
   "metadata": {
    "application/vnd.databricks.v1+cell": {
     "cellMetadata": {},
     "inputWidgets": {},
     "nuid": "4aa89c6d-cd99-4c9f-8ad8-446d02a3462e",
     "showTitle": false,
     "title": ""
    }
   },
   "source": [
    "## Deployment Modes\n",
    "\n",
    "[Databricks Asset Bundle deployment modes](https://docs.databricks.com/en/dev-tools/bundles/deployment-modes.html)"
   ]
  },
  {
   "cell_type": "markdown",
   "metadata": {
    "application/vnd.databricks.v1+cell": {
     "cellMetadata": {},
     "inputWidgets": {},
     "nuid": "8dfc9af6-bc7c-4947-a80a-a1a704997000",
     "showTitle": false,
     "title": ""
    }
   },
   "source": [
    "\n",
    "1. In CI/CD workflows, developers typically code, test, deploy, and run solutions in various phases, or modes.\n",
    "1. The most common deployment modes include:\n",
    "    * A development mode for pre-production validation\n",
    "    * A production mode for validated deliverables\n",
    "1. Databricks Asset Bundles provides an optional collection of default behaviors that correspond to each of these modes.1. Modes specify (declaratively) intended behaviors\n",
    "1. `mode` mapping in a target (under `targets`)\n",
    "    * `databricks bundle deploy -t <target-name>`\n"
   ]
  },
  {
   "cell_type": "markdown",
   "metadata": {
    "application/vnd.databricks.v1+cell": {
     "cellMetadata": {},
     "inputWidgets": {},
     "nuid": "c09226a6-d5d4-47b5-82d0-56c2678ac10a",
     "showTitle": false,
     "title": ""
    }
   },
   "source": [
    "### Development mode\n",
    "\n",
    "[Development mode](https://docs.databricks.com/en/dev-tools/bundles/deployment-modes.html#development-mode)\n",
    "\n",
    "1. `mode: development`\n",
    "1. Tags deployed jobs and pipelines with a `dev` Databricks tag\n",
    "1. Delta Live Tables pipelines run in `development: true`\n",
    "1. _others_"
   ]
  },
  {
   "cell_type": "markdown",
   "metadata": {
    "application/vnd.databricks.v1+cell": {
     "cellMetadata": {},
     "inputWidgets": {},
     "nuid": "5800a736-d63b-45f5-8efc-e2ece0d96d12",
     "showTitle": false,
     "title": ""
    }
   },
   "source": [
    "### Production mode\n",
    "\n",
    "[Production mode](https://docs.databricks.com/en/dev-tools/bundles/deployment-modes.html#production-mode)\n",
    "\n",
    "1. `mode: production`\n",
    "1. Validates that all related deployed Delta Live Tables pipelines are marked as `development: false`.\n",
    "1. Validates that the current git branch is equal to the git branch that is specified in the target\n",
    "      ```\n",
    "      git:\n",
    "        branch: main\n",
    "      ```"
   ]
  },
  {
   "cell_type": "markdown",
   "metadata": {
    "application/vnd.databricks.v1+cell": {
     "cellMetadata": {},
     "inputWidgets": {},
     "nuid": "ba77dbee-b15e-4a23-9c5a-ac7b6a024076",
     "showTitle": false,
     "title": ""
    }
   },
   "source": [
    "## Demo: Create DAB Template (WIP)"
   ]
  },
  {
   "cell_type": "markdown",
   "metadata": {
    "application/vnd.databricks.v1+cell": {
     "cellMetadata": {},
     "inputWidgets": {},
     "nuid": "988e6d48-e2a1-41d7-a09c-b25f9db069a5",
     "showTitle": false,
     "title": ""
    }
   },
   "source": [
    "\n",
    "An idea is to execute the following command with a random template name and guide the audience through errors.\n",
    "\n",
    "```\n",
    "databricks bundle init\n",
    "```"
   ]
  },
  {
   "cell_type": "markdown",
   "metadata": {
    "application/vnd.databricks.v1+cell": {
     "cellMetadata": {},
     "inputWidgets": {},
     "nuid": "ce3326f7-345e-48f3-b3dc-cc3eb649d06e",
     "showTitle": false,
     "title": ""
    }
   },
   "source": [
    "## Questions"
   ]
  },
  {
   "cell_type": "markdown",
   "metadata": {
    "application/vnd.databricks.v1+cell": {
     "cellMetadata": {},
     "inputWidgets": {},
     "nuid": "f0344a73-430e-414f-b566-8c307e504991",
     "showTitle": false,
     "title": ""
    }
   },
   "source": [
    "\n",
    "1. Where does `databricks bundle init` take templates from?"
   ]
  }
 ],
 "metadata": {
  "application/vnd.databricks.v1+notebook": {
   "dashboards": [],
   "language": "python",
   "notebookMetadata": {
    "pythonIndentUnit": 4
   },
   "notebookName": "Databricks Asset Bundles",
   "widgets": {}
  }
 },
 "nbformat": 4,
 "nbformat_minor": 0
}
