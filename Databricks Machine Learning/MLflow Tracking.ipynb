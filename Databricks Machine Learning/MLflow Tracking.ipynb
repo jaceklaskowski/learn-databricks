{
 "cells": [
  {
   "cell_type": "markdown",
   "metadata": {
    "application/vnd.databricks.v1+cell": {
     "cellMetadata": {
      "byteLimit": 2048000,
      "rowLimit": 10000
     },
     "inputWidgets": {},
     "nuid": "40434e50-769f-4109-83ab-905c104a8b4d",
     "showTitle": false,
     "tableResultSettingsMap": {},
     "title": ""
    }
   },
   "source": [
    "# MLflow Tracking\n",
    "\n",
    "[MLflow Tracking](https://mlflow.org/docs/latest/tracking/)"
   ]
  },
  {
   "cell_type": "code",
   "execution_count": 0,
   "metadata": {
    "application/vnd.databricks.v1+cell": {
     "cellMetadata": {
      "byteLimit": 2048000,
      "rowLimit": 10000
     },
     "inputWidgets": {},
     "nuid": "53477c96-045a-4468-9373-1674c9849664",
     "showTitle": true,
     "tableResultSettingsMap": {},
     "title": "Install MLflow"
    }
   },
   "outputs": [],
   "source": [
    "%pip install mlflow-skinny"
   ]
  },
  {
   "cell_type": "code",
   "execution_count": 0,
   "metadata": {
    "application/vnd.databricks.v1+cell": {
     "cellMetadata": {
      "byteLimit": 2048000,
      "rowLimit": 10000
     },
     "inputWidgets": {},
     "nuid": "97324d6f-1f37-404f-99c7-f77ffabafc73",
     "showTitle": false,
     "tableResultSettingsMap": {},
     "title": ""
    }
   },
   "outputs": [],
   "source": [
    "%restart_python"
   ]
  },
  {
   "cell_type": "markdown",
   "metadata": {
    "application/vnd.databricks.v1+cell": {
     "cellMetadata": {},
     "inputWidgets": {},
     "nuid": "ed8f90f5-417b-45f7-8671-655503cdf25c",
     "showTitle": false,
     "tableResultSettingsMap": {},
     "title": ""
    }
   },
   "source": [
    "\n",
    "## Train Model\n",
    "\n",
    "This is to support our exploration of MLflow Tracking and gives us a model to work with ❤️\n",
    "\n",
    "This notebook uses [scikit-learn](https://scikit-learn.org/) that is an open source machine learning library that supports supervised and unsupervised learning.\n",
    "\n",
    "⚠️ Please note that scikit-learn _also provides various tools for model fitting, data preprocessing, model selection, model evaluation, and many other utilities_ that are also provided in Databricks (and MLflow)."
   ]
  },
  {
   "cell_type": "markdown",
   "metadata": {
    "application/vnd.databricks.v1+cell": {
     "cellMetadata": {},
     "inputWidgets": {},
     "nuid": "7c9fdf03-af75-48c3-bc7e-6c2c9a576b1f",
     "showTitle": false,
     "tableResultSettingsMap": {},
     "title": ""
    }
   },
   "source": [
    "\n",
    "I asked a LLM (Copilot):\n",
    "\n",
    "> Give me step-by-step instructions for a python code for email classification (spam vs non-spam) using scikit-learn.\n",
    ">\n",
    "> Please generate a CSV file with 1000 labeled emails with 70% spam and the others non-spam"
   ]
  },
  {
   "cell_type": "markdown",
   "metadata": {
    "application/vnd.databricks.v1+cell": {
     "cellMetadata": {},
     "inputWidgets": {},
     "nuid": "4405c7cf-4e14-4c69-8312-d24f0477e799",
     "showTitle": false,
     "tableResultSettingsMap": {},
     "title": ""
    }
   },
   "source": [
    "\n",
    "Borrowed from [Automatic Logging with MLflow Tracking](https://mlflow.org/docs/latest/tracking/autolog#step-2---insert-mlflowautolog-in-your-code) with ❤️"
   ]
  },
  {
   "cell_type": "code",
   "execution_count": 0,
   "metadata": {
    "application/vnd.databricks.v1+cell": {
     "cellMetadata": {
      "byteLimit": 2048000,
      "rowLimit": 10000
     },
     "inputWidgets": {},
     "nuid": "468e396f-1dd4-4564-9205-d4a13c3dc3b4",
     "showTitle": true,
     "tableResultSettingsMap": {},
     "title": "Model Training"
    }
   },
   "outputs": [],
   "source": [
    "import mlflow\n",
    "\n",
    "from sklearn.model_selection import train_test_split\n",
    "from sklearn.datasets import load_diabetes\n",
    "from sklearn.ensemble import RandomForestRegressor\n",
    "\n",
    "mlflow.autolog()\n",
    "\n",
    "db = load_diabetes()\n",
    "X_train, X_test, y_train, y_test = train_test_split(db.data, db.target)\n",
    "\n",
    "rf = RandomForestRegressor(n_estimators=100, max_depth=6, max_features=3)\n",
    "# MLflow triggers logging automatically upon model fitting\n",
    "rf.fit(X_train, y_train)"
   ]
  },
  {
   "cell_type": "markdown",
   "metadata": {
    "application/vnd.databricks.v1+cell": {
     "cellMetadata": {
      "byteLimit": 2048000,
      "rowLimit": 10000
     },
     "inputWidgets": {},
     "nuid": "cb7b434e-5c87-4b80-b128-2cfde8b49a36",
     "showTitle": false,
     "tableResultSettingsMap": {},
     "title": ""
    }
   },
   "source": [
    "## Custom Logging"
   ]
  },
  {
   "cell_type": "markdown",
   "metadata": {
    "application/vnd.databricks.v1+cell": {
     "cellMetadata": {
      "byteLimit": 2048000,
      "rowLimit": 10000
     },
     "inputWidgets": {},
     "nuid": "8364154c-a63b-4741-a8a3-6f6cf68c1b44",
     "showTitle": false,
     "tableResultSettingsMap": {},
     "title": ""
    }
   },
   "source": [
    "Support for custom logging includes:\n",
    "\n",
    "* Model Hyperparameters\n",
    "* Model (Performance) Metrics\n",
    "* Model Artifacts"
   ]
  },
  {
   "cell_type": "markdown",
   "metadata": {
    "application/vnd.databricks.v1+cell": {
     "cellMetadata": {},
     "inputWidgets": {},
     "nuid": "a3aeb7d9-ba0b-4ac8-a96f-5a6b2efa7842",
     "showTitle": false,
     "tableResultSettingsMap": {},
     "title": ""
    }
   },
   "source": [
    "### Model Hyperparameters\n",
    "\n",
    "* `mlflow.log_params`\n",
    "* Model Parameters"
   ]
  },
  {
   "cell_type": "markdown",
   "metadata": {
    "application/vnd.databricks.v1+cell": {
     "cellMetadata": {
      "byteLimit": 2048000,
      "rowLimit": 10000
     },
     "inputWidgets": {},
     "nuid": "03407746-41e4-4fba-9516-065de4d7d2ff",
     "showTitle": false,
     "tableResultSettingsMap": {},
     "title": ""
    }
   },
   "source": [
    "### Model (Performance) Metrics\n",
    "\n",
    "* `mlflow.log_metric`\n",
    "* Custom model metrics that Data Scientists care about (that you, a dear Data Engineer, might not even hear before 🤷‍♂️)\n",
    "* Not only built-in metrics, but any metric you want to track"
   ]
  },
  {
   "cell_type": "markdown",
   "metadata": {
    "application/vnd.databricks.v1+cell": {
     "cellMetadata": {},
     "inputWidgets": {},
     "nuid": "4e8340a9-3292-4b53-a909-082aeaf477e4",
     "showTitle": false,
     "tableResultSettingsMap": {},
     "title": ""
    }
   },
   "source": [
    "### Model Artifacts\n",
    "\n",
    "* `mlflow.sklearn.log_model` for trained models\n",
    "* `mlflow.log_artifact` for additional model artifacts"
   ]
  },
  {
   "cell_type": "markdown",
   "metadata": {
    "application/vnd.databricks.v1+cell": {
     "cellMetadata": {},
     "inputWidgets": {},
     "nuid": "6bf6fda7-dc91-4e0e-8c9f-fcca72af2520",
     "showTitle": false,
     "tableResultSettingsMap": {},
     "title": ""
    }
   },
   "source": [
    "## Auto(matic) Logging\n",
    "\n",
    "[Automatic Logging with MLflow Tracking](https://mlflow.org/docs/latest/tracking/autolog)\n",
    "\n",
    "* Allows you to log parameters, metrics, models, environment, and data lineage without explicit log statements.\n",
    "* Call [mlflow.autolog](https://mlflow.org/docs/latest/api_reference/python_api/mlflow.html#mlflow.autolog) before your training code."
   ]
  }
 ],
 "metadata": {
  "application/vnd.databricks.v1+notebook": {
   "computePreferences": null,
   "dashboards": [],
   "environmentMetadata": {
    "base_environment": "",
    "environment_version": "2"
   },
   "inputWidgetPreferences": null,
   "language": "python",
   "notebookMetadata": {
    "pythonIndentUnit": 4
   },
   "notebookName": "MLflow Tracking",
   "widgets": {}
  },
  "language_info": {
   "name": "python"
  }
 },
 "nbformat": 4,
 "nbformat_minor": 0
}
